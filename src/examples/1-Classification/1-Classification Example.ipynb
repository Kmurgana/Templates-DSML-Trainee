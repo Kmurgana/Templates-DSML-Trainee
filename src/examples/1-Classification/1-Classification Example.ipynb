{
 "cells": [
  {
   "cell_type": "markdown",
   "id": "52924f90",
   "metadata": {},
   "source": [
    "# **<span style=\"color:#00C853;\">Schneider Electric Hackathon </span>**"
   ]
  },
  {
   "cell_type": "markdown",
   "id": "7c1d24b8",
   "metadata": {},
   "source": [
    "> This notebook is part of a Hackathon held by nuwe.io on 05/21/2022.\n",
    "> \n",
    "> To get the API key, create an account in the [website](https://nuwe.io/challenge/data-science-se) ."
   ]
  },
  {
   "cell_type": "markdown",
   "id": "6bc041f3",
   "metadata": {},
   "source": [
    "#### Background\n",
    "----------------------------------------------------------------------------------------------------------\n",
    "\n",
    "The EU contributes 18% of total global warming gas emissions; However, it is increasingly determined to take the lead in the fight against climate change. That is why it has set itself the goal of reaching zero carbon emissions by 2050.\n",
    "\n",
    "To this end, it has put in place a wealth of resources to help achieve this goal over the next few years, and it will need your help to do so."
   ]
  },
  {
   "cell_type": "markdown",
   "id": "f75b9b68",
   "metadata": {},
   "source": [
    "### Dataset\n",
    "This dataset contains data on industrial facilities and emissions across Europe.\n",
    "The dataset will consist of the following variables of interest:\n",
    "\n",
    "__countryName__: Country in which the facility is located\n",
    "\n",
    "__EPRETRSectorCode__: Code of the sector in which the company specialises\n",
    "\n",
    "__eptrSectorName__: Name of the sector in which it specialises\n",
    "\n",
    "__EPRTRAnnexIMainActivityCode__: Code of the specialisation within the sector in which they operate\n",
    "\n",
    "__EPRTRAnnexIMainActivityLabel__: Specialisation within the sector in which they operate\n",
    "\n",
    "__FacilityInspireID__: Building identifier\n",
    "\n",
    "__facilityName__: Name of the building in which the activity takes place\n",
    "\n",
    "__City__: City in which the facility is located\n",
    "\n",
    "__CITY ID__: ID to confirm location\n",
    "\n",
    "__targetRelease__: Type of polluter to study\n",
    "\n",
    "__pollutant__: Type of pollutant emitted (Target variable). In order to follow the same standard, you must encode this variables as follows:\n",
    "\n",
    "| pollutant |\tnumber |\n",
    "| ------ | ---------| \n",
    "|Nitrogen oxides (NOX) |\t0 |\n",
    "|Carbon dioxide (CO2)\t|1    |\n",
    "|Methane (CH4)\t|  2      |\n",
    "\n",
    "__DAY__: Day on which the report is made\n",
    "\n",
    "__MONTH__: Reporting month\n",
    "\n",
    "__reportingYear__: Reporting year\n",
    "\n",
    "__CONTINENT__: Continent on which the company is located\n",
    "\n",
    "__max_wind_speed__: Maximum wind speed\n",
    "\n",
    "__avg_wind_speed__: Average wind speed\n",
    "\n",
    "__min_wind_speed__: Minimum wind speed\n",
    "\n",
    "__max_temp__: Maximum temperature\n",
    "\n",
    "__avg_temp__: Average temperature\n",
    "\n",
    "__min_temp__: Minimum temperature\n",
    "\n",
    "__DAYS WITH FOG__: Total days of the month recorded in the area\n",
    "\n",
    "__REPORTER NAME__: Reporter's name"
   ]
  },
  {
   "cell_type": "markdown",
   "id": "baf82a10",
   "metadata": {},
   "source": [
    "The dataset is split into Training Dataset and Testing Dataset.\n",
    "\n",
    "<img src=\" https://challenges-asset-files.s3.us-east-2.amazonaws.com/data_sets/Data-Science/4+-+events/SchneiderElectricES22/final/images/fragmentation_green.png \">\n",
    "\n",
    "To train the model, the training dataset has to be used. It is fragmented in different datasets and in different formats."
   ]
  },
  {
   "cell_type": "markdown",
   "id": "b957a9e5",
   "metadata": {},
   "source": [
    "**Roadmap**\n",
    "\n",
    "Before we dive headlong into programming, we should outline a brief guide to keep us on track. The following steps form the basis of any machine learning workflow once we have a problem and a model in mind:\n",
    "\n",
    "* 1) Raising the question.\n",
    "* 2) Acquiring the data. \n",
    "* 3) Adapting information, identifying and correcting anomalies (EDA).\n",
    "* 4) Preparar los datos para el modelo de aprendizaje automático.\n",
    "* 5) Training the model with training data.\n",
    "* 6) Making predictions with test data.\n",
    "* 7) Compare predictions with test data.\n",
    "* 8) Adjust the model.\n",
    "* 9) Results presentation."
   ]
  },
  {
   "cell_type": "markdown",
   "id": "385a4597",
   "metadata": {},
   "source": [
    "---------------------------------------------------------------------"
   ]
  },
  {
   "cell_type": "markdown",
   "id": "67b89320",
   "metadata": {},
   "source": [
    "## ✅1) Raising the question  ❓\n",
    "\n",
    "The exercise consists of obtaining a predictive model capable of classifying whether the variable __pollutant__ is going to be Nitrogen oxides (NOX), Carbon dioxide (CO2) or Methane (CH4), according to the oder variables for which it would be **objective** for the model to be as accurate as possible.\n",
    "\n",
    "**NOTE**: For in this case, the client already informs us how the coding of the output variables should be."
   ]
  },
  {
   "cell_type": "markdown",
   "id": "40ad1446",
   "metadata": {},
   "source": [
    "---------------------------------------------------------------------"
   ]
  },
  {
   "cell_type": "markdown",
   "id": "0a27ccd6",
   "metadata": {},
   "source": [
    "## ✅ 2) Acquiring the data  🔍\n",
    "\n",
    "### **<span style=\"color:#43A047;\">2.1 Importing required libraries. </span>**\n"
   ]
  },
  {
   "cell_type": "code",
   "execution_count": 1,
   "id": "48c6b602",
   "metadata": {},
   "outputs": [],
   "source": [
    "# Data acquirement and processing\n",
    "# ======================================================================================\n",
    "import pandas as pd\n",
    "import json\n",
    "import numpy as np \n",
    "import nltk\n",
    "import datetime as dt\n",
    "\n",
    "# Graphics\n",
    "# ======================================================================================\n",
    "import matplotlib.pyplot as plt\n",
    "import seaborn as sns\n",
    "from ipywidgets import interact, IntSlider, fixed\n",
    "\n",
    "# Preprocessing \n",
    "# ======================================================================================\n",
    "from sklearn.preprocessing import StandardScaler\n",
    "from sklearn import preprocessing\n",
    "from sklearn.feature_selection import SelectPercentile\n",
    "from sklearn.feature_selection import SelectFromModel\n",
    "from sklearn.model_selection import train_test_split\n",
    "\n",
    "# NLP (Natural Language Programming) \n",
    "# ======================================================================================\n",
    "import string\n",
    "import re\n",
    "import nltk \n",
    "import fitz\n",
    "from nltk.util import pr\n",
    "from nltk.corpus import stopwords\n",
    "from nltk.sentiment.vader import SentimentIntensityAnalyzer\n",
    "from textblob import TextBlob\n",
    "\n",
    "# Modeling for a categorical target\n",
    "# ======================================================================================\n",
    "from sklearn.linear_model import LogisticRegression   \n",
    "from sklearn.discriminant_analysis import LinearDiscriminantAnalysis\n",
    "from sklearn.neighbors import KNeighborsClassifier\n",
    "from sklearn.tree import DecisionTreeClassifier\n",
    "from sklearn.ensemble import RandomForestClassifier, GradientBoostingClassifier\n",
    "from sklearn.neural_network import MLPClassifier\n",
    "from sklearn.svm import SVC \n",
    "\n",
    "# Testing and validating\n",
    "# ======================================================================================\n",
    "from sklearn.metrics import precision_score, recall_score, roc_auc_score, confusion_matrix\n",
    "from sklearn.model_selection import ShuffleSplit, cross_val_score, GridSearchCV\n",
    "from sklearn.inspection import permutation_importance\n",
    "import multiprocessing\n",
    "\n",
    "# Warnings Configuration\n",
    "# ======================================================================================\n",
    "import warnings\n",
    "warnings.filterwarnings(\"ignore\")"
   ]
  },
  {
   "cell_type": "markdown",
   "id": "97c9b150",
   "metadata": {},
   "source": [
    "### **<span style=\"color:#43A047;\">2.2 Reading data from CSV </span>**\n",
    "\n",
    "#### **<span style=\"color:#4CAF50;\">2.2.1 Reading first data CSV </span>**"
   ]
  },
  {
   "cell_type": "code",
   "execution_count": 2,
   "id": "6b720e22",
   "metadata": {},
   "outputs": [],
   "source": [
    "data1_csv_df = pd.read_csv(\"../1-Classification/datasets/train1.csv\", sep=',') #1-Loading the first csv"
   ]
  },
  {
   "cell_type": "code",
   "execution_count": 3,
   "id": "7462a0ee",
   "metadata": {},
   "outputs": [
    {
     "data": {
      "text/html": [
       "<div>\n",
       "<style scoped>\n",
       "    .dataframe tbody tr th:only-of-type {\n",
       "        vertical-align: middle;\n",
       "    }\n",
       "\n",
       "    .dataframe tbody tr th {\n",
       "        vertical-align: top;\n",
       "    }\n",
       "\n",
       "    .dataframe thead th {\n",
       "        text-align: right;\n",
       "    }\n",
       "</style>\n",
       "<table border=\"1\" class=\"dataframe\">\n",
       "  <thead>\n",
       "    <tr style=\"text-align: right;\">\n",
       "      <th></th>\n",
       "      <th>countryName</th>\n",
       "      <th>eprtrSectorName</th>\n",
       "      <th>EPRTRAnnexIMainActivityLabel</th>\n",
       "      <th>FacilityInspireID</th>\n",
       "      <th>facilityName</th>\n",
       "      <th>City</th>\n",
       "      <th>targetRelease</th>\n",
       "      <th>pollutant</th>\n",
       "      <th>reportingYear</th>\n",
       "      <th>MONTH</th>\n",
       "      <th>...</th>\n",
       "      <th>CONTINENT</th>\n",
       "      <th>max_wind_speed</th>\n",
       "      <th>avg_wind_speed</th>\n",
       "      <th>min_wind_speed</th>\n",
       "      <th>max_temp</th>\n",
       "      <th>avg_temp</th>\n",
       "      <th>min_temp</th>\n",
       "      <th>DAY WITH FOGS</th>\n",
       "      <th>REPORTER NAME</th>\n",
       "      <th>CITY ID</th>\n",
       "    </tr>\n",
       "  </thead>\n",
       "  <tbody>\n",
       "    <tr>\n",
       "      <th>0</th>\n",
       "      <td>Germany</td>\n",
       "      <td>Mineral industry</td>\n",
       "      <td>Installations for the production of cement cli...</td>\n",
       "      <td>https://registry.gdi-de.org/id/de.ni.mu/062217...</td>\n",
       "      <td>Holcim (Deutschland) GmbH Werk Höver</td>\n",
       "      <td>Sehnde</td>\n",
       "      <td>AIR</td>\n",
       "      <td>Carbon dioxide (CO2)</td>\n",
       "      <td>2015</td>\n",
       "      <td>10</td>\n",
       "      <td>...</td>\n",
       "      <td>EUROPE</td>\n",
       "      <td>15.118767</td>\n",
       "      <td>14.312541</td>\n",
       "      <td>21.419106</td>\n",
       "      <td>2.864895</td>\n",
       "      <td>4.924169</td>\n",
       "      <td>9.688206</td>\n",
       "      <td>2</td>\n",
       "      <td>Mr. Jacob Ortega</td>\n",
       "      <td>7cdb5e74adcb2ffaa21c1b61395a984f</td>\n",
       "    </tr>\n",
       "    <tr>\n",
       "      <th>1</th>\n",
       "      <td>Italy</td>\n",
       "      <td>Mineral industry</td>\n",
       "      <td>Installations for the production of cement cli...</td>\n",
       "      <td>IT.CAED/240602021.FACILITY</td>\n",
       "      <td>Stabilimento di Tavernola Bergamasca</td>\n",
       "      <td>TAVERNOLA BERGAMASCA</td>\n",
       "      <td>AIR</td>\n",
       "      <td>Nitrogen oxides (NOX)</td>\n",
       "      <td>2018</td>\n",
       "      <td>9</td>\n",
       "      <td>...</td>\n",
       "      <td>EUROPE</td>\n",
       "      <td>19.661550</td>\n",
       "      <td>19.368166</td>\n",
       "      <td>21.756389</td>\n",
       "      <td>5.462839</td>\n",
       "      <td>7.864403</td>\n",
       "      <td>12.023521</td>\n",
       "      <td>1</td>\n",
       "      <td>Ashlee Serrano</td>\n",
       "      <td>cd1dbabbdba230b828c657a9b19a8963</td>\n",
       "    </tr>\n",
       "    <tr>\n",
       "      <th>2</th>\n",
       "      <td>Spain</td>\n",
       "      <td>Waste and wastewater management</td>\n",
       "      <td>Landfills (excluding landfills of inert waste ...</td>\n",
       "      <td>ES.CAED/001966000.FACILITY</td>\n",
       "      <td>COMPLEJO MEDIOAMBIENTAL DE ZURITA</td>\n",
       "      <td>PUERTO DEL ROSARIO</td>\n",
       "      <td>AIR</td>\n",
       "      <td>Methane (CH4)</td>\n",
       "      <td>2019</td>\n",
       "      <td>2</td>\n",
       "      <td>...</td>\n",
       "      <td>EUROPE</td>\n",
       "      <td>12.729453</td>\n",
       "      <td>14.701985</td>\n",
       "      <td>17.103930</td>\n",
       "      <td>1.511201</td>\n",
       "      <td>4.233438</td>\n",
       "      <td>8.632193</td>\n",
       "      <td>2</td>\n",
       "      <td>Vincent Kemp</td>\n",
       "      <td>5011e3fa1436d15b34f1287f312fbada</td>\n",
       "    </tr>\n",
       "    <tr>\n",
       "      <th>3</th>\n",
       "      <td>Czechia</td>\n",
       "      <td>Energy sector</td>\n",
       "      <td>Thermal power stations and other combustion in...</td>\n",
       "      <td>CZ.MZP.U422/CZ34736841.FACILITY</td>\n",
       "      <td>Elektrárny Prunéřov</td>\n",
       "      <td>Kadaň</td>\n",
       "      <td>AIR</td>\n",
       "      <td>Nitrogen oxides (NOX)</td>\n",
       "      <td>2012</td>\n",
       "      <td>8</td>\n",
       "      <td>...</td>\n",
       "      <td>EUROPE</td>\n",
       "      <td>11.856417</td>\n",
       "      <td>16.122584</td>\n",
       "      <td>17.537184</td>\n",
       "      <td>10.970301</td>\n",
       "      <td>10.298348</td>\n",
       "      <td>15.179215</td>\n",
       "      <td>0</td>\n",
       "      <td>Carol Gray</td>\n",
       "      <td>37a6d7a71c4f7c2469e4f01b70dd90c2</td>\n",
       "    </tr>\n",
       "    <tr>\n",
       "      <th>4</th>\n",
       "      <td>Finland</td>\n",
       "      <td>Waste and wastewater management</td>\n",
       "      <td>Urban waste-water treatment plants</td>\n",
       "      <td>http://paikkatiedot.fi/so/1002031/pf/Productio...</td>\n",
       "      <td>TAMPEREEN VESI LIIKELAITOS, VIINIKANLAHDEN JÄT...</td>\n",
       "      <td>Tampere</td>\n",
       "      <td>AIR</td>\n",
       "      <td>Methane (CH4)</td>\n",
       "      <td>2018</td>\n",
       "      <td>12</td>\n",
       "      <td>...</td>\n",
       "      <td>EUROPE</td>\n",
       "      <td>17.111930</td>\n",
       "      <td>20.201604</td>\n",
       "      <td>21.536012</td>\n",
       "      <td>11.772039</td>\n",
       "      <td>11.344078</td>\n",
       "      <td>16.039004</td>\n",
       "      <td>2</td>\n",
       "      <td>Blake Ford</td>\n",
       "      <td>471fe554e1c62d1b01cc8e4e5076c61a</td>\n",
       "    </tr>\n",
       "  </tbody>\n",
       "</table>\n",
       "<p>5 rows × 21 columns</p>\n",
       "</div>"
      ],
      "text/plain": [
       "  countryName                  eprtrSectorName  \\\n",
       "0     Germany                 Mineral industry   \n",
       "1       Italy                 Mineral industry   \n",
       "2       Spain  Waste and wastewater management   \n",
       "3     Czechia                    Energy sector   \n",
       "4     Finland  Waste and wastewater management   \n",
       "\n",
       "                        EPRTRAnnexIMainActivityLabel  \\\n",
       "0  Installations for the production of cement cli...   \n",
       "1  Installations for the production of cement cli...   \n",
       "2  Landfills (excluding landfills of inert waste ...   \n",
       "3  Thermal power stations and other combustion in...   \n",
       "4                 Urban waste-water treatment plants   \n",
       "\n",
       "                                   FacilityInspireID  \\\n",
       "0  https://registry.gdi-de.org/id/de.ni.mu/062217...   \n",
       "1                         IT.CAED/240602021.FACILITY   \n",
       "2                         ES.CAED/001966000.FACILITY   \n",
       "3                    CZ.MZP.U422/CZ34736841.FACILITY   \n",
       "4  http://paikkatiedot.fi/so/1002031/pf/Productio...   \n",
       "\n",
       "                                        facilityName                  City  \\\n",
       "0               Holcim (Deutschland) GmbH Werk Höver                Sehnde   \n",
       "1               Stabilimento di Tavernola Bergamasca  TAVERNOLA BERGAMASCA   \n",
       "2                  COMPLEJO MEDIOAMBIENTAL DE ZURITA    PUERTO DEL ROSARIO   \n",
       "3                                Elektrárny Prunéřov                 Kadaň   \n",
       "4  TAMPEREEN VESI LIIKELAITOS, VIINIKANLAHDEN JÄT...               Tampere   \n",
       "\n",
       "  targetRelease              pollutant  reportingYear  MONTH  ...  CONTINENT  \\\n",
       "0           AIR   Carbon dioxide (CO2)           2015     10  ...     EUROPE   \n",
       "1           AIR  Nitrogen oxides (NOX)           2018      9  ...     EUROPE   \n",
       "2           AIR          Methane (CH4)           2019      2  ...     EUROPE   \n",
       "3           AIR  Nitrogen oxides (NOX)           2012      8  ...     EUROPE   \n",
       "4           AIR          Methane (CH4)           2018     12  ...     EUROPE   \n",
       "\n",
       "  max_wind_speed  avg_wind_speed  min_wind_speed   max_temp   avg_temp  \\\n",
       "0      15.118767       14.312541       21.419106   2.864895   4.924169   \n",
       "1      19.661550       19.368166       21.756389   5.462839   7.864403   \n",
       "2      12.729453       14.701985       17.103930   1.511201   4.233438   \n",
       "3      11.856417       16.122584       17.537184  10.970301  10.298348   \n",
       "4      17.111930       20.201604       21.536012  11.772039  11.344078   \n",
       "\n",
       "    min_temp  DAY WITH FOGS     REPORTER NAME  \\\n",
       "0   9.688206              2  Mr. Jacob Ortega   \n",
       "1  12.023521              1    Ashlee Serrano   \n",
       "2   8.632193              2      Vincent Kemp   \n",
       "3  15.179215              0        Carol Gray   \n",
       "4  16.039004              2        Blake Ford   \n",
       "\n",
       "                            CITY ID  \n",
       "0  7cdb5e74adcb2ffaa21c1b61395a984f  \n",
       "1  cd1dbabbdba230b828c657a9b19a8963  \n",
       "2  5011e3fa1436d15b34f1287f312fbada  \n",
       "3  37a6d7a71c4f7c2469e4f01b70dd90c2  \n",
       "4  471fe554e1c62d1b01cc8e4e5076c61a  \n",
       "\n",
       "[5 rows x 21 columns]"
      ]
     },
     "execution_count": 3,
     "metadata": {},
     "output_type": "execute_result"
    }
   ],
   "source": [
    "data1_csv_df.head() #2-We look at the heading and check that it was read correctly."
   ]
  },
  {
   "cell_type": "code",
   "execution_count": 4,
   "id": "f9281259",
   "metadata": {},
   "outputs": [
    {
     "data": {
      "text/plain": [
       "(18563, 21)"
      ]
     },
     "execution_count": 4,
     "metadata": {},
     "output_type": "execute_result"
    }
   ],
   "source": [
    "data1_csv_df.shape #3-Quickly we check the format"
   ]
  },
  {
   "cell_type": "markdown",
   "id": "3da1944e",
   "metadata": {},
   "source": [
    "#### **<span style=\"color:#4CAF50;\">2.2.2 Reading second data CSV </span>**"
   ]
  },
  {
   "cell_type": "code",
   "execution_count": 5,
   "id": "c0ad4110",
   "metadata": {},
   "outputs": [],
   "source": [
    "data2_csv_df = pd.read_csv(\"../1-Classification/datasets/train3.csv\") #1-Loading the second csv"
   ]
  },
  {
   "cell_type": "code",
   "execution_count": 6,
   "id": "3421e2cb",
   "metadata": {},
   "outputs": [
    {
     "data": {
      "text/html": [
       "<div>\n",
       "<style scoped>\n",
       "    .dataframe tbody tr th:only-of-type {\n",
       "        vertical-align: middle;\n",
       "    }\n",
       "\n",
       "    .dataframe tbody tr th {\n",
       "        vertical-align: top;\n",
       "    }\n",
       "\n",
       "    .dataframe thead th {\n",
       "        text-align: right;\n",
       "    }\n",
       "</style>\n",
       "<table border=\"1\" class=\"dataframe\">\n",
       "  <thead>\n",
       "    <tr style=\"text-align: right;\">\n",
       "      <th></th>\n",
       "      <th>Unnamed: 0</th>\n",
       "      <th>Unnamed: 1</th>\n",
       "      <th>CITY ID</th>\n",
       "      <th>CONTINENT</th>\n",
       "      <th>City</th>\n",
       "      <th>DAY</th>\n",
       "      <th>DAY WITH FOGS</th>\n",
       "      <th>EPRTRAnnexIMainActivityCode</th>\n",
       "      <th>EPRTRAnnexIMainActivityLabel</th>\n",
       "      <th>EPRTRSectorCode</th>\n",
       "      <th>...</th>\n",
       "      <th>countryName</th>\n",
       "      <th>eprtrSectorName</th>\n",
       "      <th>facilityName</th>\n",
       "      <th>max_temp</th>\n",
       "      <th>max_wind_speed</th>\n",
       "      <th>min_temp</th>\n",
       "      <th>min_wind_speed</th>\n",
       "      <th>pollutant</th>\n",
       "      <th>reportingYear</th>\n",
       "      <th>targetRelease</th>\n",
       "    </tr>\n",
       "  </thead>\n",
       "  <tbody>\n",
       "    <tr>\n",
       "      <th>0</th>\n",
       "      <td>0</td>\n",
       "      <td>47068</td>\n",
       "      <td>4c325d62c064477ef17b4c6e4437e121</td>\n",
       "      <td>EUROPE</td>\n",
       "      <td>Europoort Rotterdam</td>\n",
       "      <td>2</td>\n",
       "      <td>1</td>\n",
       "      <td>4(a)</td>\n",
       "      <td>Chemical installations for the production on a...</td>\n",
       "      <td>4</td>\n",
       "      <td>...</td>\n",
       "      <td>Netherlands</td>\n",
       "      <td>Chemical industry</td>\n",
       "      <td>Indorama Ventures Europe BV</td>\n",
       "      <td>13.256816</td>\n",
       "      <td>11.019329</td>\n",
       "      <td>14.696895</td>\n",
       "      <td>20.899762</td>\n",
       "      <td>Carbon dioxide (CO2)</td>\n",
       "      <td>2020</td>\n",
       "      <td>AIR</td>\n",
       "    </tr>\n",
       "    <tr>\n",
       "      <th>1</th>\n",
       "      <td>1</td>\n",
       "      <td>32952</td>\n",
       "      <td>f5e609e7095f91cc8ce9ed6d8e774a0d</td>\n",
       "      <td>EUROPE</td>\n",
       "      <td>RION</td>\n",
       "      <td>3</td>\n",
       "      <td>2</td>\n",
       "      <td>3(c)</td>\n",
       "      <td>Installations for the production of cement cli...</td>\n",
       "      <td>3</td>\n",
       "      <td>...</td>\n",
       "      <td>Greece</td>\n",
       "      <td>Mineral industry</td>\n",
       "      <td>TITAN CEMENT S.A. - DREPANO PLANT</td>\n",
       "      <td>4.528859</td>\n",
       "      <td>14.512395</td>\n",
       "      <td>9.219003</td>\n",
       "      <td>23.243403</td>\n",
       "      <td>Nitrogen oxides (NOX)</td>\n",
       "      <td>2019</td>\n",
       "      <td>AIR</td>\n",
       "    </tr>\n",
       "    <tr>\n",
       "      <th>2</th>\n",
       "      <td>2</td>\n",
       "      <td>72375</td>\n",
       "      <td>cfab1ba8c67c7c838db98d666f02a132</td>\n",
       "      <td>EUROPE</td>\n",
       "      <td>--</td>\n",
       "      <td>1</td>\n",
       "      <td>12</td>\n",
       "      <td>1(c)</td>\n",
       "      <td>Thermal power stations and other combustion in...</td>\n",
       "      <td>1</td>\n",
       "      <td>...</td>\n",
       "      <td>United Kingdom</td>\n",
       "      <td>Energy sector</td>\n",
       "      <td>Cormorant Alpha</td>\n",
       "      <td>10.669133</td>\n",
       "      <td>20.262171</td>\n",
       "      <td>14.715465</td>\n",
       "      <td>23.956529</td>\n",
       "      <td>Nitrogen oxides (NOX)</td>\n",
       "      <td>2009</td>\n",
       "      <td>AIR</td>\n",
       "    </tr>\n",
       "    <tr>\n",
       "      <th>3</th>\n",
       "      <td>3</td>\n",
       "      <td>40702</td>\n",
       "      <td>95b4e51f7b662598134e1eb956407c74</td>\n",
       "      <td>EUROPE</td>\n",
       "      <td>DRIZZONA</td>\n",
       "      <td>17</td>\n",
       "      <td>1</td>\n",
       "      <td>7(a)</td>\n",
       "      <td>Installations for the intensive rearing of pou...</td>\n",
       "      <td>7</td>\n",
       "      <td>...</td>\n",
       "      <td>Italy</td>\n",
       "      <td>Intensive livestock production and aquaculture</td>\n",
       "      <td>SOCIETA' AGRICOLA SPARAVALLE DI FERRARI GIUSEP...</td>\n",
       "      <td>7.095682</td>\n",
       "      <td>18.283547</td>\n",
       "      <td>13.582024</td>\n",
       "      <td>26.696266</td>\n",
       "      <td>Methane (CH4)</td>\n",
       "      <td>2014</td>\n",
       "      <td>AIR</td>\n",
       "    </tr>\n",
       "    <tr>\n",
       "      <th>4</th>\n",
       "      <td>4</td>\n",
       "      <td>29884</td>\n",
       "      <td>f4433be3b1bfaeeb0633eb65d04b1325</td>\n",
       "      <td>EUROPE</td>\n",
       "      <td>Lünen</td>\n",
       "      <td>6</td>\n",
       "      <td>0</td>\n",
       "      <td>5(a)</td>\n",
       "      <td>Installations for the recovery or disposal of ...</td>\n",
       "      <td>5</td>\n",
       "      <td>...</td>\n",
       "      <td>Germany</td>\n",
       "      <td>Waste and wastewater management</td>\n",
       "      <td>Biomassekraftwerk Lünen GmbH</td>\n",
       "      <td>9.886774</td>\n",
       "      <td>13.759408</td>\n",
       "      <td>14.006226</td>\n",
       "      <td>24.768933</td>\n",
       "      <td>Carbon dioxide (CO2)</td>\n",
       "      <td>2015</td>\n",
       "      <td>AIR</td>\n",
       "    </tr>\n",
       "  </tbody>\n",
       "</table>\n",
       "<p>5 rows × 25 columns</p>\n",
       "</div>"
      ],
      "text/plain": [
       "   Unnamed: 0  Unnamed: 1                           CITY ID CONTINENT  \\\n",
       "0           0       47068  4c325d62c064477ef17b4c6e4437e121    EUROPE   \n",
       "1           1       32952  f5e609e7095f91cc8ce9ed6d8e774a0d    EUROPE   \n",
       "2           2       72375  cfab1ba8c67c7c838db98d666f02a132    EUROPE   \n",
       "3           3       40702  95b4e51f7b662598134e1eb956407c74    EUROPE   \n",
       "4           4       29884  f4433be3b1bfaeeb0633eb65d04b1325    EUROPE   \n",
       "\n",
       "                  City  DAY  DAY WITH FOGS EPRTRAnnexIMainActivityCode  \\\n",
       "0  Europoort Rotterdam    2              1                        4(a)   \n",
       "1                 RION    3              2                        3(c)   \n",
       "2                   --    1             12                        1(c)   \n",
       "3             DRIZZONA   17              1                        7(a)   \n",
       "4                Lünen    6              0                        5(a)   \n",
       "\n",
       "                        EPRTRAnnexIMainActivityLabel  EPRTRSectorCode  ...  \\\n",
       "0  Chemical installations for the production on a...                4  ...   \n",
       "1  Installations for the production of cement cli...                3  ...   \n",
       "2  Thermal power stations and other combustion in...                1  ...   \n",
       "3  Installations for the intensive rearing of pou...                7  ...   \n",
       "4  Installations for the recovery or disposal of ...                5  ...   \n",
       "\n",
       "      countryName                                 eprtrSectorName  \\\n",
       "0     Netherlands                               Chemical industry   \n",
       "1          Greece                                Mineral industry   \n",
       "2  United Kingdom                                   Energy sector   \n",
       "3           Italy  Intensive livestock production and aquaculture   \n",
       "4         Germany                 Waste and wastewater management   \n",
       "\n",
       "                                        facilityName   max_temp  \\\n",
       "0                        Indorama Ventures Europe BV  13.256816   \n",
       "1                  TITAN CEMENT S.A. - DREPANO PLANT   4.528859   \n",
       "2                                    Cormorant Alpha  10.669133   \n",
       "3  SOCIETA' AGRICOLA SPARAVALLE DI FERRARI GIUSEP...   7.095682   \n",
       "4                       Biomassekraftwerk Lünen GmbH   9.886774   \n",
       "\n",
       "   max_wind_speed   min_temp min_wind_speed              pollutant  \\\n",
       "0       11.019329  14.696895      20.899762   Carbon dioxide (CO2)   \n",
       "1       14.512395   9.219003      23.243403  Nitrogen oxides (NOX)   \n",
       "2       20.262171  14.715465      23.956529  Nitrogen oxides (NOX)   \n",
       "3       18.283547  13.582024      26.696266          Methane (CH4)   \n",
       "4       13.759408  14.006226      24.768933   Carbon dioxide (CO2)   \n",
       "\n",
       "   reportingYear  targetRelease  \n",
       "0           2020            AIR  \n",
       "1           2019            AIR  \n",
       "2           2009            AIR  \n",
       "3           2014            AIR  \n",
       "4           2015            AIR  \n",
       "\n",
       "[5 rows x 25 columns]"
      ]
     },
     "execution_count": 6,
     "metadata": {},
     "output_type": "execute_result"
    }
   ],
   "source": [
    "data2_csv_df.head() #2-We look at the heading and check that it was read correctly."
   ]
  },
  {
   "cell_type": "code",
   "execution_count": 7,
   "id": "6e4971d6",
   "metadata": {},
   "outputs": [
    {
     "data": {
      "text/plain": [
       "(9500, 25)"
      ]
     },
     "execution_count": 7,
     "metadata": {},
     "output_type": "execute_result"
    }
   ],
   "source": [
    "data2_csv_df.shape #3-Quickly we check the format"
   ]
  },
  {
   "cell_type": "markdown",
   "id": "e775a5df",
   "metadata": {},
   "source": [
    "So, the first 50% of the data is already loaded, let's proceed with the rest."
   ]
  },
  {
   "cell_type": "markdown",
   "id": "a681a5c4",
   "metadata": {},
   "source": [
    "### **<span style=\"color:#43A047;\">2.3 Reading data from API json </span>**\n",
    "\n",
    "#### **<span style=\"color:#4CAF50;\">2.3.1. Reading first json data </span>**"
   ]
  },
  {
   "cell_type": "code",
   "execution_count": 8,
   "id": "e65d3583",
   "metadata": {},
   "outputs": [],
   "source": [
    "url = 'http://schneiderapihack-env.eba-3ais9akk.us-east-2.elasticbeanstalk.com/first'\n",
    "data1_js_df = pd.read_json(url)"
   ]
  },
  {
   "cell_type": "code",
   "execution_count": 9,
   "id": "38f82463",
   "metadata": {},
   "outputs": [
    {
     "data": {
      "text/html": [
       "<div>\n",
       "<style scoped>\n",
       "    .dataframe tbody tr th:only-of-type {\n",
       "        vertical-align: middle;\n",
       "    }\n",
       "\n",
       "    .dataframe tbody tr th {\n",
       "        vertical-align: top;\n",
       "    }\n",
       "\n",
       "    .dataframe thead th {\n",
       "        text-align: right;\n",
       "    }\n",
       "</style>\n",
       "<table border=\"1\" class=\"dataframe\">\n",
       "  <thead>\n",
       "    <tr style=\"text-align: right;\">\n",
       "      <th></th>\n",
       "      <th></th>\n",
       "      <th>CITY ID</th>\n",
       "      <th>CONTINENT</th>\n",
       "      <th>City</th>\n",
       "      <th>DAY</th>\n",
       "      <th>DAY WITH FOGS</th>\n",
       "      <th>EPRTRAnnexIMainActivityCode</th>\n",
       "      <th>EPRTRAnnexIMainActivityLabel</th>\n",
       "      <th>EPRTRSectorCode</th>\n",
       "      <th>FacilityInspireID</th>\n",
       "      <th>...</th>\n",
       "      <th>countryName</th>\n",
       "      <th>eprtrSectorName</th>\n",
       "      <th>facilityName</th>\n",
       "      <th>max_temp</th>\n",
       "      <th>max_wind_speed</th>\n",
       "      <th>min_temp</th>\n",
       "      <th>min_wind_speed</th>\n",
       "      <th>pollutant</th>\n",
       "      <th>reportingYear</th>\n",
       "      <th>targetRelease</th>\n",
       "    </tr>\n",
       "  </thead>\n",
       "  <tbody>\n",
       "    <tr>\n",
       "      <th>0</th>\n",
       "      <td>47068</td>\n",
       "      <td>4c325d62c064477ef17b4c6e4437e121</td>\n",
       "      <td>EUROPE</td>\n",
       "      <td>Europoort Rotterdam</td>\n",
       "      <td>2</td>\n",
       "      <td>1</td>\n",
       "      <td>4(a)</td>\n",
       "      <td>Chemical installations for the production on a...</td>\n",
       "      <td>4</td>\n",
       "      <td>NL.RIVM/000019070.FACILITY</td>\n",
       "      <td>...</td>\n",
       "      <td>Netherlands</td>\n",
       "      <td>Chemical industry</td>\n",
       "      <td>Indorama Ventures Europe BV</td>\n",
       "      <td>13.256816</td>\n",
       "      <td>11.019329</td>\n",
       "      <td>14.696895</td>\n",
       "      <td>20.899762</td>\n",
       "      <td>Carbon dioxide (CO2)</td>\n",
       "      <td>2020</td>\n",
       "      <td>AIR</td>\n",
       "    </tr>\n",
       "    <tr>\n",
       "      <th>1</th>\n",
       "      <td>32952</td>\n",
       "      <td>f5e609e7095f91cc8ce9ed6d8e774a0d</td>\n",
       "      <td>EUROPE</td>\n",
       "      <td>RION</td>\n",
       "      <td>3</td>\n",
       "      <td>2</td>\n",
       "      <td>3(c)</td>\n",
       "      <td>Installations for the production of cement cli...</td>\n",
       "      <td>3</td>\n",
       "      <td>EL.CAED/100075.FACILITY</td>\n",
       "      <td>...</td>\n",
       "      <td>Greece</td>\n",
       "      <td>Mineral industry</td>\n",
       "      <td>TITAN CEMENT S.A. - DREPANO PLANT</td>\n",
       "      <td>4.528859</td>\n",
       "      <td>14.512395</td>\n",
       "      <td>9.219003</td>\n",
       "      <td>23.243403</td>\n",
       "      <td>Nitrogen oxides (NOX)</td>\n",
       "      <td>2019</td>\n",
       "      <td>AIR</td>\n",
       "    </tr>\n",
       "    <tr>\n",
       "      <th>2</th>\n",
       "      <td>72375</td>\n",
       "      <td>cfab1ba8c67c7c838db98d666f02a132</td>\n",
       "      <td>EUROPE</td>\n",
       "      <td>--</td>\n",
       "      <td>1</td>\n",
       "      <td>12</td>\n",
       "      <td>1(c)</td>\n",
       "      <td>Thermal power stations and other combustion in...</td>\n",
       "      <td>1</td>\n",
       "      <td>UK.CAED/BEISOffsh-Cormorant-Alpha.FACILITY</td>\n",
       "      <td>...</td>\n",
       "      <td>United Kingdom</td>\n",
       "      <td>Energy sector</td>\n",
       "      <td>Cormorant Alpha</td>\n",
       "      <td>10.669133</td>\n",
       "      <td>20.262171</td>\n",
       "      <td>14.715465</td>\n",
       "      <td>23.956529</td>\n",
       "      <td>Nitrogen oxides (NOX)</td>\n",
       "      <td>2009</td>\n",
       "      <td>AIR</td>\n",
       "    </tr>\n",
       "    <tr>\n",
       "      <th>3</th>\n",
       "      <td>40702</td>\n",
       "      <td>95b4e51f7b662598134e1eb956407c74</td>\n",
       "      <td>EUROPE</td>\n",
       "      <td>DRIZZONA</td>\n",
       "      <td>17</td>\n",
       "      <td>1</td>\n",
       "      <td>7(a)</td>\n",
       "      <td>Installations for the intensive rearing of pou...</td>\n",
       "      <td>7</td>\n",
       "      <td>IT.CAED/260342003.FACILITY</td>\n",
       "      <td>...</td>\n",
       "      <td>Italy</td>\n",
       "      <td>Intensive livestock production and aquaculture</td>\n",
       "      <td>SOCIETA' AGRICOLA SPARAVALLE DI FERRARI GIUSEP...</td>\n",
       "      <td>7.095682</td>\n",
       "      <td>18.283547</td>\n",
       "      <td>13.582024</td>\n",
       "      <td>26.696266</td>\n",
       "      <td>Methane (CH4)</td>\n",
       "      <td>2014</td>\n",
       "      <td>AIR</td>\n",
       "    </tr>\n",
       "    <tr>\n",
       "      <th>4</th>\n",
       "      <td>29884</td>\n",
       "      <td>f4433be3b1bfaeeb0633eb65d04b1325</td>\n",
       "      <td>EUROPE</td>\n",
       "      <td>Lünen</td>\n",
       "      <td>6</td>\n",
       "      <td>0</td>\n",
       "      <td>5(a)</td>\n",
       "      <td>Installations for the recovery or disposal of ...</td>\n",
       "      <td>5</td>\n",
       "      <td>https://registry.gdi-de.org/id/de.nw.inspire.p...</td>\n",
       "      <td>...</td>\n",
       "      <td>Germany</td>\n",
       "      <td>Waste and wastewater management</td>\n",
       "      <td>Biomassekraftwerk Lünen GmbH</td>\n",
       "      <td>9.886774</td>\n",
       "      <td>13.759408</td>\n",
       "      <td>14.006226</td>\n",
       "      <td>24.768933</td>\n",
       "      <td>Carbon dioxide (CO2)</td>\n",
       "      <td>2015</td>\n",
       "      <td>AIR</td>\n",
       "    </tr>\n",
       "  </tbody>\n",
       "</table>\n",
       "<p>5 rows × 24 columns</p>\n",
       "</div>"
      ],
      "text/plain": [
       "                                   CITY ID CONTINENT                 City  \\\n",
       "0  47068  4c325d62c064477ef17b4c6e4437e121    EUROPE  Europoort Rotterdam   \n",
       "1  32952  f5e609e7095f91cc8ce9ed6d8e774a0d    EUROPE                 RION   \n",
       "2  72375  cfab1ba8c67c7c838db98d666f02a132    EUROPE                   --   \n",
       "3  40702  95b4e51f7b662598134e1eb956407c74    EUROPE             DRIZZONA   \n",
       "4  29884  f4433be3b1bfaeeb0633eb65d04b1325    EUROPE                Lünen   \n",
       "\n",
       "   DAY  DAY WITH FOGS EPRTRAnnexIMainActivityCode  \\\n",
       "0    2              1                        4(a)   \n",
       "1    3              2                        3(c)   \n",
       "2    1             12                        1(c)   \n",
       "3   17              1                        7(a)   \n",
       "4    6              0                        5(a)   \n",
       "\n",
       "                        EPRTRAnnexIMainActivityLabel  EPRTRSectorCode  \\\n",
       "0  Chemical installations for the production on a...                4   \n",
       "1  Installations for the production of cement cli...                3   \n",
       "2  Thermal power stations and other combustion in...                1   \n",
       "3  Installations for the intensive rearing of pou...                7   \n",
       "4  Installations for the recovery or disposal of ...                5   \n",
       "\n",
       "                                   FacilityInspireID  ...     countryName  \\\n",
       "0                         NL.RIVM/000019070.FACILITY  ...     Netherlands   \n",
       "1                            EL.CAED/100075.FACILITY  ...          Greece   \n",
       "2         UK.CAED/BEISOffsh-Cormorant-Alpha.FACILITY  ...  United Kingdom   \n",
       "3                         IT.CAED/260342003.FACILITY  ...           Italy   \n",
       "4  https://registry.gdi-de.org/id/de.nw.inspire.p...  ...         Germany   \n",
       "\n",
       "                                  eprtrSectorName  \\\n",
       "0                               Chemical industry   \n",
       "1                                Mineral industry   \n",
       "2                                   Energy sector   \n",
       "3  Intensive livestock production and aquaculture   \n",
       "4                 Waste and wastewater management   \n",
       "\n",
       "                                        facilityName   max_temp  \\\n",
       "0                        Indorama Ventures Europe BV  13.256816   \n",
       "1                  TITAN CEMENT S.A. - DREPANO PLANT   4.528859   \n",
       "2                                    Cormorant Alpha  10.669133   \n",
       "3  SOCIETA' AGRICOLA SPARAVALLE DI FERRARI GIUSEP...   7.095682   \n",
       "4                       Biomassekraftwerk Lünen GmbH   9.886774   \n",
       "\n",
       "  max_wind_speed   min_temp min_wind_speed              pollutant  \\\n",
       "0      11.019329  14.696895      20.899762   Carbon dioxide (CO2)   \n",
       "1      14.512395   9.219003      23.243403  Nitrogen oxides (NOX)   \n",
       "2      20.262171  14.715465      23.956529  Nitrogen oxides (NOX)   \n",
       "3      18.283547  13.582024      26.696266          Methane (CH4)   \n",
       "4      13.759408  14.006226      24.768933   Carbon dioxide (CO2)   \n",
       "\n",
       "   reportingYear  targetRelease  \n",
       "0           2020            AIR  \n",
       "1           2019            AIR  \n",
       "2           2009            AIR  \n",
       "3           2014            AIR  \n",
       "4           2015            AIR  \n",
       "\n",
       "[5 rows x 24 columns]"
      ]
     },
     "execution_count": 9,
     "metadata": {},
     "output_type": "execute_result"
    }
   ],
   "source": [
    "data1_js_df.head() #2-We look at the heading and check that it was read correctly."
   ]
  },
  {
   "cell_type": "code",
   "execution_count": 10,
   "id": "7088271e",
   "metadata": {},
   "outputs": [
    {
     "data": {
      "text/plain": [
       "(9500, 24)"
      ]
     },
     "execution_count": 10,
     "metadata": {},
     "output_type": "execute_result"
    }
   ],
   "source": [
    "data1_js_df.shape #3-Quickly we check the format"
   ]
  },
  {
   "cell_type": "code",
   "execution_count": 11,
   "id": "f5c76c75",
   "metadata": {},
   "outputs": [],
   "source": [
    "data1_js_df.to_csv(\"../1-Classification/datasets/train3.csv\") #Saving the data set in our directory"
   ]
  },
  {
   "cell_type": "markdown",
   "id": "8a70a83b",
   "metadata": {},
   "source": [
    "#### **<span style=\"color:#4CAF50;\">2.3.2. Reading second json data </span>**"
   ]
  },
  {
   "cell_type": "code",
   "execution_count": 12,
   "id": "7bd7ef0f",
   "metadata": {},
   "outputs": [],
   "source": [
    "url = 'http://schneiderapihack-env.eba-3ais9akk.us-east-2.elasticbeanstalk.com/second'\n",
    "data2_js_df = pd.read_json(url)"
   ]
  },
  {
   "cell_type": "code",
   "execution_count": 13,
   "id": "1839d137",
   "metadata": {},
   "outputs": [
    {
     "data": {
      "text/html": [
       "<div>\n",
       "<style scoped>\n",
       "    .dataframe tbody tr th:only-of-type {\n",
       "        vertical-align: middle;\n",
       "    }\n",
       "\n",
       "    .dataframe tbody tr th {\n",
       "        vertical-align: top;\n",
       "    }\n",
       "\n",
       "    .dataframe thead th {\n",
       "        text-align: right;\n",
       "    }\n",
       "</style>\n",
       "<table border=\"1\" class=\"dataframe\">\n",
       "  <thead>\n",
       "    <tr style=\"text-align: right;\">\n",
       "      <th></th>\n",
       "      <th></th>\n",
       "      <th>CITY ID</th>\n",
       "      <th>CONTINENT</th>\n",
       "      <th>City</th>\n",
       "      <th>DAY</th>\n",
       "      <th>DAY WITH FOGS</th>\n",
       "      <th>EPRTRAnnexIMainActivityCode</th>\n",
       "      <th>EPRTRAnnexIMainActivityLabel</th>\n",
       "      <th>EPRTRSectorCode</th>\n",
       "      <th>FacilityInspireID</th>\n",
       "      <th>...</th>\n",
       "      <th>countryName</th>\n",
       "      <th>eprtrSectorName</th>\n",
       "      <th>facilityName</th>\n",
       "      <th>max_temp</th>\n",
       "      <th>max_wind_speed</th>\n",
       "      <th>min_temp</th>\n",
       "      <th>min_wind_speed</th>\n",
       "      <th>pollutant</th>\n",
       "      <th>reportingYear</th>\n",
       "      <th>targetRelease</th>\n",
       "    </tr>\n",
       "  </thead>\n",
       "  <tbody>\n",
       "    <tr>\n",
       "      <th>0</th>\n",
       "      <td>66841</td>\n",
       "      <td>e8d4668a35daa00b7802cdaac2b33bab</td>\n",
       "      <td>EUROPE</td>\n",
       "      <td>SIGTUNA</td>\n",
       "      <td>18</td>\n",
       "      <td>0</td>\n",
       "      <td>1(c)</td>\n",
       "      <td>Thermal power stations and other combustion in...</td>\n",
       "      <td>1</td>\n",
       "      <td>SE.CAED/10014262.Facility</td>\n",
       "      <td>...</td>\n",
       "      <td>Sweden</td>\n",
       "      <td>Energy sector</td>\n",
       "      <td>BRISTAVERKET</td>\n",
       "      <td>12.910354</td>\n",
       "      <td>19.591152</td>\n",
       "      <td>17.822159</td>\n",
       "      <td>24.496401</td>\n",
       "      <td>Carbon dioxide (CO2)</td>\n",
       "      <td>2010</td>\n",
       "      <td>AIR</td>\n",
       "    </tr>\n",
       "    <tr>\n",
       "      <th>1</th>\n",
       "      <td>43952</td>\n",
       "      <td>3a9c3ae8ea2e275700947e511afca943</td>\n",
       "      <td>EUROPE</td>\n",
       "      <td>Kaunas</td>\n",
       "      <td>3</td>\n",
       "      <td>1</td>\n",
       "      <td>1(c)</td>\n",
       "      <td>Thermal power stations and other combustion in...</td>\n",
       "      <td>1</td>\n",
       "      <td>LT.EEA/3.FACILITY</td>\n",
       "      <td>...</td>\n",
       "      <td>Lithuania</td>\n",
       "      <td>Energy sector</td>\n",
       "      <td>Kauno elektrine</td>\n",
       "      <td>1.566654</td>\n",
       "      <td>9.006533</td>\n",
       "      <td>4.398770</td>\n",
       "      <td>20.074976</td>\n",
       "      <td>Carbon dioxide (CO2)</td>\n",
       "      <td>2015</td>\n",
       "      <td>AIR</td>\n",
       "    </tr>\n",
       "    <tr>\n",
       "      <th>2</th>\n",
       "      <td>77831</td>\n",
       "      <td>3d7694a841fc5d426287f208f5e04f61</td>\n",
       "      <td>EUROPE</td>\n",
       "      <td>WORKINGTON</td>\n",
       "      <td>20</td>\n",
       "      <td>10</td>\n",
       "      <td>6(b)</td>\n",
       "      <td>Industrial plants for the production of paper ...</td>\n",
       "      <td>6</td>\n",
       "      <td>UK.CAED/EW_EA-1427.FACILITY</td>\n",
       "      <td>...</td>\n",
       "      <td>United Kingdom</td>\n",
       "      <td>Paper and wood production and processing</td>\n",
       "      <td>Workington Board Mill</td>\n",
       "      <td>10.241999</td>\n",
       "      <td>14.076643</td>\n",
       "      <td>13.447854</td>\n",
       "      <td>25.239151</td>\n",
       "      <td>Nitrogen oxides (NOX)</td>\n",
       "      <td>2015</td>\n",
       "      <td>AIR</td>\n",
       "    </tr>\n",
       "    <tr>\n",
       "      <th>3</th>\n",
       "      <td>67548</td>\n",
       "      <td>f8a4753cdbccbd64f0411a207e071aac</td>\n",
       "      <td>EUROPE</td>\n",
       "      <td>SALA</td>\n",
       "      <td>5</td>\n",
       "      <td>2</td>\n",
       "      <td>5(d)</td>\n",
       "      <td>Landfills (excluding landfills of inert waste ...</td>\n",
       "      <td>5</td>\n",
       "      <td>SE.CAED/10021261.Facility</td>\n",
       "      <td>...</td>\n",
       "      <td>Sweden</td>\n",
       "      <td>Waste and wastewater management</td>\n",
       "      <td>Isätra avfallsanläggning</td>\n",
       "      <td>12.684851</td>\n",
       "      <td>18.924086</td>\n",
       "      <td>17.377168</td>\n",
       "      <td>25.603714</td>\n",
       "      <td>Methane (CH4)</td>\n",
       "      <td>2013</td>\n",
       "      <td>AIR</td>\n",
       "    </tr>\n",
       "    <tr>\n",
       "      <th>4</th>\n",
       "      <td>67772</td>\n",
       "      <td>ce2ddff460389bd5d9f1152dc5679d20</td>\n",
       "      <td>EUROPE</td>\n",
       "      <td>Lugnvik</td>\n",
       "      <td>26</td>\n",
       "      <td>1</td>\n",
       "      <td>1(c)</td>\n",
       "      <td>Thermal power stations and other combustion in...</td>\n",
       "      <td>1</td>\n",
       "      <td>SE.CAED/10023054.Facility</td>\n",
       "      <td>...</td>\n",
       "      <td>Sweden</td>\n",
       "      <td>Energy sector</td>\n",
       "      <td>Lugnviksverket</td>\n",
       "      <td>7.826782</td>\n",
       "      <td>18.596857</td>\n",
       "      <td>11.731918</td>\n",
       "      <td>25.811989</td>\n",
       "      <td>Carbon dioxide (CO2)</td>\n",
       "      <td>2014</td>\n",
       "      <td>AIR</td>\n",
       "    </tr>\n",
       "  </tbody>\n",
       "</table>\n",
       "<p>5 rows × 24 columns</p>\n",
       "</div>"
      ],
      "text/plain": [
       "                                   CITY ID CONTINENT        City  DAY  \\\n",
       "0  66841  e8d4668a35daa00b7802cdaac2b33bab    EUROPE     SIGTUNA   18   \n",
       "1  43952  3a9c3ae8ea2e275700947e511afca943    EUROPE      Kaunas    3   \n",
       "2  77831  3d7694a841fc5d426287f208f5e04f61    EUROPE  WORKINGTON   20   \n",
       "3  67548  f8a4753cdbccbd64f0411a207e071aac    EUROPE        SALA    5   \n",
       "4  67772  ce2ddff460389bd5d9f1152dc5679d20    EUROPE     Lugnvik   26   \n",
       "\n",
       "   DAY WITH FOGS EPRTRAnnexIMainActivityCode  \\\n",
       "0              0                        1(c)   \n",
       "1              1                        1(c)   \n",
       "2             10                        6(b)   \n",
       "3              2                        5(d)   \n",
       "4              1                        1(c)   \n",
       "\n",
       "                        EPRTRAnnexIMainActivityLabel  EPRTRSectorCode  \\\n",
       "0  Thermal power stations and other combustion in...                1   \n",
       "1  Thermal power stations and other combustion in...                1   \n",
       "2  Industrial plants for the production of paper ...                6   \n",
       "3  Landfills (excluding landfills of inert waste ...                5   \n",
       "4  Thermal power stations and other combustion in...                1   \n",
       "\n",
       "             FacilityInspireID  ...     countryName  \\\n",
       "0    SE.CAED/10014262.Facility  ...          Sweden   \n",
       "1            LT.EEA/3.FACILITY  ...       Lithuania   \n",
       "2  UK.CAED/EW_EA-1427.FACILITY  ...  United Kingdom   \n",
       "3    SE.CAED/10021261.Facility  ...          Sweden   \n",
       "4    SE.CAED/10023054.Facility  ...          Sweden   \n",
       "\n",
       "                            eprtrSectorName              facilityName  \\\n",
       "0                             Energy sector              BRISTAVERKET   \n",
       "1                             Energy sector           Kauno elektrine   \n",
       "2  Paper and wood production and processing    Workington Board Mill    \n",
       "3           Waste and wastewater management  Isätra avfallsanläggning   \n",
       "4                             Energy sector            Lugnviksverket   \n",
       "\n",
       "    max_temp max_wind_speed   min_temp min_wind_speed              pollutant  \\\n",
       "0  12.910354      19.591152  17.822159      24.496401   Carbon dioxide (CO2)   \n",
       "1   1.566654       9.006533   4.398770      20.074976   Carbon dioxide (CO2)   \n",
       "2  10.241999      14.076643  13.447854      25.239151  Nitrogen oxides (NOX)   \n",
       "3  12.684851      18.924086  17.377168      25.603714          Methane (CH4)   \n",
       "4   7.826782      18.596857  11.731918      25.811989   Carbon dioxide (CO2)   \n",
       "\n",
       "   reportingYear  targetRelease  \n",
       "0           2010            AIR  \n",
       "1           2015            AIR  \n",
       "2           2015            AIR  \n",
       "3           2013            AIR  \n",
       "4           2014            AIR  \n",
       "\n",
       "[5 rows x 24 columns]"
      ]
     },
     "execution_count": 13,
     "metadata": {},
     "output_type": "execute_result"
    }
   ],
   "source": [
    "data2_js_df.head() #2-We look at the heading and check that it was read correctly."
   ]
  },
  {
   "cell_type": "code",
   "execution_count": 14,
   "id": "1cb52384",
   "metadata": {},
   "outputs": [
    {
     "data": {
      "text/plain": [
       "(9500, 24)"
      ]
     },
     "execution_count": 14,
     "metadata": {},
     "output_type": "execute_result"
    }
   ],
   "source": [
    "data2_js_df.shape #3-Quickly we check the format"
   ]
  },
  {
   "cell_type": "code",
   "execution_count": 15,
   "id": "371b689c",
   "metadata": {},
   "outputs": [],
   "source": [
    "data2_js_df.to_csv(\"../1-Classification/datasets/train4.csv\") #Saving the data set in our directory"
   ]
  },
  {
   "cell_type": "markdown",
   "id": "e4c3b9d2",
   "metadata": {},
   "source": [
    "#### **<span style=\"color:#4CAF50;\">2.3.2. Reading thrid json data </span>**"
   ]
  },
  {
   "cell_type": "code",
   "execution_count": 16,
   "id": "706d966a",
   "metadata": {},
   "outputs": [],
   "source": [
    "url = 'http://schneiderapihack-env.eba-3ais9akk.us-east-2.elasticbeanstalk.com/third'\n",
    "data3_js_df = pd.read_json(url)"
   ]
  },
  {
   "cell_type": "code",
   "execution_count": 17,
   "id": "37c53bc4",
   "metadata": {},
   "outputs": [
    {
     "data": {
      "text/html": [
       "<div>\n",
       "<style scoped>\n",
       "    .dataframe tbody tr th:only-of-type {\n",
       "        vertical-align: middle;\n",
       "    }\n",
       "\n",
       "    .dataframe tbody tr th {\n",
       "        vertical-align: top;\n",
       "    }\n",
       "\n",
       "    .dataframe thead th {\n",
       "        text-align: right;\n",
       "    }\n",
       "</style>\n",
       "<table border=\"1\" class=\"dataframe\">\n",
       "  <thead>\n",
       "    <tr style=\"text-align: right;\">\n",
       "      <th></th>\n",
       "      <th></th>\n",
       "      <th>CITY ID</th>\n",
       "      <th>CONTINENT</th>\n",
       "      <th>City</th>\n",
       "      <th>DAY</th>\n",
       "      <th>DAY WITH FOGS</th>\n",
       "      <th>EPRTRAnnexIMainActivityCode</th>\n",
       "      <th>EPRTRAnnexIMainActivityLabel</th>\n",
       "      <th>EPRTRSectorCode</th>\n",
       "      <th>FacilityInspireID</th>\n",
       "      <th>...</th>\n",
       "      <th>countryName</th>\n",
       "      <th>eprtrSectorName</th>\n",
       "      <th>facilityName</th>\n",
       "      <th>max_temp</th>\n",
       "      <th>max_wind_speed</th>\n",
       "      <th>min_temp</th>\n",
       "      <th>min_wind_speed</th>\n",
       "      <th>pollutant</th>\n",
       "      <th>reportingYear</th>\n",
       "      <th>targetRelease</th>\n",
       "    </tr>\n",
       "  </thead>\n",
       "  <tbody>\n",
       "    <tr>\n",
       "      <th>0</th>\n",
       "      <td>41175</td>\n",
       "      <td>7951666b94e0f0891e0c66b2381fca55</td>\n",
       "      <td>EUROPE</td>\n",
       "      <td>TORINO</td>\n",
       "      <td>24</td>\n",
       "      <td>1</td>\n",
       "      <td>1(c)</td>\n",
       "      <td>Thermal power stations and other combustion in...</td>\n",
       "      <td>1</td>\n",
       "      <td>IT.CAED/101511001.FACILITY</td>\n",
       "      <td>...</td>\n",
       "      <td>Italy</td>\n",
       "      <td>Energy sector</td>\n",
       "      <td>Iren Energia S.p.A.</td>\n",
       "      <td>7.367005</td>\n",
       "      <td>15.892429</td>\n",
       "      <td>12.571580</td>\n",
       "      <td>20.467596</td>\n",
       "      <td>Nitrogen oxides (NOX)</td>\n",
       "      <td>2015</td>\n",
       "      <td>AIR</td>\n",
       "    </tr>\n",
       "    <tr>\n",
       "      <th>1</th>\n",
       "      <td>49299</td>\n",
       "      <td>33c89df2492e8d3efda719c849b530ea</td>\n",
       "      <td>EUROPE</td>\n",
       "      <td>Łódź</td>\n",
       "      <td>4</td>\n",
       "      <td>0</td>\n",
       "      <td>1(c)</td>\n",
       "      <td>Thermal power stations and other combustion in...</td>\n",
       "      <td>1</td>\n",
       "      <td>PL.EEA/1321.FACILITY</td>\n",
       "      <td>...</td>\n",
       "      <td>Poland</td>\n",
       "      <td>Energy sector</td>\n",
       "      <td>Dalkia Łódź S.A. Elektrociepłownia nr 3</td>\n",
       "      <td>12.764269</td>\n",
       "      <td>14.168742</td>\n",
       "      <td>19.081248</td>\n",
       "      <td>25.439515</td>\n",
       "      <td>Carbon dioxide (CO2)</td>\n",
       "      <td>2011</td>\n",
       "      <td>AIR</td>\n",
       "    </tr>\n",
       "    <tr>\n",
       "      <th>2</th>\n",
       "      <td>34879</td>\n",
       "      <td>4a8b9d98f65af3a29bbf298d8536c142</td>\n",
       "      <td>EUROPE</td>\n",
       "      <td>Tipperary</td>\n",
       "      <td>18</td>\n",
       "      <td>0</td>\n",
       "      <td>7(a)(ii)</td>\n",
       "      <td>Installations for the intensive rearing of pig...</td>\n",
       "      <td>7</td>\n",
       "      <td>IE.CAED/P0489.FACILITY</td>\n",
       "      <td>...</td>\n",
       "      <td>Ireland</td>\n",
       "      <td>Intensive livestock production and aquaculture</td>\n",
       "      <td>Glen of Aherlow Pig Producers Co-Op Society Li...</td>\n",
       "      <td>9.278435</td>\n",
       "      <td>17.849098</td>\n",
       "      <td>15.912360</td>\n",
       "      <td>25.603904</td>\n",
       "      <td>Methane (CH4)</td>\n",
       "      <td>2011</td>\n",
       "      <td>AIR</td>\n",
       "    </tr>\n",
       "    <tr>\n",
       "      <th>3</th>\n",
       "      <td>16905</td>\n",
       "      <td>e38f45f4d669e9f69fa97bfe049ceed6</td>\n",
       "      <td>EUROPE</td>\n",
       "      <td>REIMS</td>\n",
       "      <td>27</td>\n",
       "      <td>0</td>\n",
       "      <td>3(e)</td>\n",
       "      <td>Installations for the manufacture of glass, in...</td>\n",
       "      <td>3</td>\n",
       "      <td>FR.CAED/3453.FACILITY</td>\n",
       "      <td>...</td>\n",
       "      <td>France</td>\n",
       "      <td>Mineral industry</td>\n",
       "      <td>OI MANUFACTURING FRANCE REIMS</td>\n",
       "      <td>12.132210</td>\n",
       "      <td>10.348395</td>\n",
       "      <td>16.897353</td>\n",
       "      <td>18.131688</td>\n",
       "      <td>Nitrogen oxides (NOX)</td>\n",
       "      <td>2014</td>\n",
       "      <td>AIR</td>\n",
       "    </tr>\n",
       "    <tr>\n",
       "      <th>4</th>\n",
       "      <td>75675</td>\n",
       "      <td>fb960490e42477cbfdcd6bab1793f31e</td>\n",
       "      <td>EUROPE</td>\n",
       "      <td>Hexham</td>\n",
       "      <td>28</td>\n",
       "      <td>2</td>\n",
       "      <td>6(b)</td>\n",
       "      <td>Industrial plants for the production of paper ...</td>\n",
       "      <td>6</td>\n",
       "      <td>UK.LAED/E375_434.FACILITY</td>\n",
       "      <td>...</td>\n",
       "      <td>United Kingdom</td>\n",
       "      <td>Paper and wood production and processing</td>\n",
       "      <td>EGGER (UK) LIMITED</td>\n",
       "      <td>3.376109</td>\n",
       "      <td>13.803120</td>\n",
       "      <td>6.435358</td>\n",
       "      <td>22.215066</td>\n",
       "      <td>Nitrogen oxides (NOX)</td>\n",
       "      <td>2012</td>\n",
       "      <td>AIR</td>\n",
       "    </tr>\n",
       "  </tbody>\n",
       "</table>\n",
       "<p>5 rows × 24 columns</p>\n",
       "</div>"
      ],
      "text/plain": [
       "                                   CITY ID CONTINENT       City  DAY  \\\n",
       "0  41175  7951666b94e0f0891e0c66b2381fca55    EUROPE     TORINO   24   \n",
       "1  49299  33c89df2492e8d3efda719c849b530ea    EUROPE       Łódź    4   \n",
       "2  34879  4a8b9d98f65af3a29bbf298d8536c142    EUROPE  Tipperary   18   \n",
       "3  16905  e38f45f4d669e9f69fa97bfe049ceed6    EUROPE      REIMS   27   \n",
       "4  75675  fb960490e42477cbfdcd6bab1793f31e    EUROPE     Hexham   28   \n",
       "\n",
       "   DAY WITH FOGS EPRTRAnnexIMainActivityCode  \\\n",
       "0              1                        1(c)   \n",
       "1              0                        1(c)   \n",
       "2              0                    7(a)(ii)   \n",
       "3              0                        3(e)   \n",
       "4              2                        6(b)   \n",
       "\n",
       "                        EPRTRAnnexIMainActivityLabel  EPRTRSectorCode  \\\n",
       "0  Thermal power stations and other combustion in...                1   \n",
       "1  Thermal power stations and other combustion in...                1   \n",
       "2  Installations for the intensive rearing of pig...                7   \n",
       "3  Installations for the manufacture of glass, in...                3   \n",
       "4  Industrial plants for the production of paper ...                6   \n",
       "\n",
       "            FacilityInspireID  ...     countryName  \\\n",
       "0  IT.CAED/101511001.FACILITY  ...           Italy   \n",
       "1        PL.EEA/1321.FACILITY  ...          Poland   \n",
       "2      IE.CAED/P0489.FACILITY  ...         Ireland   \n",
       "3       FR.CAED/3453.FACILITY  ...          France   \n",
       "4   UK.LAED/E375_434.FACILITY  ...  United Kingdom   \n",
       "\n",
       "                                  eprtrSectorName  \\\n",
       "0                                   Energy sector   \n",
       "1                                   Energy sector   \n",
       "2  Intensive livestock production and aquaculture   \n",
       "3                                Mineral industry   \n",
       "4        Paper and wood production and processing   \n",
       "\n",
       "                                        facilityName   max_temp  \\\n",
       "0                                Iren Energia S.p.A.   7.367005   \n",
       "1            Dalkia Łódź S.A. Elektrociepłownia nr 3  12.764269   \n",
       "2  Glen of Aherlow Pig Producers Co-Op Society Li...   9.278435   \n",
       "3                      OI MANUFACTURING FRANCE REIMS  12.132210   \n",
       "4                                 EGGER (UK) LIMITED   3.376109   \n",
       "\n",
       "  max_wind_speed   min_temp min_wind_speed              pollutant  \\\n",
       "0      15.892429  12.571580      20.467596  Nitrogen oxides (NOX)   \n",
       "1      14.168742  19.081248      25.439515   Carbon dioxide (CO2)   \n",
       "2      17.849098  15.912360      25.603904          Methane (CH4)   \n",
       "3      10.348395  16.897353      18.131688  Nitrogen oxides (NOX)   \n",
       "4      13.803120   6.435358      22.215066  Nitrogen oxides (NOX)   \n",
       "\n",
       "   reportingYear  targetRelease  \n",
       "0           2015            AIR  \n",
       "1           2011            AIR  \n",
       "2           2011            AIR  \n",
       "3           2014            AIR  \n",
       "4           2012            AIR  \n",
       "\n",
       "[5 rows x 24 columns]"
      ]
     },
     "execution_count": 17,
     "metadata": {},
     "output_type": "execute_result"
    }
   ],
   "source": [
    "data3_js_df.head() #2-We look at the heading and check that it was read correctly."
   ]
  },
  {
   "cell_type": "code",
   "execution_count": 18,
   "id": "7c14bda5",
   "metadata": {},
   "outputs": [
    {
     "data": {
      "text/plain": [
       "(9501, 24)"
      ]
     },
     "execution_count": 18,
     "metadata": {},
     "output_type": "execute_result"
    }
   ],
   "source": [
    "data3_js_df.shape #3-Quickly we check the format"
   ]
  },
  {
   "cell_type": "code",
   "execution_count": 19,
   "id": "0a331ad1",
   "metadata": {},
   "outputs": [],
   "source": [
    "data3_js_df.to_csv(\"../1-Classification/datasets/train5.csv\") #Saving the data set in our directory"
   ]
  },
  {
   "cell_type": "markdown",
   "id": "136cbd9e",
   "metadata": {},
   "source": [
    "So, the __99%__ of the data is already loaded."
   ]
  },
  {
   "cell_type": "markdown",
   "id": "790c79fd",
   "metadata": {},
   "source": [
    "### **<span style=\"color:#43A047;\">2.4 Reading data from PDF </span>**\n",
    "\n",
    "#### **<span style=\"color:#4CAF50;\">2.4.1. Reading first PDF data. </span>**"
   ]
  },
  {
   "cell_type": "markdown",
   "id": "0fc1c896",
   "metadata": {},
   "source": [
    "I have used the PyMuPDF library for this purpose. This library provided many applications such as extracting images from PDF, extracting texts from different shapes, making annotations, draw a bounded box around the texts along with the features of libraries like PyPDF2."
   ]
  },
  {
   "cell_type": "code",
   "execution_count": 20,
   "id": "73b9fe91",
   "metadata": {},
   "outputs": [],
   "source": [
    "folder = r\"../1-Classification/datasets/train6/\"\n",
    "def get_files(folder):\n",
    "    import os\n",
    "    os.chdir(folder)\n",
    "    files = os.listdir()\n",
    "    files = [x for x in files if x.endswith(\".pdf\")]\n",
    "    return files "
   ]
  },
  {
   "cell_type": "code",
   "execution_count": 21,
   "id": "50bc41e9",
   "metadata": {},
   "outputs": [],
   "source": [
    "#RUN FILE \n",
    "files = get_files(folder)    "
   ]
  },
  {
   "cell_type": "code",
   "execution_count": 22,
   "id": "7ed940f6",
   "metadata": {},
   "outputs": [],
   "source": [
    "patch = r\"../train6/\"\n",
    "out = open(\"pdf_to_text.txt\", \"wb\")  # open text output\n",
    "for file in files:\n",
    "    doc = fitz.open(patch + file)\n",
    "    for page in doc:  # iterate the document pages\n",
    "        text = page.get_text().encode(\"utf8\")  # get plain text (is in UTF-8)\n",
    "        out.write(text)  # write text of page\n",
    "        out.write(bytes((12,)))  # write page delimiter (form feed 0x0C)\n",
    "out.close()"
   ]
  },
  {
   "cell_type": "code",
   "execution_count": 23,
   "id": "d4a8710d",
   "metadata": {},
   "outputs": [],
   "source": [
    "all_annots = (open(\"pdf_to_text.txt\", encoding=\"UTF-8\")).readlines()"
   ]
  },
  {
   "cell_type": "markdown",
   "id": "ec1dfbdf",
   "metadata": {},
   "source": [
    "Splitting to form column name and its values :"
   ]
  },
  {
   "cell_type": "code",
   "execution_count": 24,
   "id": "19c9782f",
   "metadata": {},
   "outputs": [],
   "source": [
    "cont=[]\n",
    "for i in range(0,len(all_annots)):\n",
    "    cont.append(all_annots[i].split(' :\\n',0))"
   ]
  },
  {
   "cell_type": "code",
   "execution_count": 25,
   "id": "4b866bd8",
   "metadata": {},
   "outputs": [],
   "source": [
    "liss=[]\n",
    "for i in range(0,len(cont)):\n",
    "    lis=[]\n",
    "    for j in cont[i]:\n",
    "        j=j.replace('*','')\n",
    "        j=j.replace('#','')\n",
    "        j=j.replace(':','')\n",
    "        j=j.replace('\\n','') \n",
    "        j=j.replace(',','.')\n",
    "        j=j.replace('E+','') # THIS MUST BE CHANGED\n",
    "        j=j.strip()\n",
    "        #print(j)\n",
    "        lis.append(j)\n",
    "    liss.append(lis)"
   ]
  },
  {
   "cell_type": "code",
   "execution_count": 26,
   "id": "c8ac8dfb",
   "metadata": {},
   "outputs": [],
   "source": [
    "features = ['FACILITY NAME', 'FacilityInspireID', 'COUNTRY', 'CONTINENT', 'CITY', 'EPRTRSectorCode', 'eprtrSectorName','emissions','DAY','MONTH','YEAR','max_wind_speed','min_wind_speed','avg_wind_speed','max_temp','min_temp','avg_temp','DAYS FOG','CITY_ID', 'pollutant']"
   ]
  },
  {
   "cell_type": "code",
   "execution_count": 27,
   "id": "79f7946e",
   "metadata": {},
   "outputs": [],
   "source": [
    "data_pdf_df = pd.DataFrame(columns=features)"
   ]
  },
  {
   "cell_type": "code",
   "execution_count": 28,
   "id": "8f305b08",
   "metadata": {},
   "outputs": [],
   "source": [
    "for i in features:\n",
    "    cont = 0\n",
    "    for j in range(0,len(liss)):                    \n",
    "        if i == liss[j][0]:\n",
    "            cont = cont + 1\n",
    "            if len(liss[j+1][0].split(' ')) > 1 and (i != 'FACILITY NAME') and (i != 'eprtrSectorName') \\\n",
    "            and (i != 'COUNTRY') and (i != 'pollutant') and (i != 'CITY'):\n",
    "                parcial=[]\n",
    "                for k in range(len(liss[j+1][0].split(' '))):\n",
    "                        parcial = liss[j+1][0].split(' ')\n",
    "                        index = features.index(i)\n",
    "                        data_pdf_df.loc[cont,features[index]] = parcial[0]\n",
    "                        index = index +1\n",
    "            else:\n",
    "                data_pdf_df.loc[cont,i] = liss[j+1][0]     "
   ]
  },
  {
   "cell_type": "code",
   "execution_count": 29,
   "id": "8aec6153",
   "metadata": {},
   "outputs": [],
   "source": [
    "cont = 1\n",
    "flag = 0\n",
    "for j in range(0,len(liss)):\n",
    "        features_split = liss[j][0].split(' ')        \n",
    "        if  len(features_split)> 1 :\n",
    "            for l in features_split: \n",
    "                if l == 'YEAR':\n",
    "                    if flag == 1:\n",
    "                        cont = cont + 1\n",
    "                    data_pdf_df.loc[cont,features[10]] = liss[j+1][0]     \n",
    "                    flag = 1 \n",
    "                elif l == 'max_wind_speed':\n",
    "                    data_pdf_df.loc[cont,features[11]] = features_split[1] \n",
    "                elif l == 'avg_wind_speed':\n",
    "                    if len(features_split)> 2 :\n",
    "                        data_pdf_df.loc[cont,features[12]] = (features_split[0])   \n",
    "                        data_pdf_df.loc[cont,features[13]] = (features_split[2]) \n",
    "                    else:\n",
    "                        data_pdf_df.loc[cont,features[12]] = features_split[0]  \n",
    "                        data_pdf_df.loc[cont,features[13]] = liss[j+1][0] \n",
    "                elif l == 'avg_temp':\n",
    "                    data_pdf_df.loc[cont,features[15]] = features_split[0]\n",
    "                    data_pdf_df.loc[cont,features[16]] = liss[j+1][0]           "
   ]
  },
  {
   "cell_type": "code",
   "execution_count": 30,
   "id": "542b3251",
   "metadata": {
    "scrolled": true
   },
   "outputs": [
    {
     "data": {
      "text/html": [
       "<div>\n",
       "<style scoped>\n",
       "    .dataframe tbody tr th:only-of-type {\n",
       "        vertical-align: middle;\n",
       "    }\n",
       "\n",
       "    .dataframe tbody tr th {\n",
       "        vertical-align: top;\n",
       "    }\n",
       "\n",
       "    .dataframe thead th {\n",
       "        text-align: right;\n",
       "    }\n",
       "</style>\n",
       "<table border=\"1\" class=\"dataframe\">\n",
       "  <thead>\n",
       "    <tr style=\"text-align: right;\">\n",
       "      <th></th>\n",
       "      <th>FACILITY NAME</th>\n",
       "      <th>FacilityInspireID</th>\n",
       "      <th>COUNTRY</th>\n",
       "      <th>CONTINENT</th>\n",
       "      <th>CITY</th>\n",
       "      <th>EPRTRSectorCode</th>\n",
       "      <th>eprtrSectorName</th>\n",
       "      <th>emissions</th>\n",
       "      <th>DAY</th>\n",
       "      <th>MONTH</th>\n",
       "      <th>YEAR</th>\n",
       "      <th>max_wind_speed</th>\n",
       "      <th>min_wind_speed</th>\n",
       "      <th>avg_wind_speed</th>\n",
       "      <th>max_temp</th>\n",
       "      <th>min_temp</th>\n",
       "      <th>avg_temp</th>\n",
       "      <th>DAYS FOG</th>\n",
       "      <th>CITY_ID</th>\n",
       "      <th>pollutant</th>\n",
       "    </tr>\n",
       "  </thead>\n",
       "  <tbody>\n",
       "    <tr>\n",
       "      <th>1</th>\n",
       "      <td>Millerhill Recycling &amp; Energy Recovery Centre</td>\n",
       "      <td>UK.SEPA/200002651.Facility</td>\n",
       "      <td>United Kingdom</td>\n",
       "      <td>EUROPE</td>\n",
       "      <td>Millerhill. Dalkeith</td>\n",
       "      <td>5</td>\n",
       "      <td>Waste and wastewater management</td>\n",
       "      <td>175000</td>\n",
       "      <td>12</td>\n",
       "      <td>6</td>\n",
       "      <td>2019</td>\n",
       "      <td>1.7915</td>\n",
       "      <td>2.216</td>\n",
       "      <td>2.0415</td>\n",
       "      <td>1.5116</td>\n",
       "      <td>1.8215</td>\n",
       "      <td>1.7116</td>\n",
       "      <td>10</td>\n",
       "      <td>c662b4b4d859a9c224b5ac0acf221748</td>\n",
       "      <td>Nitrogen oxides (NOX)</td>\n",
       "    </tr>\n",
       "    <tr>\n",
       "      <th>2</th>\n",
       "      <td>Fife Ethylene Plant</td>\n",
       "      <td>UK.SEPA/200000061.Facility</td>\n",
       "      <td>United Kingdom</td>\n",
       "      <td>EUROPE</td>\n",
       "      <td>Cowdenbeath</td>\n",
       "      <td>1</td>\n",
       "      <td>Energy sector</td>\n",
       "      <td>6.808</td>\n",
       "      <td>12</td>\n",
       "      <td>4</td>\n",
       "      <td>2019</td>\n",
       "      <td>1.5216</td>\n",
       "      <td>2.0615</td>\n",
       "      <td>1.4616</td>\n",
       "      <td>9.6115</td>\n",
       "      <td>1.3316</td>\n",
       "      <td>8.6915</td>\n",
       "      <td>19</td>\n",
       "      <td>3c563ab0d76fc84128574b5da82f769a</td>\n",
       "      <td>Carbon dioxide (CO2)</td>\n",
       "    </tr>\n",
       "    <tr>\n",
       "      <th>3</th>\n",
       "      <td>Fife Ethylene Plant</td>\n",
       "      <td>UK.SEPA/200000061.Facility</td>\n",
       "      <td>United Kingdom</td>\n",
       "      <td>EUROPE</td>\n",
       "      <td>Cowdenbeath</td>\n",
       "      <td>1</td>\n",
       "      <td>Energy sector</td>\n",
       "      <td>6.808</td>\n",
       "      <td>12</td>\n",
       "      <td>4</td>\n",
       "      <td>2019</td>\n",
       "      <td>1.5216</td>\n",
       "      <td>2.0615</td>\n",
       "      <td>1.4616</td>\n",
       "      <td>9.6115</td>\n",
       "      <td>1.3316</td>\n",
       "      <td>8.6915</td>\n",
       "      <td>19</td>\n",
       "      <td>3c563ab0d76fc84128574b5da82f769a</td>\n",
       "      <td>Carbon dioxide (CO2)</td>\n",
       "    </tr>\n",
       "    <tr>\n",
       "      <th>4</th>\n",
       "      <td>Fife Ethylene Plant</td>\n",
       "      <td>UK.SEPA/200000061.Facility</td>\n",
       "      <td>United Kingdom</td>\n",
       "      <td>EUROPE</td>\n",
       "      <td>Cowdenbeath</td>\n",
       "      <td>1</td>\n",
       "      <td>Energy sector</td>\n",
       "      <td>633000</td>\n",
       "      <td>3</td>\n",
       "      <td>1</td>\n",
       "      <td>2019</td>\n",
       "      <td>1.1616</td>\n",
       "      <td>2.1816</td>\n",
       "      <td>1.6516</td>\n",
       "      <td>8.0315</td>\n",
       "      <td>1.0416</td>\n",
       "      <td>8.9415</td>\n",
       "      <td>10</td>\n",
       "      <td>3c563ab0d76fc84128574b5da82f769a</td>\n",
       "      <td>Nitrogen oxides (NOX)</td>\n",
       "    </tr>\n",
       "    <tr>\n",
       "      <th>5</th>\n",
       "      <td>Alloa Glass Factory</td>\n",
       "      <td>UK.SEPA/200000073.Facility</td>\n",
       "      <td>United Kingdom</td>\n",
       "      <td>EUROPE</td>\n",
       "      <td>Alloa</td>\n",
       "      <td>3</td>\n",
       "      <td>Mineral industry</td>\n",
       "      <td>1.4908</td>\n",
       "      <td>9</td>\n",
       "      <td>11</td>\n",
       "      <td>2019</td>\n",
       "      <td>1.1116</td>\n",
       "      <td>2.0316</td>\n",
       "      <td>1.616</td>\n",
       "      <td>-1.916</td>\n",
       "      <td>4.0716</td>\n",
       "      <td>1.3315</td>\n",
       "      <td>4</td>\n",
       "      <td>2cc8f54182c37b8907f534011ea01e6f</td>\n",
       "      <td>Carbon dioxide (CO2)</td>\n",
       "    </tr>\n",
       "  </tbody>\n",
       "</table>\n",
       "</div>"
      ],
      "text/plain": [
       "                                   FACILITY NAME           FacilityInspireID  \\\n",
       "1  Millerhill Recycling & Energy Recovery Centre  UK.SEPA/200002651.Facility   \n",
       "2                            Fife Ethylene Plant  UK.SEPA/200000061.Facility   \n",
       "3                            Fife Ethylene Plant  UK.SEPA/200000061.Facility   \n",
       "4                            Fife Ethylene Plant  UK.SEPA/200000061.Facility   \n",
       "5                            Alloa Glass Factory  UK.SEPA/200000073.Facility   \n",
       "\n",
       "          COUNTRY CONTINENT                  CITY EPRTRSectorCode  \\\n",
       "1  United Kingdom    EUROPE  Millerhill. Dalkeith               5   \n",
       "2  United Kingdom    EUROPE           Cowdenbeath               1   \n",
       "3  United Kingdom    EUROPE           Cowdenbeath               1   \n",
       "4  United Kingdom    EUROPE           Cowdenbeath               1   \n",
       "5  United Kingdom    EUROPE                 Alloa               3   \n",
       "\n",
       "                   eprtrSectorName emissions DAY MONTH  YEAR max_wind_speed  \\\n",
       "1  Waste and wastewater management    175000  12     6  2019         1.7915   \n",
       "2                    Energy sector     6.808  12     4  2019         1.5216   \n",
       "3                    Energy sector     6.808  12     4  2019         1.5216   \n",
       "4                    Energy sector    633000   3     1  2019         1.1616   \n",
       "5                 Mineral industry    1.4908   9    11  2019         1.1116   \n",
       "\n",
       "  min_wind_speed avg_wind_speed max_temp min_temp avg_temp DAYS FOG  \\\n",
       "1          2.216         2.0415   1.5116   1.8215   1.7116       10   \n",
       "2         2.0615         1.4616   9.6115   1.3316   8.6915       19   \n",
       "3         2.0615         1.4616   9.6115   1.3316   8.6915       19   \n",
       "4         2.1816         1.6516   8.0315   1.0416   8.9415       10   \n",
       "5         2.0316          1.616   -1.916   4.0716   1.3315        4   \n",
       "\n",
       "                            CITY_ID              pollutant  \n",
       "1  c662b4b4d859a9c224b5ac0acf221748  Nitrogen oxides (NOX)  \n",
       "2  3c563ab0d76fc84128574b5da82f769a   Carbon dioxide (CO2)  \n",
       "3  3c563ab0d76fc84128574b5da82f769a   Carbon dioxide (CO2)  \n",
       "4  3c563ab0d76fc84128574b5da82f769a  Nitrogen oxides (NOX)  \n",
       "5  2cc8f54182c37b8907f534011ea01e6f   Carbon dioxide (CO2)  "
      ]
     },
     "execution_count": 30,
     "metadata": {},
     "output_type": "execute_result"
    }
   ],
   "source": [
    "data_pdf_df.head()"
   ]
  },
  {
   "cell_type": "code",
   "execution_count": 31,
   "id": "4706f377",
   "metadata": {},
   "outputs": [
    {
     "data": {
      "text/plain": [
       "(82, 20)"
      ]
     },
     "execution_count": 31,
     "metadata": {},
     "output_type": "execute_result"
    }
   ],
   "source": [
    "data_pdf_df.shape"
   ]
  },
  {
   "cell_type": "markdown",
   "id": "aea28f2a",
   "metadata": {},
   "source": [
    "---------------------------------------------------------------------"
   ]
  },
  {
   "cell_type": "markdown",
   "id": "fdf3e533",
   "metadata": {},
   "source": [
    "## ✅  3) Adapting information, identifying and correcting anomalies 🔧\n",
    "First, we have to merge all the datasets into one, so that we have a single package to analyze."
   ]
  },
  {
   "cell_type": "markdown",
   "id": "ed50c003",
   "metadata": {},
   "source": [
    "### **<span style=\"color:#43A047;\">3.0 Checking column orders and differences in data sizes. </span>**"
   ]
  },
  {
   "cell_type": "code",
   "execution_count": 32,
   "id": "4ed718bc",
   "metadata": {},
   "outputs": [
    {
     "name": "stdout",
     "output_type": "stream",
     "text": [
      "The sizes are: \n"
     ]
    },
    {
     "data": {
      "text/plain": [
       "[['1st csv', (18563, 21)],\n",
       " ['2nd csv', (9500, 25)],\n",
       " ['1st json', (9500, 24)],\n",
       " ['2nd json', (9500, 24)],\n",
       " ['3th json', (9501, 24)],\n",
       " ['All pdf', (82, 20)]]"
      ]
     },
     "execution_count": 32,
     "metadata": {},
     "output_type": "execute_result"
    }
   ],
   "source": [
    "sizes = [[\"1st csv\", data1_csv_df.shape],\n",
    "         [\"2nd csv\", data2_csv_df.shape],\n",
    "         [\"1st json\", data1_js_df.shape],\n",
    "         [\"2nd json\", data2_js_df.shape],\n",
    "         [\"3th json\", data3_js_df.shape],\n",
    "         [\"All pdf\", data_pdf_df.shape]]\n",
    "print(\"The sizes are: \")\n",
    "sizes"
   ]
  },
  {
   "cell_type": "markdown",
   "id": "2900a568",
   "metadata": {},
   "source": [
    "If there is a difference in columns sizes, the differents columns should be displayed and determine what to do if it is vital information. You can either add a mean to the missing data or delete the extra columns."
   ]
  },
  {
   "cell_type": "code",
   "execution_count": 33,
   "id": "107d8f9b",
   "metadata": {
    "scrolled": false
   },
   "outputs": [
    {
     "name": "stdout",
     "output_type": "stream",
     "text": [
      "The column's order is:\n"
     ]
    },
    {
     "data": {
      "text/plain": [
       "[['1st csv',\n",
       "  array(['countryName', 'eprtrSectorName', 'EPRTRAnnexIMainActivityLabel',\n",
       "         'FacilityInspireID', 'facilityName', 'City', 'targetRelease',\n",
       "         'pollutant', 'reportingYear', 'MONTH', 'DAY', 'CONTINENT',\n",
       "         'max_wind_speed', 'avg_wind_speed', 'min_wind_speed', 'max_temp',\n",
       "         'avg_temp', 'min_temp', 'DAY WITH FOGS', 'REPORTER NAME',\n",
       "         'CITY ID'], dtype=object)],\n",
       " ['2nd csv',\n",
       "  array(['Unnamed: 0', 'Unnamed: 1', 'CITY ID', 'CONTINENT', 'City', 'DAY',\n",
       "         'DAY WITH FOGS', 'EPRTRAnnexIMainActivityCode',\n",
       "         'EPRTRAnnexIMainActivityLabel', 'EPRTRSectorCode',\n",
       "         'FacilityInspireID', 'MONTH', 'REPORTER NAME', 'avg_temp',\n",
       "         'avg_wind_speed', 'countryName', 'eprtrSectorName', 'facilityName',\n",
       "         'max_temp', 'max_wind_speed', 'min_temp', 'min_wind_speed',\n",
       "         'pollutant', 'reportingYear', 'targetRelease'], dtype=object)],\n",
       " ['1st json',\n",
       "  array(['', 'CITY ID', 'CONTINENT', 'City', 'DAY', 'DAY WITH FOGS',\n",
       "         'EPRTRAnnexIMainActivityCode', 'EPRTRAnnexIMainActivityLabel',\n",
       "         'EPRTRSectorCode', 'FacilityInspireID', 'MONTH', 'REPORTER NAME',\n",
       "         'avg_temp', 'avg_wind_speed', 'countryName', 'eprtrSectorName',\n",
       "         'facilityName', 'max_temp', 'max_wind_speed', 'min_temp',\n",
       "         'min_wind_speed', 'pollutant', 'reportingYear', 'targetRelease'],\n",
       "        dtype=object)],\n",
       " ['2nd json',\n",
       "  array(['', 'CITY ID', 'CONTINENT', 'City', 'DAY', 'DAY WITH FOGS',\n",
       "         'EPRTRAnnexIMainActivityCode', 'EPRTRAnnexIMainActivityLabel',\n",
       "         'EPRTRSectorCode', 'FacilityInspireID', 'MONTH', 'REPORTER NAME',\n",
       "         'avg_temp', 'avg_wind_speed', 'countryName', 'eprtrSectorName',\n",
       "         'facilityName', 'max_temp', 'max_wind_speed', 'min_temp',\n",
       "         'min_wind_speed', 'pollutant', 'reportingYear', 'targetRelease'],\n",
       "        dtype=object)],\n",
       " ['3th json',\n",
       "  array(['', 'CITY ID', 'CONTINENT', 'City', 'DAY', 'DAY WITH FOGS',\n",
       "         'EPRTRAnnexIMainActivityCode', 'EPRTRAnnexIMainActivityLabel',\n",
       "         'EPRTRSectorCode', 'FacilityInspireID', 'MONTH', 'REPORTER NAME',\n",
       "         'avg_temp', 'avg_wind_speed', 'countryName', 'eprtrSectorName',\n",
       "         'facilityName', 'max_temp', 'max_wind_speed', 'min_temp',\n",
       "         'min_wind_speed', 'pollutant', 'reportingYear', 'targetRelease'],\n",
       "        dtype=object)],\n",
       " ['All pdf',\n",
       "  array(['FACILITY NAME', 'FacilityInspireID', 'COUNTRY', 'CONTINENT',\n",
       "         'CITY', 'EPRTRSectorCode', 'eprtrSectorName', 'emissions', 'DAY',\n",
       "         'MONTH', 'YEAR', 'max_wind_speed', 'min_wind_speed',\n",
       "         'avg_wind_speed', 'max_temp', 'min_temp', 'avg_temp', 'DAYS FOG',\n",
       "         'CITY_ID', 'pollutant'], dtype=object)]]"
      ]
     },
     "execution_count": 33,
     "metadata": {},
     "output_type": "execute_result"
    }
   ],
   "source": [
    "columns =[[\"1st csv\", data1_csv_df.columns.values],\n",
    "         [\"2nd csv\", data2_csv_df.columns.values],\n",
    "         [\"1st json\", data1_js_df.columns.values],\n",
    "         [\"2nd json\", data2_js_df.columns.values],\n",
    "         [\"3th json\", data3_js_df.columns.values],\n",
    "         [\"All pdf\", data_pdf_df.columns.values]]\n",
    "print(\"The column's order is:\")\n",
    "columns"
   ]
  },
  {
   "cell_type": "markdown",
   "id": "d5d8cf5f",
   "metadata": {},
   "source": [
    "### **<span style=\"color:#43A047;\">3.1 Getting Columns column orders and differences in data sizes. </span>**"
   ]
  },
  {
   "cell_type": "markdown",
   "id": "963523fc",
   "metadata": {},
   "source": [
    "We make a backup of the data sets."
   ]
  },
  {
   "cell_type": "code",
   "execution_count": 34,
   "id": "6d2d96ed",
   "metadata": {},
   "outputs": [
    {
     "data": {
      "text/plain": [
       "['FACILITY NAME',\n",
       " 'FacilityInspireID',\n",
       " 'COUNTRY',\n",
       " 'CONTINENT',\n",
       " 'CITY',\n",
       " 'EPRTRSectorCode',\n",
       " 'eprtrSectorName',\n",
       " 'emissions',\n",
       " 'DAY',\n",
       " 'MONTH',\n",
       " 'YEAR',\n",
       " 'max_wind_speed',\n",
       " 'min_wind_speed',\n",
       " 'avg_wind_speed',\n",
       " 'max_temp',\n",
       " 'min_temp',\n",
       " 'avg_temp',\n",
       " 'DAYS FOG',\n",
       " 'CITY_ID',\n",
       " 'pollutant']"
      ]
     },
     "execution_count": 34,
     "metadata": {},
     "output_type": "execute_result"
    }
   ],
   "source": [
    "data_pdf_df.columns.values.tolist()"
   ]
  },
  {
   "cell_type": "code",
   "execution_count": 35,
   "id": "42d7e405",
   "metadata": {},
   "outputs": [],
   "source": [
    "df1 = data1_csv_df.copy()\n",
    "df2 = data2_csv_df.copy()\n",
    "df3 = data1_js_df.copy()\n",
    "df4 = data2_js_df.copy()\n",
    "df5 = data3_js_df.copy()\n",
    "df6 = data_pdf_df.copy()"
   ]
  },
  {
   "cell_type": "code",
   "execution_count": 36,
   "id": "81fbc8af",
   "metadata": {},
   "outputs": [],
   "source": [
    "def search_diferences(list1, list2, list3, list4, list5, list6):\n",
    "    cont1=0\n",
    "    cont2=0\n",
    "    for i in list1, list2, list3, list4, list5, list6:\n",
    "        cont1 = cont1 + 1\n",
    "        for j in list1, list2, list3, list4, list5, list6:\n",
    "            cont2 =  cont2 + 1          \n",
    "            temp = [x for x in i if x not in j]\n",
    "            if temp != []:\n",
    "                print(\"The diferences between List %s and List %s is \\n %s\" %(cont1,cont2,temp))\n",
    "        cont2 = 0"
   ]
  },
  {
   "cell_type": "code",
   "execution_count": 37,
   "id": "1af9feed",
   "metadata": {},
   "outputs": [],
   "source": [
    "col1 = df1.columns.values.tolist()\n",
    "col2 = df2.columns.values.tolist()\n",
    "col3 = df3.columns.values.tolist()\n",
    "col4 = df4.columns.values.tolist()\n",
    "col5 = df5.columns.values.tolist()\n",
    "col6 = df6.columns.values.tolist()"
   ]
  },
  {
   "cell_type": "code",
   "execution_count": 38,
   "id": "bde0e6a5",
   "metadata": {
    "scrolled": true
   },
   "outputs": [
    {
     "name": "stdout",
     "output_type": "stream",
     "text": [
      "The diferences between List 1 and List 6 is \n",
      " ['countryName', 'EPRTRAnnexIMainActivityLabel', 'facilityName', 'City', 'targetRelease', 'reportingYear', 'DAY WITH FOGS', 'REPORTER NAME', 'CITY ID']\n",
      "The diferences between List 2 and List 1 is \n",
      " ['Unnamed: 0', 'Unnamed: 1', 'EPRTRAnnexIMainActivityCode', 'EPRTRSectorCode']\n",
      "The diferences between List 2 and List 3 is \n",
      " ['Unnamed: 0', 'Unnamed: 1']\n",
      "The diferences between List 2 and List 4 is \n",
      " ['Unnamed: 0', 'Unnamed: 1']\n",
      "The diferences between List 2 and List 5 is \n",
      " ['Unnamed: 0', 'Unnamed: 1']\n",
      "The diferences between List 2 and List 6 is \n",
      " ['Unnamed: 0', 'Unnamed: 1', 'CITY ID', 'City', 'DAY WITH FOGS', 'EPRTRAnnexIMainActivityCode', 'EPRTRAnnexIMainActivityLabel', 'REPORTER NAME', 'countryName', 'facilityName', 'reportingYear', 'targetRelease']\n",
      "The diferences between List 3 and List 1 is \n",
      " ['', 'EPRTRAnnexIMainActivityCode', 'EPRTRSectorCode']\n",
      "The diferences between List 3 and List 2 is \n",
      " ['']\n",
      "The diferences between List 3 and List 6 is \n",
      " ['', 'CITY ID', 'City', 'DAY WITH FOGS', 'EPRTRAnnexIMainActivityCode', 'EPRTRAnnexIMainActivityLabel', 'REPORTER NAME', 'countryName', 'facilityName', 'reportingYear', 'targetRelease']\n",
      "The diferences between List 4 and List 1 is \n",
      " ['', 'EPRTRAnnexIMainActivityCode', 'EPRTRSectorCode']\n",
      "The diferences between List 4 and List 2 is \n",
      " ['']\n",
      "The diferences between List 4 and List 6 is \n",
      " ['', 'CITY ID', 'City', 'DAY WITH FOGS', 'EPRTRAnnexIMainActivityCode', 'EPRTRAnnexIMainActivityLabel', 'REPORTER NAME', 'countryName', 'facilityName', 'reportingYear', 'targetRelease']\n",
      "The diferences between List 5 and List 1 is \n",
      " ['', 'EPRTRAnnexIMainActivityCode', 'EPRTRSectorCode']\n",
      "The diferences between List 5 and List 2 is \n",
      " ['']\n",
      "The diferences between List 5 and List 6 is \n",
      " ['', 'CITY ID', 'City', 'DAY WITH FOGS', 'EPRTRAnnexIMainActivityCode', 'EPRTRAnnexIMainActivityLabel', 'REPORTER NAME', 'countryName', 'facilityName', 'reportingYear', 'targetRelease']\n",
      "The diferences between List 6 and List 1 is \n",
      " ['FACILITY NAME', 'COUNTRY', 'CITY', 'EPRTRSectorCode', 'emissions', 'YEAR', 'DAYS FOG', 'CITY_ID']\n",
      "The diferences between List 6 and List 2 is \n",
      " ['FACILITY NAME', 'COUNTRY', 'CITY', 'emissions', 'YEAR', 'DAYS FOG', 'CITY_ID']\n",
      "The diferences between List 6 and List 3 is \n",
      " ['FACILITY NAME', 'COUNTRY', 'CITY', 'emissions', 'YEAR', 'DAYS FOG', 'CITY_ID']\n",
      "The diferences between List 6 and List 4 is \n",
      " ['FACILITY NAME', 'COUNTRY', 'CITY', 'emissions', 'YEAR', 'DAYS FOG', 'CITY_ID']\n",
      "The diferences between List 6 and List 5 is \n",
      " ['FACILITY NAME', 'COUNTRY', 'CITY', 'emissions', 'YEAR', 'DAYS FOG', 'CITY_ID']\n"
     ]
    }
   ],
   "source": [
    "search_diferences(col1, col2, col3, col4, col5, col6)"
   ]
  },
  {
   "cell_type": "markdown",
   "id": "a585f26d",
   "metadata": {},
   "source": [
    "### **<span style=\"color:#43A047;\">3.2 Deleting useless columns </span>**\n",
    "\n",
    "We will eliminate those columns that are not in the information provided and do not make sense and do not provide useful information other than noise.\n",
    "\n",
    "* data1_csv_df = -\n",
    "* data2_csv_df = __'Unnamed: 0'__ , __'Unnamed: 1'__\n",
    "* data1_js_df = __\" \"__\n",
    "* data2_js_df = __\" \"__\n",
    "* data3_js_df = __\" \"__\n",
    "* data_pdf_df = -\n",
    "\n",
    "__NOTE__: This is not (EDA) Exploratory Data Analysis, just common sense. Another thing to take into account is that the pdf's have a different column from the others, that is to say, we have more information in the pdf's. __(emissions)__"
   ]
  },
  {
   "cell_type": "code",
   "execution_count": 39,
   "id": "93de8506",
   "metadata": {},
   "outputs": [],
   "source": [
    "df2.drop(['Unnamed: 0','Unnamed: 1'], inplace=True, axis=1)\n",
    "df3.drop([''], inplace=True, axis=1)\n",
    "df4.drop([''], inplace=True, axis=1)\n",
    "df5.drop([''], inplace=True, axis=1)"
   ]
  },
  {
   "cell_type": "markdown",
   "id": "9bd9bf47",
   "metadata": {},
   "source": [
    "### **<span style=\"color:#43A047;\">3.3 Renaming Columns to Standarize the Data </span>**"
   ]
  },
  {
   "cell_type": "code",
   "execution_count": 40,
   "id": "851d8123",
   "metadata": {},
   "outputs": [],
   "source": [
    "df1=df1.rename(columns={'reportingYear': 'year', 'MONTH': 'month', 'DAY':'day', 'CONTINENT':'continent', 'countryName': 'country',\\\n",
    "                   'City':'city', 'CITY ID' : 'city_id', 'eprtrSectorName':'sector','EPRTRAnnexIMainActivityLabel' : 'activity',\\\n",
    "                   'EPRTRAnnexIMainActivityCode': 'facility_code', 'FacilityInspireID': 'facility_id', 'EPRTRSectorCode':'sector_code', 'facilityName': 'facility_name', 'targetRelease':'target_release',\\\n",
    "                   'DAY WITH FOGS': 'day_fogs','emissions':'emissions','max_wind_speed': 'max_wind_speed', 'avg_wind_speed':'avg_wind_speed',\\\n",
    "                   'min_wind_speed': 'min_wind_speed', 'max_temp':'max_temp', 'avg_temp':'avg_temp', 'min_temp':'min_temp',\\\n",
    "                   'REPORTER NAME':'reporter_name','pollutant':'pollutant'}, inplace=False)\n",
    "\n",
    "df2=df2.rename(columns={'reportingYear': 'year', 'MONTH': 'month', 'DAY':'day', 'CONTINENT':'continent', 'countryName': 'country',\\\n",
    "                   'City':'city', 'CITY ID' : 'city_id', 'eprtrSectorName':'sector','EPRTRAnnexIMainActivityLabel' : 'activity',\\\n",
    "                   'EPRTRAnnexIMainActivityCode': 'facility_code', 'FacilityInspireID': 'facility_id', 'EPRTRSectorCode':'sector_code', 'facilityName': 'facility_name', 'targetRelease':'target_release',\\\n",
    "                   'DAY WITH FOGS': 'day_fogs','emissions':'emissions','max_wind_speed': 'max_wind_speed', 'avg_wind_speed':'avg_wind_speed',\\\n",
    "                   'min_wind_speed': 'min_wind_speed', 'max_temp':'max_temp', 'avg_temp':'avg_temp', 'min_temp':'min_temp',\\\n",
    "                   'REPORTER NAME':'reporter_name','pollutant':'pollutant'}, inplace=False)\n",
    "\n",
    "df3=df3.rename(columns={'reportingYear': 'year', 'MONTH': 'month', 'DAY':'day', 'CONTINENT':'continent', 'countryName': 'country',\\\n",
    "                   'City':'city', 'CITY ID' : 'city_id', 'eprtrSectorName':'sector','EPRTRAnnexIMainActivityLabel' : 'activity',\\\n",
    "                   'EPRTRAnnexIMainActivityCode': 'facility_code', 'FacilityInspireID': 'facility_id', 'EPRTRSectorCode':'sector_code', 'facilityName': 'facility_name', 'targetRelease':'target_release',\\\n",
    "                   'DAY WITH FOGS': 'day_fogs','emissions':'emissions','max_wind_speed': 'max_wind_speed', 'avg_wind_speed':'avg_wind_speed',\\\n",
    "                   'min_wind_speed': 'min_wind_speed', 'max_temp':'max_temp', 'avg_temp':'avg_temp', 'min_temp':'min_temp',\\\n",
    "                   'REPORTER NAME':'reporter_name','pollutant':'pollutant'}, inplace=False)\n",
    "\n",
    "df4=df4.rename(columns={'reportingYear': 'year', 'MONTH': 'month', 'DAY':'day', 'CONTINENT':'continent', 'countryName': 'country',\\\n",
    "                   'City':'city', 'CITY ID' : 'city_id', 'eprtrSectorName':'sector','EPRTRAnnexIMainActivityLabel' : 'activity',\\\n",
    "                   'EPRTRAnnexIMainActivityCode': 'facility_code', 'FacilityInspireID': 'facility_id', 'EPRTRSectorCode':'sector_code', 'facilityName': 'facility_name', 'targetRelease':'target_release',\\\n",
    "                   'DAY WITH FOGS': 'day_fogs','emissions':'emissions','max_wind_speed': 'max_wind_speed', 'avg_wind_speed':'avg_wind_speed',\\\n",
    "                   'min_wind_speed': 'min_wind_speed', 'max_temp':'max_temp', 'avg_temp':'avg_temp', 'min_temp':'min_temp',\\\n",
    "                   'REPORTER NAME':'reporter_name','pollutant':'pollutant'}, inplace=False)\n",
    "\n",
    "df5=df5.rename(columns={'reportingYear': 'year', 'MONTH': 'month', 'DAY':'day', 'CONTINENT':'continent', 'countryName': 'country',\\\n",
    "                   'City':'city', 'CITY ID' : 'city_id', 'eprtrSectorName':'sector','EPRTRAnnexIMainActivityLabel' : 'activity',\\\n",
    "                   'EPRTRAnnexIMainActivityCode': 'facility_code', 'FacilityInspireID': 'facility_id', 'EPRTRSectorCode':'sector_code', 'facilityName': 'facility_name', 'targetRelease':'target_release',\\\n",
    "                   'DAY WITH FOGS': 'day_fogs','emissions':'emissions','max_wind_speed': 'max_wind_speed', 'avg_wind_speed':'avg_wind_speed',\\\n",
    "                   'min_wind_speed': 'min_wind_speed', 'max_temp':'max_temp', 'avg_temp':'avg_temp', 'min_temp':'min_temp',\\\n",
    "                   'REPORTER NAME':'reporter_name','pollutant':'pollutant'}, inplace=False)\n",
    "\n",
    "df6=df6.rename(columns={'YEAR': 'year', 'MONTH': 'month', 'DAY':'day', 'CONTINENT':'continent', 'COUNTRY': 'country',\\\n",
    "                   'CITY':'city', 'CITY_ID' : 'city_id', 'eprtrSectorName':'sector','EPRTRAnnexIMainActivityLabel' : 'activity',\\\n",
    "                   'EPRTRAnnexIMainActivityCode': 'facility_code', 'FacilityInspireID': 'facility_id', 'EPRTRSectorCode':'sector_code', 'facilityName': 'facility_name', 'targetRelease':'target_release',\\\n",
    "                   'DAYS FOG': 'day_fogs','emissions':'emissions','max_wind_speed': 'max_wind_speed', 'avg_wind_speed':'avg_wind_speed',\\\n",
    "                   'min_wind_speed': 'min_wind_speed', 'max_temp':'max_temp', 'avg_temp':'avg_temp', 'min_temp':'min_temp',\\\n",
    "                   'REPORTER NAME':'reporter_name','pollutant':'pollutant'}, inplace=False)\n"
   ]
  },
  {
   "cell_type": "markdown",
   "id": "933011fe",
   "metadata": {},
   "source": [
    "### **<span style=\"color:#43A047;\">3.4 Reordering the columns </span>**\n",
    "First we select the dataset that contains the most **features**. If these columns do not exist in certain data sets they will be created, then we will evaluate the importance of such data and whether they will be eliminated or filled with information. At the end we reorder the columns to give a more logical sense to the datasets. We will place the __target__ variable at the end."
   ]
  },
  {
   "cell_type": "code",
   "execution_count": 41,
   "id": "85952f78",
   "metadata": {},
   "outputs": [],
   "source": [
    "ordened_features = ['year','month','day', 'continent', 'country',\\\n",
    "                   'city','city_id', 'sector', 'activity',\\\n",
    "                    'facility_code', 'facility_id', 'sector_code','facility_name','target_release',\\\n",
    "                    'emissions', 'day_fogs','max_wind_speed','avg_wind_speed',\\\n",
    "                    'min_wind_speed', 'max_temp', 'avg_temp', 'min_temp',\\\n",
    "                    'reporter_name', 'pollutant']"
   ]
  },
  {
   "cell_type": "markdown",
   "id": "69d3e5dd",
   "metadata": {},
   "source": [
    "#### **<span style=\"color:#43A047;\">3.4.1 First data frame </span>**"
   ]
  },
  {
   "cell_type": "code",
   "execution_count": 42,
   "id": "01bc687e",
   "metadata": {},
   "outputs": [],
   "source": [
    "temp = [x for x in ordened_features if x not in list(df1.columns.values)]"
   ]
  },
  {
   "cell_type": "code",
   "execution_count": 43,
   "id": "1177d34d",
   "metadata": {},
   "outputs": [
    {
     "data": {
      "text/plain": [
       "['facility_code', 'sector_code', 'emissions']"
      ]
     },
     "execution_count": 43,
     "metadata": {},
     "output_type": "execute_result"
    }
   ],
   "source": [
    "temp"
   ]
  },
  {
   "cell_type": "code",
   "execution_count": 44,
   "id": "3402c5e5",
   "metadata": {},
   "outputs": [],
   "source": [
    "df1[temp] = \"NaN\" #Adding empty columns and filling them with 0"
   ]
  },
  {
   "cell_type": "markdown",
   "id": "5c9afd6d",
   "metadata": {},
   "source": [
    "#### **<span style=\"color:#43A047;\">3.4.2 Second data frame </span>**"
   ]
  },
  {
   "cell_type": "code",
   "execution_count": 45,
   "id": "761909b1",
   "metadata": {},
   "outputs": [],
   "source": [
    "temp = [x for x in ordened_features if x not in list(df2.columns.values)]"
   ]
  },
  {
   "cell_type": "code",
   "execution_count": 46,
   "id": "eb460ca9",
   "metadata": {},
   "outputs": [
    {
     "data": {
      "text/plain": [
       "['emissions']"
      ]
     },
     "execution_count": 46,
     "metadata": {},
     "output_type": "execute_result"
    }
   ],
   "source": [
    "temp"
   ]
  },
  {
   "cell_type": "code",
   "execution_count": 47,
   "id": "e9b25cff",
   "metadata": {},
   "outputs": [],
   "source": [
    "df2[temp] = \"NaN\" #Adding empty columns and filling them with 0"
   ]
  },
  {
   "cell_type": "markdown",
   "id": "59af34f8",
   "metadata": {},
   "source": [
    "#### **<span style=\"color:#43A047;\">3.4.3 Third data frame </span>**"
   ]
  },
  {
   "cell_type": "code",
   "execution_count": 48,
   "id": "f98aa116",
   "metadata": {},
   "outputs": [],
   "source": [
    "temp = [x for x in ordened_features if x not in list(df3.columns.values)]"
   ]
  },
  {
   "cell_type": "code",
   "execution_count": 49,
   "id": "aa04d933",
   "metadata": {},
   "outputs": [
    {
     "data": {
      "text/plain": [
       "['emissions']"
      ]
     },
     "execution_count": 49,
     "metadata": {},
     "output_type": "execute_result"
    }
   ],
   "source": [
    "temp"
   ]
  },
  {
   "cell_type": "code",
   "execution_count": 50,
   "id": "3e6e2026",
   "metadata": {},
   "outputs": [],
   "source": [
    "df3[temp] = \"NaN\" #Adding empty columns and filling them with 0"
   ]
  },
  {
   "cell_type": "markdown",
   "id": "69850f67",
   "metadata": {},
   "source": [
    "#### **<span style=\"color:#43A047;\">3.4.4 Fourth data frame </span>**"
   ]
  },
  {
   "cell_type": "code",
   "execution_count": 51,
   "id": "e4a6098f",
   "metadata": {},
   "outputs": [],
   "source": [
    "temp = [x for x in ordened_features if x not in list(df4.columns.values)]"
   ]
  },
  {
   "cell_type": "code",
   "execution_count": 52,
   "id": "ac31622d",
   "metadata": {},
   "outputs": [
    {
     "data": {
      "text/plain": [
       "['emissions']"
      ]
     },
     "execution_count": 52,
     "metadata": {},
     "output_type": "execute_result"
    }
   ],
   "source": [
    "temp"
   ]
  },
  {
   "cell_type": "code",
   "execution_count": 53,
   "id": "e4688870",
   "metadata": {},
   "outputs": [],
   "source": [
    "df4[temp] = \"NaN\" #Adding empty columns and filling them with 0"
   ]
  },
  {
   "cell_type": "markdown",
   "id": "15ede2e3",
   "metadata": {},
   "source": [
    "#### **<span style=\"color:#43A047;\">3.4.5 Fifth data frame </span>**"
   ]
  },
  {
   "cell_type": "code",
   "execution_count": 54,
   "id": "88244453",
   "metadata": {},
   "outputs": [],
   "source": [
    "temp = [x for x in ordened_features if x not in list(df5.columns.values)]"
   ]
  },
  {
   "cell_type": "code",
   "execution_count": 55,
   "id": "c1ff0eea",
   "metadata": {
    "scrolled": true
   },
   "outputs": [
    {
     "data": {
      "text/plain": [
       "['emissions']"
      ]
     },
     "execution_count": 55,
     "metadata": {},
     "output_type": "execute_result"
    }
   ],
   "source": [
    "temp"
   ]
  },
  {
   "cell_type": "code",
   "execution_count": 56,
   "id": "5e3df1b0",
   "metadata": {},
   "outputs": [],
   "source": [
    "df5[temp] = \"NaN\" #Adding empty columns and filling them with 0"
   ]
  },
  {
   "cell_type": "markdown",
   "id": "a759daf7",
   "metadata": {},
   "source": [
    "#### **<span style=\"color:#43A047;\">3.4.6 Sixth data frame </span>**"
   ]
  },
  {
   "cell_type": "code",
   "execution_count": 57,
   "id": "ec6d2314",
   "metadata": {},
   "outputs": [],
   "source": [
    "temp = [x for x in ordened_features if x not in list(df6.columns.values)]"
   ]
  },
  {
   "cell_type": "code",
   "execution_count": 58,
   "id": "7b7aed6f",
   "metadata": {},
   "outputs": [
    {
     "data": {
      "text/plain": [
       "['activity',\n",
       " 'facility_code',\n",
       " 'facility_name',\n",
       " 'target_release',\n",
       " 'reporter_name']"
      ]
     },
     "execution_count": 58,
     "metadata": {},
     "output_type": "execute_result"
    }
   ],
   "source": [
    "temp"
   ]
  },
  {
   "cell_type": "code",
   "execution_count": 59,
   "id": "20eaaa73",
   "metadata": {},
   "outputs": [],
   "source": [
    "df6[temp] = \"\" #Adding empty columns and filling them with 0"
   ]
  },
  {
   "cell_type": "markdown",
   "id": "fbe5135e",
   "metadata": {},
   "source": [
    "#### **<span style=\"color:#43A047;\">3.4.7 Sorting columns </span>**"
   ]
  },
  {
   "cell_type": "code",
   "execution_count": 60,
   "id": "ea091d44",
   "metadata": {},
   "outputs": [],
   "source": [
    "df1 = df1[ordened_features]\n",
    "df2 = df2[ordened_features]\n",
    "df3 = df3[ordened_features]\n",
    "df4 = df4[ordened_features]\n",
    "df5 = df5[ordened_features]\n",
    "df6 = df6[ordened_features]"
   ]
  },
  {
   "cell_type": "markdown",
   "id": "b7442e3a",
   "metadata": {},
   "source": [
    "#### **<span style=\"color:#43A047;\">3.4.8 Final check </span>**"
   ]
  },
  {
   "cell_type": "code",
   "execution_count": 61,
   "id": "6c8571b2",
   "metadata": {},
   "outputs": [],
   "source": [
    "col1 = df1.columns.values\n",
    "col2 = df2.columns.values\n",
    "col3 = df3.columns.values\n",
    "col4 = df3.columns.values\n",
    "col5 = df4.columns.values\n",
    "col6 = df5.columns.values"
   ]
  },
  {
   "cell_type": "code",
   "execution_count": 62,
   "id": "4ab564aa",
   "metadata": {
    "scrolled": false
   },
   "outputs": [],
   "source": [
    "search_diferences(col1, col2, col3, col4, col5, col6) "
   ]
  },
  {
   "cell_type": "markdown",
   "id": "e5860e50",
   "metadata": {},
   "source": [
    "Great, all the columns of the 6 datasets are identical and we have no differences."
   ]
  },
  {
   "cell_type": "code",
   "execution_count": 63,
   "id": "58c582a3",
   "metadata": {},
   "outputs": [
    {
     "data": {
      "text/html": [
       "<div>\n",
       "<style scoped>\n",
       "    .dataframe tbody tr th:only-of-type {\n",
       "        vertical-align: middle;\n",
       "    }\n",
       "\n",
       "    .dataframe tbody tr th {\n",
       "        vertical-align: top;\n",
       "    }\n",
       "\n",
       "    .dataframe thead th {\n",
       "        text-align: right;\n",
       "    }\n",
       "</style>\n",
       "<table border=\"1\" class=\"dataframe\">\n",
       "  <thead>\n",
       "    <tr style=\"text-align: right;\">\n",
       "      <th></th>\n",
       "      <th>year</th>\n",
       "      <th>month</th>\n",
       "      <th>day</th>\n",
       "      <th>continent</th>\n",
       "      <th>country</th>\n",
       "      <th>city</th>\n",
       "      <th>city_id</th>\n",
       "      <th>sector</th>\n",
       "      <th>activity</th>\n",
       "      <th>facility_code</th>\n",
       "      <th>...</th>\n",
       "      <th>emissions</th>\n",
       "      <th>day_fogs</th>\n",
       "      <th>max_wind_speed</th>\n",
       "      <th>avg_wind_speed</th>\n",
       "      <th>min_wind_speed</th>\n",
       "      <th>max_temp</th>\n",
       "      <th>avg_temp</th>\n",
       "      <th>min_temp</th>\n",
       "      <th>reporter_name</th>\n",
       "      <th>pollutant</th>\n",
       "    </tr>\n",
       "  </thead>\n",
       "  <tbody>\n",
       "    <tr>\n",
       "      <th>0</th>\n",
       "      <td>2015</td>\n",
       "      <td>10</td>\n",
       "      <td>20</td>\n",
       "      <td>EUROPE</td>\n",
       "      <td>Germany</td>\n",
       "      <td>Sehnde</td>\n",
       "      <td>7cdb5e74adcb2ffaa21c1b61395a984f</td>\n",
       "      <td>Mineral industry</td>\n",
       "      <td>Installations for the production of cement cli...</td>\n",
       "      <td>NaN</td>\n",
       "      <td>...</td>\n",
       "      <td>NaN</td>\n",
       "      <td>2</td>\n",
       "      <td>15.118767</td>\n",
       "      <td>14.312541</td>\n",
       "      <td>21.419106</td>\n",
       "      <td>2.864895</td>\n",
       "      <td>4.924169</td>\n",
       "      <td>9.688206</td>\n",
       "      <td>Mr. Jacob Ortega</td>\n",
       "      <td>Carbon dioxide (CO2)</td>\n",
       "    </tr>\n",
       "    <tr>\n",
       "      <th>1</th>\n",
       "      <td>2018</td>\n",
       "      <td>9</td>\n",
       "      <td>21</td>\n",
       "      <td>EUROPE</td>\n",
       "      <td>Italy</td>\n",
       "      <td>TAVERNOLA BERGAMASCA</td>\n",
       "      <td>cd1dbabbdba230b828c657a9b19a8963</td>\n",
       "      <td>Mineral industry</td>\n",
       "      <td>Installations for the production of cement cli...</td>\n",
       "      <td>NaN</td>\n",
       "      <td>...</td>\n",
       "      <td>NaN</td>\n",
       "      <td>1</td>\n",
       "      <td>19.661550</td>\n",
       "      <td>19.368166</td>\n",
       "      <td>21.756389</td>\n",
       "      <td>5.462839</td>\n",
       "      <td>7.864403</td>\n",
       "      <td>12.023521</td>\n",
       "      <td>Ashlee Serrano</td>\n",
       "      <td>Nitrogen oxides (NOX)</td>\n",
       "    </tr>\n",
       "    <tr>\n",
       "      <th>2</th>\n",
       "      <td>2019</td>\n",
       "      <td>2</td>\n",
       "      <td>4</td>\n",
       "      <td>EUROPE</td>\n",
       "      <td>Spain</td>\n",
       "      <td>PUERTO DEL ROSARIO</td>\n",
       "      <td>5011e3fa1436d15b34f1287f312fbada</td>\n",
       "      <td>Waste and wastewater management</td>\n",
       "      <td>Landfills (excluding landfills of inert waste ...</td>\n",
       "      <td>NaN</td>\n",
       "      <td>...</td>\n",
       "      <td>NaN</td>\n",
       "      <td>2</td>\n",
       "      <td>12.729453</td>\n",
       "      <td>14.701985</td>\n",
       "      <td>17.103930</td>\n",
       "      <td>1.511201</td>\n",
       "      <td>4.233438</td>\n",
       "      <td>8.632193</td>\n",
       "      <td>Vincent Kemp</td>\n",
       "      <td>Methane (CH4)</td>\n",
       "    </tr>\n",
       "  </tbody>\n",
       "</table>\n",
       "<p>3 rows × 24 columns</p>\n",
       "</div>"
      ],
      "text/plain": [
       "   year  month  day continent  country                  city  \\\n",
       "0  2015     10   20    EUROPE  Germany                Sehnde   \n",
       "1  2018      9   21    EUROPE    Italy  TAVERNOLA BERGAMASCA   \n",
       "2  2019      2    4    EUROPE    Spain    PUERTO DEL ROSARIO   \n",
       "\n",
       "                            city_id                           sector  \\\n",
       "0  7cdb5e74adcb2ffaa21c1b61395a984f                 Mineral industry   \n",
       "1  cd1dbabbdba230b828c657a9b19a8963                 Mineral industry   \n",
       "2  5011e3fa1436d15b34f1287f312fbada  Waste and wastewater management   \n",
       "\n",
       "                                            activity facility_code  ...  \\\n",
       "0  Installations for the production of cement cli...           NaN  ...   \n",
       "1  Installations for the production of cement cli...           NaN  ...   \n",
       "2  Landfills (excluding landfills of inert waste ...           NaN  ...   \n",
       "\n",
       "  emissions day_fogs max_wind_speed avg_wind_speed min_wind_speed  max_temp  \\\n",
       "0       NaN        2      15.118767      14.312541      21.419106  2.864895   \n",
       "1       NaN        1      19.661550      19.368166      21.756389  5.462839   \n",
       "2       NaN        2      12.729453      14.701985      17.103930  1.511201   \n",
       "\n",
       "   avg_temp   min_temp     reporter_name              pollutant  \n",
       "0  4.924169   9.688206  Mr. Jacob Ortega   Carbon dioxide (CO2)  \n",
       "1  7.864403  12.023521    Ashlee Serrano  Nitrogen oxides (NOX)  \n",
       "2  4.233438   8.632193      Vincent Kemp          Methane (CH4)  \n",
       "\n",
       "[3 rows x 24 columns]"
      ]
     },
     "execution_count": 63,
     "metadata": {},
     "output_type": "execute_result"
    }
   ],
   "source": [
    "df1.head(3)"
   ]
  },
  {
   "cell_type": "code",
   "execution_count": 64,
   "id": "3969716c",
   "metadata": {},
   "outputs": [
    {
     "data": {
      "text/html": [
       "<div>\n",
       "<style scoped>\n",
       "    .dataframe tbody tr th:only-of-type {\n",
       "        vertical-align: middle;\n",
       "    }\n",
       "\n",
       "    .dataframe tbody tr th {\n",
       "        vertical-align: top;\n",
       "    }\n",
       "\n",
       "    .dataframe thead th {\n",
       "        text-align: right;\n",
       "    }\n",
       "</style>\n",
       "<table border=\"1\" class=\"dataframe\">\n",
       "  <thead>\n",
       "    <tr style=\"text-align: right;\">\n",
       "      <th></th>\n",
       "      <th>year</th>\n",
       "      <th>month</th>\n",
       "      <th>day</th>\n",
       "      <th>continent</th>\n",
       "      <th>country</th>\n",
       "      <th>city</th>\n",
       "      <th>city_id</th>\n",
       "      <th>sector</th>\n",
       "      <th>activity</th>\n",
       "      <th>facility_code</th>\n",
       "      <th>...</th>\n",
       "      <th>emissions</th>\n",
       "      <th>day_fogs</th>\n",
       "      <th>max_wind_speed</th>\n",
       "      <th>avg_wind_speed</th>\n",
       "      <th>min_wind_speed</th>\n",
       "      <th>max_temp</th>\n",
       "      <th>avg_temp</th>\n",
       "      <th>min_temp</th>\n",
       "      <th>reporter_name</th>\n",
       "      <th>pollutant</th>\n",
       "    </tr>\n",
       "  </thead>\n",
       "  <tbody>\n",
       "    <tr>\n",
       "      <th>80</th>\n",
       "      <td>2019</td>\n",
       "      <td>4</td>\n",
       "      <td>16</td>\n",
       "      <td>EUROPE</td>\n",
       "      <td>United Kingdom</td>\n",
       "      <td>Shetland</td>\n",
       "      <td>223137a83f11fbc93f2af549579ee6ac</td>\n",
       "      <td>Energy sector</td>\n",
       "      <td></td>\n",
       "      <td></td>\n",
       "      <td>...</td>\n",
       "      <td>101000</td>\n",
       "      <td>6</td>\n",
       "      <td>1.2816</td>\n",
       "      <td>1.416</td>\n",
       "      <td>1.816</td>\n",
       "      <td>1.5616</td>\n",
       "      <td>1.8115</td>\n",
       "      <td>2.1215</td>\n",
       "      <td></td>\n",
       "      <td>Methane (CH4)</td>\n",
       "    </tr>\n",
       "    <tr>\n",
       "      <th>81</th>\n",
       "      <td>2019</td>\n",
       "      <td>2</td>\n",
       "      <td>3</td>\n",
       "      <td>EUROPE</td>\n",
       "      <td>United Kingdom</td>\n",
       "      <td>Shetland</td>\n",
       "      <td>223137a83f11fbc93f2af549579ee6ac</td>\n",
       "      <td>Energy sector</td>\n",
       "      <td></td>\n",
       "      <td></td>\n",
       "      <td>...</td>\n",
       "      <td>148000</td>\n",
       "      <td>19</td>\n",
       "      <td>1.3516</td>\n",
       "      <td>1.4615</td>\n",
       "      <td>1.7816</td>\n",
       "      <td>9.6615</td>\n",
       "      <td>1.116</td>\n",
       "      <td>1.2616</td>\n",
       "      <td></td>\n",
       "      <td>Nitrogen oxides (NOX)</td>\n",
       "    </tr>\n",
       "    <tr>\n",
       "      <th>82</th>\n",
       "      <td>2019</td>\n",
       "      <td>12</td>\n",
       "      <td>4</td>\n",
       "      <td>EUROPE</td>\n",
       "      <td>United Kingdom</td>\n",
       "      <td>Millerhill. Dalkeith</td>\n",
       "      <td>c662b4b4d859a9c224b5ac0acf221748</td>\n",
       "      <td>Waste and wastewater management</td>\n",
       "      <td></td>\n",
       "      <td></td>\n",
       "      <td>...</td>\n",
       "      <td>1.3208</td>\n",
       "      <td>6</td>\n",
       "      <td>2.0915</td>\n",
       "      <td>2.0715</td>\n",
       "      <td>2.4616</td>\n",
       "      <td>5.7415</td>\n",
       "      <td>7.3115</td>\n",
       "      <td>9.4215</td>\n",
       "      <td></td>\n",
       "      <td>Carbon dioxide (CO2)</td>\n",
       "    </tr>\n",
       "  </tbody>\n",
       "</table>\n",
       "<p>3 rows × 24 columns</p>\n",
       "</div>"
      ],
      "text/plain": [
       "    year month day continent         country                  city  \\\n",
       "80  2019     4  16    EUROPE  United Kingdom              Shetland   \n",
       "81  2019     2   3    EUROPE  United Kingdom              Shetland   \n",
       "82  2019    12   4    EUROPE  United Kingdom  Millerhill. Dalkeith   \n",
       "\n",
       "                             city_id                           sector  \\\n",
       "80  223137a83f11fbc93f2af549579ee6ac                    Energy sector   \n",
       "81  223137a83f11fbc93f2af549579ee6ac                    Energy sector   \n",
       "82  c662b4b4d859a9c224b5ac0acf221748  Waste and wastewater management   \n",
       "\n",
       "   activity facility_code  ... emissions day_fogs max_wind_speed  \\\n",
       "80                         ...    101000        6         1.2816   \n",
       "81                         ...    148000       19         1.3516   \n",
       "82                         ...    1.3208        6         2.0915   \n",
       "\n",
       "   avg_wind_speed min_wind_speed max_temp avg_temp min_temp reporter_name  \\\n",
       "80          1.416          1.816   1.5616   1.8115   2.1215                 \n",
       "81         1.4615         1.7816   9.6615    1.116   1.2616                 \n",
       "82         2.0715         2.4616   5.7415   7.3115   9.4215                 \n",
       "\n",
       "                pollutant  \n",
       "80          Methane (CH4)  \n",
       "81  Nitrogen oxides (NOX)  \n",
       "82   Carbon dioxide (CO2)  \n",
       "\n",
       "[3 rows x 24 columns]"
      ]
     },
     "execution_count": 64,
     "metadata": {},
     "output_type": "execute_result"
    }
   ],
   "source": [
    "df6.tail(3)"
   ]
  },
  {
   "cell_type": "markdown",
   "id": "ccf343bf",
   "metadata": {},
   "source": [
    "### **<span style=\"color:#43A047;\">3.5 Merging all the information in a single data set.  </span>**\n",
    "\n",
    "#### **<span style=\"color:#4CAF50;\">3.5.1 Vertically merging </span>**"
   ]
  },
  {
   "cell_type": "code",
   "execution_count": 65,
   "id": "c789398f",
   "metadata": {},
   "outputs": [],
   "source": [
    "data = pd.concat([df1, df2,df3,df4,df5,df6], ignore_index=True)"
   ]
  },
  {
   "cell_type": "code",
   "execution_count": 66,
   "id": "f043379d",
   "metadata": {},
   "outputs": [],
   "source": [
    "data.to_csv(\"../total_data.csv\") #Saving the entire data set in our directory"
   ]
  },
  {
   "cell_type": "code",
   "execution_count": 2,
   "id": "5dfb5d51",
   "metadata": {},
   "outputs": [],
   "source": [
    "data = pd.read_csv(\"../1-Classification/datasets/total_data.csv\", sep=',') #1-Loading the first csv"
   ]
  },
  {
   "cell_type": "markdown",
   "id": "64ddbc9b",
   "metadata": {},
   "source": [
    "#### **<span style=\"color:#4CAF50;\">3.5.2 Verifyng merging </span>**"
   ]
  },
  {
   "cell_type": "code",
   "execution_count": 3,
   "id": "1df8372a",
   "metadata": {},
   "outputs": [
    {
     "ename": "NameError",
     "evalue": "name 'df1' is not defined",
     "output_type": "error",
     "traceback": [
      "\u001b[1;31m---------------------------------------------------------------------------\u001b[0m",
      "\u001b[1;31mNameError\u001b[0m                                 Traceback (most recent call last)",
      "\u001b[1;32m~\\AppData\\Local\\Temp/ipykernel_4356/242657753.py\u001b[0m in \u001b[0;36m<module>\u001b[1;34m\u001b[0m\n\u001b[1;32m----> 1\u001b[1;33m \u001b[0mprint\u001b[0m\u001b[1;33m(\u001b[0m\u001b[1;34m'The sum of the shapes of all the data sets is:'\u001b[0m\u001b[1;33m,\u001b[0m \u001b[1;33m(\u001b[0m\u001b[0mdf1\u001b[0m\u001b[1;33m.\u001b[0m\u001b[0mshape\u001b[0m\u001b[1;33m[\u001b[0m\u001b[1;36m0\u001b[0m\u001b[1;33m]\u001b[0m\u001b[1;33m+\u001b[0m\u001b[0mdf2\u001b[0m\u001b[1;33m.\u001b[0m\u001b[0mshape\u001b[0m\u001b[1;33m[\u001b[0m\u001b[1;36m0\u001b[0m\u001b[1;33m]\u001b[0m\u001b[1;33m+\u001b[0m\u001b[0mdf3\u001b[0m\u001b[1;33m.\u001b[0m\u001b[0mshape\u001b[0m\u001b[1;33m[\u001b[0m\u001b[1;36m0\u001b[0m\u001b[1;33m]\u001b[0m\u001b[1;33m+\u001b[0m\u001b[0mdf4\u001b[0m\u001b[1;33m.\u001b[0m\u001b[0mshape\u001b[0m\u001b[1;33m[\u001b[0m\u001b[1;36m0\u001b[0m\u001b[1;33m]\u001b[0m\u001b[1;33m+\u001b[0m\u001b[0mdf5\u001b[0m\u001b[1;33m.\u001b[0m\u001b[0mshape\u001b[0m\u001b[1;33m[\u001b[0m\u001b[1;36m0\u001b[0m\u001b[1;33m]\u001b[0m\u001b[1;33m+\u001b[0m\u001b[0mdf6\u001b[0m\u001b[1;33m.\u001b[0m\u001b[0mshape\u001b[0m\u001b[1;33m[\u001b[0m\u001b[1;36m0\u001b[0m\u001b[1;33m]\u001b[0m\u001b[1;33m)\u001b[0m\u001b[1;33m)\u001b[0m\u001b[1;33m\u001b[0m\u001b[1;33m\u001b[0m\u001b[0m\n\u001b[0m",
      "\u001b[1;31mNameError\u001b[0m: name 'df1' is not defined"
     ]
    }
   ],
   "source": [
    "print('The sum of the shapes of all the data sets is:', (df1.shape[0]+df2.shape[0]+df3.shape[0]+df4.shape[0]+df5.shape[0]+df6.shape[0])) "
   ]
  },
  {
   "cell_type": "code",
   "execution_count": null,
   "id": "2e75e9e5",
   "metadata": {},
   "outputs": [],
   "source": [
    "print('The shape of the entire data is:', data.shape) "
   ]
  },
  {
   "cell_type": "code",
   "execution_count": 4,
   "id": "f5552c2d",
   "metadata": {},
   "outputs": [
    {
     "data": {
      "text/html": [
       "<div>\n",
       "<style scoped>\n",
       "    .dataframe tbody tr th:only-of-type {\n",
       "        vertical-align: middle;\n",
       "    }\n",
       "\n",
       "    .dataframe tbody tr th {\n",
       "        vertical-align: top;\n",
       "    }\n",
       "\n",
       "    .dataframe thead th {\n",
       "        text-align: right;\n",
       "    }\n",
       "</style>\n",
       "<table border=\"1\" class=\"dataframe\">\n",
       "  <thead>\n",
       "    <tr style=\"text-align: right;\">\n",
       "      <th></th>\n",
       "      <th>Unnamed: 0</th>\n",
       "      <th>year</th>\n",
       "      <th>month</th>\n",
       "      <th>day</th>\n",
       "      <th>continent</th>\n",
       "      <th>country</th>\n",
       "      <th>city</th>\n",
       "      <th>city_id</th>\n",
       "      <th>sector</th>\n",
       "      <th>activity</th>\n",
       "      <th>...</th>\n",
       "      <th>emissions</th>\n",
       "      <th>day_fogs</th>\n",
       "      <th>max_wind_speed</th>\n",
       "      <th>avg_wind_speed</th>\n",
       "      <th>min_wind_speed</th>\n",
       "      <th>max_temp</th>\n",
       "      <th>avg_temp</th>\n",
       "      <th>min_temp</th>\n",
       "      <th>reporter_name</th>\n",
       "      <th>pollutant</th>\n",
       "    </tr>\n",
       "  </thead>\n",
       "  <tbody>\n",
       "    <tr>\n",
       "      <th>0</th>\n",
       "      <td>0</td>\n",
       "      <td>2015</td>\n",
       "      <td>10</td>\n",
       "      <td>20</td>\n",
       "      <td>EUROPE</td>\n",
       "      <td>Germany</td>\n",
       "      <td>Sehnde</td>\n",
       "      <td>7cdb5e74adcb2ffaa21c1b61395a984f</td>\n",
       "      <td>Mineral industry</td>\n",
       "      <td>Installations for the production of cement cli...</td>\n",
       "      <td>...</td>\n",
       "      <td>NaN</td>\n",
       "      <td>2</td>\n",
       "      <td>15.118767</td>\n",
       "      <td>14.312541</td>\n",
       "      <td>21.419106</td>\n",
       "      <td>2.864895</td>\n",
       "      <td>4.924169</td>\n",
       "      <td>9.688206</td>\n",
       "      <td>Mr. Jacob Ortega</td>\n",
       "      <td>Carbon dioxide (CO2)</td>\n",
       "    </tr>\n",
       "    <tr>\n",
       "      <th>1</th>\n",
       "      <td>1</td>\n",
       "      <td>2018</td>\n",
       "      <td>9</td>\n",
       "      <td>21</td>\n",
       "      <td>EUROPE</td>\n",
       "      <td>Italy</td>\n",
       "      <td>TAVERNOLA BERGAMASCA</td>\n",
       "      <td>cd1dbabbdba230b828c657a9b19a8963</td>\n",
       "      <td>Mineral industry</td>\n",
       "      <td>Installations for the production of cement cli...</td>\n",
       "      <td>...</td>\n",
       "      <td>NaN</td>\n",
       "      <td>1</td>\n",
       "      <td>19.661550</td>\n",
       "      <td>19.368166</td>\n",
       "      <td>21.756389</td>\n",
       "      <td>5.462839</td>\n",
       "      <td>7.864403</td>\n",
       "      <td>12.023521</td>\n",
       "      <td>Ashlee Serrano</td>\n",
       "      <td>Nitrogen oxides (NOX)</td>\n",
       "    </tr>\n",
       "    <tr>\n",
       "      <th>2</th>\n",
       "      <td>2</td>\n",
       "      <td>2019</td>\n",
       "      <td>2</td>\n",
       "      <td>4</td>\n",
       "      <td>EUROPE</td>\n",
       "      <td>Spain</td>\n",
       "      <td>PUERTO DEL ROSARIO</td>\n",
       "      <td>5011e3fa1436d15b34f1287f312fbada</td>\n",
       "      <td>Waste and wastewater management</td>\n",
       "      <td>Landfills (excluding landfills of inert waste ...</td>\n",
       "      <td>...</td>\n",
       "      <td>NaN</td>\n",
       "      <td>2</td>\n",
       "      <td>12.729453</td>\n",
       "      <td>14.701985</td>\n",
       "      <td>17.103930</td>\n",
       "      <td>1.511201</td>\n",
       "      <td>4.233438</td>\n",
       "      <td>8.632193</td>\n",
       "      <td>Vincent Kemp</td>\n",
       "      <td>Methane (CH4)</td>\n",
       "    </tr>\n",
       "  </tbody>\n",
       "</table>\n",
       "<p>3 rows × 25 columns</p>\n",
       "</div>"
      ],
      "text/plain": [
       "   Unnamed: 0  year  month  day continent  country                  city  \\\n",
       "0           0  2015     10   20    EUROPE  Germany                Sehnde   \n",
       "1           1  2018      9   21    EUROPE    Italy  TAVERNOLA BERGAMASCA   \n",
       "2           2  2019      2    4    EUROPE    Spain    PUERTO DEL ROSARIO   \n",
       "\n",
       "                            city_id                           sector  \\\n",
       "0  7cdb5e74adcb2ffaa21c1b61395a984f                 Mineral industry   \n",
       "1  cd1dbabbdba230b828c657a9b19a8963                 Mineral industry   \n",
       "2  5011e3fa1436d15b34f1287f312fbada  Waste and wastewater management   \n",
       "\n",
       "                                            activity  ... emissions day_fogs  \\\n",
       "0  Installations for the production of cement cli...  ...       NaN        2   \n",
       "1  Installations for the production of cement cli...  ...       NaN        1   \n",
       "2  Landfills (excluding landfills of inert waste ...  ...       NaN        2   \n",
       "\n",
       "   max_wind_speed avg_wind_speed min_wind_speed  max_temp  avg_temp  \\\n",
       "0       15.118767      14.312541      21.419106  2.864895  4.924169   \n",
       "1       19.661550      19.368166      21.756389  5.462839  7.864403   \n",
       "2       12.729453      14.701985      17.103930  1.511201  4.233438   \n",
       "\n",
       "    min_temp     reporter_name              pollutant  \n",
       "0   9.688206  Mr. Jacob Ortega   Carbon dioxide (CO2)  \n",
       "1  12.023521    Ashlee Serrano  Nitrogen oxides (NOX)  \n",
       "2   8.632193      Vincent Kemp          Methane (CH4)  \n",
       "\n",
       "[3 rows x 25 columns]"
      ]
     },
     "execution_count": 4,
     "metadata": {},
     "output_type": "execute_result"
    }
   ],
   "source": [
    "data.head(3)"
   ]
  },
  {
   "cell_type": "markdown",
   "id": "7fb18883",
   "metadata": {},
   "source": [
    "#### **<span style=\"color:#4CAF50;\">3.5.2 Data Transforming </span>**\n",
    "\n",
    "Transforming the variables according to the their type in order to perform a correct analysis."
   ]
  },
  {
   "cell_type": "code",
   "execution_count": 5,
   "id": "47748967",
   "metadata": {},
   "outputs": [
    {
     "data": {
      "text/plain": [
       "Unnamed: 0          int64\n",
       "year                int64\n",
       "month               int64\n",
       "day                 int64\n",
       "continent          object\n",
       "country            object\n",
       "city               object\n",
       "city_id            object\n",
       "sector             object\n",
       "activity           object\n",
       "facility_code      object\n",
       "facility_id        object\n",
       "sector_code       float64\n",
       "facility_name      object\n",
       "target_release     object\n",
       "emissions         float64\n",
       "day_fogs            int64\n",
       "max_wind_speed    float64\n",
       "avg_wind_speed    float64\n",
       "min_wind_speed    float64\n",
       "max_temp          float64\n",
       "avg_temp          float64\n",
       "min_temp          float64\n",
       "reporter_name      object\n",
       "pollutant          object\n",
       "dtype: object"
      ]
     },
     "execution_count": 5,
     "metadata": {},
     "output_type": "execute_result"
    }
   ],
   "source": [
    "data.dtypes #Check data types before cleanining and capping"
   ]
  },
  {
   "cell_type": "code",
   "execution_count": 6,
   "id": "c9122ba7",
   "metadata": {},
   "outputs": [],
   "source": [
    "dict_columns_type = {\n",
    "    'year': int,\n",
    "    'month': int,\n",
    "    'day' : int,\n",
    "    'continent': object,\n",
    "    'country': object,\n",
    "    'city': object,\n",
    "    'city_id': object,\n",
    "    'sector':object,\n",
    "    'activity':object,\n",
    "    'facility_code':object,\n",
    "    'facility_id': object,\n",
    "    'sector_code':object,\n",
    "    'facility_name':object,\n",
    "    'target_release':object,\n",
    "    'emissions': float,\n",
    "    'day_fogs': float,\n",
    "    'max_wind_speed':float,\n",
    "    'avg_wind_speed':float,\n",
    "    'min_wind_speed':float,\n",
    "    'max_temp':float,         \n",
    "    'avg_temp':float,         \n",
    "    'min_temp':float,\n",
    "    'reporter_name':object,\n",
    "    'pollutant':object,\n",
    "                    }"
   ]
  },
  {
   "cell_type": "code",
   "execution_count": 7,
   "id": "2137dec5",
   "metadata": {},
   "outputs": [],
   "source": [
    "data = data.astype(dict_columns_type)"
   ]
  },
  {
   "cell_type": "code",
   "execution_count": 8,
   "id": "566d92cb",
   "metadata": {},
   "outputs": [
    {
     "data": {
      "text/plain": [
       "Unnamed: 0          int64\n",
       "year                int32\n",
       "month               int32\n",
       "day                 int32\n",
       "continent          object\n",
       "country            object\n",
       "city               object\n",
       "city_id            object\n",
       "sector             object\n",
       "activity           object\n",
       "facility_code      object\n",
       "facility_id        object\n",
       "sector_code        object\n",
       "facility_name      object\n",
       "target_release     object\n",
       "emissions         float64\n",
       "day_fogs          float64\n",
       "max_wind_speed    float64\n",
       "avg_wind_speed    float64\n",
       "min_wind_speed    float64\n",
       "max_temp          float64\n",
       "avg_temp          float64\n",
       "min_temp          float64\n",
       "reporter_name      object\n",
       "pollutant          object\n",
       "dtype: object"
      ]
     },
     "execution_count": 8,
     "metadata": {},
     "output_type": "execute_result"
    }
   ],
   "source": [
    "data.dtypes "
   ]
  },
  {
   "cell_type": "markdown",
   "id": "a4d0a1a3",
   "metadata": {},
   "source": [
    "### **<span style=\"color:#43A047;\">3.6 DATA CLEANING: Checking anomalies or outliers in the entire dataset.  </span>**"
   ]
  },
  {
   "cell_type": "code",
   "execution_count": 9,
   "id": "d683581e",
   "metadata": {},
   "outputs": [
    {
     "data": {
      "text/html": [
       "<div>\n",
       "<style scoped>\n",
       "    .dataframe tbody tr th:only-of-type {\n",
       "        vertical-align: middle;\n",
       "    }\n",
       "\n",
       "    .dataframe tbody tr th {\n",
       "        vertical-align: top;\n",
       "    }\n",
       "\n",
       "    .dataframe thead th {\n",
       "        text-align: right;\n",
       "    }\n",
       "</style>\n",
       "<table border=\"1\" class=\"dataframe\">\n",
       "  <thead>\n",
       "    <tr style=\"text-align: right;\">\n",
       "      <th></th>\n",
       "      <th>Unnamed: 0</th>\n",
       "      <th>year</th>\n",
       "      <th>month</th>\n",
       "      <th>day</th>\n",
       "      <th>emissions</th>\n",
       "      <th>day_fogs</th>\n",
       "      <th>max_wind_speed</th>\n",
       "      <th>avg_wind_speed</th>\n",
       "      <th>min_wind_speed</th>\n",
       "      <th>max_temp</th>\n",
       "      <th>avg_temp</th>\n",
       "      <th>min_temp</th>\n",
       "    </tr>\n",
       "  </thead>\n",
       "  <tbody>\n",
       "    <tr>\n",
       "      <th>count</th>\n",
       "      <td>56646.000000</td>\n",
       "      <td>56646.000000</td>\n",
       "      <td>56646.000000</td>\n",
       "      <td>56646.000000</td>\n",
       "      <td>8.200000e+01</td>\n",
       "      <td>56646.000000</td>\n",
       "      <td>56641.000000</td>\n",
       "      <td>56646.000000</td>\n",
       "      <td>56646.000000</td>\n",
       "      <td>56646.000000</td>\n",
       "      <td>56646.000000</td>\n",
       "      <td>56646.000000</td>\n",
       "    </tr>\n",
       "    <tr>\n",
       "      <th>mean</th>\n",
       "      <td>28322.500000</td>\n",
       "      <td>2012.934717</td>\n",
       "      <td>6.500212</td>\n",
       "      <td>14.482541</td>\n",
       "      <td>4.033787e+05</td>\n",
       "      <td>2.237422</td>\n",
       "      <td>15.497546</td>\n",
       "      <td>17.993375</td>\n",
       "      <td>22.478031</td>\n",
       "      <td>9.461657</td>\n",
       "      <td>10.448693</td>\n",
       "      <td>13.456765</td>\n",
       "    </tr>\n",
       "    <tr>\n",
       "      <th>std</th>\n",
       "      <td>16352.436011</td>\n",
       "      <td>3.855421</td>\n",
       "      <td>3.439418</td>\n",
       "      <td>8.062658</td>\n",
       "      <td>4.989490e+05</td>\n",
       "      <td>3.785133</td>\n",
       "      <td>3.105460</td>\n",
       "      <td>2.529386</td>\n",
       "      <td>3.150115</td>\n",
       "      <td>5.214642</td>\n",
       "      <td>5.176924</td>\n",
       "      <td>5.433507</td>\n",
       "    </tr>\n",
       "    <tr>\n",
       "      <th>min</th>\n",
       "      <td>0.000000</td>\n",
       "      <td>2007.000000</td>\n",
       "      <td>1.000000</td>\n",
       "      <td>1.000000</td>\n",
       "      <td>1.120800e+00</td>\n",
       "      <td>0.000000</td>\n",
       "      <td>1.021600</td>\n",
       "      <td>1.411600</td>\n",
       "      <td>1.631600</td>\n",
       "      <td>-3.141464</td>\n",
       "      <td>-216.000000</td>\n",
       "      <td>0.895952</td>\n",
       "    </tr>\n",
       "    <tr>\n",
       "      <th>25%</th>\n",
       "      <td>14161.250000</td>\n",
       "      <td>2010.000000</td>\n",
       "      <td>4.000000</td>\n",
       "      <td>8.000000</td>\n",
       "      <td>1.097500e+05</td>\n",
       "      <td>0.000000</td>\n",
       "      <td>13.315221</td>\n",
       "      <td>15.999739</td>\n",
       "      <td>20.312214</td>\n",
       "      <td>5.896431</td>\n",
       "      <td>7.191153</td>\n",
       "      <td>9.904094</td>\n",
       "    </tr>\n",
       "    <tr>\n",
       "      <th>50%</th>\n",
       "      <td>28322.500000</td>\n",
       "      <td>2013.000000</td>\n",
       "      <td>7.000000</td>\n",
       "      <td>14.000000</td>\n",
       "      <td>2.180000e+05</td>\n",
       "      <td>1.000000</td>\n",
       "      <td>15.494260</td>\n",
       "      <td>18.012590</td>\n",
       "      <td>22.513323</td>\n",
       "      <td>9.696771</td>\n",
       "      <td>10.688371</td>\n",
       "      <td>13.679253</td>\n",
       "    </tr>\n",
       "    <tr>\n",
       "      <th>75%</th>\n",
       "      <td>42483.750000</td>\n",
       "      <td>2016.000000</td>\n",
       "      <td>9.000000</td>\n",
       "      <td>22.000000</td>\n",
       "      <td>6.020000e+05</td>\n",
       "      <td>2.000000</td>\n",
       "      <td>17.718195</td>\n",
       "      <td>20.009832</td>\n",
       "      <td>24.689080</td>\n",
       "      <td>13.289559</td>\n",
       "      <td>14.210298</td>\n",
       "      <td>17.310861</td>\n",
       "    </tr>\n",
       "    <tr>\n",
       "      <th>max</th>\n",
       "      <td>56645.000000</td>\n",
       "      <td>2020.000000</td>\n",
       "      <td>12.000000</td>\n",
       "      <td>28.000000</td>\n",
       "      <td>2.620000e+06</td>\n",
       "      <td>19.000000</td>\n",
       "      <td>22.991382</td>\n",
       "      <td>216.000000</td>\n",
       "      <td>29.933603</td>\n",
       "      <td>20.938266</td>\n",
       "      <td>19.998710</td>\n",
       "      <td>216.000000</td>\n",
       "    </tr>\n",
       "  </tbody>\n",
       "</table>\n",
       "</div>"
      ],
      "text/plain": [
       "         Unnamed: 0          year         month           day     emissions  \\\n",
       "count  56646.000000  56646.000000  56646.000000  56646.000000  8.200000e+01   \n",
       "mean   28322.500000   2012.934717      6.500212     14.482541  4.033787e+05   \n",
       "std    16352.436011      3.855421      3.439418      8.062658  4.989490e+05   \n",
       "min        0.000000   2007.000000      1.000000      1.000000  1.120800e+00   \n",
       "25%    14161.250000   2010.000000      4.000000      8.000000  1.097500e+05   \n",
       "50%    28322.500000   2013.000000      7.000000     14.000000  2.180000e+05   \n",
       "75%    42483.750000   2016.000000      9.000000     22.000000  6.020000e+05   \n",
       "max    56645.000000   2020.000000     12.000000     28.000000  2.620000e+06   \n",
       "\n",
       "           day_fogs  max_wind_speed  avg_wind_speed  min_wind_speed  \\\n",
       "count  56646.000000    56641.000000    56646.000000    56646.000000   \n",
       "mean       2.237422       15.497546       17.993375       22.478031   \n",
       "std        3.785133        3.105460        2.529386        3.150115   \n",
       "min        0.000000        1.021600        1.411600        1.631600   \n",
       "25%        0.000000       13.315221       15.999739       20.312214   \n",
       "50%        1.000000       15.494260       18.012590       22.513323   \n",
       "75%        2.000000       17.718195       20.009832       24.689080   \n",
       "max       19.000000       22.991382      216.000000       29.933603   \n",
       "\n",
       "           max_temp      avg_temp      min_temp  \n",
       "count  56646.000000  56646.000000  56646.000000  \n",
       "mean       9.461657     10.448693     13.456765  \n",
       "std        5.214642      5.176924      5.433507  \n",
       "min       -3.141464   -216.000000      0.895952  \n",
       "25%        5.896431      7.191153      9.904094  \n",
       "50%        9.696771     10.688371     13.679253  \n",
       "75%       13.289559     14.210298     17.310861  \n",
       "max       20.938266     19.998710    216.000000  "
      ]
     },
     "execution_count": 9,
     "metadata": {},
     "output_type": "execute_result"
    }
   ],
   "source": [
    "data.describe()"
   ]
  },
  {
   "cell_type": "markdown",
   "id": "5032245f",
   "metadata": {},
   "source": [
    "#### **<span style=\"color:#4CAF50;\">3.6.1 Detecting Columns with problems </span>**\n",
    "\n",
    "First we obtain the numerical and categorical from our data set in order to perform bivariate and univariate analysis."
   ]
  },
  {
   "cell_type": "code",
   "execution_count": 383,
   "id": "b2cc65be",
   "metadata": {},
   "outputs": [],
   "source": [
    "def data_checking (df, sd=2):\n",
    "    \"Autocheking for any Anomalies or Outliers\"\n",
    "    rows_problems = []\n",
    "    max_problems = []\n",
    "    min_problems = []\n",
    "    null_data = []\n",
    "    for i in range(0,len(df.describe().columns)): #This will check in numeric's columns\n",
    "        \n",
    "        if df.describe().iloc[0,i:i+1][0] != df.shape[0]: #Checking rows discordance \n",
    "            rows_problems.append(df.describe().columns[i])\n",
    "       \n",
    "        #Checking minimum data range\n",
    "        if int(df.describe().iloc[3,i:i+1][0]) < (int(df.describe().iloc[4,i:i+1][0]) - sd*(int(df.describe().iloc[2,i:i+1][0]))):  \n",
    "            min_problems.append(df.describe().columns[i])\n",
    "        \n",
    "        #Checking maximum data range\n",
    "        if int(df.describe().iloc[7,i:i+1]) > (int(df.describe().iloc[6,i:i+1]) + sd*int(df.describe().iloc[2,i:i+1][0])): \n",
    "            max_problems.append(df.describe().columns[i])\n",
    "    \n",
    "    for i in range (0, data.shape[1]): # This will check in the entire DataFrame   \n",
    "        \n",
    "        if (df.isnull().sum()[i] != 0) or (df.isna().sum()[i] != 0): #Checking null or nan datas\n",
    "            null_data.append(df.columns[i])        \n",
    "    print(\"Columns with rows discordance: %s\" %rows_problems)\n",
    "    print(\"Columns with Min. values problems: %s\" %min_problems)\n",
    "    print(\"Columns with Max. values problems: %s\" %max_problems)\n",
    "    print(\"Columns with NaN or Nulls: %s\" %null_data)\n",
    "    return rows_problems, min_problems, max_problems, null_data"
   ]
  },
  {
   "cell_type": "code",
   "execution_count": 384,
   "id": "57faffae",
   "metadata": {},
   "outputs": [
    {
     "name": "stdout",
     "output_type": "stream",
     "text": [
      "Columns with rows discordance: ['emissions', 'max_wind_speed']\n",
      "Columns with Min. values problems: ['max_wind_speed', 'avg_wind_speed', 'min_wind_speed', 'avg_temp']\n",
      "Columns with Max. values problems: ['emissions', 'day_fogs', 'avg_wind_speed', 'min_temp']\n",
      "Columns with NaN or Nulls: ['activity', 'facility_code', 'sector_code', 'facility_name', 'target_release', 'emissions', 'max_wind_speed', 'reporter_name']\n"
     ]
    }
   ],
   "source": [
    "sd_multiplier = 2 #Standar Deviation Multiplier to chek how far away the 25% and 75% outliers should be.\n",
    "row_prblm, min_col, max_col, null_col = data_checking (data, sd_multiplier)"
   ]
  },
  {
   "cell_type": "markdown",
   "id": "033ef2aa",
   "metadata": {},
   "source": [
    "#### **<span style=\"color:#4CAF50;\">3.6.2 Maximum and Minimum representation for a Data Set </span>**"
   ]
  },
  {
   "cell_type": "code",
   "execution_count": 385,
   "id": "ce2b99bc",
   "metadata": {},
   "outputs": [],
   "source": [
    "cat_cols = data.select_dtypes(include=['category','object', 'bool_'])\n",
    "num_cols = data.select_dtypes(include=['number','int','float'])"
   ]
  },
  {
   "cell_type": "code",
   "execution_count": 386,
   "id": "23593374",
   "metadata": {},
   "outputs": [
    {
     "data": {
      "text/plain": [
       "<matplotlib.legend.Legend at 0x1f1e820b2e0>"
      ]
     },
     "execution_count": 386,
     "metadata": {},
     "output_type": "execute_result"
    },
    {
     "data": {
      "image/png": "[encoded data removed]",
      "text/plain": [
       "<Figure size 1152x648 with 1 Axes>"
      ]
     },
     "metadata": {
      "needs_background": "light"
     },
     "output_type": "display_data"
    }
   ],
   "source": [
    "import matplotlib.pyplot as plt\n",
    "%matplotlib inline \n",
    "plt.figure(figsize= (16,9))\n",
    "plt.plot(num_cols.min(axis=0), 'o', label='Min')\n",
    "plt.plot(num_cols.max(axis=0), 'v', label='Max')\n",
    "plt.xlabel('Feature Index')\n",
    "plt.ylabel('Feature Magnitude in Log Scale')\n",
    "plt.yscale('log') #Logarithmic scale to fit all the values.\n",
    "plt.legend(loc='upper right')"
   ]
  },
  {
   "cell_type": "markdown",
   "id": "47fd850d",
   "metadata": {},
   "source": [
    "### **<span style=\"color:#43A047;\">3.7 Capping and Flooring (Outliers & and Nan's Treatment)   </span>**"
   ]
  },
  {
   "cell_type": "markdown",
   "id": "f7965715",
   "metadata": {},
   "source": [
    "#### **<span style=\"color:#4CAF50;\">3.7.1 Outliers Capping </span>**"
   ]
  },
  {
   "cell_type": "code",
   "execution_count": 387,
   "id": "1584bafa",
   "metadata": {},
   "outputs": [],
   "source": [
    "data1 = data.copy() #Making a chekpoint."
   ]
  },
  {
   "cell_type": "code",
   "execution_count": 388,
   "id": "37bfd00f",
   "metadata": {},
   "outputs": [
    {
     "data": {
      "text/plain": [
       "['emissions', 'day_fogs', 'avg_wind_speed', 'min_temp']"
      ]
     },
     "execution_count": 388,
     "metadata": {},
     "output_type": "execute_result"
    }
   ],
   "source": [
    "max_col"
   ]
  },
  {
   "cell_type": "code",
   "execution_count": 389,
   "id": "cf2e2956",
   "metadata": {},
   "outputs": [],
   "source": [
    "#max_col.remove('emissions')  ((((((((WIP, SEEE IN FUTURE IF THIS FEATURE WILL BE NECESSARY))))))))"
   ]
  },
  {
   "cell_type": "code",
   "execution_count": 390,
   "id": "55dc045d",
   "metadata": {},
   "outputs": [],
   "source": [
    "#Otiliers capping according to percentile for each column\n",
    "percentile = 2\n",
    "for i in max_col:\n",
    "    data1[i][(data1[i]>(np.nanpercentile(data1.loc[:,i],[100-percentile])[0]))]= (np.nanpercentile(data1.loc[:,i],[100-percentile])[0])\n",
    "for i in min_col:\n",
    "    data1[i][(data1[i]<(np.nanpercentile(data1.loc[:,i],[percentile])[0]))]= (np.nanpercentile(data1.loc[:,i],[percentile])[0])"
   ]
  },
  {
   "cell_type": "markdown",
   "id": "7f28e26a",
   "metadata": {},
   "source": [
    "#### **<span style=\"color:#4CAF50;\">3.7.2 Null data treatement </span>**"
   ]
  },
  {
   "cell_type": "code",
   "execution_count": 391,
   "id": "5f9da9b2",
   "metadata": {
    "scrolled": false
   },
   "outputs": [
    {
     "data": {
      "text/plain": [
       "Unnamed: 0            0\n",
       "year                  0\n",
       "month                 0\n",
       "day                   0\n",
       "continent             0\n",
       "country               0\n",
       "city                  0\n",
       "city_id               0\n",
       "sector                0\n",
       "activity             82\n",
       "facility_code     18645\n",
       "facility_id           0\n",
       "sector_code       18563\n",
       "facility_name        82\n",
       "target_release       82\n",
       "emissions         56564\n",
       "day_fogs              0\n",
       "max_wind_speed        5\n",
       "avg_wind_speed        0\n",
       "min_wind_speed        0\n",
       "max_temp              0\n",
       "avg_temp              0\n",
       "min_temp              0\n",
       "reporter_name        82\n",
       "pollutant             0\n",
       "dtype: int64"
      ]
     },
     "execution_count": 391,
     "metadata": {},
     "output_type": "execute_result"
    }
   ],
   "source": [
    "data1.isnull().sum() # Checking for any nan"
   ]
  },
  {
   "cell_type": "markdown",
   "id": "4f2d38d2",
   "metadata": {},
   "source": [
    "#### NaN - Categorical Data"
   ]
  },
  {
   "cell_type": "code",
   "execution_count": 392,
   "id": "5eac22db",
   "metadata": {},
   "outputs": [],
   "source": [
    "#1. Function to replace NAN values with mode value\n",
    "def impute_nan_most_frequent_category(DataFrame,ColName):\n",
    "    # .mode()[0] - gives first category name\n",
    "    most_frequent_category=DataFrame[ColName].mode()[0] \n",
    "    # replace nan values with most occured category\n",
    "    DataFrame[ColName] = DataFrame[ColName]\n",
    "    DataFrame[ColName].fillna(most_frequent_category,inplace=True)   "
   ]
  },
  {
   "cell_type": "code",
   "execution_count": 393,
   "id": "a9499a07",
   "metadata": {},
   "outputs": [],
   "source": [
    "#2. Call function to impute most occured category (only for those variables with few nans in comparasion to the total number)\n",
    "for Columns in ['activity','facility_name','target_release']:\n",
    "    impute_nan_most_frequent_category(data1,Columns)"
   ]
  },
  {
   "cell_type": "markdown",
   "id": "21777d13",
   "metadata": {},
   "source": [
    "#### NaN - Continuous Data"
   ]
  },
  {
   "cell_type": "code",
   "execution_count": 394,
   "id": "6dd34211",
   "metadata": {},
   "outputs": [],
   "source": [
    "data1.max_wind_speed= data1.max_wind_speed.fillna(data1.max_wind_speed.mean()) #Due to the small number of values, we simply fill in the average.\n",
    "#data1.emissions= data1.emissions.fillna(data1.emissions.mean()) #Due to the small number of values, we simply fill in the average."
   ]
  },
  {
   "cell_type": "code",
   "execution_count": 395,
   "id": "3cb24d2a",
   "metadata": {},
   "outputs": [
    {
     "data": {
      "text/html": [
       "<div>\n",
       "<style scoped>\n",
       "    .dataframe tbody tr th:only-of-type {\n",
       "        vertical-align: middle;\n",
       "    }\n",
       "\n",
       "    .dataframe tbody tr th {\n",
       "        vertical-align: top;\n",
       "    }\n",
       "\n",
       "    .dataframe thead th {\n",
       "        text-align: right;\n",
       "    }\n",
       "</style>\n",
       "<table border=\"1\" class=\"dataframe\">\n",
       "  <thead>\n",
       "    <tr style=\"text-align: right;\">\n",
       "      <th></th>\n",
       "      <th>Unnamed: 0</th>\n",
       "      <th>year</th>\n",
       "      <th>month</th>\n",
       "      <th>day</th>\n",
       "      <th>emissions</th>\n",
       "      <th>day_fogs</th>\n",
       "      <th>max_wind_speed</th>\n",
       "      <th>avg_wind_speed</th>\n",
       "      <th>min_wind_speed</th>\n",
       "      <th>max_temp</th>\n",
       "      <th>avg_temp</th>\n",
       "      <th>min_temp</th>\n",
       "    </tr>\n",
       "  </thead>\n",
       "  <tbody>\n",
       "    <tr>\n",
       "      <th>count</th>\n",
       "      <td>56646.000000</td>\n",
       "      <td>56646.000000</td>\n",
       "      <td>56646.000000</td>\n",
       "      <td>56646.000000</td>\n",
       "      <td>8.200000e+01</td>\n",
       "      <td>56646.000000</td>\n",
       "      <td>56646.000000</td>\n",
       "      <td>56646.000000</td>\n",
       "      <td>56646.000000</td>\n",
       "      <td>56646.000000</td>\n",
       "      <td>56646.000000</td>\n",
       "      <td>56646.000000</td>\n",
       "    </tr>\n",
       "    <tr>\n",
       "      <th>mean</th>\n",
       "      <td>28322.500000</td>\n",
       "      <td>2012.934717</td>\n",
       "      <td>6.500212</td>\n",
       "      <td>14.482541</td>\n",
       "      <td>3.943982e+05</td>\n",
       "      <td>2.214896</td>\n",
       "      <td>15.516128</td>\n",
       "      <td>18.007332</td>\n",
       "      <td>22.507376</td>\n",
       "      <td>9.461657</td>\n",
       "      <td>10.458664</td>\n",
       "      <td>13.433311</td>\n",
       "    </tr>\n",
       "    <tr>\n",
       "      <th>std</th>\n",
       "      <td>16352.436011</td>\n",
       "      <td>3.855421</td>\n",
       "      <td>3.439418</td>\n",
       "      <td>8.062658</td>\n",
       "      <td>4.638365e+05</td>\n",
       "      <td>3.691141</td>\n",
       "      <td>3.054848</td>\n",
       "      <td>2.308368</td>\n",
       "      <td>3.044621</td>\n",
       "      <td>5.214642</td>\n",
       "      <td>5.076520</td>\n",
       "      <td>5.205377</td>\n",
       "    </tr>\n",
       "    <tr>\n",
       "      <th>min</th>\n",
       "      <td>0.000000</td>\n",
       "      <td>2007.000000</td>\n",
       "      <td>1.000000</td>\n",
       "      <td>1.000000</td>\n",
       "      <td>1.120800e+00</td>\n",
       "      <td>0.000000</td>\n",
       "      <td>9.384235</td>\n",
       "      <td>14.140999</td>\n",
       "      <td>16.424467</td>\n",
       "      <td>-3.141464</td>\n",
       "      <td>0.422014</td>\n",
       "      <td>0.895952</td>\n",
       "    </tr>\n",
       "    <tr>\n",
       "      <th>25%</th>\n",
       "      <td>14161.250000</td>\n",
       "      <td>2010.000000</td>\n",
       "      <td>4.000000</td>\n",
       "      <td>8.000000</td>\n",
       "      <td>1.097500e+05</td>\n",
       "      <td>0.000000</td>\n",
       "      <td>13.315554</td>\n",
       "      <td>15.999739</td>\n",
       "      <td>20.312214</td>\n",
       "      <td>5.896431</td>\n",
       "      <td>7.191153</td>\n",
       "      <td>9.904094</td>\n",
       "    </tr>\n",
       "    <tr>\n",
       "      <th>50%</th>\n",
       "      <td>28322.500000</td>\n",
       "      <td>2013.000000</td>\n",
       "      <td>7.000000</td>\n",
       "      <td>14.000000</td>\n",
       "      <td>2.180000e+05</td>\n",
       "      <td>1.000000</td>\n",
       "      <td>15.494803</td>\n",
       "      <td>18.012590</td>\n",
       "      <td>22.513323</td>\n",
       "      <td>9.696771</td>\n",
       "      <td>10.688371</td>\n",
       "      <td>13.679253</td>\n",
       "    </tr>\n",
       "    <tr>\n",
       "      <th>75%</th>\n",
       "      <td>42483.750000</td>\n",
       "      <td>2016.000000</td>\n",
       "      <td>9.000000</td>\n",
       "      <td>22.000000</td>\n",
       "      <td>6.020000e+05</td>\n",
       "      <td>2.000000</td>\n",
       "      <td>17.718074</td>\n",
       "      <td>20.009832</td>\n",
       "      <td>24.689080</td>\n",
       "      <td>13.289559</td>\n",
       "      <td>14.210298</td>\n",
       "      <td>17.310861</td>\n",
       "    </tr>\n",
       "    <tr>\n",
       "      <th>max</th>\n",
       "      <td>56645.000000</td>\n",
       "      <td>2020.000000</td>\n",
       "      <td>12.000000</td>\n",
       "      <td>28.000000</td>\n",
       "      <td>1.951800e+06</td>\n",
       "      <td>17.000000</td>\n",
       "      <td>22.991382</td>\n",
       "      <td>21.843796</td>\n",
       "      <td>29.933603</td>\n",
       "      <td>20.938266</td>\n",
       "      <td>19.998710</td>\n",
       "      <td>22.995017</td>\n",
       "    </tr>\n",
       "  </tbody>\n",
       "</table>\n",
       "</div>"
      ],
      "text/plain": [
       "         Unnamed: 0          year         month           day     emissions  \\\n",
       "count  56646.000000  56646.000000  56646.000000  56646.000000  8.200000e+01   \n",
       "mean   28322.500000   2012.934717      6.500212     14.482541  3.943982e+05   \n",
       "std    16352.436011      3.855421      3.439418      8.062658  4.638365e+05   \n",
       "min        0.000000   2007.000000      1.000000      1.000000  1.120800e+00   \n",
       "25%    14161.250000   2010.000000      4.000000      8.000000  1.097500e+05   \n",
       "50%    28322.500000   2013.000000      7.000000     14.000000  2.180000e+05   \n",
       "75%    42483.750000   2016.000000      9.000000     22.000000  6.020000e+05   \n",
       "max    56645.000000   2020.000000     12.000000     28.000000  1.951800e+06   \n",
       "\n",
       "           day_fogs  max_wind_speed  avg_wind_speed  min_wind_speed  \\\n",
       "count  56646.000000    56646.000000    56646.000000    56646.000000   \n",
       "mean       2.214896       15.516128       18.007332       22.507376   \n",
       "std        3.691141        3.054848        2.308368        3.044621   \n",
       "min        0.000000        9.384235       14.140999       16.424467   \n",
       "25%        0.000000       13.315554       15.999739       20.312214   \n",
       "50%        1.000000       15.494803       18.012590       22.513323   \n",
       "75%        2.000000       17.718074       20.009832       24.689080   \n",
       "max       17.000000       22.991382       21.843796       29.933603   \n",
       "\n",
       "           max_temp      avg_temp      min_temp  \n",
       "count  56646.000000  56646.000000  56646.000000  \n",
       "mean       9.461657     10.458664     13.433311  \n",
       "std        5.214642      5.076520      5.205377  \n",
       "min       -3.141464      0.422014      0.895952  \n",
       "25%        5.896431      7.191153      9.904094  \n",
       "50%        9.696771     10.688371     13.679253  \n",
       "75%       13.289559     14.210298     17.310861  \n",
       "max       20.938266     19.998710     22.995017  "
      ]
     },
     "execution_count": 395,
     "metadata": {},
     "output_type": "execute_result"
    }
   ],
   "source": [
    "data1.describe() #Cheking results"
   ]
  },
  {
   "cell_type": "markdown",
   "id": "4306935c",
   "metadata": {},
   "source": [
    "### **<span style=\"color:#43A047;\">3.8 Features visualization and comparation </span>**\n",
    "\n",
    "#### **<span style=\"color:#4CAF50;\">3.8.1 Unvariate Analysis (EDA: Exploratory Data Analysis) </span>**"
   ]
  },
  {
   "cell_type": "code",
   "execution_count": 396,
   "id": "136afa08",
   "metadata": {},
   "outputs": [],
   "source": [
    "cat_cols = data1.select_dtypes(include=['category','object', 'bool_'])\n",
    "num_cols = data1.select_dtypes(include=['number','int','float'])"
   ]
  },
  {
   "cell_type": "code",
   "execution_count": 397,
   "id": "e7b285da",
   "metadata": {},
   "outputs": [],
   "source": [
    "def pie_count_chart (x, data, qty=10):\n",
    "    \"\"\"Creates a pie chart of the specific categorical feature chosen.\"\"\"\n",
    "    import plotly.subplots as sp\n",
    "    import plotly.express as px\n",
    "    df1 = pd.DataFrame()\n",
    "    df1 = data[[x]].groupby([x])[x] \\\n",
    "                         .count() \\\n",
    "                         .reset_index(name='count') \\\n",
    "                         .sort_values(['count'], ascending=False) \\\n",
    "                         .iloc[:qty]\n",
    "    \n",
    "    figure1 = px.pie(df1, values = \"count\", color_discrete_sequence=px.colors.sequential.RdBu,\n",
    "                 names = \"count\", width = 400, height = 400, hover_data=[x], \n",
    "                  labels={x:'Date'}, title='Pie Chart of the highest %d (%s)' %(qty, x))\n",
    "    figure1.show()"
   ]
  },
  {
   "cell_type": "code",
   "execution_count": 404,
   "id": "25ac4948",
   "metadata": {
    "scrolled": false
   },
   "outputs": [
    {
     "data": {
      "application/vnd.jupyter.widget-view+json": {
       "model_id": "e76d0c2f1e5a4514848d735c5729d0f5",
       "version_major": 2,
       "version_minor": 0
      },
      "text/plain": [
       "interactive(children=(Dropdown(description='x', options=('continent', 'country', 'city', 'city_id', 'sector', …"
      ]
     },
     "metadata": {},
     "output_type": "display_data"
    },
    {
     "data": {
      "text/plain": [
       "<function __main__.pie_count_chart(x, data, qty=10)>"
      ]
     },
     "execution_count": 404,
     "metadata": {},
     "output_type": "execute_result"
    }
   ],
   "source": [
    "interact(pie_count_chart,\n",
    "         x = cat_cols.columns,\n",
    "         data = fixed(cat_cols),\n",
    "         qty= IntSlider(min=0, max=100, step=1))"
   ]
  },
  {
   "cell_type": "markdown",
   "id": "db978606",
   "metadata": {},
   "source": [
    "#### **<span style=\"color:#4CAF50;\">3.8.2 Bar Plot Bivariate Analysis (EDA: Exploratory Data Analysis) </span>**"
   ]
  },
  {
   "cell_type": "code",
   "execution_count": 405,
   "id": "cbc33486",
   "metadata": {},
   "outputs": [],
   "source": [
    "def plotting_bar (x,y,bar,data,qty):\n",
    "    import plotly.subplots as sp\n",
    "    import plotly.express as px\n",
    "    if x != y:\n",
    "        df1 = data[[x, y, bar]].groupby([x, bar])[y] \\\n",
    "                                 .count() \\\n",
    "                                 .reset_index(name=y) \\\n",
    "                                 .sort_values([y], ascending=False) \\\n",
    "                                 .head(qty)\n",
    "        figure1  = px.bar(df1, x=x, y=y, color=str(bar), barmode='group', height=400, width=700 ,\n",
    "                          title='Bar graph (%s) vs (%s) of the greaters %d ' %(x, y, qty))\n",
    "        figure1.show()\n",
    "    else:\n",
    "        print(\"Feature selection problem.\")"
   ]
  },
  {
   "cell_type": "code",
   "execution_count": 406,
   "id": "2629ca87",
   "metadata": {
    "scrolled": false
   },
   "outputs": [
    {
     "data": {
      "application/vnd.jupyter.widget-view+json": {
       "model_id": "9b148a7e38d64e3d9bb31f5f7c1238b5",
       "version_major": 2,
       "version_minor": 0
      },
      "text/plain": [
       "interactive(children=(Dropdown(description='x', options=('Unnamed: 0', 'year', 'month', 'day', 'continent', 'c…"
      ]
     },
     "metadata": {},
     "output_type": "display_data"
    },
    {
     "data": {
      "text/plain": [
       "<function __main__.plotting_bar(x, y, bar, data, qty)>"
      ]
     },
     "execution_count": 406,
     "metadata": {},
     "output_type": "execute_result"
    }
   ],
   "source": [
    "interact(plotting_bar,\n",
    "         x= list(data1.columns[:-1]), # X to conrast\n",
    "         y= list(data1.columns[:-1]), #y to cuanify \n",
    "         bar = fixed(data1.columns[-1]), # Qty of bars to plot\n",
    "         data = fixed(data1),\n",
    "         qty= IntSlider(min=0, max=100, step=1))"
   ]
  },
  {
   "cell_type": "markdown",
   "id": "3508b23f",
   "metadata": {},
   "source": [
    "#### **<span style=\"color:#4CAF50;\">3.8.3 Heat Map Continuous Data (EDA: Exploratory Data Analysis) </span>**"
   ]
  },
  {
   "cell_type": "code",
   "execution_count": 407,
   "id": "1c5a9fbb",
   "metadata": {
    "scrolled": false
   },
   "outputs": [
    {
     "data": {
      "image/png": "[encoded data removed]",
      "text/plain": [
       "<Figure size 1080x1080 with 2 Axes>"
      ]
     },
     "metadata": {
      "needs_background": "light"
     },
     "output_type": "display_data"
    }
   ],
   "source": [
    "X = data1.iloc[:,0:23]  #independent columns\n",
    "y = data1.iloc[:,-1]    #target column i.e price range\n",
    "#get correlations of each features in dataset\n",
    "corrmat = data1.corr()\n",
    "top_corr_features = corrmat.index\n",
    "plt.figure(figsize=(15,15))\n",
    "#plot heat map\n",
    "g=sns.heatmap(data1[top_corr_features].corr(),annot=True,cmap=\"RdYlGn\")"
   ]
  },
  {
   "cell_type": "markdown",
   "id": "3cdc6aa2",
   "metadata": {},
   "source": [
    "#### **<span style=\"color:#4CAF50;\">3.8.4 Heat Map Categorical Data (EDA: Exploratory Data Analysis) </span>**"
   ]
  },
  {
   "cell_type": "code",
   "execution_count": 410,
   "id": "bf42da69",
   "metadata": {},
   "outputs": [],
   "source": [
    "def finding_correlations(df):\n",
    "    \"Bivariate analysis for categorical data\"\n",
    "    from sklearn.preprocessing import LabelEncoder\n",
    "    flag = True\n",
    "    cat_cols = df.select_dtypes(include=['category','object', 'bool_'])\n",
    "    cat_cols = cat_cols.dropna()\n",
    "    labelencoder = LabelEncoder()\n",
    "    for i in cat_cols.columns.values.tolist():\n",
    "        if flag:\n",
    "            cat_cols[i] = labelencoder.fit_transform(cat_cols[[i]])\n",
    "            cat_cols=cat_cols.sort_values(i)\n",
    "        else:\n",
    "            cat_cols[i] = pd.factorize(cat_cols[i])[0]\n",
    "            \n",
    "        flag = False\n",
    "            \n",
    "    corrmat = cat_cols.corr()\n",
    "    top_corr_features = corrmat.index\n",
    "    plt.figure(figsize=(15,15))\n",
    "    #plot heat map\n",
    "    g=sns.heatmap(cat_cols[top_corr_features].corr(),annot=True,cmap=\"RdYlGn\")"
   ]
  },
  {
   "cell_type": "code",
   "execution_count": 411,
   "id": "9acc4981",
   "metadata": {
    "scrolled": false
   },
   "outputs": [
    {
     "data": {
      "image/png": "[encoded data removed]",
      "text/plain": [
       "<Figure size 1080x1080 with 2 Axes>"
      ]
     },
     "metadata": {
      "needs_background": "light"
     },
     "output_type": "display_data"
    }
   ],
   "source": [
    "finding_correlations(data1)"
   ]
  },
  {
   "cell_type": "code",
   "execution_count": 412,
   "id": "74afe197",
   "metadata": {},
   "outputs": [
    {
     "data": {
      "text/plain": [
       "(56646, 25)"
      ]
     },
     "execution_count": 412,
     "metadata": {},
     "output_type": "execute_result"
    }
   ],
   "source": [
    "data1.shape"
   ]
  },
  {
   "cell_type": "markdown",
   "id": "2d09e550",
   "metadata": {},
   "source": [
    "---------------------------------------------------------------------------------------------------------------"
   ]
  },
  {
   "cell_type": "markdown",
   "id": "75480f32",
   "metadata": {},
   "source": [
    "### **<span style=\"color:#43A047;\">3.9 Deleting unnecessary features:</span>** \n",
    "\n",
    "In this section, based on the univariate and bivariate analysis and the graphs obtained with them, we can say that the variables:\n",
    "\n",
    "**Categoriclal variables:**\n",
    "\n",
    "* **Unnamed: 0**: Since it is noise variable.\n",
    "* **continent**: Since it is a single continent (EUROPE)\n",
    "* **city & city_id**: Since both reflects exact the same information, and the distribucion is quite iqual in both cases.\n",
    "* **activity**: Since this variable is directly correlated with the **facility_code**.\n",
    "* **sector_code**: Since this variable is directly correlated with the **sector**.\n",
    "* **facility_name**: Since it is uniformly distributed and there are no signs that any variable stands out over another\n",
    "and it is correlated with **facility_id**.\n",
    "* **target_release**: Since 99.9% is AIR, and this does not provide useful information.\n",
    "* **reporter_name**: Since it is uniformly distributed and there are no signs that any variable stands out over another.\n",
    "\n",
    "**Continuous variables:**\n",
    "\n",
    "* **max_temp**: Since it is strongly correlated with average temperature.\n",
    "* **min_temp**: Since it is strongly correlated with average temperature.\n",
    "\n",
    "* **emissions**: Since there are only 82 datas from 56646 = %0.003\n",
    "\n",
    "do not contribute relevant information to the result."
   ]
  },
  {
   "cell_type": "code",
   "execution_count": 413,
   "id": "af889a68",
   "metadata": {},
   "outputs": [],
   "source": [
    "data1.drop(['emissions','Unnamed: 0','continent','city','city_id', 'activity', 'sector_code', 'facility_name', 'target_release', 'reporter_name','reporter_name', 'max_temp', 'min_temp'], inplace=True, axis=1)"
   ]
  },
  {
   "cell_type": "code",
   "execution_count": 414,
   "id": "d7a3b564",
   "metadata": {},
   "outputs": [
    {
     "data": {
      "image/png": "[encoded data removed]",
      "text/plain": [
       "<Figure size 1080x1080 with 2 Axes>"
      ]
     },
     "metadata": {
      "needs_background": "light"
     },
     "output_type": "display_data"
    }
   ],
   "source": [
    "finding_correlations(data1)"
   ]
  },
  {
   "cell_type": "markdown",
   "id": "ffb48fc8",
   "metadata": {},
   "source": [
    "We checked again and found that there are still correlations, so we will eliminate them, **facility_code** and **facility_id**"
   ]
  },
  {
   "cell_type": "code",
   "execution_count": 415,
   "id": "d240ad4b",
   "metadata": {},
   "outputs": [],
   "source": [
    "data1.drop([\"facility_id\",\"facility_code\"], inplace=True, axis=1)"
   ]
  },
  {
   "cell_type": "code",
   "execution_count": 416,
   "id": "dcb0566c",
   "metadata": {},
   "outputs": [
    {
     "data": {
      "image/png": "[encoded data removed]",
      "text/plain": [
       "<Figure size 1080x1080 with 2 Axes>"
      ]
     },
     "metadata": {
      "needs_background": "light"
     },
     "output_type": "display_data"
    }
   ],
   "source": [
    "finding_correlations(data1)"
   ]
  },
  {
   "cell_type": "markdown",
   "id": "768701e7",
   "metadata": {},
   "source": [
    "Now we are ready to continue"
   ]
  },
  {
   "cell_type": "code",
   "execution_count": 417,
   "id": "94137adc",
   "metadata": {},
   "outputs": [
    {
     "data": {
      "text/plain": [
       "Index(['year', 'month', 'day', 'country', 'sector', 'day_fogs',\n",
       "       'max_wind_speed', 'avg_wind_speed', 'min_wind_speed', 'avg_temp',\n",
       "       'pollutant'],\n",
       "      dtype='object')"
      ]
     },
     "execution_count": 417,
     "metadata": {},
     "output_type": "execute_result"
    }
   ],
   "source": [
    "data1.columns"
   ]
  },
  {
   "cell_type": "code",
   "execution_count": 418,
   "id": "54f3a9d5",
   "metadata": {},
   "outputs": [
    {
     "data": {
      "text/plain": [
       "year              0\n",
       "month             0\n",
       "day               0\n",
       "country           0\n",
       "sector            0\n",
       "day_fogs          0\n",
       "max_wind_speed    0\n",
       "avg_wind_speed    0\n",
       "min_wind_speed    0\n",
       "avg_temp          0\n",
       "pollutant         0\n",
       "dtype: int64"
      ]
     },
     "execution_count": 418,
     "metadata": {},
     "output_type": "execute_result"
    }
   ],
   "source": [
    "data1.isnull().sum() # Checking for any nan"
   ]
  },
  {
   "cell_type": "markdown",
   "id": "61675ef5",
   "metadata": {},
   "source": [
    "### **<span style=\"color:#43A047;\">3.10 Creating dummy and encoding if necesary</span>** "
   ]
  },
  {
   "cell_type": "markdown",
   "id": "ff849d83",
   "metadata": {},
   "source": [
    "####  **<span style=\"color:#4CAF50;\">3.10.1 Encoding </span>**  \n",
    "First we will encode according to the pre-written requirements."
   ]
  },
  {
   "cell_type": "markdown",
   "id": "76e806c6",
   "metadata": {},
   "source": [
    "### Pro Method"
   ]
  },
  {
   "cell_type": "code",
   "execution_count": 419,
   "id": "8cbbd3ac",
   "metadata": {},
   "outputs": [],
   "source": [
    "labels = ['Carbon dioxide (CO2)','Nitrogen oxides (NOX)','Methane (CH4)']"
   ]
  },
  {
   "cell_type": "code",
   "execution_count": 420,
   "id": "f2dd088a",
   "metadata": {},
   "outputs": [
    {
     "data": {
      "text/plain": [
       "LabelEncoder()"
      ]
     },
     "execution_count": 420,
     "metadata": {},
     "output_type": "execute_result"
    }
   ],
   "source": [
    "encoder = preprocessing.LabelEncoder()\n",
    "encoder.fit(labels)"
   ]
  },
  {
   "cell_type": "code",
   "execution_count": 421,
   "id": "5784a234",
   "metadata": {},
   "outputs": [
    {
     "name": "stdout",
     "output_type": "stream",
     "text": [
      "Carbon dioxide (CO2) => 0\n",
      "Methane (CH4) => 1\n",
      "Nitrogen oxides (NOX) => 2\n"
     ]
    }
   ],
   "source": [
    "for i, item in enumerate(encoder.classes_):\n",
    "    print(item, '=>',i)"
   ]
  },
  {
   "cell_type": "code",
   "execution_count": 422,
   "id": "ca4a6b9b",
   "metadata": {},
   "outputs": [],
   "source": [
    "data1['pollutant'] = encoder.transform(data1['pollutant'])"
   ]
  },
  {
   "cell_type": "markdown",
   "id": "82460801",
   "metadata": {},
   "source": [
    "### Newe Method"
   ]
  },
  {
   "cell_type": "code",
   "execution_count": 367,
   "id": "4c9b16c5",
   "metadata": {},
   "outputs": [
    {
     "data": {
      "text/plain": [
       "array([0, 2, 1])"
      ]
     },
     "execution_count": 367,
     "metadata": {},
     "output_type": "execute_result"
    }
   ],
   "source": [
    "data1['pollutant'].unique()"
   ]
  },
  {
   "cell_type": "code",
   "execution_count": 86,
   "id": "a882c51d",
   "metadata": {},
   "outputs": [],
   "source": [
    "data1['pollutant'].replace({'Carbon dioxide (CO2)':0, 'Nitrogen oxides (NOX)':1, 'Methane (CH4)':2}, inplace=True)"
   ]
  },
  {
   "cell_type": "markdown",
   "id": "c166350e",
   "metadata": {},
   "source": [
    "####  **<span style=\"color:#4CAF50;\">3.10.2 Dummyzing </span>**  "
   ]
  },
  {
   "cell_type": "code",
   "execution_count": 424,
   "id": "a17839f9",
   "metadata": {},
   "outputs": [],
   "source": [
    "cat_cols = data1.select_dtypes(include=['category','object', 'bool_'])\n",
    "num_cols = data1.select_dtypes(include=['number','int','float'])"
   ]
  },
  {
   "cell_type": "code",
   "execution_count": 425,
   "id": "cd28c1d2",
   "metadata": {
    "scrolled": true
   },
   "outputs": [
    {
     "name": "stdout",
     "output_type": "stream",
     "text": [
      "\n",
      "\n",
      "country\n",
      "\n",
      "\n",
      "['Germany' 'Italy' 'Spain' 'Czechia' 'Finland' 'Switzerland' 'France'\n",
      " 'Poland' 'United Kingdom' 'Sweden' 'Romania' 'Netherlands' 'Austria'\n",
      " 'Ireland' 'Hungary' 'Portugal' 'Luxembourg' 'Cyprus' 'Estonia' 'Belgium'\n",
      " 'Bulgaria' 'Lithuania' 'Greece' 'Denmark' 'Iceland' 'Slovenia' 'Norway'\n",
      " 'Croatia' 'Malta' 'Serbia' 'Slovakia' 'Latvia']\n",
      "32\n",
      "\n",
      "\n",
      "sector\n",
      "\n",
      "\n",
      "['Mineral industry' 'Waste and wastewater management' 'Energy sector'\n",
      " 'Paper and wood production and processing' 'Chemical industry'\n",
      " 'Production and processing of metals'\n",
      " 'Intensive livestock production and aquaculture'\n",
      " 'Animal and vegetable products from the food and beverage sector'\n",
      " 'Other activities']\n",
      "9\n"
     ]
    }
   ],
   "source": [
    "for i in cat_cols.columns.values.tolist():\n",
    "    print(\"\\n\")\n",
    "    print(i)\n",
    "    print(\"\\n\")\n",
    "    print(data1[i].unique())\n",
    "    print(len(data1[i].unique()))"
   ]
  },
  {
   "cell_type": "code",
   "execution_count": 426,
   "id": "bb08003a",
   "metadata": {},
   "outputs": [
    {
     "data": {
      "text/plain": [
       "array([0, 2, 1])"
      ]
     },
     "execution_count": 426,
     "metadata": {},
     "output_type": "execute_result"
    }
   ],
   "source": [
    "data1['pollutant'].unique()"
   ]
  },
  {
   "cell_type": "code",
   "execution_count": 428,
   "id": "fc24c808",
   "metadata": {},
   "outputs": [],
   "source": [
    "categories = cat_cols.columns.values.tolist()\n",
    "for category in categories:\n",
    "    cat_list = \"cat\" + \"_\" + category\n",
    "    cat_dummies = pd.get_dummies(data1[category], prefix=cat_list)\n",
    "    data1 = data1.join(cat_dummies[:-1]) ## WIP THERE IS NOT NECESARY TO ADD ALL THE DUMMY, CAUSE COULD IT BE REDUNDANT\n",
    "    del data1[category] #Deleting original dummie variable"
   ]
  },
  {
   "cell_type": "code",
   "execution_count": 429,
   "id": "266b45be",
   "metadata": {},
   "outputs": [
    {
     "data": {
      "text/html": [
       "<div>\n",
       "<style scoped>\n",
       "    .dataframe tbody tr th:only-of-type {\n",
       "        vertical-align: middle;\n",
       "    }\n",
       "\n",
       "    .dataframe tbody tr th {\n",
       "        vertical-align: top;\n",
       "    }\n",
       "\n",
       "    .dataframe thead th {\n",
       "        text-align: right;\n",
       "    }\n",
       "</style>\n",
       "<table border=\"1\" class=\"dataframe\">\n",
       "  <thead>\n",
       "    <tr style=\"text-align: right;\">\n",
       "      <th></th>\n",
       "      <th>year</th>\n",
       "      <th>month</th>\n",
       "      <th>day</th>\n",
       "      <th>day_fogs</th>\n",
       "      <th>max_wind_speed</th>\n",
       "      <th>avg_wind_speed</th>\n",
       "      <th>min_wind_speed</th>\n",
       "      <th>avg_temp</th>\n",
       "      <th>pollutant</th>\n",
       "      <th>cat_country_Austria</th>\n",
       "      <th>...</th>\n",
       "      <th>cat_country_United Kingdom</th>\n",
       "      <th>cat_sector_Animal and vegetable products from the food and beverage sector</th>\n",
       "      <th>cat_sector_Chemical industry</th>\n",
       "      <th>cat_sector_Energy sector</th>\n",
       "      <th>cat_sector_Intensive livestock production and aquaculture</th>\n",
       "      <th>cat_sector_Mineral industry</th>\n",
       "      <th>cat_sector_Other activities</th>\n",
       "      <th>cat_sector_Paper and wood production and processing</th>\n",
       "      <th>cat_sector_Production and processing of metals</th>\n",
       "      <th>cat_sector_Waste and wastewater management</th>\n",
       "    </tr>\n",
       "  </thead>\n",
       "  <tbody>\n",
       "    <tr>\n",
       "      <th>0</th>\n",
       "      <td>2015</td>\n",
       "      <td>10</td>\n",
       "      <td>20</td>\n",
       "      <td>2.0</td>\n",
       "      <td>15.118767</td>\n",
       "      <td>14.312541</td>\n",
       "      <td>21.419106</td>\n",
       "      <td>4.924169</td>\n",
       "      <td>0</td>\n",
       "      <td>0.0</td>\n",
       "      <td>...</td>\n",
       "      <td>0.0</td>\n",
       "      <td>0.0</td>\n",
       "      <td>0.0</td>\n",
       "      <td>0.0</td>\n",
       "      <td>0.0</td>\n",
       "      <td>1.0</td>\n",
       "      <td>0.0</td>\n",
       "      <td>0.0</td>\n",
       "      <td>0.0</td>\n",
       "      <td>0.0</td>\n",
       "    </tr>\n",
       "    <tr>\n",
       "      <th>1</th>\n",
       "      <td>2018</td>\n",
       "      <td>9</td>\n",
       "      <td>21</td>\n",
       "      <td>1.0</td>\n",
       "      <td>19.661550</td>\n",
       "      <td>19.368166</td>\n",
       "      <td>21.756389</td>\n",
       "      <td>7.864403</td>\n",
       "      <td>2</td>\n",
       "      <td>0.0</td>\n",
       "      <td>...</td>\n",
       "      <td>0.0</td>\n",
       "      <td>0.0</td>\n",
       "      <td>0.0</td>\n",
       "      <td>0.0</td>\n",
       "      <td>0.0</td>\n",
       "      <td>1.0</td>\n",
       "      <td>0.0</td>\n",
       "      <td>0.0</td>\n",
       "      <td>0.0</td>\n",
       "      <td>0.0</td>\n",
       "    </tr>\n",
       "    <tr>\n",
       "      <th>2</th>\n",
       "      <td>2019</td>\n",
       "      <td>2</td>\n",
       "      <td>4</td>\n",
       "      <td>2.0</td>\n",
       "      <td>12.729453</td>\n",
       "      <td>14.701985</td>\n",
       "      <td>17.103930</td>\n",
       "      <td>4.233438</td>\n",
       "      <td>1</td>\n",
       "      <td>0.0</td>\n",
       "      <td>...</td>\n",
       "      <td>0.0</td>\n",
       "      <td>0.0</td>\n",
       "      <td>0.0</td>\n",
       "      <td>0.0</td>\n",
       "      <td>0.0</td>\n",
       "      <td>0.0</td>\n",
       "      <td>0.0</td>\n",
       "      <td>0.0</td>\n",
       "      <td>0.0</td>\n",
       "      <td>1.0</td>\n",
       "    </tr>\n",
       "    <tr>\n",
       "      <th>3</th>\n",
       "      <td>2012</td>\n",
       "      <td>8</td>\n",
       "      <td>6</td>\n",
       "      <td>0.0</td>\n",
       "      <td>11.856417</td>\n",
       "      <td>16.122584</td>\n",
       "      <td>17.537184</td>\n",
       "      <td>10.298348</td>\n",
       "      <td>2</td>\n",
       "      <td>0.0</td>\n",
       "      <td>...</td>\n",
       "      <td>0.0</td>\n",
       "      <td>0.0</td>\n",
       "      <td>0.0</td>\n",
       "      <td>1.0</td>\n",
       "      <td>0.0</td>\n",
       "      <td>0.0</td>\n",
       "      <td>0.0</td>\n",
       "      <td>0.0</td>\n",
       "      <td>0.0</td>\n",
       "      <td>0.0</td>\n",
       "    </tr>\n",
       "    <tr>\n",
       "      <th>4</th>\n",
       "      <td>2018</td>\n",
       "      <td>12</td>\n",
       "      <td>22</td>\n",
       "      <td>2.0</td>\n",
       "      <td>17.111930</td>\n",
       "      <td>20.201604</td>\n",
       "      <td>21.536012</td>\n",
       "      <td>11.344078</td>\n",
       "      <td>1</td>\n",
       "      <td>0.0</td>\n",
       "      <td>...</td>\n",
       "      <td>0.0</td>\n",
       "      <td>0.0</td>\n",
       "      <td>0.0</td>\n",
       "      <td>0.0</td>\n",
       "      <td>0.0</td>\n",
       "      <td>0.0</td>\n",
       "      <td>0.0</td>\n",
       "      <td>0.0</td>\n",
       "      <td>0.0</td>\n",
       "      <td>1.0</td>\n",
       "    </tr>\n",
       "  </tbody>\n",
       "</table>\n",
       "<p>5 rows × 50 columns</p>\n",
       "</div>"
      ],
      "text/plain": [
       "   year  month  day  day_fogs  max_wind_speed  avg_wind_speed  min_wind_speed  \\\n",
       "0  2015     10   20       2.0       15.118767       14.312541       21.419106   \n",
       "1  2018      9   21       1.0       19.661550       19.368166       21.756389   \n",
       "2  2019      2    4       2.0       12.729453       14.701985       17.103930   \n",
       "3  2012      8    6       0.0       11.856417       16.122584       17.537184   \n",
       "4  2018     12   22       2.0       17.111930       20.201604       21.536012   \n",
       "\n",
       "    avg_temp  pollutant  cat_country_Austria  ...  cat_country_United Kingdom  \\\n",
       "0   4.924169          0                  0.0  ...                         0.0   \n",
       "1   7.864403          2                  0.0  ...                         0.0   \n",
       "2   4.233438          1                  0.0  ...                         0.0   \n",
       "3  10.298348          2                  0.0  ...                         0.0   \n",
       "4  11.344078          1                  0.0  ...                         0.0   \n",
       "\n",
       "   cat_sector_Animal and vegetable products from the food and beverage sector  \\\n",
       "0                                                0.0                            \n",
       "1                                                0.0                            \n",
       "2                                                0.0                            \n",
       "3                                                0.0                            \n",
       "4                                                0.0                            \n",
       "\n",
       "   cat_sector_Chemical industry  cat_sector_Energy sector  \\\n",
       "0                           0.0                       0.0   \n",
       "1                           0.0                       0.0   \n",
       "2                           0.0                       0.0   \n",
       "3                           0.0                       1.0   \n",
       "4                           0.0                       0.0   \n",
       "\n",
       "   cat_sector_Intensive livestock production and aquaculture  \\\n",
       "0                                                0.0           \n",
       "1                                                0.0           \n",
       "2                                                0.0           \n",
       "3                                                0.0           \n",
       "4                                                0.0           \n",
       "\n",
       "   cat_sector_Mineral industry  cat_sector_Other activities  \\\n",
       "0                          1.0                          0.0   \n",
       "1                          1.0                          0.0   \n",
       "2                          0.0                          0.0   \n",
       "3                          0.0                          0.0   \n",
       "4                          0.0                          0.0   \n",
       "\n",
       "   cat_sector_Paper and wood production and processing  \\\n",
       "0                                                0.0     \n",
       "1                                                0.0     \n",
       "2                                                0.0     \n",
       "3                                                0.0     \n",
       "4                                                0.0     \n",
       "\n",
       "   cat_sector_Production and processing of metals  \\\n",
       "0                                             0.0   \n",
       "1                                             0.0   \n",
       "2                                             0.0   \n",
       "3                                             0.0   \n",
       "4                                             0.0   \n",
       "\n",
       "   cat_sector_Waste and wastewater management  \n",
       "0                                         0.0  \n",
       "1                                         0.0  \n",
       "2                                         1.0  \n",
       "3                                         0.0  \n",
       "4                                         1.0  \n",
       "\n",
       "[5 rows x 50 columns]"
      ]
     },
     "execution_count": 429,
     "metadata": {},
     "output_type": "execute_result"
    }
   ],
   "source": [
    "data1.head()#quick review if all goes well"
   ]
  },
  {
   "cell_type": "markdown",
   "id": "b3c26847",
   "metadata": {},
   "source": [
    "---------------------------------------------------------------------"
   ]
  },
  {
   "cell_type": "code",
   "execution_count": 430,
   "id": "f9203645",
   "metadata": {},
   "outputs": [
    {
     "data": {
      "text/plain": [
       "year                                                                          0\n",
       "month                                                                         0\n",
       "day                                                                           0\n",
       "day_fogs                                                                      0\n",
       "max_wind_speed                                                                0\n",
       "avg_wind_speed                                                                0\n",
       "min_wind_speed                                                                0\n",
       "avg_temp                                                                      0\n",
       "pollutant                                                                     0\n",
       "cat_country_Austria                                                           1\n",
       "cat_country_Belgium                                                           1\n",
       "cat_country_Bulgaria                                                          1\n",
       "cat_country_Croatia                                                           1\n",
       "cat_country_Cyprus                                                            1\n",
       "cat_country_Czechia                                                           1\n",
       "cat_country_Denmark                                                           1\n",
       "cat_country_Estonia                                                           1\n",
       "cat_country_Finland                                                           1\n",
       "cat_country_France                                                            1\n",
       "cat_country_Germany                                                           1\n",
       "cat_country_Greece                                                            1\n",
       "cat_country_Hungary                                                           1\n",
       "cat_country_Iceland                                                           1\n",
       "cat_country_Ireland                                                           1\n",
       "cat_country_Italy                                                             1\n",
       "cat_country_Latvia                                                            1\n",
       "cat_country_Lithuania                                                         1\n",
       "cat_country_Luxembourg                                                        1\n",
       "cat_country_Malta                                                             1\n",
       "cat_country_Netherlands                                                       1\n",
       "cat_country_Norway                                                            1\n",
       "cat_country_Poland                                                            1\n",
       "cat_country_Portugal                                                          1\n",
       "cat_country_Romania                                                           1\n",
       "cat_country_Serbia                                                            1\n",
       "cat_country_Slovakia                                                          1\n",
       "cat_country_Slovenia                                                          1\n",
       "cat_country_Spain                                                             1\n",
       "cat_country_Sweden                                                            1\n",
       "cat_country_Switzerland                                                       1\n",
       "cat_country_United Kingdom                                                    1\n",
       "cat_sector_Animal and vegetable products from the food and beverage sector    1\n",
       "cat_sector_Chemical industry                                                  1\n",
       "cat_sector_Energy sector                                                      1\n",
       "cat_sector_Intensive livestock production and aquaculture                     1\n",
       "cat_sector_Mineral industry                                                   1\n",
       "cat_sector_Other activities                                                   1\n",
       "cat_sector_Paper and wood production and processing                           1\n",
       "cat_sector_Production and processing of metals                                1\n",
       "cat_sector_Waste and wastewater management                                    1\n",
       "dtype: int64"
      ]
     },
     "execution_count": 430,
     "metadata": {},
     "output_type": "execute_result"
    }
   ],
   "source": [
    "data1.isnull().sum()"
   ]
  },
  {
   "cell_type": "code",
   "execution_count": 431,
   "id": "4e83d902",
   "metadata": {},
   "outputs": [],
   "source": [
    "data1 = data1.dropna()"
   ]
  },
  {
   "cell_type": "code",
   "execution_count": 432,
   "id": "8c576bdc",
   "metadata": {
    "scrolled": true
   },
   "outputs": [
    {
     "data": {
      "text/plain": [
       "year                                                                          0\n",
       "month                                                                         0\n",
       "day                                                                           0\n",
       "day_fogs                                                                      0\n",
       "max_wind_speed                                                                0\n",
       "avg_wind_speed                                                                0\n",
       "min_wind_speed                                                                0\n",
       "avg_temp                                                                      0\n",
       "pollutant                                                                     0\n",
       "cat_country_Austria                                                           0\n",
       "cat_country_Belgium                                                           0\n",
       "cat_country_Bulgaria                                                          0\n",
       "cat_country_Croatia                                                           0\n",
       "cat_country_Cyprus                                                            0\n",
       "cat_country_Czechia                                                           0\n",
       "cat_country_Denmark                                                           0\n",
       "cat_country_Estonia                                                           0\n",
       "cat_country_Finland                                                           0\n",
       "cat_country_France                                                            0\n",
       "cat_country_Germany                                                           0\n",
       "cat_country_Greece                                                            0\n",
       "cat_country_Hungary                                                           0\n",
       "cat_country_Iceland                                                           0\n",
       "cat_country_Ireland                                                           0\n",
       "cat_country_Italy                                                             0\n",
       "cat_country_Latvia                                                            0\n",
       "cat_country_Lithuania                                                         0\n",
       "cat_country_Luxembourg                                                        0\n",
       "cat_country_Malta                                                             0\n",
       "cat_country_Netherlands                                                       0\n",
       "cat_country_Norway                                                            0\n",
       "cat_country_Poland                                                            0\n",
       "cat_country_Portugal                                                          0\n",
       "cat_country_Romania                                                           0\n",
       "cat_country_Serbia                                                            0\n",
       "cat_country_Slovakia                                                          0\n",
       "cat_country_Slovenia                                                          0\n",
       "cat_country_Spain                                                             0\n",
       "cat_country_Sweden                                                            0\n",
       "cat_country_Switzerland                                                       0\n",
       "cat_country_United Kingdom                                                    0\n",
       "cat_sector_Animal and vegetable products from the food and beverage sector    0\n",
       "cat_sector_Chemical industry                                                  0\n",
       "cat_sector_Energy sector                                                      0\n",
       "cat_sector_Intensive livestock production and aquaculture                     0\n",
       "cat_sector_Mineral industry                                                   0\n",
       "cat_sector_Other activities                                                   0\n",
       "cat_sector_Paper and wood production and processing                           0\n",
       "cat_sector_Production and processing of metals                                0\n",
       "cat_sector_Waste and wastewater management                                    0\n",
       "dtype: int64"
      ]
     },
     "execution_count": 432,
     "metadata": {},
     "output_type": "execute_result"
    }
   ],
   "source": [
    "data1.isnull().sum()"
   ]
  },
  {
   "cell_type": "markdown",
   "id": "f3f7528e",
   "metadata": {},
   "source": [
    "### ✅  4) Preparing data for training and testing 🏃"
   ]
  },
  {
   "cell_type": "code",
   "execution_count": 433,
   "id": "236b1256",
   "metadata": {
    "scrolled": false
   },
   "outputs": [
    {
     "name": "stdout",
     "output_type": "stream",
     "text": [
      "\n",
      "printing column name where infinity is present\n",
      "Series([], dtype: object)\n"
     ]
    }
   ],
   "source": [
    "print()\n",
    "print(\"printing column name where infinity is present\")\n",
    "col_name = data1.columns.to_series()[np.isinf(data1).any()]\n",
    "print(col_name)"
   ]
  },
  {
   "cell_type": "markdown",
   "id": "1c4ba4f7",
   "metadata": {},
   "source": [
    "### **<span style=\"color:#43A047;\">4.1 Variables Stadnarization  </span>**"
   ]
  },
  {
   "cell_type": "code",
   "execution_count": 519,
   "id": "d32cb157",
   "metadata": {},
   "outputs": [],
   "source": [
    "X = data1.loc[:, data1.columns != 'pollutant'] # Assing X (feature columns)\n",
    "y = data1['pollutant']# Assing y (target column)"
   ]
  },
  {
   "cell_type": "code",
   "execution_count": 520,
   "id": "cbed2611",
   "metadata": {},
   "outputs": [],
   "source": [
    "X_train, X_test, y_train, y_test = train_test_split(X, y, test_size=0.2, random_state=0)"
   ]
  },
  {
   "cell_type": "markdown",
   "id": "9c3c1e9d",
   "metadata": {},
   "source": [
    "### **<span style=\"color:#43A047;\">4.2 Features Selection  </span>**"
   ]
  },
  {
   "cell_type": "markdown",
   "id": "37c9601e",
   "metadata": {},
   "source": [
    "#### **<span style=\"color:#43A047;\">4.2.1 Random Forest Feature Selection  </span>**"
   ]
  },
  {
   "cell_type": "code",
   "execution_count": 521,
   "id": "b861e566",
   "metadata": {},
   "outputs": [],
   "source": [
    "scaler = preprocessing.StandardScaler().fit(X_train) #Variables standarization\n",
    "X_train_s = scaler.transform(X_train) #Variables transform"
   ]
  },
  {
   "cell_type": "code",
   "execution_count": 522,
   "id": "430f72c3",
   "metadata": {},
   "outputs": [],
   "source": [
    "from matplotlib import pyplot"
   ]
  },
  {
   "cell_type": "code",
   "execution_count": 713,
   "id": "448298a6",
   "metadata": {
    "scrolled": true
   },
   "outputs": [
    {
     "name": "stdout",
     "output_type": "stream",
     "text": [
      "Feature: 0, Score: 0.05991\n",
      "Feature: 1, Score: 0.05656\n",
      "Feature: 2, Score: 0.09252\n",
      "Feature: 3, Score: 0.03907\n",
      "Feature: 4, Score: 0.13899\n",
      "Feature: 5, Score: 0.13296\n",
      "Feature: 6, Score: 0.14110\n",
      "Feature: 7, Score: 0.13628\n",
      "Feature: 8, Score: 0.05885\n",
      "Feature: 9, Score: 0.14376\n"
     ]
    },
    {
     "data": {
      "image/png": "[encoded data removed]",
      "text/plain": [
       "<Figure size 432x288 with 1 Axes>"
      ]
     },
     "metadata": {
      "needs_background": "light"
     },
     "output_type": "display_data"
    }
   ],
   "source": [
    "# define the model\n",
    "model = DecisionTreeClassifier()\n",
    "# fit the model\n",
    "model.fit(X_train_s, y_train)\n",
    "# get importance\n",
    "importance = model.feature_importances_\n",
    "# summarize feature importance\n",
    "for i,v in enumerate(importance):\n",
    "\tprint('Feature: %0d, Score: %.5f' % (i,v))\n",
    "# plot feature importance\n",
    "pyplot.bar([x for x in range(len(importance))], importance)\n",
    "pyplot.show()"
   ]
  },
  {
   "cell_type": "code",
   "execution_count": 714,
   "id": "2826ab75",
   "metadata": {},
   "outputs": [],
   "source": [
    "features = [X_train.columns[i] for i in range(len(importance)) if importance[i] > 0.02]"
   ]
  },
  {
   "cell_type": "code",
   "execution_count": 715,
   "id": "e2e629af",
   "metadata": {},
   "outputs": [],
   "source": [
    "X_train1_filtered = X_train[features]"
   ]
  },
  {
   "cell_type": "code",
   "execution_count": 716,
   "id": "a946fde1",
   "metadata": {},
   "outputs": [
    {
     "data": {
      "text/html": [
       "<div>\n",
       "<style scoped>\n",
       "    .dataframe tbody tr th:only-of-type {\n",
       "        vertical-align: middle;\n",
       "    }\n",
       "\n",
       "    .dataframe tbody tr th {\n",
       "        vertical-align: top;\n",
       "    }\n",
       "\n",
       "    .dataframe thead th {\n",
       "        text-align: right;\n",
       "    }\n",
       "</style>\n",
       "<table border=\"1\" class=\"dataframe\">\n",
       "  <thead>\n",
       "    <tr style=\"text-align: right;\">\n",
       "      <th></th>\n",
       "      <th>day_fogs</th>\n",
       "      <th>max_wind_speed</th>\n",
       "      <th>avg_wind_speed</th>\n",
       "      <th>min_wind_speed</th>\n",
       "      <th>avg_temp</th>\n",
       "      <th>cat_country_Austria</th>\n",
       "      <th>cat_country_Belgium</th>\n",
       "      <th>cat_country_Bulgaria</th>\n",
       "      <th>cat_country_Croatia</th>\n",
       "      <th>cat_country_Cyprus</th>\n",
       "    </tr>\n",
       "  </thead>\n",
       "  <tbody>\n",
       "    <tr>\n",
       "      <th>1427</th>\n",
       "      <td>2.0</td>\n",
       "      <td>16.193909</td>\n",
       "      <td>19.690303</td>\n",
       "      <td>20.774077</td>\n",
       "      <td>16.804759</td>\n",
       "      <td>0.0</td>\n",
       "      <td>0.0</td>\n",
       "      <td>0.0</td>\n",
       "      <td>0.0</td>\n",
       "      <td>0.0</td>\n",
       "    </tr>\n",
       "    <tr>\n",
       "      <th>43467</th>\n",
       "      <td>1.0</td>\n",
       "      <td>10.416204</td>\n",
       "      <td>16.398644</td>\n",
       "      <td>24.100613</td>\n",
       "      <td>14.567566</td>\n",
       "      <td>0.0</td>\n",
       "      <td>0.0</td>\n",
       "      <td>0.0</td>\n",
       "      <td>0.0</td>\n",
       "      <td>0.0</td>\n",
       "    </tr>\n",
       "    <tr>\n",
       "      <th>3947</th>\n",
       "      <td>1.0</td>\n",
       "      <td>12.275077</td>\n",
       "      <td>17.864097</td>\n",
       "      <td>24.761917</td>\n",
       "      <td>9.412836</td>\n",
       "      <td>0.0</td>\n",
       "      <td>0.0</td>\n",
       "      <td>0.0</td>\n",
       "      <td>0.0</td>\n",
       "      <td>0.0</td>\n",
       "    </tr>\n",
       "    <tr>\n",
       "      <th>18525</th>\n",
       "      <td>1.0</td>\n",
       "      <td>17.683492</td>\n",
       "      <td>21.728915</td>\n",
       "      <td>24.652552</td>\n",
       "      <td>3.930150</td>\n",
       "      <td>0.0</td>\n",
       "      <td>0.0</td>\n",
       "      <td>0.0</td>\n",
       "      <td>0.0</td>\n",
       "      <td>0.0</td>\n",
       "    </tr>\n",
       "    <tr>\n",
       "      <th>55644</th>\n",
       "      <td>1.0</td>\n",
       "      <td>10.473415</td>\n",
       "      <td>14.988209</td>\n",
       "      <td>19.192870</td>\n",
       "      <td>7.890301</td>\n",
       "      <td>0.0</td>\n",
       "      <td>0.0</td>\n",
       "      <td>0.0</td>\n",
       "      <td>0.0</td>\n",
       "      <td>0.0</td>\n",
       "    </tr>\n",
       "  </tbody>\n",
       "</table>\n",
       "</div>"
      ],
      "text/plain": [
       "       day_fogs  max_wind_speed  avg_wind_speed  min_wind_speed   avg_temp  \\\n",
       "1427        2.0       16.193909       19.690303       20.774077  16.804759   \n",
       "43467       1.0       10.416204       16.398644       24.100613  14.567566   \n",
       "3947        1.0       12.275077       17.864097       24.761917   9.412836   \n",
       "18525       1.0       17.683492       21.728915       24.652552   3.930150   \n",
       "55644       1.0       10.473415       14.988209       19.192870   7.890301   \n",
       "\n",
       "       cat_country_Austria  cat_country_Belgium  cat_country_Bulgaria  \\\n",
       "1427                   0.0                  0.0                   0.0   \n",
       "43467                  0.0                  0.0                   0.0   \n",
       "3947                   0.0                  0.0                   0.0   \n",
       "18525                  0.0                  0.0                   0.0   \n",
       "55644                  0.0                  0.0                   0.0   \n",
       "\n",
       "       cat_country_Croatia  cat_country_Cyprus  \n",
       "1427                   0.0                 0.0  \n",
       "43467                  0.0                 0.0  \n",
       "3947                   0.0                 0.0  \n",
       "18525                  0.0                 0.0  \n",
       "55644                  0.0                 0.0  "
      ]
     },
     "execution_count": 716,
     "metadata": {},
     "output_type": "execute_result"
    }
   ],
   "source": [
    "X_train1_filtered.head(5)"
   ]
  },
  {
   "cell_type": "code",
   "execution_count": 542,
   "id": "0fba8d31",
   "metadata": {},
   "outputs": [],
   "source": [
    "scaler = preprocessing.StandardScaler().fit(X_train1_filtered) #Variables standarization\n",
    "X_train1_s = scaler.transform(X_train1_filtered) #Variables transform"
   ]
  },
  {
   "cell_type": "code",
   "execution_count": null,
   "id": "636bb3b9",
   "metadata": {},
   "outputs": [],
   "source": []
  },
  {
   "cell_type": "code",
   "execution_count": null,
   "id": "9be18c1d",
   "metadata": {},
   "outputs": [],
   "source": []
  },
  {
   "cell_type": "markdown",
   "id": "67c94247",
   "metadata": {},
   "source": [
    "#### **<span style=\"color:#43A047;\">4.2.1 XGBClassifier Feature Selection  </span>**"
   ]
  },
  {
   "cell_type": "code",
   "execution_count": 672,
   "id": "486a5790",
   "metadata": {},
   "outputs": [],
   "source": [
    "X_train2 = X_train"
   ]
  },
  {
   "cell_type": "code",
   "execution_count": 673,
   "id": "57168ba8",
   "metadata": {},
   "outputs": [],
   "source": [
    "X_train2.drop(['year','month','day'], inplace=True, axis=1)"
   ]
  },
  {
   "cell_type": "code",
   "execution_count": 706,
   "id": "0fd7a53c",
   "metadata": {},
   "outputs": [
    {
     "data": {
      "text/plain": [
       "<Figure size 1440x1440 with 0 Axes>"
      ]
     },
     "metadata": {},
     "output_type": "display_data"
    },
    {
     "data": {
      "image/png": "[encoded data removed]",
      "text/plain": [
       "<Figure size 432x288 with 1 Axes>"
      ]
     },
     "metadata": {
      "needs_background": "light"
     },
     "output_type": "display_data"
    }
   ],
   "source": [
    "from xgboost import XGBClassifier\n",
    "from xgboost import plot_importance\n",
    "%matplotlib inline \n",
    "plt.figure(figsize=(20,20))\n",
    "model = XGBClassifier()\n",
    "model.fit(X_train2, y_train)\n",
    "# plot feature importance\n",
    "plot_importance(model)\n",
    "pyplot.show()"
   ]
  },
  {
   "cell_type": "code",
   "execution_count": 692,
   "id": "3493fa27",
   "metadata": {},
   "outputs": [
    {
     "data": {
      "text/plain": [
       "0.7250639950569335"
      ]
     },
     "execution_count": 692,
     "metadata": {},
     "output_type": "execute_result"
    }
   ],
   "source": [
    "model.score(X_train, y_train)"
   ]
  },
  {
   "cell_type": "code",
   "execution_count": 693,
   "id": "a4428aba",
   "metadata": {},
   "outputs": [],
   "source": [
    "# importance_types = [‘weight’, ‘gain’, ‘cover’, ‘total_gain’, ‘total_cover’]"
   ]
  },
  {
   "cell_type": "code",
   "execution_count": 694,
   "id": "ee69b14e",
   "metadata": {},
   "outputs": [],
   "source": [
    "f = 'weight'"
   ]
  },
  {
   "cell_type": "code",
   "execution_count": 695,
   "id": "78f63cdd",
   "metadata": {},
   "outputs": [],
   "source": [
    "importance=list((model.get_booster().get_score(importance_type= f)).values())"
   ]
  },
  {
   "cell_type": "code",
   "execution_count": 696,
   "id": "860ad972",
   "metadata": {},
   "outputs": [],
   "source": [
    "importance=np.sort(importance)[::-1]"
   ]
  },
  {
   "cell_type": "code",
   "execution_count": 697,
   "id": "5dc840ff",
   "metadata": {},
   "outputs": [
    {
     "data": {
      "text/plain": [
       "array([2.204e+03, 2.077e+03, 2.061e+03, 1.834e+03, 5.170e+02, 2.410e+02,\n",
       "       1.650e+02, 1.240e+02, 9.600e+01, 8.400e+01, 8.000e+01, 7.700e+01,\n",
       "       7.400e+01, 7.300e+01, 7.100e+01, 6.800e+01, 6.300e+01, 6.200e+01,\n",
       "       6.100e+01, 5.800e+01, 5.700e+01, 5.700e+01, 5.300e+01, 5.200e+01,\n",
       "       5.100e+01, 4.700e+01, 4.600e+01, 4.200e+01, 3.800e+01, 3.500e+01,\n",
       "       3.500e+01, 2.900e+01, 2.900e+01, 2.700e+01, 2.700e+01, 2.600e+01,\n",
       "       2.200e+01, 1.500e+01, 1.400e+01, 1.400e+01, 1.200e+01, 1.100e+01,\n",
       "       9.000e+00, 7.000e+00, 5.000e+00, 2.000e+00])"
      ]
     },
     "execution_count": 697,
     "metadata": {},
     "output_type": "execute_result"
    }
   ],
   "source": [
    "importance"
   ]
  },
  {
   "cell_type": "code",
   "execution_count": 701,
   "id": "43b43e0e",
   "metadata": {},
   "outputs": [],
   "source": [
    "features = [X_train.columns[i] for i in range(len(importance)) if importance[i] > 170]"
   ]
  },
  {
   "cell_type": "code",
   "execution_count": 702,
   "id": "6f119884",
   "metadata": {},
   "outputs": [],
   "source": [
    "X_train2_filtered = X_train[features]"
   ]
  },
  {
   "cell_type": "code",
   "execution_count": 704,
   "id": "bd0d9545",
   "metadata": {},
   "outputs": [
    {
     "data": {
      "text/html": [
       "<div>\n",
       "<style scoped>\n",
       "    .dataframe tbody tr th:only-of-type {\n",
       "        vertical-align: middle;\n",
       "    }\n",
       "\n",
       "    .dataframe tbody tr th {\n",
       "        vertical-align: top;\n",
       "    }\n",
       "\n",
       "    .dataframe thead th {\n",
       "        text-align: right;\n",
       "    }\n",
       "</style>\n",
       "<table border=\"1\" class=\"dataframe\">\n",
       "  <thead>\n",
       "    <tr style=\"text-align: right;\">\n",
       "      <th></th>\n",
       "      <th>day_fogs</th>\n",
       "      <th>max_wind_speed</th>\n",
       "      <th>avg_wind_speed</th>\n",
       "      <th>min_wind_speed</th>\n",
       "      <th>avg_temp</th>\n",
       "      <th>cat_country_Austria</th>\n",
       "    </tr>\n",
       "  </thead>\n",
       "  <tbody>\n",
       "    <tr>\n",
       "      <th>1427</th>\n",
       "      <td>2.0</td>\n",
       "      <td>16.193909</td>\n",
       "      <td>19.690303</td>\n",
       "      <td>20.774077</td>\n",
       "      <td>16.804759</td>\n",
       "      <td>0.0</td>\n",
       "    </tr>\n",
       "    <tr>\n",
       "      <th>43467</th>\n",
       "      <td>1.0</td>\n",
       "      <td>10.416204</td>\n",
       "      <td>16.398644</td>\n",
       "      <td>24.100613</td>\n",
       "      <td>14.567566</td>\n",
       "      <td>0.0</td>\n",
       "    </tr>\n",
       "    <tr>\n",
       "      <th>3947</th>\n",
       "      <td>1.0</td>\n",
       "      <td>12.275077</td>\n",
       "      <td>17.864097</td>\n",
       "      <td>24.761917</td>\n",
       "      <td>9.412836</td>\n",
       "      <td>0.0</td>\n",
       "    </tr>\n",
       "    <tr>\n",
       "      <th>18525</th>\n",
       "      <td>1.0</td>\n",
       "      <td>17.683492</td>\n",
       "      <td>21.728915</td>\n",
       "      <td>24.652552</td>\n",
       "      <td>3.930150</td>\n",
       "      <td>0.0</td>\n",
       "    </tr>\n",
       "    <tr>\n",
       "      <th>55644</th>\n",
       "      <td>1.0</td>\n",
       "      <td>10.473415</td>\n",
       "      <td>14.988209</td>\n",
       "      <td>19.192870</td>\n",
       "      <td>7.890301</td>\n",
       "      <td>0.0</td>\n",
       "    </tr>\n",
       "    <tr>\n",
       "      <th>...</th>\n",
       "      <td>...</td>\n",
       "      <td>...</td>\n",
       "      <td>...</td>\n",
       "      <td>...</td>\n",
       "      <td>...</td>\n",
       "      <td>...</td>\n",
       "    </tr>\n",
       "    <tr>\n",
       "      <th>45891</th>\n",
       "      <td>2.0</td>\n",
       "      <td>20.432886</td>\n",
       "      <td>19.665971</td>\n",
       "      <td>22.216182</td>\n",
       "      <td>15.048636</td>\n",
       "      <td>1.0</td>\n",
       "    </tr>\n",
       "    <tr>\n",
       "      <th>52416</th>\n",
       "      <td>2.0</td>\n",
       "      <td>20.197097</td>\n",
       "      <td>21.653997</td>\n",
       "      <td>25.304108</td>\n",
       "      <td>9.384392</td>\n",
       "      <td>0.0</td>\n",
       "    </tr>\n",
       "    <tr>\n",
       "      <th>42613</th>\n",
       "      <td>1.0</td>\n",
       "      <td>10.453263</td>\n",
       "      <td>14.696254</td>\n",
       "      <td>16.424467</td>\n",
       "      <td>10.040704</td>\n",
       "      <td>0.0</td>\n",
       "    </tr>\n",
       "    <tr>\n",
       "      <th>43567</th>\n",
       "      <td>13.0</td>\n",
       "      <td>9.384235</td>\n",
       "      <td>14.158469</td>\n",
       "      <td>16.527425</td>\n",
       "      <td>7.864712</td>\n",
       "      <td>0.0</td>\n",
       "    </tr>\n",
       "    <tr>\n",
       "      <th>2732</th>\n",
       "      <td>1.0</td>\n",
       "      <td>10.000292</td>\n",
       "      <td>14.253624</td>\n",
       "      <td>19.779555</td>\n",
       "      <td>6.510272</td>\n",
       "      <td>0.0</td>\n",
       "    </tr>\n",
       "  </tbody>\n",
       "</table>\n",
       "<p>45316 rows × 6 columns</p>\n",
       "</div>"
      ],
      "text/plain": [
       "       day_fogs  max_wind_speed  avg_wind_speed  min_wind_speed   avg_temp  \\\n",
       "1427        2.0       16.193909       19.690303       20.774077  16.804759   \n",
       "43467       1.0       10.416204       16.398644       24.100613  14.567566   \n",
       "3947        1.0       12.275077       17.864097       24.761917   9.412836   \n",
       "18525       1.0       17.683492       21.728915       24.652552   3.930150   \n",
       "55644       1.0       10.473415       14.988209       19.192870   7.890301   \n",
       "...         ...             ...             ...             ...        ...   \n",
       "45891       2.0       20.432886       19.665971       22.216182  15.048636   \n",
       "52416       2.0       20.197097       21.653997       25.304108   9.384392   \n",
       "42613       1.0       10.453263       14.696254       16.424467  10.040704   \n",
       "43567      13.0        9.384235       14.158469       16.527425   7.864712   \n",
       "2732        1.0       10.000292       14.253624       19.779555   6.510272   \n",
       "\n",
       "       cat_country_Austria  \n",
       "1427                   0.0  \n",
       "43467                  0.0  \n",
       "3947                   0.0  \n",
       "18525                  0.0  \n",
       "55644                  0.0  \n",
       "...                    ...  \n",
       "45891                  1.0  \n",
       "52416                  0.0  \n",
       "42613                  0.0  \n",
       "43567                  0.0  \n",
       "2732                   0.0  \n",
       "\n",
       "[45316 rows x 6 columns]"
      ]
     },
     "execution_count": 704,
     "metadata": {},
     "output_type": "execute_result"
    }
   ],
   "source": [
    "X_train2_filtered"
   ]
  },
  {
   "cell_type": "code",
   "execution_count": 685,
   "id": "794469f8",
   "metadata": {},
   "outputs": [],
   "source": [
    "scaler = preprocessing.StandardScaler().fit(X_train2_filtered) #Variables standarization\n",
    "X_train2_s = scaler.transform(X_train2_filtered) #Variables transform"
   ]
  },
  {
   "cell_type": "code",
   "execution_count": null,
   "id": "49ee5537",
   "metadata": {},
   "outputs": [],
   "source": []
  },
  {
   "cell_type": "code",
   "execution_count": null,
   "id": "6dfdae34",
   "metadata": {},
   "outputs": [],
   "source": []
  },
  {
   "cell_type": "code",
   "execution_count": null,
   "id": "8d225073",
   "metadata": {},
   "outputs": [],
   "source": []
  },
  {
   "cell_type": "code",
   "execution_count": 464,
   "id": "039a0e71",
   "metadata": {},
   "outputs": [],
   "source": [
    "# use feature importance for feature selection\n",
    "from numpy import loadtxt\n",
    "from numpy import sort\n",
    "from xgboost import XGBClassifier\n",
    "from sklearn.model_selection import train_test_split\n",
    "from sklearn.metrics import accuracy_score\n",
    "from sklearn.feature_selection import SelectFromModel"
   ]
  },
  {
   "cell_type": "code",
   "execution_count": 465,
   "id": "18cc716a",
   "metadata": {},
   "outputs": [
    {
     "name": "stdout",
     "output_type": "stream",
     "text": [
      "Accuracy: 60.56%\n",
      "Thresh=0.001, n=49, Accuracy: 60.56%\n",
      "Thresh=0.001, n=48, Accuracy: 60.53%\n",
      "Thresh=0.002, n=47, Accuracy: 60.32%\n",
      "Thresh=0.002, n=46, Accuracy: 60.83%\n",
      "Thresh=0.003, n=45, Accuracy: 60.86%\n",
      "Thresh=0.003, n=44, Accuracy: 60.38%\n",
      "Thresh=0.003, n=43, Accuracy: 60.69%\n",
      "Thresh=0.003, n=42, Accuracy: 60.50%\n",
      "Thresh=0.004, n=41, Accuracy: 60.29%\n",
      "Thresh=0.004, n=40, Accuracy: 60.59%\n",
      "Thresh=0.004, n=39, Accuracy: 60.51%\n",
      "Thresh=0.004, n=38, Accuracy: 60.01%\n",
      "Thresh=0.004, n=37, Accuracy: 60.27%\n",
      "Thresh=0.004, n=36, Accuracy: 59.87%\n",
      "Thresh=0.005, n=35, Accuracy: 60.24%\n",
      "Thresh=0.005, n=34, Accuracy: 60.01%\n",
      "Thresh=0.005, n=33, Accuracy: 59.73%\n",
      "Thresh=0.005, n=32, Accuracy: 59.63%\n",
      "Thresh=0.005, n=31, Accuracy: 59.04%\n",
      "Thresh=0.005, n=30, Accuracy: 58.18%\n",
      "Thresh=0.005, n=29, Accuracy: 58.20%\n",
      "Thresh=0.006, n=28, Accuracy: 58.27%\n",
      "Thresh=0.006, n=27, Accuracy: 58.14%\n",
      "Thresh=0.006, n=26, Accuracy: 58.19%\n",
      "Thresh=0.007, n=25, Accuracy: 58.18%\n",
      "Thresh=0.007, n=24, Accuracy: 58.33%\n",
      "Thresh=0.008, n=23, Accuracy: 58.26%\n",
      "Thresh=0.009, n=22, Accuracy: 58.26%\n",
      "Thresh=0.010, n=21, Accuracy: 58.26%\n",
      "Thresh=0.010, n=20, Accuracy: 58.35%\n",
      "Thresh=0.010, n=19, Accuracy: 58.35%\n",
      "Thresh=0.010, n=18, Accuracy: 58.03%\n",
      "Thresh=0.011, n=17, Accuracy: 57.97%\n",
      "Thresh=0.012, n=16, Accuracy: 57.97%\n",
      "Thresh=0.012, n=15, Accuracy: 57.97%\n",
      "Thresh=0.013, n=14, Accuracy: 57.97%\n",
      "Thresh=0.014, n=13, Accuracy: 58.03%\n",
      "Thresh=0.014, n=12, Accuracy: 58.11%\n",
      "Thresh=0.015, n=11, Accuracy: 58.15%\n",
      "Thresh=0.016, n=10, Accuracy: 57.76%\n",
      "Thresh=0.017, n=9, Accuracy: 57.76%\n",
      "Thresh=0.020, n=8, Accuracy: 57.76%\n",
      "Thresh=0.021, n=7, Accuracy: 57.71%\n",
      "Thresh=0.022, n=6, Accuracy: 57.51%\n",
      "Thresh=0.028, n=5, Accuracy: 57.51%\n",
      "Thresh=0.032, n=4, Accuracy: 57.44%\n",
      "Thresh=0.061, n=3, Accuracy: 57.09%\n",
      "Thresh=0.223, n=2, Accuracy: 57.09%\n",
      "Thresh=0.301, n=1, Accuracy: 43.40%\n"
     ]
    }
   ],
   "source": [
    "model = XGBClassifier()\n",
    "model.fit(X_train_filtered, y_train)\n",
    "# make predictions for test data and evaluate\n",
    "y_pred = model.predict(X_train_filtered)\n",
    "predictions = [round(value) for value in y_pred]\n",
    "accuracy = accuracy_score(y_test, predictions)\n",
    "print(\"Accuracy: %.2f%%\" % (accuracy * 100.0))\n",
    "# Fit model using each importance as a threshold\n",
    "thresholds = sort(model.feature_importances_)\n",
    "for thresh in thresholds:\n",
    "\t# select features using threshold\n",
    "\tselection = SelectFromModel(model, threshold=thresh, prefit=True)\n",
    "\tselect_X_train = selection.transform(X_train_filtered)\n",
    "\t# train model\n",
    "\tselection_model = XGBClassifier()\n",
    "\tselection_model.fit(select_X_train, y_train)\n",
    "\t# eval model\n",
    "\tselect_X_test = selection.transform(X_test)\n",
    "\ty_pred = selection_model.predict(select_X_test)\n",
    "\tpredictions = [round(value) for value in y_pred]\n",
    "\taccuracy = accuracy_score(y_test, predictions)\n",
    "\tprint(\"Thresh=%.3f, n=%d, Accuracy: %.2f%%\" % (thresh, select_X_train.shape[1], accuracy*100.0))"
   ]
  },
  {
   "cell_type": "code",
   "execution_count": 470,
   "id": "4448b911",
   "metadata": {},
   "outputs": [],
   "source": [
    "# evaluation of a model using 5 features chosen with random forest importance\n",
    "from sklearn.datasets import make_classification\n",
    "from sklearn.model_selection import train_test_split\n",
    "from sklearn.feature_selection import SelectFromModel\n",
    "from sklearn.ensemble import RandomForestClassifier\n",
    "from sklearn.linear_model import LogisticRegression\n",
    "from sklearn.metrics import accuracy_score"
   ]
  },
  {
   "cell_type": "code",
   "execution_count": 471,
   "id": "211b5561",
   "metadata": {},
   "outputs": [],
   "source": [
    "# feature selection\n",
    "def select_features(X_train, y_train, X_test):\n",
    "    # configure to select a subset of features\n",
    "    fs = SelectFromModel(RandomForestClassifier(n_estimators=1000), max_features=23)\n",
    "    # learn relationship from training data\n",
    "    fs.fit(X_train, y_train)\n",
    "    # transform train input data\n",
    "    X_train_fs = fs.transform(X_train)\n",
    "    # transform test input data\n",
    "    X_test_fs = fs.transform(X_test)\n",
    "    return X_train_fs, X_test_fs, fs"
   ]
  },
  {
   "cell_type": "code",
   "execution_count": 474,
   "id": "6e075c04",
   "metadata": {},
   "outputs": [
    {
     "name": "stdout",
     "output_type": "stream",
     "text": [
      "Accuracy: 56.59\n"
     ]
    }
   ],
   "source": [
    "# feature selection\n",
    "X_train_fs, X_test_fs, fs = select_features(X_train, y_train, X_test)\n",
    "# fit the model\n",
    "model = LogisticRegression(solver='liblinear')\n",
    "model.fit(X_train_fs, y_train)\n",
    "# evaluate the model\n",
    "yhat = model.predict(X_test_fs)\n",
    "# evaluate predictions\n",
    "accuracy = accuracy_score(y_test, yhat)\n",
    "print('Accuracy: %.2f' % (accuracy*100))"
   ]
  },
  {
   "cell_type": "code",
   "execution_count": null,
   "id": "827e66f0",
   "metadata": {},
   "outputs": [],
   "source": []
  },
  {
   "cell_type": "code",
   "execution_count": null,
   "id": "f9de01ed",
   "metadata": {},
   "outputs": [],
   "source": []
  },
  {
   "cell_type": "code",
   "execution_count": null,
   "id": "19a70ba9",
   "metadata": {},
   "outputs": [],
   "source": []
  },
  {
   "cell_type": "code",
   "execution_count": 475,
   "id": "5787a973",
   "metadata": {},
   "outputs": [
    {
     "name": "stdout",
     "output_type": "stream",
     "text": [
      "Accuracy: 57.38\n"
     ]
    }
   ],
   "source": [
    "# evaluation of a model using all features\n",
    "from sklearn.datasets import make_classification\n",
    "from sklearn.model_selection import train_test_split\n",
    "from sklearn.linear_model import LogisticRegression\n",
    "from sklearn.metrics import accuracy_score\n",
    "# define the dataset\n",
    "model = LogisticRegression(solver='liblinear')\n",
    "model.fit(X_train, y_train)\n",
    "# evaluate the model\n",
    "yhat = model.predict(X_test)\n",
    "# evaluate predictions\n",
    "accuracy = accuracy_score(y_test, yhat)\n",
    "print('Accuracy: %.2f' % (accuracy*100))"
   ]
  },
  {
   "cell_type": "code",
   "execution_count": null,
   "id": "28aac636",
   "metadata": {},
   "outputs": [],
   "source": []
  },
  {
   "cell_type": "code",
   "execution_count": null,
   "id": "33728e5a",
   "metadata": {},
   "outputs": [],
   "source": []
  },
  {
   "cell_type": "markdown",
   "id": "7595f921",
   "metadata": {},
   "source": [
    "### **<span style=\"color:#43A047;\">4.3 Variables Stadnarization  </span>**"
   ]
  },
  {
   "cell_type": "code",
   "execution_count": 509,
   "id": "c150956e",
   "metadata": {},
   "outputs": [],
   "source": [
    "scaler = preprocessing.StandardScaler().fit(X_train_filtered) #Variables standarization\n",
    "X_train_s = scaler.transform(X_train_filtered) #Variables transform"
   ]
  },
  {
   "cell_type": "markdown",
   "id": "84201f3b",
   "metadata": {},
   "source": [
    "---------------------------------------------------------------------"
   ]
  },
  {
   "cell_type": "markdown",
   "id": "23f7b0fc",
   "metadata": {},
   "source": [
    "### ✅ 5) Training the model with training data🏋️"
   ]
  },
  {
   "cell_type": "code",
   "execution_count": 707,
   "id": "a509f146",
   "metadata": {},
   "outputs": [
    {
     "name": "stdout",
     "output_type": "stream",
     "text": [
      "Wall time: 3min 21s\n"
     ]
    }
   ],
   "source": [
    "%%time\n",
    "def find_best_model_using_gridsearchcv(X,y):\n",
    "    \"\"\"Function with three models for classification\"\"\"\n",
    "    \n",
    "    algos = {\n",
    "        #'Logistic_Regression' : {\n",
    "        #'model': LogisticRegression(),\n",
    "        #'params': {\n",
    "        #    'max_iter':[1000, 2000, 5000],\n",
    "            #'C':[,10,100,1000],\n",
    "        #    'solver':['newton-cg', 'lbfgs', 'liblinear', 'sag', 'saga']  \n",
    "        #   }\n",
    "        #},\n",
    "        'Linear_Discriminant_Analysis': {\n",
    "        'model': LinearDiscriminantAnalysis(),\n",
    "        'params': {\n",
    "            'solver':['svd', 'lsqr', 'eigen']  \n",
    "            }\n",
    "        },      \n",
    "        #'K_Nearest_Neighbors':{\n",
    "        #    'model' : KNeighborsClassifier(),\n",
    "        #    'params':{\n",
    "        #    'n_neighbors': [5,10],\n",
    "        #    'metric': [\"minkowski\", 'euclidean', 'manhattan', 'chebyshev', 'wminkowski', 'seuclidean', 'mahalanobis'],\n",
    "        #    'p': [2],\n",
    "        #    'n_neighbors': range(100)\n",
    "        #    }                                                        \n",
    "        #},\n",
    "        'XGBClassifier': {\n",
    "        'model': XGBClassifier(),\n",
    "        'params': {\n",
    "            }\n",
    "        },\n",
    "        'Decision_Tree_Classifier': {\n",
    "        'model': DecisionTreeClassifier(),\n",
    "        'params': {\n",
    "            'criterion': ['gini','entropy'],\n",
    "            'min_samples_split': [10,100,1000],\n",
    "            'max_depth' :[15],\n",
    "            'splitter': ['best']\n",
    "            }\n",
    "        },\n",
    "        #'Random_Forest_Classifier': {\n",
    "        #'model': RandomForestClassifier(),\n",
    "        #'params': {\n",
    "        #    'n_jobs' : [multiprocessing.cpu_count() - 1],            \n",
    "        #    'n_estimators': [10,100,200,500],\n",
    "        #    'max_depth'   : [None, 3, 10, 20],\n",
    "        #    'criterion'   : ['gini', 'entropy']\n",
    "        #    }\n",
    "        #},      \n",
    "        'MLP_Classifier': {\n",
    "        'model': MLPClassifier(),\n",
    "        'params': {            \n",
    "            'max_iter':[1000],\n",
    "            'alpha':[0.001,0.01,0.1,1],\n",
    "            }\n",
    "        },      \n",
    "        #'Support_Vector_Classifier': {\n",
    "        #'model': SVC(),\n",
    "        #'params': {\n",
    "        #    'kernel':['linear', 'poly', 'rbf', 'sigmoid'],\n",
    "        #    'C':[1,100,1000,10000],\n",
    "        #    'gamma':[0.0001,0.001,0.01,0.1]\n",
    "        #    }\n",
    "        # },       \n",
    "        #'Gradien_Boosting_Classifier': {\n",
    "        #'model': GradientBoostingClassifier(),\n",
    "        #'params':  {\n",
    "        #    'n_estimators'  : [50, 100, 500, 1000],\n",
    "        #    'max_features'  : ['auto', 'sqrt', 'log2'],\n",
    "        #    'max_depth'     : [None, 1, 3, 5, 10, 20],\n",
    "        #    'subsample'     : [0.5, 1],\n",
    "        #    'learning_rate' : [0.001, 0.01, 0.1]\n",
    "        #    }\n",
    "        # }         \n",
    "    }\n",
    "    scores = []\n",
    "    cv = ShuffleSplit(n_splits=5, test_size=0.2, random_state=0)\n",
    "    for algo_name, config in algos.items():\n",
    "        gs = GridSearchCV(config['model'], config['params'], cv=cv, return_train_score = True)\n",
    "        gs.fit(X,y)\n",
    "        scores.append({\n",
    "            'model': algo_name,\n",
    "            'best_score': gs.best_score_,\n",
    "            'best_params': gs.best_params_\n",
    "        }) \n",
    "    return pd.DataFrame(scores,columns=['model','best_score','best_params'])\n",
    "best = find_best_model_using_gridsearchcv(X_train2_filtered,y_train)"
   ]
  },
  {
   "cell_type": "code",
   "execution_count": 708,
   "id": "a7626441",
   "metadata": {},
   "outputs": [
    {
     "data": {
      "text/html": [
       "<div>\n",
       "<style scoped>\n",
       "    .dataframe tbody tr th:only-of-type {\n",
       "        vertical-align: middle;\n",
       "    }\n",
       "\n",
       "    .dataframe tbody tr th {\n",
       "        vertical-align: top;\n",
       "    }\n",
       "\n",
       "    .dataframe thead th {\n",
       "        text-align: right;\n",
       "    }\n",
       "</style>\n",
       "<table border=\"1\" class=\"dataframe\">\n",
       "  <thead>\n",
       "    <tr style=\"text-align: right;\">\n",
       "      <th></th>\n",
       "      <th>model</th>\n",
       "      <th>best_score</th>\n",
       "      <th>best_params</th>\n",
       "    </tr>\n",
       "  </thead>\n",
       "  <tbody>\n",
       "    <tr>\n",
       "      <th>0</th>\n",
       "      <td>Linear_Discriminant_Analysis</td>\n",
       "      <td>0.401368</td>\n",
       "      <td>{'solver': 'svd'}</td>\n",
       "    </tr>\n",
       "    <tr>\n",
       "      <th>1</th>\n",
       "      <td>XGBClassifier</td>\n",
       "      <td>0.436562</td>\n",
       "      <td>{}</td>\n",
       "    </tr>\n",
       "    <tr>\n",
       "      <th>2</th>\n",
       "      <td>Decision_Tree_Classifier</td>\n",
       "      <td>0.404281</td>\n",
       "      <td>{'criterion': 'entropy', 'max_depth': 15, 'min...</td>\n",
       "    </tr>\n",
       "    <tr>\n",
       "      <th>3</th>\n",
       "      <td>MLP_Classifier</td>\n",
       "      <td>0.399978</td>\n",
       "      <td>{'alpha': 1, 'max_iter': 1000}</td>\n",
       "    </tr>\n",
       "  </tbody>\n",
       "</table>\n",
       "</div>"
      ],
      "text/plain": [
       "                          model  best_score  \\\n",
       "0  Linear_Discriminant_Analysis    0.401368   \n",
       "1                 XGBClassifier    0.436562   \n",
       "2      Decision_Tree_Classifier    0.404281   \n",
       "3                MLP_Classifier    0.399978   \n",
       "\n",
       "                                         best_params  \n",
       "0                                  {'solver': 'svd'}  \n",
       "1                                                 {}  \n",
       "2  {'criterion': 'entropy', 'max_depth': 15, 'min...  \n",
       "3                     {'alpha': 1, 'max_iter': 1000}  "
      ]
     },
     "execution_count": 708,
     "metadata": {},
     "output_type": "execute_result"
    }
   ],
   "source": [
    "best"
   ]
  },
  {
   "cell_type": "markdown",
   "id": "d85ecaf4",
   "metadata": {},
   "source": [
    "---------------------------------------------------------------------"
   ]
  },
  {
   "cell_type": "markdown",
   "id": "2c772e5b",
   "metadata": {},
   "source": [
    "### ✅ 6) Making predictions with test data 🤔¶"
   ]
  },
  {
   "cell_type": "code",
   "execution_count": null,
   "id": "131c143b",
   "metadata": {},
   "outputs": [],
   "source": [
    "def price_predict(location,sqft,bath,BHK):\n",
    "    loc_index=np.where(X.columns==location)[0][0]\n",
    "    x=np.zeros(len(X.columns))\n",
    "    x[0]=sqft\n",
    "    x[1]=bath\n",
    "    x[2]=BHK\n",
    "    if loc_index >=0:\n",
    "    x[loc_index]=1\n",
    "    return model.predict([x])[0]"
   ]
  },
  {
   "cell_type": "markdown",
   "id": "7381b03d",
   "metadata": {},
   "source": [
    "---------------------------------------------------------------------"
   ]
  },
  {
   "cell_type": "markdown",
   "id": "489850e8",
   "metadata": {},
   "source": [
    "### ✅ 7) Comparing predictions with test data📝"
   ]
  },
  {
   "cell_type": "code",
   "execution_count": null,
   "id": "7ff13d1f",
   "metadata": {},
   "outputs": [],
   "source": [
    "from sklearn.metrics import classification_report\n",
    "from sklearn import metrics"
   ]
  },
  {
   "cell_type": "code",
   "execution_count": null,
   "id": "1d9cbc74",
   "metadata": {},
   "outputs": [],
   "source": [
    "#print(classification_report(Y_test, y_pred, target_names=[\"xxxxx\", \"xxxxx\", \"xxxxx\"]))"
   ]
  },
  {
   "cell_type": "code",
   "execution_count": null,
   "id": "309a06ac",
   "metadata": {},
   "outputs": [],
   "source": [
    "#print(\"Homogeneidad: %0.3f\" %metrics.homogeneity_score(labels, clust_labels))\n",
    "#print(\"Completitud: %0.3f\" %metrics.completeness_score(labels, clust_labels))\n",
    "#print(\"V-measure: %0.3f\" %metrics.v_measure_score(labels, clust_labels))\n",
    "#print(\"R2 ajustado: %0.3f\" %metrics.adjusted_rand_score(labels, clust_labels))\n",
    "#print(\"Información mútua ajustada: %0.3f\" %metrics.adjusted_mutual_info_score(labels,clust_labels))"
   ]
  },
  {
   "cell_type": "markdown",
   "id": "ca76495b",
   "metadata": {},
   "source": [
    "---------------------------------------------------------------------"
   ]
  },
  {
   "cell_type": "markdown",
   "id": "98d0a03a",
   "metadata": {},
   "source": [
    "### ✅ 8) Adjusting the model🔨"
   ]
  },
  {
   "cell_type": "code",
   "execution_count": null,
   "id": "31d0f229",
   "metadata": {},
   "outputs": [],
   "source": []
  },
  {
   "cell_type": "markdown",
   "id": "14f43787",
   "metadata": {},
   "source": [
    "---------------------------------------------------------------------"
   ]
  },
  {
   "cell_type": "markdown",
   "id": "8388e931",
   "metadata": {},
   "source": [
    "### ✅ 9) Results presentation. 🌟"
   ]
  },
  {
   "cell_type": "markdown",
   "id": "21141b0b",
   "metadata": {},
   "source": [
    "### **<span style=\"color:#43A047;\">9.1 Graphical representation of results  </span>**"
   ]
  },
  {
   "cell_type": "markdown",
   "id": "90f462a7",
   "metadata": {},
   "source": [
    "### **<span style=\"color:#43A047;\">9.2 Conclusion  </span>**"
   ]
  },
  {
   "cell_type": "markdown",
   "id": "cd7def33",
   "metadata": {},
   "source": [
    "### **<span style=\"color:#43A047;\">9.3 Making & saving predictions </span>**"
   ]
  },
  {
   "cell_type": "code",
   "execution_count": null,
   "id": "0eaeafbf",
   "metadata": {},
   "outputs": [],
   "source": [
    "results = pd.DataFrame(pred, columns=['Results'])  "
   ]
  },
  {
   "cell_type": "code",
   "execution_count": null,
   "id": "e3d9b690",
   "metadata": {},
   "outputs": [],
   "source": [
    "results.to_csv(\"../../Practice/1-Random Forest/results.csv\", index=False)"
   ]
  },
  {
   "cell_type": "code",
   "execution_count": null,
   "id": "883aa15a",
   "metadata": {},
   "outputs": [],
   "source": [
    "results"
   ]
  },
  {
   "cell_type": "code",
   "execution_count": null,
   "id": "898ad49f",
   "metadata": {},
   "outputs": [],
   "source": []
  },
  {
   "cell_type": "code",
   "execution_count": null,
   "id": "65c644f8",
   "metadata": {},
   "outputs": [],
   "source": []
  },
  {
   "cell_type": "code",
   "execution_count": 374,
   "id": "14c04988",
   "metadata": {},
   "outputs": [],
   "source": [
    "data_test = pd.read_csv(\"../1-Classification/datasets/test_x.csv\", sep=',') #1-Loading the first csv"
   ]
  },
  {
   "cell_type": "code",
   "execution_count": 376,
   "id": "f49c2711",
   "metadata": {},
   "outputs": [
    {
     "data": {
      "text/plain": [
       "['test_index',\n",
       " 'countryName',\n",
       " 'EPRTRSectorCode',\n",
       " 'eprtrSectorName',\n",
       " 'EPRTRAnnexIMainActivityCode',\n",
       " 'EPRTRAnnexIMainActivityLabel',\n",
       " 'FacilityInspireID',\n",
       " 'facilityName',\n",
       " 'City',\n",
       " 'targetRelease',\n",
       " 'reportingYear',\n",
       " 'MONTH',\n",
       " 'DAY',\n",
       " 'CONTINENT',\n",
       " 'max_wind_speed',\n",
       " 'avg_wind_speed',\n",
       " 'min_wind_speed',\n",
       " 'max_temp',\n",
       " 'avg_temp',\n",
       " 'min_temp',\n",
       " 'DAY WITH FOGS',\n",
       " 'REPORTER NAME',\n",
       " 'CITY ID']"
      ]
     },
     "execution_count": 376,
     "metadata": {},
     "output_type": "execute_result"
    }
   ],
   "source": [
    "data_test.columns.values.tolist()"
   ]
  },
  {
   "cell_type": "code",
   "execution_count": 377,
   "id": "5241bc55",
   "metadata": {},
   "outputs": [
    {
     "data": {
      "text/plain": [
       "(24480, 23)"
      ]
     },
     "execution_count": 377,
     "metadata": {},
     "output_type": "execute_result"
    }
   ],
   "source": [
    "data_test.shape"
   ]
  },
  {
   "cell_type": "code",
   "execution_count": null,
   "id": "d0eab52a",
   "metadata": {},
   "outputs": [],
   "source": []
  }
 ],
 "metadata": {
  "kernelspec": {
   "display_name": "Python 3 (ipykernel)",
   "language": "python",
   "name": "python3"
  },
  "language_info": {
   "codemirror_mode": {
    "name": "ipython",
    "version": 3
   },
   "file_extension": ".py",
   "mimetype": "text/x-python",
   "name": "python",
   "nbconvert_exporter": "python",
   "pygments_lexer": "ipython3",
   "version": "3.9.7"
  }
 },
 "nbformat": 4,
 "nbformat_minor": 5
}
