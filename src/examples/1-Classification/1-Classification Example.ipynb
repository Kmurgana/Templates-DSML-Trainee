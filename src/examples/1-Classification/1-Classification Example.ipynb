{
 "cells": [
  {
   "cell_type": "markdown",
   "id": "52924f90",
   "metadata": {},
   "source": [
    "# **<span style=\"color:#00C853;\">Schneider Electric Hackathon </span>**"
   ]
  },
  {
   "cell_type": "markdown",
   "id": "7c1d24b8",
   "metadata": {},
   "source": [
    "> This notebook is part of a Hackathon held by nuwe.io on 05/21/2022.\n",
    "> \n",
    "> To get the API key, create an account in the [website](https://nuwe.io/challenge/data-science-se) ."
   ]
  },
  {
   "cell_type": "markdown",
   "id": "6bc041f3",
   "metadata": {},
   "source": [
    "#### Background\n",
    "----------------------------------------------------------------------------------------------------------\n",
    "\n",
    "The EU contributes 18% of total global warming gas emissions; However, it is increasingly determined to take the lead in the fight against climate change. That is why it has set itself the goal of reaching zero carbon emissions by 2050.\n",
    "\n",
    "To this end, it has put in place a wealth of resources to help achieve this goal over the next few years, and it will need your help to do so."
   ]
  },
  {
   "cell_type": "markdown",
   "id": "f75b9b68",
   "metadata": {},
   "source": [
    "### Dataset\n",
    "This dataset contains data on industrial facilities and emissions across Europe.\n",
    "The dataset will consist of the following variables of interest:\n",
    "\n",
    "__countryName__: Country in which the facility is located\n",
    "\n",
    "__EPRETRSectorCode__: Code of the sector in which the company specialises\n",
    "\n",
    "__eptrSectorName__: Name of the sector in which it specialises\n",
    "\n",
    "__EPRTRAnnexIMainActivityCode__: Code of the specialisation within the sector in which they operate\n",
    "\n",
    "__EPRTRAnnexIMainActivityLabel__: Specialisation within the sector in which they operate\n",
    "\n",
    "__FacilityInspireID__: Building identifier\n",
    "\n",
    "__facilityName__: Name of the building in which the activity takes place\n",
    "\n",
    "__City__: City in which the facility is located\n",
    "\n",
    "__CITY ID__: ID to confirm location\n",
    "\n",
    "__targetRelease__: Type of polluter to study\n",
    "\n",
    "__pollutant__: Type of pollutant emitted (Target variable). In order to follow the same standard, you must encode this variables as follows:\n",
    "\n",
    "| pollutant |\tnumber |\n",
    "| ------ | ---------| \n",
    "|Nitrogen oxides (NOX) |\t0 |\n",
    "|Carbon dioxide (CO2)\t|1    |\n",
    "|Methane (CH4)\t|  2      |\n",
    "\n",
    "__DAY__: Day on which the report is made\n",
    "\n",
    "__MONTH__: Reporting month\n",
    "\n",
    "__reportingYear__: Reporting year\n",
    "\n",
    "__CONTINENT__: Continent on which the company is located\n",
    "\n",
    "__max_wind_speed__: Maximum wind speed\n",
    "\n",
    "__avg_wind_speed__: Average wind speed\n",
    "\n",
    "__min_wind_speed__: Minimum wind speed\n",
    "\n",
    "__max_temp__: Maximum temperature\n",
    "\n",
    "__avg_temp__: Average temperature\n",
    "\n",
    "__min_temp__: Minimum temperature\n",
    "\n",
    "__DAYS WITH FOG__: Total days of the month recorded in the area\n",
    "\n",
    "__REPORTER NAME__: Reporter's name"
   ]
  },
  {
   "cell_type": "markdown",
   "id": "baf82a10",
   "metadata": {},
   "source": [
    "The dataset is split into Training Dataset and Testing Dataset.\n",
    "\n",
    "<img src=\" https://challenges-asset-files.s3.us-east-2.amazonaws.com/data_sets/Data-Science/4+-+events/SchneiderElectricES22/final/images/fragmentation_green.png \">\n",
    "\n",
    "To train the model, the training dataset has to be used. It is fragmented in different datasets and in different formats."
   ]
  },
  {
   "cell_type": "markdown",
   "id": "b957a9e5",
   "metadata": {},
   "source": [
    "**Roadmap**\n",
    "\n",
    "Before we dive headlong into programming, we should outline a brief guide to keep us on track. The following steps form the basis of any machine learning workflow once we have a problem and a model in mind:\n",
    "\n",
    "* 1) Raising the question.\n",
    "* 2) Acquiring the data. \n",
    "* 3) Adapting information, identifying and correcting anomalies (EDA).\n",
    "* 4) Preparar los datos para el modelo de aprendizaje automático.\n",
    "* 5) Training the model with training data.\n",
    "* 6) Making predictions with test data.\n",
    "* 7) Compare predictions with test data.\n",
    "* 8) Adjust the model.\n",
    "* 9) Results presentation."
   ]
  },
  {
   "cell_type": "markdown",
   "id": "385a4597",
   "metadata": {},
   "source": [
    "---------------------------------------------------------------------"
   ]
  },
  {
   "cell_type": "markdown",
   "id": "67b89320",
   "metadata": {},
   "source": [
    "## ✅1) Raising the question  ❓\n",
    "\n",
    "The exercise consists of obtaining a predictive model capable of classifying whether the variable __pollutant__ is going to be Nitrogen oxides (NOX), Carbon dioxide (CO2) or Methane (CH4), according to the oder variables for which it would be **objective** for the model to be as accurate as possible.\n",
    "\n",
    "**NOTE**: For in this case, the client already informs us how the coding of the output variables should be."
   ]
  },
  {
   "cell_type": "markdown",
   "id": "40ad1446",
   "metadata": {},
   "source": [
    "---------------------------------------------------------------------"
   ]
  },
  {
   "cell_type": "markdown",
   "id": "0a27ccd6",
   "metadata": {},
   "source": [
    "## ✅ 2) Acquiring the data  🔍\n",
    "\n",
    "### **<span style=\"color:#43A047;\">2.1 Importing required libraries. </span>**\n"
   ]
  },
  {
   "cell_type": "code",
   "execution_count": 1,
   "id": "48c6b602",
   "metadata": {},
   "outputs": [],
   "source": [
    "# Data acquirement and processing\n",
    "# ======================================================================================\n",
    "import pandas as pd\n",
    "import json\n",
    "import numpy as np \n",
    "import nltk\n",
    "import datetime as dt\n",
    "\n",
    "# Graphics\n",
    "# ======================================================================================\n",
    "import matplotlib.pyplot as plt\n",
    "import seaborn as sns\n",
    "from ipywidgets import interact, IntSlider, fixed\n",
    "\n",
    "# Preprocessing \n",
    "# ======================================================================================\n",
    "from sklearn.preprocessing import StandardScaler\n",
    "from sklearn import preprocessing\n",
    "from sklearn.feature_selection import SelectPercentile\n",
    "from sklearn.feature_selection import SelectFromModel\n",
    "from sklearn.model_selection import train_test_split\n",
    "\n",
    "# NLP (Natural Language Programming) \n",
    "# ======================================================================================\n",
    "import string\n",
    "import re\n",
    "import nltk \n",
    "import fitz\n",
    "from nltk.util import pr\n",
    "from nltk.corpus import stopwords\n",
    "from nltk.sentiment.vader import SentimentIntensityAnalyzer\n",
    "from textblob import TextBlob\n",
    "\n",
    "# Modeling for a categorical target\n",
    "# ======================================================================================\n",
    "from sklearn.linear_model import LogisticRegression   \n",
    "from sklearn.discriminant_analysis import LinearDiscriminantAnalysis\n",
    "from sklearn.neighbors import KNeighborsClassifier\n",
    "from sklearn.tree import DecisionTreeClassifier\n",
    "from sklearn.ensemble import RandomForestClassifier, GradientBoostingClassifier\n",
    "from sklearn.neural_network import MLPClassifier\n",
    "from sklearn.svm import SVC \n",
    "\n",
    "# Testing and validating\n",
    "# ======================================================================================\n",
    "from sklearn.metrics import precision_score, recall_score, roc_auc_score, confusion_matrix\n",
    "from sklearn.model_selection import ShuffleSplit, cross_val_score, GridSearchCV\n",
    "from sklearn.inspection import permutation_importance\n",
    "import multiprocessing\n",
    "\n",
    "# Warnings Configuration\n",
    "# ======================================================================================\n",
    "import warnings\n",
    "warnings.filterwarnings(\"ignore\")"
   ]
  },
  {
   "cell_type": "markdown",
   "id": "97c9b150",
   "metadata": {},
   "source": [
    "### **<span style=\"color:#43A047;\">2.2 Reading data from CSV </span>**\n",
    "\n",
    "#### **<span style=\"color:#4CAF50;\">2.2.1 Reading first data CSV </span>**"
   ]
  },
  {
   "cell_type": "code",
   "execution_count": 2,
   "id": "6b720e22",
   "metadata": {},
   "outputs": [],
   "source": [
    "data1_csv_df = pd.read_csv(\"../1-Classification/datasets/train1.csv\", sep=',') #1-Loading the first csv"
   ]
  },
  {
   "cell_type": "code",
   "execution_count": 3,
   "id": "7462a0ee",
   "metadata": {},
   "outputs": [
    {
     "data": {
      "text/html": [
       "<div>\n",
       "<style scoped>\n",
       "    .dataframe tbody tr th:only-of-type {\n",
       "        vertical-align: middle;\n",
       "    }\n",
       "\n",
       "    .dataframe tbody tr th {\n",
       "        vertical-align: top;\n",
       "    }\n",
       "\n",
       "    .dataframe thead th {\n",
       "        text-align: right;\n",
       "    }\n",
       "</style>\n",
       "<table border=\"1\" class=\"dataframe\">\n",
       "  <thead>\n",
       "    <tr style=\"text-align: right;\">\n",
       "      <th></th>\n",
       "      <th>countryName</th>\n",
       "      <th>eprtrSectorName</th>\n",
       "      <th>EPRTRAnnexIMainActivityLabel</th>\n",
       "      <th>FacilityInspireID</th>\n",
       "      <th>facilityName</th>\n",
       "      <th>City</th>\n",
       "      <th>targetRelease</th>\n",
       "      <th>pollutant</th>\n",
       "      <th>reportingYear</th>\n",
       "      <th>MONTH</th>\n",
       "      <th>...</th>\n",
       "      <th>CONTINENT</th>\n",
       "      <th>max_wind_speed</th>\n",
       "      <th>avg_wind_speed</th>\n",
       "      <th>min_wind_speed</th>\n",
       "      <th>max_temp</th>\n",
       "      <th>avg_temp</th>\n",
       "      <th>min_temp</th>\n",
       "      <th>DAY WITH FOGS</th>\n",
       "      <th>REPORTER NAME</th>\n",
       "      <th>CITY ID</th>\n",
       "    </tr>\n",
       "  </thead>\n",
       "  <tbody>\n",
       "    <tr>\n",
       "      <th>0</th>\n",
       "      <td>Germany</td>\n",
       "      <td>Mineral industry</td>\n",
       "      <td>Installations for the production of cement cli...</td>\n",
       "      <td>https://registry.gdi-de.org/id/de.ni.mu/062217...</td>\n",
       "      <td>Holcim (Deutschland) GmbH Werk Höver</td>\n",
       "      <td>Sehnde</td>\n",
       "      <td>AIR</td>\n",
       "      <td>Carbon dioxide (CO2)</td>\n",
       "      <td>2015</td>\n",
       "      <td>10</td>\n",
       "      <td>...</td>\n",
       "      <td>EUROPE</td>\n",
       "      <td>15.118767</td>\n",
       "      <td>14.312541</td>\n",
       "      <td>21.419106</td>\n",
       "      <td>2.864895</td>\n",
       "      <td>4.924169</td>\n",
       "      <td>9.688206</td>\n",
       "      <td>2</td>\n",
       "      <td>Mr. Jacob Ortega</td>\n",
       "      <td>7cdb5e74adcb2ffaa21c1b61395a984f</td>\n",
       "    </tr>\n",
       "    <tr>\n",
       "      <th>1</th>\n",
       "      <td>Italy</td>\n",
       "      <td>Mineral industry</td>\n",
       "      <td>Installations for the production of cement cli...</td>\n",
       "      <td>IT.CAED/240602021.FACILITY</td>\n",
       "      <td>Stabilimento di Tavernola Bergamasca</td>\n",
       "      <td>TAVERNOLA BERGAMASCA</td>\n",
       "      <td>AIR</td>\n",
       "      <td>Nitrogen oxides (NOX)</td>\n",
       "      <td>2018</td>\n",
       "      <td>9</td>\n",
       "      <td>...</td>\n",
       "      <td>EUROPE</td>\n",
       "      <td>19.661550</td>\n",
       "      <td>19.368166</td>\n",
       "      <td>21.756389</td>\n",
       "      <td>5.462839</td>\n",
       "      <td>7.864403</td>\n",
       "      <td>12.023521</td>\n",
       "      <td>1</td>\n",
       "      <td>Ashlee Serrano</td>\n",
       "      <td>cd1dbabbdba230b828c657a9b19a8963</td>\n",
       "    </tr>\n",
       "    <tr>\n",
       "      <th>2</th>\n",
       "      <td>Spain</td>\n",
       "      <td>Waste and wastewater management</td>\n",
       "      <td>Landfills (excluding landfills of inert waste ...</td>\n",
       "      <td>ES.CAED/001966000.FACILITY</td>\n",
       "      <td>COMPLEJO MEDIOAMBIENTAL DE ZURITA</td>\n",
       "      <td>PUERTO DEL ROSARIO</td>\n",
       "      <td>AIR</td>\n",
       "      <td>Methane (CH4)</td>\n",
       "      <td>2019</td>\n",
       "      <td>2</td>\n",
       "      <td>...</td>\n",
       "      <td>EUROPE</td>\n",
       "      <td>12.729453</td>\n",
       "      <td>14.701985</td>\n",
       "      <td>17.103930</td>\n",
       "      <td>1.511201</td>\n",
       "      <td>4.233438</td>\n",
       "      <td>8.632193</td>\n",
       "      <td>2</td>\n",
       "      <td>Vincent Kemp</td>\n",
       "      <td>5011e3fa1436d15b34f1287f312fbada</td>\n",
       "    </tr>\n",
       "    <tr>\n",
       "      <th>3</th>\n",
       "      <td>Czechia</td>\n",
       "      <td>Energy sector</td>\n",
       "      <td>Thermal power stations and other combustion in...</td>\n",
       "      <td>CZ.MZP.U422/CZ34736841.FACILITY</td>\n",
       "      <td>Elektrárny Prunéřov</td>\n",
       "      <td>Kadaň</td>\n",
       "      <td>AIR</td>\n",
       "      <td>Nitrogen oxides (NOX)</td>\n",
       "      <td>2012</td>\n",
       "      <td>8</td>\n",
       "      <td>...</td>\n",
       "      <td>EUROPE</td>\n",
       "      <td>11.856417</td>\n",
       "      <td>16.122584</td>\n",
       "      <td>17.537184</td>\n",
       "      <td>10.970301</td>\n",
       "      <td>10.298348</td>\n",
       "      <td>15.179215</td>\n",
       "      <td>0</td>\n",
       "      <td>Carol Gray</td>\n",
       "      <td>37a6d7a71c4f7c2469e4f01b70dd90c2</td>\n",
       "    </tr>\n",
       "    <tr>\n",
       "      <th>4</th>\n",
       "      <td>Finland</td>\n",
       "      <td>Waste and wastewater management</td>\n",
       "      <td>Urban waste-water treatment plants</td>\n",
       "      <td>http://paikkatiedot.fi/so/1002031/pf/Productio...</td>\n",
       "      <td>TAMPEREEN VESI LIIKELAITOS, VIINIKANLAHDEN JÄT...</td>\n",
       "      <td>Tampere</td>\n",
       "      <td>AIR</td>\n",
       "      <td>Methane (CH4)</td>\n",
       "      <td>2018</td>\n",
       "      <td>12</td>\n",
       "      <td>...</td>\n",
       "      <td>EUROPE</td>\n",
       "      <td>17.111930</td>\n",
       "      <td>20.201604</td>\n",
       "      <td>21.536012</td>\n",
       "      <td>11.772039</td>\n",
       "      <td>11.344078</td>\n",
       "      <td>16.039004</td>\n",
       "      <td>2</td>\n",
       "      <td>Blake Ford</td>\n",
       "      <td>471fe554e1c62d1b01cc8e4e5076c61a</td>\n",
       "    </tr>\n",
       "  </tbody>\n",
       "</table>\n",
       "<p>5 rows × 21 columns</p>\n",
       "</div>"
      ],
      "text/plain": [
       "  countryName                  eprtrSectorName  \\\n",
       "0     Germany                 Mineral industry   \n",
       "1       Italy                 Mineral industry   \n",
       "2       Spain  Waste and wastewater management   \n",
       "3     Czechia                    Energy sector   \n",
       "4     Finland  Waste and wastewater management   \n",
       "\n",
       "                        EPRTRAnnexIMainActivityLabel  \\\n",
       "0  Installations for the production of cement cli...   \n",
       "1  Installations for the production of cement cli...   \n",
       "2  Landfills (excluding landfills of inert waste ...   \n",
       "3  Thermal power stations and other combustion in...   \n",
       "4                 Urban waste-water treatment plants   \n",
       "\n",
       "                                   FacilityInspireID  \\\n",
       "0  https://registry.gdi-de.org/id/de.ni.mu/062217...   \n",
       "1                         IT.CAED/240602021.FACILITY   \n",
       "2                         ES.CAED/001966000.FACILITY   \n",
       "3                    CZ.MZP.U422/CZ34736841.FACILITY   \n",
       "4  http://paikkatiedot.fi/so/1002031/pf/Productio...   \n",
       "\n",
       "                                        facilityName                  City  \\\n",
       "0               Holcim (Deutschland) GmbH Werk Höver                Sehnde   \n",
       "1               Stabilimento di Tavernola Bergamasca  TAVERNOLA BERGAMASCA   \n",
       "2                  COMPLEJO MEDIOAMBIENTAL DE ZURITA    PUERTO DEL ROSARIO   \n",
       "3                                Elektrárny Prunéřov                 Kadaň   \n",
       "4  TAMPEREEN VESI LIIKELAITOS, VIINIKANLAHDEN JÄT...               Tampere   \n",
       "\n",
       "  targetRelease              pollutant  reportingYear  MONTH  ...  CONTINENT  \\\n",
       "0           AIR   Carbon dioxide (CO2)           2015     10  ...     EUROPE   \n",
       "1           AIR  Nitrogen oxides (NOX)           2018      9  ...     EUROPE   \n",
       "2           AIR          Methane (CH4)           2019      2  ...     EUROPE   \n",
       "3           AIR  Nitrogen oxides (NOX)           2012      8  ...     EUROPE   \n",
       "4           AIR          Methane (CH4)           2018     12  ...     EUROPE   \n",
       "\n",
       "  max_wind_speed  avg_wind_speed  min_wind_speed   max_temp   avg_temp  \\\n",
       "0      15.118767       14.312541       21.419106   2.864895   4.924169   \n",
       "1      19.661550       19.368166       21.756389   5.462839   7.864403   \n",
       "2      12.729453       14.701985       17.103930   1.511201   4.233438   \n",
       "3      11.856417       16.122584       17.537184  10.970301  10.298348   \n",
       "4      17.111930       20.201604       21.536012  11.772039  11.344078   \n",
       "\n",
       "    min_temp  DAY WITH FOGS     REPORTER NAME  \\\n",
       "0   9.688206              2  Mr. Jacob Ortega   \n",
       "1  12.023521              1    Ashlee Serrano   \n",
       "2   8.632193              2      Vincent Kemp   \n",
       "3  15.179215              0        Carol Gray   \n",
       "4  16.039004              2        Blake Ford   \n",
       "\n",
       "                            CITY ID  \n",
       "0  7cdb5e74adcb2ffaa21c1b61395a984f  \n",
       "1  cd1dbabbdba230b828c657a9b19a8963  \n",
       "2  5011e3fa1436d15b34f1287f312fbada  \n",
       "3  37a6d7a71c4f7c2469e4f01b70dd90c2  \n",
       "4  471fe554e1c62d1b01cc8e4e5076c61a  \n",
       "\n",
       "[5 rows x 21 columns]"
      ]
     },
     "execution_count": 3,
     "metadata": {},
     "output_type": "execute_result"
    }
   ],
   "source": [
    "data1_csv_df.head() #2-We look at the heading and check that it was read correctly."
   ]
  },
  {
   "cell_type": "code",
   "execution_count": 4,
   "id": "f9281259",
   "metadata": {},
   "outputs": [
    {
     "data": {
      "text/plain": [
       "(18563, 21)"
      ]
     },
     "execution_count": 4,
     "metadata": {},
     "output_type": "execute_result"
    }
   ],
   "source": [
    "data1_csv_df.shape #3-Quickly we check the format"
   ]
  },
  {
   "cell_type": "markdown",
   "id": "3da1944e",
   "metadata": {},
   "source": [
    "#### **<span style=\"color:#4CAF50;\">2.2.2 Reading second data CSV </span>**"
   ]
  },
  {
   "cell_type": "code",
   "execution_count": 5,
   "id": "c0ad4110",
   "metadata": {},
   "outputs": [],
   "source": [
    "data2_csv_df = pd.read_csv(\"../1-Classification/datasets/train3.csv\") #1-Loading the second csv"
   ]
  },
  {
   "cell_type": "code",
   "execution_count": 6,
   "id": "3421e2cb",
   "metadata": {},
   "outputs": [
    {
     "data": {
      "text/html": [
       "<div>\n",
       "<style scoped>\n",
       "    .dataframe tbody tr th:only-of-type {\n",
       "        vertical-align: middle;\n",
       "    }\n",
       "\n",
       "    .dataframe tbody tr th {\n",
       "        vertical-align: top;\n",
       "    }\n",
       "\n",
       "    .dataframe thead th {\n",
       "        text-align: right;\n",
       "    }\n",
       "</style>\n",
       "<table border=\"1\" class=\"dataframe\">\n",
       "  <thead>\n",
       "    <tr style=\"text-align: right;\">\n",
       "      <th></th>\n",
       "      <th>Unnamed: 0</th>\n",
       "      <th>Unnamed: 1</th>\n",
       "      <th>CITY ID</th>\n",
       "      <th>CONTINENT</th>\n",
       "      <th>City</th>\n",
       "      <th>DAY</th>\n",
       "      <th>DAY WITH FOGS</th>\n",
       "      <th>EPRTRAnnexIMainActivityCode</th>\n",
       "      <th>EPRTRAnnexIMainActivityLabel</th>\n",
       "      <th>EPRTRSectorCode</th>\n",
       "      <th>...</th>\n",
       "      <th>countryName</th>\n",
       "      <th>eprtrSectorName</th>\n",
       "      <th>facilityName</th>\n",
       "      <th>max_temp</th>\n",
       "      <th>max_wind_speed</th>\n",
       "      <th>min_temp</th>\n",
       "      <th>min_wind_speed</th>\n",
       "      <th>pollutant</th>\n",
       "      <th>reportingYear</th>\n",
       "      <th>targetRelease</th>\n",
       "    </tr>\n",
       "  </thead>\n",
       "  <tbody>\n",
       "    <tr>\n",
       "      <th>0</th>\n",
       "      <td>0</td>\n",
       "      <td>47068</td>\n",
       "      <td>4c325d62c064477ef17b4c6e4437e121</td>\n",
       "      <td>EUROPE</td>\n",
       "      <td>Europoort Rotterdam</td>\n",
       "      <td>2</td>\n",
       "      <td>1</td>\n",
       "      <td>4(a)</td>\n",
       "      <td>Chemical installations for the production on a...</td>\n",
       "      <td>4</td>\n",
       "      <td>...</td>\n",
       "      <td>Netherlands</td>\n",
       "      <td>Chemical industry</td>\n",
       "      <td>Indorama Ventures Europe BV</td>\n",
       "      <td>13.256816</td>\n",
       "      <td>11.019329</td>\n",
       "      <td>14.696895</td>\n",
       "      <td>20.899762</td>\n",
       "      <td>Carbon dioxide (CO2)</td>\n",
       "      <td>2020</td>\n",
       "      <td>AIR</td>\n",
       "    </tr>\n",
       "    <tr>\n",
       "      <th>1</th>\n",
       "      <td>1</td>\n",
       "      <td>32952</td>\n",
       "      <td>f5e609e7095f91cc8ce9ed6d8e774a0d</td>\n",
       "      <td>EUROPE</td>\n",
       "      <td>RION</td>\n",
       "      <td>3</td>\n",
       "      <td>2</td>\n",
       "      <td>3(c)</td>\n",
       "      <td>Installations for the production of cement cli...</td>\n",
       "      <td>3</td>\n",
       "      <td>...</td>\n",
       "      <td>Greece</td>\n",
       "      <td>Mineral industry</td>\n",
       "      <td>TITAN CEMENT S.A. - DREPANO PLANT</td>\n",
       "      <td>4.528859</td>\n",
       "      <td>14.512395</td>\n",
       "      <td>9.219003</td>\n",
       "      <td>23.243403</td>\n",
       "      <td>Nitrogen oxides (NOX)</td>\n",
       "      <td>2019</td>\n",
       "      <td>AIR</td>\n",
       "    </tr>\n",
       "    <tr>\n",
       "      <th>2</th>\n",
       "      <td>2</td>\n",
       "      <td>72375</td>\n",
       "      <td>cfab1ba8c67c7c838db98d666f02a132</td>\n",
       "      <td>EUROPE</td>\n",
       "      <td>--</td>\n",
       "      <td>1</td>\n",
       "      <td>12</td>\n",
       "      <td>1(c)</td>\n",
       "      <td>Thermal power stations and other combustion in...</td>\n",
       "      <td>1</td>\n",
       "      <td>...</td>\n",
       "      <td>United Kingdom</td>\n",
       "      <td>Energy sector</td>\n",
       "      <td>Cormorant Alpha</td>\n",
       "      <td>10.669133</td>\n",
       "      <td>20.262171</td>\n",
       "      <td>14.715465</td>\n",
       "      <td>23.956529</td>\n",
       "      <td>Nitrogen oxides (NOX)</td>\n",
       "      <td>2009</td>\n",
       "      <td>AIR</td>\n",
       "    </tr>\n",
       "    <tr>\n",
       "      <th>3</th>\n",
       "      <td>3</td>\n",
       "      <td>40702</td>\n",
       "      <td>95b4e51f7b662598134e1eb956407c74</td>\n",
       "      <td>EUROPE</td>\n",
       "      <td>DRIZZONA</td>\n",
       "      <td>17</td>\n",
       "      <td>1</td>\n",
       "      <td>7(a)</td>\n",
       "      <td>Installations for the intensive rearing of pou...</td>\n",
       "      <td>7</td>\n",
       "      <td>...</td>\n",
       "      <td>Italy</td>\n",
       "      <td>Intensive livestock production and aquaculture</td>\n",
       "      <td>SOCIETA' AGRICOLA SPARAVALLE DI FERRARI GIUSEP...</td>\n",
       "      <td>7.095682</td>\n",
       "      <td>18.283547</td>\n",
       "      <td>13.582024</td>\n",
       "      <td>26.696266</td>\n",
       "      <td>Methane (CH4)</td>\n",
       "      <td>2014</td>\n",
       "      <td>AIR</td>\n",
       "    </tr>\n",
       "    <tr>\n",
       "      <th>4</th>\n",
       "      <td>4</td>\n",
       "      <td>29884</td>\n",
       "      <td>f4433be3b1bfaeeb0633eb65d04b1325</td>\n",
       "      <td>EUROPE</td>\n",
       "      <td>Lünen</td>\n",
       "      <td>6</td>\n",
       "      <td>0</td>\n",
       "      <td>5(a)</td>\n",
       "      <td>Installations for the recovery or disposal of ...</td>\n",
       "      <td>5</td>\n",
       "      <td>...</td>\n",
       "      <td>Germany</td>\n",
       "      <td>Waste and wastewater management</td>\n",
       "      <td>Biomassekraftwerk Lünen GmbH</td>\n",
       "      <td>9.886774</td>\n",
       "      <td>13.759408</td>\n",
       "      <td>14.006226</td>\n",
       "      <td>24.768933</td>\n",
       "      <td>Carbon dioxide (CO2)</td>\n",
       "      <td>2015</td>\n",
       "      <td>AIR</td>\n",
       "    </tr>\n",
       "  </tbody>\n",
       "</table>\n",
       "<p>5 rows × 25 columns</p>\n",
       "</div>"
      ],
      "text/plain": [
       "   Unnamed: 0  Unnamed: 1                           CITY ID CONTINENT  \\\n",
       "0           0       47068  4c325d62c064477ef17b4c6e4437e121    EUROPE   \n",
       "1           1       32952  f5e609e7095f91cc8ce9ed6d8e774a0d    EUROPE   \n",
       "2           2       72375  cfab1ba8c67c7c838db98d666f02a132    EUROPE   \n",
       "3           3       40702  95b4e51f7b662598134e1eb956407c74    EUROPE   \n",
       "4           4       29884  f4433be3b1bfaeeb0633eb65d04b1325    EUROPE   \n",
       "\n",
       "                  City  DAY  DAY WITH FOGS EPRTRAnnexIMainActivityCode  \\\n",
       "0  Europoort Rotterdam    2              1                        4(a)   \n",
       "1                 RION    3              2                        3(c)   \n",
       "2                   --    1             12                        1(c)   \n",
       "3             DRIZZONA   17              1                        7(a)   \n",
       "4                Lünen    6              0                        5(a)   \n",
       "\n",
       "                        EPRTRAnnexIMainActivityLabel  EPRTRSectorCode  ...  \\\n",
       "0  Chemical installations for the production on a...                4  ...   \n",
       "1  Installations for the production of cement cli...                3  ...   \n",
       "2  Thermal power stations and other combustion in...                1  ...   \n",
       "3  Installations for the intensive rearing of pou...                7  ...   \n",
       "4  Installations for the recovery or disposal of ...                5  ...   \n",
       "\n",
       "      countryName                                 eprtrSectorName  \\\n",
       "0     Netherlands                               Chemical industry   \n",
       "1          Greece                                Mineral industry   \n",
       "2  United Kingdom                                   Energy sector   \n",
       "3           Italy  Intensive livestock production and aquaculture   \n",
       "4         Germany                 Waste and wastewater management   \n",
       "\n",
       "                                        facilityName   max_temp  \\\n",
       "0                        Indorama Ventures Europe BV  13.256816   \n",
       "1                  TITAN CEMENT S.A. - DREPANO PLANT   4.528859   \n",
       "2                                    Cormorant Alpha  10.669133   \n",
       "3  SOCIETA' AGRICOLA SPARAVALLE DI FERRARI GIUSEP...   7.095682   \n",
       "4                       Biomassekraftwerk Lünen GmbH   9.886774   \n",
       "\n",
       "   max_wind_speed   min_temp min_wind_speed              pollutant  \\\n",
       "0       11.019329  14.696895      20.899762   Carbon dioxide (CO2)   \n",
       "1       14.512395   9.219003      23.243403  Nitrogen oxides (NOX)   \n",
       "2       20.262171  14.715465      23.956529  Nitrogen oxides (NOX)   \n",
       "3       18.283547  13.582024      26.696266          Methane (CH4)   \n",
       "4       13.759408  14.006226      24.768933   Carbon dioxide (CO2)   \n",
       "\n",
       "   reportingYear  targetRelease  \n",
       "0           2020            AIR  \n",
       "1           2019            AIR  \n",
       "2           2009            AIR  \n",
       "3           2014            AIR  \n",
       "4           2015            AIR  \n",
       "\n",
       "[5 rows x 25 columns]"
      ]
     },
     "execution_count": 6,
     "metadata": {},
     "output_type": "execute_result"
    }
   ],
   "source": [
    "data2_csv_df.head() #2-We look at the heading and check that it was read correctly."
   ]
  },
  {
   "cell_type": "code",
   "execution_count": 7,
   "id": "6e4971d6",
   "metadata": {},
   "outputs": [
    {
     "data": {
      "text/plain": [
       "(9500, 25)"
      ]
     },
     "execution_count": 7,
     "metadata": {},
     "output_type": "execute_result"
    }
   ],
   "source": [
    "data2_csv_df.shape #3-Quickly we check the format"
   ]
  },
  {
   "cell_type": "markdown",
   "id": "e775a5df",
   "metadata": {},
   "source": [
    "So, the first 50% of the data is already loaded, let's proceed with the rest."
   ]
  },
  {
   "cell_type": "markdown",
   "id": "a681a5c4",
   "metadata": {},
   "source": [
    "### **<span style=\"color:#43A047;\">2.3 Reading data from API json </span>**\n",
    "\n",
    "#### **<span style=\"color:#4CAF50;\">2.3.1. Reading first json data </span>**"
   ]
  },
  {
   "cell_type": "code",
   "execution_count": 8,
   "id": "e65d3583",
   "metadata": {},
   "outputs": [],
   "source": [
    "url = 'http://schneiderapihack-env.eba-3ais9akk.us-east-2.elasticbeanstalk.com/first'\n",
    "data1_js_df = pd.read_json(url)"
   ]
  },
  {
   "cell_type": "code",
   "execution_count": 9,
   "id": "38f82463",
   "metadata": {},
   "outputs": [
    {
     "data": {
      "text/html": [
       "<div>\n",
       "<style scoped>\n",
       "    .dataframe tbody tr th:only-of-type {\n",
       "        vertical-align: middle;\n",
       "    }\n",
       "\n",
       "    .dataframe tbody tr th {\n",
       "        vertical-align: top;\n",
       "    }\n",
       "\n",
       "    .dataframe thead th {\n",
       "        text-align: right;\n",
       "    }\n",
       "</style>\n",
       "<table border=\"1\" class=\"dataframe\">\n",
       "  <thead>\n",
       "    <tr style=\"text-align: right;\">\n",
       "      <th></th>\n",
       "      <th></th>\n",
       "      <th>CITY ID</th>\n",
       "      <th>CONTINENT</th>\n",
       "      <th>City</th>\n",
       "      <th>DAY</th>\n",
       "      <th>DAY WITH FOGS</th>\n",
       "      <th>EPRTRAnnexIMainActivityCode</th>\n",
       "      <th>EPRTRAnnexIMainActivityLabel</th>\n",
       "      <th>EPRTRSectorCode</th>\n",
       "      <th>FacilityInspireID</th>\n",
       "      <th>...</th>\n",
       "      <th>countryName</th>\n",
       "      <th>eprtrSectorName</th>\n",
       "      <th>facilityName</th>\n",
       "      <th>max_temp</th>\n",
       "      <th>max_wind_speed</th>\n",
       "      <th>min_temp</th>\n",
       "      <th>min_wind_speed</th>\n",
       "      <th>pollutant</th>\n",
       "      <th>reportingYear</th>\n",
       "      <th>targetRelease</th>\n",
       "    </tr>\n",
       "  </thead>\n",
       "  <tbody>\n",
       "    <tr>\n",
       "      <th>0</th>\n",
       "      <td>47068</td>\n",
       "      <td>4c325d62c064477ef17b4c6e4437e121</td>\n",
       "      <td>EUROPE</td>\n",
       "      <td>Europoort Rotterdam</td>\n",
       "      <td>2</td>\n",
       "      <td>1</td>\n",
       "      <td>4(a)</td>\n",
       "      <td>Chemical installations for the production on a...</td>\n",
       "      <td>4</td>\n",
       "      <td>NL.RIVM/000019070.FACILITY</td>\n",
       "      <td>...</td>\n",
       "      <td>Netherlands</td>\n",
       "      <td>Chemical industry</td>\n",
       "      <td>Indorama Ventures Europe BV</td>\n",
       "      <td>13.256816</td>\n",
       "      <td>11.019329</td>\n",
       "      <td>14.696895</td>\n",
       "      <td>20.899762</td>\n",
       "      <td>Carbon dioxide (CO2)</td>\n",
       "      <td>2020</td>\n",
       "      <td>AIR</td>\n",
       "    </tr>\n",
       "    <tr>\n",
       "      <th>1</th>\n",
       "      <td>32952</td>\n",
       "      <td>f5e609e7095f91cc8ce9ed6d8e774a0d</td>\n",
       "      <td>EUROPE</td>\n",
       "      <td>RION</td>\n",
       "      <td>3</td>\n",
       "      <td>2</td>\n",
       "      <td>3(c)</td>\n",
       "      <td>Installations for the production of cement cli...</td>\n",
       "      <td>3</td>\n",
       "      <td>EL.CAED/100075.FACILITY</td>\n",
       "      <td>...</td>\n",
       "      <td>Greece</td>\n",
       "      <td>Mineral industry</td>\n",
       "      <td>TITAN CEMENT S.A. - DREPANO PLANT</td>\n",
       "      <td>4.528859</td>\n",
       "      <td>14.512395</td>\n",
       "      <td>9.219003</td>\n",
       "      <td>23.243403</td>\n",
       "      <td>Nitrogen oxides (NOX)</td>\n",
       "      <td>2019</td>\n",
       "      <td>AIR</td>\n",
       "    </tr>\n",
       "    <tr>\n",
       "      <th>2</th>\n",
       "      <td>72375</td>\n",
       "      <td>cfab1ba8c67c7c838db98d666f02a132</td>\n",
       "      <td>EUROPE</td>\n",
       "      <td>--</td>\n",
       "      <td>1</td>\n",
       "      <td>12</td>\n",
       "      <td>1(c)</td>\n",
       "      <td>Thermal power stations and other combustion in...</td>\n",
       "      <td>1</td>\n",
       "      <td>UK.CAED/BEISOffsh-Cormorant-Alpha.FACILITY</td>\n",
       "      <td>...</td>\n",
       "      <td>United Kingdom</td>\n",
       "      <td>Energy sector</td>\n",
       "      <td>Cormorant Alpha</td>\n",
       "      <td>10.669133</td>\n",
       "      <td>20.262171</td>\n",
       "      <td>14.715465</td>\n",
       "      <td>23.956529</td>\n",
       "      <td>Nitrogen oxides (NOX)</td>\n",
       "      <td>2009</td>\n",
       "      <td>AIR</td>\n",
       "    </tr>\n",
       "    <tr>\n",
       "      <th>3</th>\n",
       "      <td>40702</td>\n",
       "      <td>95b4e51f7b662598134e1eb956407c74</td>\n",
       "      <td>EUROPE</td>\n",
       "      <td>DRIZZONA</td>\n",
       "      <td>17</td>\n",
       "      <td>1</td>\n",
       "      <td>7(a)</td>\n",
       "      <td>Installations for the intensive rearing of pou...</td>\n",
       "      <td>7</td>\n",
       "      <td>IT.CAED/260342003.FACILITY</td>\n",
       "      <td>...</td>\n",
       "      <td>Italy</td>\n",
       "      <td>Intensive livestock production and aquaculture</td>\n",
       "      <td>SOCIETA' AGRICOLA SPARAVALLE DI FERRARI GIUSEP...</td>\n",
       "      <td>7.095682</td>\n",
       "      <td>18.283547</td>\n",
       "      <td>13.582024</td>\n",
       "      <td>26.696266</td>\n",
       "      <td>Methane (CH4)</td>\n",
       "      <td>2014</td>\n",
       "      <td>AIR</td>\n",
       "    </tr>\n",
       "    <tr>\n",
       "      <th>4</th>\n",
       "      <td>29884</td>\n",
       "      <td>f4433be3b1bfaeeb0633eb65d04b1325</td>\n",
       "      <td>EUROPE</td>\n",
       "      <td>Lünen</td>\n",
       "      <td>6</td>\n",
       "      <td>0</td>\n",
       "      <td>5(a)</td>\n",
       "      <td>Installations for the recovery or disposal of ...</td>\n",
       "      <td>5</td>\n",
       "      <td>https://registry.gdi-de.org/id/de.nw.inspire.p...</td>\n",
       "      <td>...</td>\n",
       "      <td>Germany</td>\n",
       "      <td>Waste and wastewater management</td>\n",
       "      <td>Biomassekraftwerk Lünen GmbH</td>\n",
       "      <td>9.886774</td>\n",
       "      <td>13.759408</td>\n",
       "      <td>14.006226</td>\n",
       "      <td>24.768933</td>\n",
       "      <td>Carbon dioxide (CO2)</td>\n",
       "      <td>2015</td>\n",
       "      <td>AIR</td>\n",
       "    </tr>\n",
       "  </tbody>\n",
       "</table>\n",
       "<p>5 rows × 24 columns</p>\n",
       "</div>"
      ],
      "text/plain": [
       "                                   CITY ID CONTINENT                 City  \\\n",
       "0  47068  4c325d62c064477ef17b4c6e4437e121    EUROPE  Europoort Rotterdam   \n",
       "1  32952  f5e609e7095f91cc8ce9ed6d8e774a0d    EUROPE                 RION   \n",
       "2  72375  cfab1ba8c67c7c838db98d666f02a132    EUROPE                   --   \n",
       "3  40702  95b4e51f7b662598134e1eb956407c74    EUROPE             DRIZZONA   \n",
       "4  29884  f4433be3b1bfaeeb0633eb65d04b1325    EUROPE                Lünen   \n",
       "\n",
       "   DAY  DAY WITH FOGS EPRTRAnnexIMainActivityCode  \\\n",
       "0    2              1                        4(a)   \n",
       "1    3              2                        3(c)   \n",
       "2    1             12                        1(c)   \n",
       "3   17              1                        7(a)   \n",
       "4    6              0                        5(a)   \n",
       "\n",
       "                        EPRTRAnnexIMainActivityLabel  EPRTRSectorCode  \\\n",
       "0  Chemical installations for the production on a...                4   \n",
       "1  Installations for the production of cement cli...                3   \n",
       "2  Thermal power stations and other combustion in...                1   \n",
       "3  Installations for the intensive rearing of pou...                7   \n",
       "4  Installations for the recovery or disposal of ...                5   \n",
       "\n",
       "                                   FacilityInspireID  ...     countryName  \\\n",
       "0                         NL.RIVM/000019070.FACILITY  ...     Netherlands   \n",
       "1                            EL.CAED/100075.FACILITY  ...          Greece   \n",
       "2         UK.CAED/BEISOffsh-Cormorant-Alpha.FACILITY  ...  United Kingdom   \n",
       "3                         IT.CAED/260342003.FACILITY  ...           Italy   \n",
       "4  https://registry.gdi-de.org/id/de.nw.inspire.p...  ...         Germany   \n",
       "\n",
       "                                  eprtrSectorName  \\\n",
       "0                               Chemical industry   \n",
       "1                                Mineral industry   \n",
       "2                                   Energy sector   \n",
       "3  Intensive livestock production and aquaculture   \n",
       "4                 Waste and wastewater management   \n",
       "\n",
       "                                        facilityName   max_temp  \\\n",
       "0                        Indorama Ventures Europe BV  13.256816   \n",
       "1                  TITAN CEMENT S.A. - DREPANO PLANT   4.528859   \n",
       "2                                    Cormorant Alpha  10.669133   \n",
       "3  SOCIETA' AGRICOLA SPARAVALLE DI FERRARI GIUSEP...   7.095682   \n",
       "4                       Biomassekraftwerk Lünen GmbH   9.886774   \n",
       "\n",
       "  max_wind_speed   min_temp min_wind_speed              pollutant  \\\n",
       "0      11.019329  14.696895      20.899762   Carbon dioxide (CO2)   \n",
       "1      14.512395   9.219003      23.243403  Nitrogen oxides (NOX)   \n",
       "2      20.262171  14.715465      23.956529  Nitrogen oxides (NOX)   \n",
       "3      18.283547  13.582024      26.696266          Methane (CH4)   \n",
       "4      13.759408  14.006226      24.768933   Carbon dioxide (CO2)   \n",
       "\n",
       "   reportingYear  targetRelease  \n",
       "0           2020            AIR  \n",
       "1           2019            AIR  \n",
       "2           2009            AIR  \n",
       "3           2014            AIR  \n",
       "4           2015            AIR  \n",
       "\n",
       "[5 rows x 24 columns]"
      ]
     },
     "execution_count": 9,
     "metadata": {},
     "output_type": "execute_result"
    }
   ],
   "source": [
    "data1_js_df.head() #2-We look at the heading and check that it was read correctly."
   ]
  },
  {
   "cell_type": "code",
   "execution_count": 10,
   "id": "7088271e",
   "metadata": {},
   "outputs": [
    {
     "data": {
      "text/plain": [
       "(9500, 24)"
      ]
     },
     "execution_count": 10,
     "metadata": {},
     "output_type": "execute_result"
    }
   ],
   "source": [
    "data1_js_df.shape #3-Quickly we check the format"
   ]
  },
  {
   "cell_type": "code",
   "execution_count": 11,
   "id": "f5c76c75",
   "metadata": {},
   "outputs": [],
   "source": [
    "data1_js_df.to_csv(\"../1-Classification/datasets/train3.csv\") #Saving the data set in our directory"
   ]
  },
  {
   "cell_type": "markdown",
   "id": "8a70a83b",
   "metadata": {},
   "source": [
    "#### **<span style=\"color:#4CAF50;\">2.3.2. Reading second json data </span>**"
   ]
  },
  {
   "cell_type": "code",
   "execution_count": 12,
   "id": "7bd7ef0f",
   "metadata": {},
   "outputs": [],
   "source": [
    "url = 'http://schneiderapihack-env.eba-3ais9akk.us-east-2.elasticbeanstalk.com/second'\n",
    "data2_js_df = pd.read_json(url)"
   ]
  },
  {
   "cell_type": "code",
   "execution_count": 13,
   "id": "1839d137",
   "metadata": {},
   "outputs": [
    {
     "data": {
      "text/html": [
       "<div>\n",
       "<style scoped>\n",
       "    .dataframe tbody tr th:only-of-type {\n",
       "        vertical-align: middle;\n",
       "    }\n",
       "\n",
       "    .dataframe tbody tr th {\n",
       "        vertical-align: top;\n",
       "    }\n",
       "\n",
       "    .dataframe thead th {\n",
       "        text-align: right;\n",
       "    }\n",
       "</style>\n",
       "<table border=\"1\" class=\"dataframe\">\n",
       "  <thead>\n",
       "    <tr style=\"text-align: right;\">\n",
       "      <th></th>\n",
       "      <th></th>\n",
       "      <th>CITY ID</th>\n",
       "      <th>CONTINENT</th>\n",
       "      <th>City</th>\n",
       "      <th>DAY</th>\n",
       "      <th>DAY WITH FOGS</th>\n",
       "      <th>EPRTRAnnexIMainActivityCode</th>\n",
       "      <th>EPRTRAnnexIMainActivityLabel</th>\n",
       "      <th>EPRTRSectorCode</th>\n",
       "      <th>FacilityInspireID</th>\n",
       "      <th>...</th>\n",
       "      <th>countryName</th>\n",
       "      <th>eprtrSectorName</th>\n",
       "      <th>facilityName</th>\n",
       "      <th>max_temp</th>\n",
       "      <th>max_wind_speed</th>\n",
       "      <th>min_temp</th>\n",
       "      <th>min_wind_speed</th>\n",
       "      <th>pollutant</th>\n",
       "      <th>reportingYear</th>\n",
       "      <th>targetRelease</th>\n",
       "    </tr>\n",
       "  </thead>\n",
       "  <tbody>\n",
       "    <tr>\n",
       "      <th>0</th>\n",
       "      <td>66841</td>\n",
       "      <td>e8d4668a35daa00b7802cdaac2b33bab</td>\n",
       "      <td>EUROPE</td>\n",
       "      <td>SIGTUNA</td>\n",
       "      <td>18</td>\n",
       "      <td>0</td>\n",
       "      <td>1(c)</td>\n",
       "      <td>Thermal power stations and other combustion in...</td>\n",
       "      <td>1</td>\n",
       "      <td>SE.CAED/10014262.Facility</td>\n",
       "      <td>...</td>\n",
       "      <td>Sweden</td>\n",
       "      <td>Energy sector</td>\n",
       "      <td>BRISTAVERKET</td>\n",
       "      <td>12.910354</td>\n",
       "      <td>19.591152</td>\n",
       "      <td>17.822159</td>\n",
       "      <td>24.496401</td>\n",
       "      <td>Carbon dioxide (CO2)</td>\n",
       "      <td>2010</td>\n",
       "      <td>AIR</td>\n",
       "    </tr>\n",
       "    <tr>\n",
       "      <th>1</th>\n",
       "      <td>43952</td>\n",
       "      <td>3a9c3ae8ea2e275700947e511afca943</td>\n",
       "      <td>EUROPE</td>\n",
       "      <td>Kaunas</td>\n",
       "      <td>3</td>\n",
       "      <td>1</td>\n",
       "      <td>1(c)</td>\n",
       "      <td>Thermal power stations and other combustion in...</td>\n",
       "      <td>1</td>\n",
       "      <td>LT.EEA/3.FACILITY</td>\n",
       "      <td>...</td>\n",
       "      <td>Lithuania</td>\n",
       "      <td>Energy sector</td>\n",
       "      <td>Kauno elektrine</td>\n",
       "      <td>1.566654</td>\n",
       "      <td>9.006533</td>\n",
       "      <td>4.398770</td>\n",
       "      <td>20.074976</td>\n",
       "      <td>Carbon dioxide (CO2)</td>\n",
       "      <td>2015</td>\n",
       "      <td>AIR</td>\n",
       "    </tr>\n",
       "    <tr>\n",
       "      <th>2</th>\n",
       "      <td>77831</td>\n",
       "      <td>3d7694a841fc5d426287f208f5e04f61</td>\n",
       "      <td>EUROPE</td>\n",
       "      <td>WORKINGTON</td>\n",
       "      <td>20</td>\n",
       "      <td>10</td>\n",
       "      <td>6(b)</td>\n",
       "      <td>Industrial plants for the production of paper ...</td>\n",
       "      <td>6</td>\n",
       "      <td>UK.CAED/EW_EA-1427.FACILITY</td>\n",
       "      <td>...</td>\n",
       "      <td>United Kingdom</td>\n",
       "      <td>Paper and wood production and processing</td>\n",
       "      <td>Workington Board Mill</td>\n",
       "      <td>10.241999</td>\n",
       "      <td>14.076643</td>\n",
       "      <td>13.447854</td>\n",
       "      <td>25.239151</td>\n",
       "      <td>Nitrogen oxides (NOX)</td>\n",
       "      <td>2015</td>\n",
       "      <td>AIR</td>\n",
       "    </tr>\n",
       "    <tr>\n",
       "      <th>3</th>\n",
       "      <td>67548</td>\n",
       "      <td>f8a4753cdbccbd64f0411a207e071aac</td>\n",
       "      <td>EUROPE</td>\n",
       "      <td>SALA</td>\n",
       "      <td>5</td>\n",
       "      <td>2</td>\n",
       "      <td>5(d)</td>\n",
       "      <td>Landfills (excluding landfills of inert waste ...</td>\n",
       "      <td>5</td>\n",
       "      <td>SE.CAED/10021261.Facility</td>\n",
       "      <td>...</td>\n",
       "      <td>Sweden</td>\n",
       "      <td>Waste and wastewater management</td>\n",
       "      <td>Isätra avfallsanläggning</td>\n",
       "      <td>12.684851</td>\n",
       "      <td>18.924086</td>\n",
       "      <td>17.377168</td>\n",
       "      <td>25.603714</td>\n",
       "      <td>Methane (CH4)</td>\n",
       "      <td>2013</td>\n",
       "      <td>AIR</td>\n",
       "    </tr>\n",
       "    <tr>\n",
       "      <th>4</th>\n",
       "      <td>67772</td>\n",
       "      <td>ce2ddff460389bd5d9f1152dc5679d20</td>\n",
       "      <td>EUROPE</td>\n",
       "      <td>Lugnvik</td>\n",
       "      <td>26</td>\n",
       "      <td>1</td>\n",
       "      <td>1(c)</td>\n",
       "      <td>Thermal power stations and other combustion in...</td>\n",
       "      <td>1</td>\n",
       "      <td>SE.CAED/10023054.Facility</td>\n",
       "      <td>...</td>\n",
       "      <td>Sweden</td>\n",
       "      <td>Energy sector</td>\n",
       "      <td>Lugnviksverket</td>\n",
       "      <td>7.826782</td>\n",
       "      <td>18.596857</td>\n",
       "      <td>11.731918</td>\n",
       "      <td>25.811989</td>\n",
       "      <td>Carbon dioxide (CO2)</td>\n",
       "      <td>2014</td>\n",
       "      <td>AIR</td>\n",
       "    </tr>\n",
       "  </tbody>\n",
       "</table>\n",
       "<p>5 rows × 24 columns</p>\n",
       "</div>"
      ],
      "text/plain": [
       "                                   CITY ID CONTINENT        City  DAY  \\\n",
       "0  66841  e8d4668a35daa00b7802cdaac2b33bab    EUROPE     SIGTUNA   18   \n",
       "1  43952  3a9c3ae8ea2e275700947e511afca943    EUROPE      Kaunas    3   \n",
       "2  77831  3d7694a841fc5d426287f208f5e04f61    EUROPE  WORKINGTON   20   \n",
       "3  67548  f8a4753cdbccbd64f0411a207e071aac    EUROPE        SALA    5   \n",
       "4  67772  ce2ddff460389bd5d9f1152dc5679d20    EUROPE     Lugnvik   26   \n",
       "\n",
       "   DAY WITH FOGS EPRTRAnnexIMainActivityCode  \\\n",
       "0              0                        1(c)   \n",
       "1              1                        1(c)   \n",
       "2             10                        6(b)   \n",
       "3              2                        5(d)   \n",
       "4              1                        1(c)   \n",
       "\n",
       "                        EPRTRAnnexIMainActivityLabel  EPRTRSectorCode  \\\n",
       "0  Thermal power stations and other combustion in...                1   \n",
       "1  Thermal power stations and other combustion in...                1   \n",
       "2  Industrial plants for the production of paper ...                6   \n",
       "3  Landfills (excluding landfills of inert waste ...                5   \n",
       "4  Thermal power stations and other combustion in...                1   \n",
       "\n",
       "             FacilityInspireID  ...     countryName  \\\n",
       "0    SE.CAED/10014262.Facility  ...          Sweden   \n",
       "1            LT.EEA/3.FACILITY  ...       Lithuania   \n",
       "2  UK.CAED/EW_EA-1427.FACILITY  ...  United Kingdom   \n",
       "3    SE.CAED/10021261.Facility  ...          Sweden   \n",
       "4    SE.CAED/10023054.Facility  ...          Sweden   \n",
       "\n",
       "                            eprtrSectorName              facilityName  \\\n",
       "0                             Energy sector              BRISTAVERKET   \n",
       "1                             Energy sector           Kauno elektrine   \n",
       "2  Paper and wood production and processing    Workington Board Mill    \n",
       "3           Waste and wastewater management  Isätra avfallsanläggning   \n",
       "4                             Energy sector            Lugnviksverket   \n",
       "\n",
       "    max_temp max_wind_speed   min_temp min_wind_speed              pollutant  \\\n",
       "0  12.910354      19.591152  17.822159      24.496401   Carbon dioxide (CO2)   \n",
       "1   1.566654       9.006533   4.398770      20.074976   Carbon dioxide (CO2)   \n",
       "2  10.241999      14.076643  13.447854      25.239151  Nitrogen oxides (NOX)   \n",
       "3  12.684851      18.924086  17.377168      25.603714          Methane (CH4)   \n",
       "4   7.826782      18.596857  11.731918      25.811989   Carbon dioxide (CO2)   \n",
       "\n",
       "   reportingYear  targetRelease  \n",
       "0           2010            AIR  \n",
       "1           2015            AIR  \n",
       "2           2015            AIR  \n",
       "3           2013            AIR  \n",
       "4           2014            AIR  \n",
       "\n",
       "[5 rows x 24 columns]"
      ]
     },
     "execution_count": 13,
     "metadata": {},
     "output_type": "execute_result"
    }
   ],
   "source": [
    "data2_js_df.head() #2-We look at the heading and check that it was read correctly."
   ]
  },
  {
   "cell_type": "code",
   "execution_count": 14,
   "id": "1cb52384",
   "metadata": {},
   "outputs": [
    {
     "data": {
      "text/plain": [
       "(9500, 24)"
      ]
     },
     "execution_count": 14,
     "metadata": {},
     "output_type": "execute_result"
    }
   ],
   "source": [
    "data2_js_df.shape #3-Quickly we check the format"
   ]
  },
  {
   "cell_type": "code",
   "execution_count": 15,
   "id": "371b689c",
   "metadata": {},
   "outputs": [],
   "source": [
    "data2_js_df.to_csv(\"../1-Classification/datasets/train4.csv\") #Saving the data set in our directory"
   ]
  },
  {
   "cell_type": "markdown",
   "id": "e4c3b9d2",
   "metadata": {},
   "source": [
    "#### **<span style=\"color:#4CAF50;\">2.3.2. Reading thrid json data </span>**"
   ]
  },
  {
   "cell_type": "code",
   "execution_count": 16,
   "id": "706d966a",
   "metadata": {},
   "outputs": [],
   "source": [
    "url = 'http://schneiderapihack-env.eba-3ais9akk.us-east-2.elasticbeanstalk.com/third'\n",
    "data3_js_df = pd.read_json(url)"
   ]
  },
  {
   "cell_type": "code",
   "execution_count": 17,
   "id": "37c53bc4",
   "metadata": {},
   "outputs": [
    {
     "data": {
      "text/html": [
       "<div>\n",
       "<style scoped>\n",
       "    .dataframe tbody tr th:only-of-type {\n",
       "        vertical-align: middle;\n",
       "    }\n",
       "\n",
       "    .dataframe tbody tr th {\n",
       "        vertical-align: top;\n",
       "    }\n",
       "\n",
       "    .dataframe thead th {\n",
       "        text-align: right;\n",
       "    }\n",
       "</style>\n",
       "<table border=\"1\" class=\"dataframe\">\n",
       "  <thead>\n",
       "    <tr style=\"text-align: right;\">\n",
       "      <th></th>\n",
       "      <th></th>\n",
       "      <th>CITY ID</th>\n",
       "      <th>CONTINENT</th>\n",
       "      <th>City</th>\n",
       "      <th>DAY</th>\n",
       "      <th>DAY WITH FOGS</th>\n",
       "      <th>EPRTRAnnexIMainActivityCode</th>\n",
       "      <th>EPRTRAnnexIMainActivityLabel</th>\n",
       "      <th>EPRTRSectorCode</th>\n",
       "      <th>FacilityInspireID</th>\n",
       "      <th>...</th>\n",
       "      <th>countryName</th>\n",
       "      <th>eprtrSectorName</th>\n",
       "      <th>facilityName</th>\n",
       "      <th>max_temp</th>\n",
       "      <th>max_wind_speed</th>\n",
       "      <th>min_temp</th>\n",
       "      <th>min_wind_speed</th>\n",
       "      <th>pollutant</th>\n",
       "      <th>reportingYear</th>\n",
       "      <th>targetRelease</th>\n",
       "    </tr>\n",
       "  </thead>\n",
       "  <tbody>\n",
       "    <tr>\n",
       "      <th>0</th>\n",
       "      <td>41175</td>\n",
       "      <td>7951666b94e0f0891e0c66b2381fca55</td>\n",
       "      <td>EUROPE</td>\n",
       "      <td>TORINO</td>\n",
       "      <td>24</td>\n",
       "      <td>1</td>\n",
       "      <td>1(c)</td>\n",
       "      <td>Thermal power stations and other combustion in...</td>\n",
       "      <td>1</td>\n",
       "      <td>IT.CAED/101511001.FACILITY</td>\n",
       "      <td>...</td>\n",
       "      <td>Italy</td>\n",
       "      <td>Energy sector</td>\n",
       "      <td>Iren Energia S.p.A.</td>\n",
       "      <td>7.367005</td>\n",
       "      <td>15.892429</td>\n",
       "      <td>12.571580</td>\n",
       "      <td>20.467596</td>\n",
       "      <td>Nitrogen oxides (NOX)</td>\n",
       "      <td>2015</td>\n",
       "      <td>AIR</td>\n",
       "    </tr>\n",
       "    <tr>\n",
       "      <th>1</th>\n",
       "      <td>49299</td>\n",
       "      <td>33c89df2492e8d3efda719c849b530ea</td>\n",
       "      <td>EUROPE</td>\n",
       "      <td>Łódź</td>\n",
       "      <td>4</td>\n",
       "      <td>0</td>\n",
       "      <td>1(c)</td>\n",
       "      <td>Thermal power stations and other combustion in...</td>\n",
       "      <td>1</td>\n",
       "      <td>PL.EEA/1321.FACILITY</td>\n",
       "      <td>...</td>\n",
       "      <td>Poland</td>\n",
       "      <td>Energy sector</td>\n",
       "      <td>Dalkia Łódź S.A. Elektrociepłownia nr 3</td>\n",
       "      <td>12.764269</td>\n",
       "      <td>14.168742</td>\n",
       "      <td>19.081248</td>\n",
       "      <td>25.439515</td>\n",
       "      <td>Carbon dioxide (CO2)</td>\n",
       "      <td>2011</td>\n",
       "      <td>AIR</td>\n",
       "    </tr>\n",
       "    <tr>\n",
       "      <th>2</th>\n",
       "      <td>34879</td>\n",
       "      <td>4a8b9d98f65af3a29bbf298d8536c142</td>\n",
       "      <td>EUROPE</td>\n",
       "      <td>Tipperary</td>\n",
       "      <td>18</td>\n",
       "      <td>0</td>\n",
       "      <td>7(a)(ii)</td>\n",
       "      <td>Installations for the intensive rearing of pig...</td>\n",
       "      <td>7</td>\n",
       "      <td>IE.CAED/P0489.FACILITY</td>\n",
       "      <td>...</td>\n",
       "      <td>Ireland</td>\n",
       "      <td>Intensive livestock production and aquaculture</td>\n",
       "      <td>Glen of Aherlow Pig Producers Co-Op Society Li...</td>\n",
       "      <td>9.278435</td>\n",
       "      <td>17.849098</td>\n",
       "      <td>15.912360</td>\n",
       "      <td>25.603904</td>\n",
       "      <td>Methane (CH4)</td>\n",
       "      <td>2011</td>\n",
       "      <td>AIR</td>\n",
       "    </tr>\n",
       "    <tr>\n",
       "      <th>3</th>\n",
       "      <td>16905</td>\n",
       "      <td>e38f45f4d669e9f69fa97bfe049ceed6</td>\n",
       "      <td>EUROPE</td>\n",
       "      <td>REIMS</td>\n",
       "      <td>27</td>\n",
       "      <td>0</td>\n",
       "      <td>3(e)</td>\n",
       "      <td>Installations for the manufacture of glass, in...</td>\n",
       "      <td>3</td>\n",
       "      <td>FR.CAED/3453.FACILITY</td>\n",
       "      <td>...</td>\n",
       "      <td>France</td>\n",
       "      <td>Mineral industry</td>\n",
       "      <td>OI MANUFACTURING FRANCE REIMS</td>\n",
       "      <td>12.132210</td>\n",
       "      <td>10.348395</td>\n",
       "      <td>16.897353</td>\n",
       "      <td>18.131688</td>\n",
       "      <td>Nitrogen oxides (NOX)</td>\n",
       "      <td>2014</td>\n",
       "      <td>AIR</td>\n",
       "    </tr>\n",
       "    <tr>\n",
       "      <th>4</th>\n",
       "      <td>75675</td>\n",
       "      <td>fb960490e42477cbfdcd6bab1793f31e</td>\n",
       "      <td>EUROPE</td>\n",
       "      <td>Hexham</td>\n",
       "      <td>28</td>\n",
       "      <td>2</td>\n",
       "      <td>6(b)</td>\n",
       "      <td>Industrial plants for the production of paper ...</td>\n",
       "      <td>6</td>\n",
       "      <td>UK.LAED/E375_434.FACILITY</td>\n",
       "      <td>...</td>\n",
       "      <td>United Kingdom</td>\n",
       "      <td>Paper and wood production and processing</td>\n",
       "      <td>EGGER (UK) LIMITED</td>\n",
       "      <td>3.376109</td>\n",
       "      <td>13.803120</td>\n",
       "      <td>6.435358</td>\n",
       "      <td>22.215066</td>\n",
       "      <td>Nitrogen oxides (NOX)</td>\n",
       "      <td>2012</td>\n",
       "      <td>AIR</td>\n",
       "    </tr>\n",
       "  </tbody>\n",
       "</table>\n",
       "<p>5 rows × 24 columns</p>\n",
       "</div>"
      ],
      "text/plain": [
       "                                   CITY ID CONTINENT       City  DAY  \\\n",
       "0  41175  7951666b94e0f0891e0c66b2381fca55    EUROPE     TORINO   24   \n",
       "1  49299  33c89df2492e8d3efda719c849b530ea    EUROPE       Łódź    4   \n",
       "2  34879  4a8b9d98f65af3a29bbf298d8536c142    EUROPE  Tipperary   18   \n",
       "3  16905  e38f45f4d669e9f69fa97bfe049ceed6    EUROPE      REIMS   27   \n",
       "4  75675  fb960490e42477cbfdcd6bab1793f31e    EUROPE     Hexham   28   \n",
       "\n",
       "   DAY WITH FOGS EPRTRAnnexIMainActivityCode  \\\n",
       "0              1                        1(c)   \n",
       "1              0                        1(c)   \n",
       "2              0                    7(a)(ii)   \n",
       "3              0                        3(e)   \n",
       "4              2                        6(b)   \n",
       "\n",
       "                        EPRTRAnnexIMainActivityLabel  EPRTRSectorCode  \\\n",
       "0  Thermal power stations and other combustion in...                1   \n",
       "1  Thermal power stations and other combustion in...                1   \n",
       "2  Installations for the intensive rearing of pig...                7   \n",
       "3  Installations for the manufacture of glass, in...                3   \n",
       "4  Industrial plants for the production of paper ...                6   \n",
       "\n",
       "            FacilityInspireID  ...     countryName  \\\n",
       "0  IT.CAED/101511001.FACILITY  ...           Italy   \n",
       "1        PL.EEA/1321.FACILITY  ...          Poland   \n",
       "2      IE.CAED/P0489.FACILITY  ...         Ireland   \n",
       "3       FR.CAED/3453.FACILITY  ...          France   \n",
       "4   UK.LAED/E375_434.FACILITY  ...  United Kingdom   \n",
       "\n",
       "                                  eprtrSectorName  \\\n",
       "0                                   Energy sector   \n",
       "1                                   Energy sector   \n",
       "2  Intensive livestock production and aquaculture   \n",
       "3                                Mineral industry   \n",
       "4        Paper and wood production and processing   \n",
       "\n",
       "                                        facilityName   max_temp  \\\n",
       "0                                Iren Energia S.p.A.   7.367005   \n",
       "1            Dalkia Łódź S.A. Elektrociepłownia nr 3  12.764269   \n",
       "2  Glen of Aherlow Pig Producers Co-Op Society Li...   9.278435   \n",
       "3                      OI MANUFACTURING FRANCE REIMS  12.132210   \n",
       "4                                 EGGER (UK) LIMITED   3.376109   \n",
       "\n",
       "  max_wind_speed   min_temp min_wind_speed              pollutant  \\\n",
       "0      15.892429  12.571580      20.467596  Nitrogen oxides (NOX)   \n",
       "1      14.168742  19.081248      25.439515   Carbon dioxide (CO2)   \n",
       "2      17.849098  15.912360      25.603904          Methane (CH4)   \n",
       "3      10.348395  16.897353      18.131688  Nitrogen oxides (NOX)   \n",
       "4      13.803120   6.435358      22.215066  Nitrogen oxides (NOX)   \n",
       "\n",
       "   reportingYear  targetRelease  \n",
       "0           2015            AIR  \n",
       "1           2011            AIR  \n",
       "2           2011            AIR  \n",
       "3           2014            AIR  \n",
       "4           2012            AIR  \n",
       "\n",
       "[5 rows x 24 columns]"
      ]
     },
     "execution_count": 17,
     "metadata": {},
     "output_type": "execute_result"
    }
   ],
   "source": [
    "data3_js_df.head() #2-We look at the heading and check that it was read correctly."
   ]
  },
  {
   "cell_type": "code",
   "execution_count": 18,
   "id": "7c14bda5",
   "metadata": {},
   "outputs": [
    {
     "data": {
      "text/plain": [
       "(9501, 24)"
      ]
     },
     "execution_count": 18,
     "metadata": {},
     "output_type": "execute_result"
    }
   ],
   "source": [
    "data3_js_df.shape #3-Quickly we check the format"
   ]
  },
  {
   "cell_type": "code",
   "execution_count": 19,
   "id": "0a331ad1",
   "metadata": {},
   "outputs": [],
   "source": [
    "data3_js_df.to_csv(\"../1-Classification/datasets/train5.csv\") #Saving the data set in our directory"
   ]
  },
  {
   "cell_type": "markdown",
   "id": "136cbd9e",
   "metadata": {},
   "source": [
    "So, the __99%__ of the data is already loaded."
   ]
  },
  {
   "cell_type": "markdown",
   "id": "790c79fd",
   "metadata": {},
   "source": [
    "### **<span style=\"color:#43A047;\">2.4 Reading data from PDF </span>**\n",
    "\n",
    "#### **<span style=\"color:#4CAF50;\">2.4.1. Reading first PDF data. </span>**"
   ]
  },
  {
   "cell_type": "markdown",
   "id": "0fc1c896",
   "metadata": {},
   "source": [
    "I have used the PyMuPDF library for this purpose. This library provided many applications such as extracting images from PDF, extracting texts from different shapes, making annotations, draw a bounded box around the texts along with the features of libraries like PyPDF2."
   ]
  },
  {
   "cell_type": "code",
   "execution_count": 22,
   "id": "73b9fe91",
   "metadata": {},
   "outputs": [],
   "source": [
    "folder = r\"../1-Classification/datasets/train6/\"\n",
    "def get_files(folder):\n",
    "    import os\n",
    "    os.chdir(folder)\n",
    "    files = os.listdir()\n",
    "    files = [x for x in files if x.endswith(\".pdf\")]\n",
    "    return files "
   ]
  },
  {
   "cell_type": "code",
   "execution_count": 23,
   "id": "50bc41e9",
   "metadata": {},
   "outputs": [],
   "source": [
    "#RUN FILE \n",
    "files = get_files(folder)    "
   ]
  },
  {
   "cell_type": "code",
   "execution_count": 24,
   "id": "7ed940f6",
   "metadata": {},
   "outputs": [],
   "source": [
    "patch = r\"../train6/\"\n",
    "out = open(\"pdf_to_text.txt\", \"wb\")  # open text output\n",
    "for file in files:\n",
    "    doc = fitz.open(patch + file)\n",
    "    for page in doc:  # iterate the document pages\n",
    "        text = page.get_text().encode(\"utf8\")  # get plain text (is in UTF-8)\n",
    "        out.write(text)  # write text of page\n",
    "        out.write(bytes((12,)))  # write page delimiter (form feed 0x0C)\n",
    "out.close()"
   ]
  },
  {
   "cell_type": "code",
   "execution_count": 25,
   "id": "d4a8710d",
   "metadata": {},
   "outputs": [],
   "source": [
    "all_annots = (open(\"pdf_to_text.txt\", encoding=\"UTF-8\")).readlines()"
   ]
  },
  {
   "cell_type": "markdown",
   "id": "ec1dfbdf",
   "metadata": {},
   "source": [
    "Splitting to form column name and its values :"
   ]
  },
  {
   "cell_type": "code",
   "execution_count": 26,
   "id": "19c9782f",
   "metadata": {},
   "outputs": [],
   "source": [
    "cont=[]\n",
    "for i in range(0,len(all_annots)):\n",
    "    cont.append(all_annots[i].split(' :\\n',0))"
   ]
  },
  {
   "cell_type": "code",
   "execution_count": 27,
   "id": "4b866bd8",
   "metadata": {},
   "outputs": [],
   "source": [
    "liss=[]\n",
    "for i in range(0,len(cont)):\n",
    "    lis=[]\n",
    "    for j in cont[i]:\n",
    "        j=j.replace('*','')\n",
    "        j=j.replace('#','')\n",
    "        j=j.replace(':','')\n",
    "        j=j.replace('\\n','') \n",
    "        j=j.replace(',','.')\n",
    "        j=j.replace('E+','') # THIS MUST BE CHANGED\n",
    "        j=j.strip()\n",
    "        #print(j)\n",
    "        lis.append(j)\n",
    "    liss.append(lis)"
   ]
  },
  {
   "cell_type": "code",
   "execution_count": 28,
   "id": "c8ac8dfb",
   "metadata": {},
   "outputs": [],
   "source": [
    "features = ['FACILITY NAME', 'FacilityInspireID', 'COUNTRY', 'CONTINENT', 'CITY', 'EPRTRSectorCode', 'eprtrSectorName','emissions','DAY','MONTH','YEAR','max_wind_speed','min_wind_speed','avg_wind_speed','max_temp','min_temp','avg_temp','DAYS FOG','CITY_ID', 'pollutant']"
   ]
  },
  {
   "cell_type": "code",
   "execution_count": 29,
   "id": "79f7946e",
   "metadata": {},
   "outputs": [],
   "source": [
    "data_pdf_df = pd.DataFrame(columns=features)"
   ]
  },
  {
   "cell_type": "code",
   "execution_count": 30,
   "id": "8f305b08",
   "metadata": {},
   "outputs": [],
   "source": [
    "for i in features:\n",
    "    cont = 0\n",
    "    for j in range(0,len(liss)):                    \n",
    "        if i == liss[j][0]:\n",
    "            cont = cont + 1\n",
    "            if len(liss[j+1][0].split(' ')) > 1 and (i != 'FACILITY NAME') and (i != 'eprtrSectorName') \\\n",
    "            and (i != 'COUNTRY') and (i != 'pollutant') and (i != 'CITY'):\n",
    "                parcial=[]\n",
    "                for k in range(len(liss[j+1][0].split(' '))):\n",
    "                        parcial = liss[j+1][0].split(' ')\n",
    "                        index = features.index(i)\n",
    "                        data_pdf_df.loc[cont,features[index]] = parcial[0]\n",
    "                        index = index +1\n",
    "            else:\n",
    "                data_pdf_df.loc[cont,i] = liss[j+1][0]     "
   ]
  },
  {
   "cell_type": "code",
   "execution_count": 31,
   "id": "8aec6153",
   "metadata": {},
   "outputs": [],
   "source": [
    "cont = 1\n",
    "flag = 0\n",
    "for j in range(0,len(liss)):\n",
    "        features_split = liss[j][0].split(' ')        \n",
    "        if  len(features_split)> 1 :\n",
    "            for l in features_split: \n",
    "                if l == 'YEAR':\n",
    "                    if flag == 1:\n",
    "                        cont = cont + 1\n",
    "                    data_pdf_df.loc[cont,features[10]] = liss[j+1][0]     \n",
    "                    flag = 1 \n",
    "                elif l == 'max_wind_speed':\n",
    "                    data_pdf_df.loc[cont,features[11]] = features_split[1] \n",
    "                elif l == 'avg_wind_speed':\n",
    "                    if len(features_split)> 2 :\n",
    "                        data_pdf_df.loc[cont,features[12]] = (features_split[0])   \n",
    "                        data_pdf_df.loc[cont,features[13]] = (features_split[2]) \n",
    "                    else:\n",
    "                        data_pdf_df.loc[cont,features[12]] = features_split[0]  \n",
    "                        data_pdf_df.loc[cont,features[13]] = liss[j+1][0] \n",
    "                elif l == 'avg_temp':\n",
    "                    data_pdf_df.loc[cont,features[15]] = features_split[0]\n",
    "                    data_pdf_df.loc[cont,features[16]] = liss[j+1][0]           "
   ]
  },
  {
   "cell_type": "code",
   "execution_count": 33,
   "id": "542b3251",
   "metadata": {
    "scrolled": true
   },
   "outputs": [
    {
     "data": {
      "text/html": [
       "<div>\n",
       "<style scoped>\n",
       "    .dataframe tbody tr th:only-of-type {\n",
       "        vertical-align: middle;\n",
       "    }\n",
       "\n",
       "    .dataframe tbody tr th {\n",
       "        vertical-align: top;\n",
       "    }\n",
       "\n",
       "    .dataframe thead th {\n",
       "        text-align: right;\n",
       "    }\n",
       "</style>\n",
       "<table border=\"1\" class=\"dataframe\">\n",
       "  <thead>\n",
       "    <tr style=\"text-align: right;\">\n",
       "      <th></th>\n",
       "      <th>FACILITY NAME</th>\n",
       "      <th>FacilityInspireID</th>\n",
       "      <th>COUNTRY</th>\n",
       "      <th>CONTINENT</th>\n",
       "      <th>CITY</th>\n",
       "      <th>EPRTRSectorCode</th>\n",
       "      <th>eprtrSectorName</th>\n",
       "      <th>emissions</th>\n",
       "      <th>DAY</th>\n",
       "      <th>MONTH</th>\n",
       "      <th>YEAR</th>\n",
       "      <th>max_wind_speed</th>\n",
       "      <th>min_wind_speed</th>\n",
       "      <th>avg_wind_speed</th>\n",
       "      <th>max_temp</th>\n",
       "      <th>min_temp</th>\n",
       "      <th>avg_temp</th>\n",
       "      <th>DAYS FOG</th>\n",
       "      <th>CITY_ID</th>\n",
       "      <th>pollutant</th>\n",
       "    </tr>\n",
       "  </thead>\n",
       "  <tbody>\n",
       "    <tr>\n",
       "      <th>1</th>\n",
       "      <td>Millerhill Recycling &amp; Energy Recovery Centre</td>\n",
       "      <td>UK.SEPA/200002651.Facility</td>\n",
       "      <td>United Kingdom</td>\n",
       "      <td>EUROPE</td>\n",
       "      <td>Millerhill. Dalkeith</td>\n",
       "      <td>5</td>\n",
       "      <td>Waste and wastewater management</td>\n",
       "      <td>175000</td>\n",
       "      <td>12</td>\n",
       "      <td>6</td>\n",
       "      <td>2019</td>\n",
       "      <td>1.7915</td>\n",
       "      <td>2.216</td>\n",
       "      <td>2.0415</td>\n",
       "      <td>1.5116</td>\n",
       "      <td>1.8215</td>\n",
       "      <td>1.7116</td>\n",
       "      <td>10</td>\n",
       "      <td>c662b4b4d859a9c224b5ac0acf221748</td>\n",
       "      <td>Nitrogen oxides (NOX)</td>\n",
       "    </tr>\n",
       "    <tr>\n",
       "      <th>2</th>\n",
       "      <td>Fife Ethylene Plant</td>\n",
       "      <td>UK.SEPA/200000061.Facility</td>\n",
       "      <td>United Kingdom</td>\n",
       "      <td>EUROPE</td>\n",
       "      <td>Cowdenbeath</td>\n",
       "      <td>1</td>\n",
       "      <td>Energy sector</td>\n",
       "      <td>6.808</td>\n",
       "      <td>12</td>\n",
       "      <td>4</td>\n",
       "      <td>2019</td>\n",
       "      <td>1.5216</td>\n",
       "      <td>2.0615</td>\n",
       "      <td>1.4616</td>\n",
       "      <td>9.6115</td>\n",
       "      <td>1.3316</td>\n",
       "      <td>8.6915</td>\n",
       "      <td>19</td>\n",
       "      <td>3c563ab0d76fc84128574b5da82f769a</td>\n",
       "      <td>Carbon dioxide (CO2)</td>\n",
       "    </tr>\n",
       "    <tr>\n",
       "      <th>3</th>\n",
       "      <td>Fife Ethylene Plant</td>\n",
       "      <td>UK.SEPA/200000061.Facility</td>\n",
       "      <td>United Kingdom</td>\n",
       "      <td>EUROPE</td>\n",
       "      <td>Cowdenbeath</td>\n",
       "      <td>1</td>\n",
       "      <td>Energy sector</td>\n",
       "      <td>6.808</td>\n",
       "      <td>12</td>\n",
       "      <td>4</td>\n",
       "      <td>2019</td>\n",
       "      <td>1.5216</td>\n",
       "      <td>2.0615</td>\n",
       "      <td>1.4616</td>\n",
       "      <td>9.6115</td>\n",
       "      <td>1.3316</td>\n",
       "      <td>8.6915</td>\n",
       "      <td>19</td>\n",
       "      <td>3c563ab0d76fc84128574b5da82f769a</td>\n",
       "      <td>Carbon dioxide (CO2)</td>\n",
       "    </tr>\n",
       "    <tr>\n",
       "      <th>4</th>\n",
       "      <td>Fife Ethylene Plant</td>\n",
       "      <td>UK.SEPA/200000061.Facility</td>\n",
       "      <td>United Kingdom</td>\n",
       "      <td>EUROPE</td>\n",
       "      <td>Cowdenbeath</td>\n",
       "      <td>1</td>\n",
       "      <td>Energy sector</td>\n",
       "      <td>633000</td>\n",
       "      <td>3</td>\n",
       "      <td>1</td>\n",
       "      <td>2019</td>\n",
       "      <td>1.1616</td>\n",
       "      <td>2.1816</td>\n",
       "      <td>1.6516</td>\n",
       "      <td>8.0315</td>\n",
       "      <td>1.0416</td>\n",
       "      <td>8.9415</td>\n",
       "      <td>10</td>\n",
       "      <td>3c563ab0d76fc84128574b5da82f769a</td>\n",
       "      <td>Nitrogen oxides (NOX)</td>\n",
       "    </tr>\n",
       "    <tr>\n",
       "      <th>5</th>\n",
       "      <td>Alloa Glass Factory</td>\n",
       "      <td>UK.SEPA/200000073.Facility</td>\n",
       "      <td>United Kingdom</td>\n",
       "      <td>EUROPE</td>\n",
       "      <td>Alloa</td>\n",
       "      <td>3</td>\n",
       "      <td>Mineral industry</td>\n",
       "      <td>1.4908</td>\n",
       "      <td>9</td>\n",
       "      <td>11</td>\n",
       "      <td>2019</td>\n",
       "      <td>1.1116</td>\n",
       "      <td>2.0316</td>\n",
       "      <td>1.616</td>\n",
       "      <td>-1.916</td>\n",
       "      <td>4.0716</td>\n",
       "      <td>1.3315</td>\n",
       "      <td>4</td>\n",
       "      <td>2cc8f54182c37b8907f534011ea01e6f</td>\n",
       "      <td>Carbon dioxide (CO2)</td>\n",
       "    </tr>\n",
       "  </tbody>\n",
       "</table>\n",
       "</div>"
      ],
      "text/plain": [
       "                                   FACILITY NAME           FacilityInspireID  \\\n",
       "1  Millerhill Recycling & Energy Recovery Centre  UK.SEPA/200002651.Facility   \n",
       "2                            Fife Ethylene Plant  UK.SEPA/200000061.Facility   \n",
       "3                            Fife Ethylene Plant  UK.SEPA/200000061.Facility   \n",
       "4                            Fife Ethylene Plant  UK.SEPA/200000061.Facility   \n",
       "5                            Alloa Glass Factory  UK.SEPA/200000073.Facility   \n",
       "\n",
       "          COUNTRY CONTINENT                  CITY EPRTRSectorCode  \\\n",
       "1  United Kingdom    EUROPE  Millerhill. Dalkeith               5   \n",
       "2  United Kingdom    EUROPE           Cowdenbeath               1   \n",
       "3  United Kingdom    EUROPE           Cowdenbeath               1   \n",
       "4  United Kingdom    EUROPE           Cowdenbeath               1   \n",
       "5  United Kingdom    EUROPE                 Alloa               3   \n",
       "\n",
       "                   eprtrSectorName emissions DAY MONTH  YEAR max_wind_speed  \\\n",
       "1  Waste and wastewater management    175000  12     6  2019         1.7915   \n",
       "2                    Energy sector     6.808  12     4  2019         1.5216   \n",
       "3                    Energy sector     6.808  12     4  2019         1.5216   \n",
       "4                    Energy sector    633000   3     1  2019         1.1616   \n",
       "5                 Mineral industry    1.4908   9    11  2019         1.1116   \n",
       "\n",
       "  min_wind_speed avg_wind_speed max_temp min_temp avg_temp DAYS FOG  \\\n",
       "1          2.216         2.0415   1.5116   1.8215   1.7116       10   \n",
       "2         2.0615         1.4616   9.6115   1.3316   8.6915       19   \n",
       "3         2.0615         1.4616   9.6115   1.3316   8.6915       19   \n",
       "4         2.1816         1.6516   8.0315   1.0416   8.9415       10   \n",
       "5         2.0316          1.616   -1.916   4.0716   1.3315        4   \n",
       "\n",
       "                            CITY_ID              pollutant  \n",
       "1  c662b4b4d859a9c224b5ac0acf221748  Nitrogen oxides (NOX)  \n",
       "2  3c563ab0d76fc84128574b5da82f769a   Carbon dioxide (CO2)  \n",
       "3  3c563ab0d76fc84128574b5da82f769a   Carbon dioxide (CO2)  \n",
       "4  3c563ab0d76fc84128574b5da82f769a  Nitrogen oxides (NOX)  \n",
       "5  2cc8f54182c37b8907f534011ea01e6f   Carbon dioxide (CO2)  "
      ]
     },
     "execution_count": 33,
     "metadata": {},
     "output_type": "execute_result"
    }
   ],
   "source": [
    "data_pdf_df.head()"
   ]
  },
  {
   "cell_type": "code",
   "execution_count": 34,
   "id": "4706f377",
   "metadata": {},
   "outputs": [
    {
     "data": {
      "text/plain": [
       "(82, 20)"
      ]
     },
     "execution_count": 34,
     "metadata": {},
     "output_type": "execute_result"
    }
   ],
   "source": [
    "data_pdf_df.shape"
   ]
  },
  {
   "cell_type": "markdown",
   "id": "aea28f2a",
   "metadata": {},
   "source": [
    "---------------------------------------------------------------------"
   ]
  },
  {
   "cell_type": "markdown",
   "id": "fdf3e533",
   "metadata": {},
   "source": [
    "## ✅  3) Adapting information, identifying and correcting anomalies 🔧\n",
    "First, we have to merge all the datasets into one, so that we have a single package to analyze."
   ]
  },
  {
   "cell_type": "markdown",
   "id": "ed50c003",
   "metadata": {},
   "source": [
    "### **<span style=\"color:#43A047;\">3.0 Checking column orders and differences in data sizes. </span>**"
   ]
  },
  {
   "cell_type": "code",
   "execution_count": 36,
   "id": "4ed718bc",
   "metadata": {},
   "outputs": [
    {
     "name": "stdout",
     "output_type": "stream",
     "text": [
      "The sizes are: \n"
     ]
    },
    {
     "data": {
      "text/plain": [
       "[['1st csv', (18563, 21)],\n",
       " ['2nd csv', (9500, 25)],\n",
       " ['1st json', (9500, 24)],\n",
       " ['2nd json', (9500, 24)],\n",
       " ['3th json', (9501, 24)],\n",
       " ['All pdf', (82, 20)]]"
      ]
     },
     "execution_count": 36,
     "metadata": {},
     "output_type": "execute_result"
    }
   ],
   "source": [
    "sizes = [[\"1st csv\", data1_csv_df.shape],\n",
    "         [\"2nd csv\", data2_csv_df.shape],\n",
    "         [\"1st json\", data1_js_df.shape],\n",
    "         [\"2nd json\", data2_js_df.shape],\n",
    "         [\"3th json\", data3_js_df.shape],\n",
    "         [\"All pdf\", data_pdf_df.shape]]\n",
    "print(\"The sizes are: \")\n",
    "sizes"
   ]
  },
  {
   "cell_type": "markdown",
   "id": "2900a568",
   "metadata": {},
   "source": [
    "If there is a difference in columns sizes, the differents columns should be displayed and determine what to do if it is vital information. You can either add a mean to the missing data or delete the extra columns."
   ]
  },
  {
   "cell_type": "code",
   "execution_count": 37,
   "id": "107d8f9b",
   "metadata": {
    "scrolled": false
   },
   "outputs": [
    {
     "name": "stdout",
     "output_type": "stream",
     "text": [
      "The column's order is:\n"
     ]
    },
    {
     "data": {
      "text/plain": [
       "[['1st csv',\n",
       "  array(['countryName', 'eprtrSectorName', 'EPRTRAnnexIMainActivityLabel',\n",
       "         'FacilityInspireID', 'facilityName', 'City', 'targetRelease',\n",
       "         'pollutant', 'reportingYear', 'MONTH', 'DAY', 'CONTINENT',\n",
       "         'max_wind_speed', 'avg_wind_speed', 'min_wind_speed', 'max_temp',\n",
       "         'avg_temp', 'min_temp', 'DAY WITH FOGS', 'REPORTER NAME',\n",
       "         'CITY ID'], dtype=object)],\n",
       " ['2nd csv',\n",
       "  array(['Unnamed: 0', 'Unnamed: 1', 'CITY ID', 'CONTINENT', 'City', 'DAY',\n",
       "         'DAY WITH FOGS', 'EPRTRAnnexIMainActivityCode',\n",
       "         'EPRTRAnnexIMainActivityLabel', 'EPRTRSectorCode',\n",
       "         'FacilityInspireID', 'MONTH', 'REPORTER NAME', 'avg_temp',\n",
       "         'avg_wind_speed', 'countryName', 'eprtrSectorName', 'facilityName',\n",
       "         'max_temp', 'max_wind_speed', 'min_temp', 'min_wind_speed',\n",
       "         'pollutant', 'reportingYear', 'targetRelease'], dtype=object)],\n",
       " ['1st json',\n",
       "  array(['', 'CITY ID', 'CONTINENT', 'City', 'DAY', 'DAY WITH FOGS',\n",
       "         'EPRTRAnnexIMainActivityCode', 'EPRTRAnnexIMainActivityLabel',\n",
       "         'EPRTRSectorCode', 'FacilityInspireID', 'MONTH', 'REPORTER NAME',\n",
       "         'avg_temp', 'avg_wind_speed', 'countryName', 'eprtrSectorName',\n",
       "         'facilityName', 'max_temp', 'max_wind_speed', 'min_temp',\n",
       "         'min_wind_speed', 'pollutant', 'reportingYear', 'targetRelease'],\n",
       "        dtype=object)],\n",
       " ['2nd json',\n",
       "  array(['', 'CITY ID', 'CONTINENT', 'City', 'DAY', 'DAY WITH FOGS',\n",
       "         'EPRTRAnnexIMainActivityCode', 'EPRTRAnnexIMainActivityLabel',\n",
       "         'EPRTRSectorCode', 'FacilityInspireID', 'MONTH', 'REPORTER NAME',\n",
       "         'avg_temp', 'avg_wind_speed', 'countryName', 'eprtrSectorName',\n",
       "         'facilityName', 'max_temp', 'max_wind_speed', 'min_temp',\n",
       "         'min_wind_speed', 'pollutant', 'reportingYear', 'targetRelease'],\n",
       "        dtype=object)],\n",
       " ['3th json',\n",
       "  array(['', 'CITY ID', 'CONTINENT', 'City', 'DAY', 'DAY WITH FOGS',\n",
       "         'EPRTRAnnexIMainActivityCode', 'EPRTRAnnexIMainActivityLabel',\n",
       "         'EPRTRSectorCode', 'FacilityInspireID', 'MONTH', 'REPORTER NAME',\n",
       "         'avg_temp', 'avg_wind_speed', 'countryName', 'eprtrSectorName',\n",
       "         'facilityName', 'max_temp', 'max_wind_speed', 'min_temp',\n",
       "         'min_wind_speed', 'pollutant', 'reportingYear', 'targetRelease'],\n",
       "        dtype=object)],\n",
       " ['All pdf',\n",
       "  array(['FACILITY NAME', 'FacilityInspireID', 'COUNTRY', 'CONTINENT',\n",
       "         'CITY', 'EPRTRSectorCode', 'eprtrSectorName', 'emissions', 'DAY',\n",
       "         'MONTH', 'YEAR', 'max_wind_speed', 'min_wind_speed',\n",
       "         'avg_wind_speed', 'max_temp', 'min_temp', 'avg_temp', 'DAYS FOG',\n",
       "         'CITY_ID', 'pollutant'], dtype=object)]]"
      ]
     },
     "execution_count": 37,
     "metadata": {},
     "output_type": "execute_result"
    }
   ],
   "source": [
    "columns =[[\"1st csv\", data1_csv_df.columns.values],\n",
    "         [\"2nd csv\", data2_csv_df.columns.values],\n",
    "         [\"1st json\", data1_js_df.columns.values],\n",
    "         [\"2nd json\", data2_js_df.columns.values],\n",
    "         [\"3th json\", data3_js_df.columns.values],\n",
    "         [\"All pdf\", data_pdf_df.columns.values]]\n",
    "print(\"The column's order is:\")\n",
    "columns"
   ]
  },
  {
   "cell_type": "markdown",
   "id": "d5d8cf5f",
   "metadata": {},
   "source": [
    "### **<span style=\"color:#43A047;\">3.1 Getting Columns column orders and differences in data sizes. </span>**"
   ]
  },
  {
   "cell_type": "markdown",
   "id": "963523fc",
   "metadata": {},
   "source": [
    "We make a backup of the data sets."
   ]
  },
  {
   "cell_type": "code",
   "execution_count": 38,
   "id": "6d2d96ed",
   "metadata": {},
   "outputs": [
    {
     "data": {
      "text/plain": [
       "['FACILITY NAME',\n",
       " 'FacilityInspireID',\n",
       " 'COUNTRY',\n",
       " 'CONTINENT',\n",
       " 'CITY',\n",
       " 'EPRTRSectorCode',\n",
       " 'eprtrSectorName',\n",
       " 'emissions',\n",
       " 'DAY',\n",
       " 'MONTH',\n",
       " 'YEAR',\n",
       " 'max_wind_speed',\n",
       " 'min_wind_speed',\n",
       " 'avg_wind_speed',\n",
       " 'max_temp',\n",
       " 'min_temp',\n",
       " 'avg_temp',\n",
       " 'DAYS FOG',\n",
       " 'CITY_ID',\n",
       " 'pollutant']"
      ]
     },
     "execution_count": 38,
     "metadata": {},
     "output_type": "execute_result"
    }
   ],
   "source": [
    "data_pdf_df.columns.values.tolist()"
   ]
  },
  {
   "cell_type": "code",
   "execution_count": 39,
   "id": "42d7e405",
   "metadata": {},
   "outputs": [],
   "source": [
    "df1 = data1_csv_df.copy()\n",
    "df2 = data2_csv_df.copy()\n",
    "df3 = data1_js_df.copy()\n",
    "df4 = data2_js_df.copy()\n",
    "df5 = data3_js_df.copy()\n",
    "df6 = data_pdf_df.copy()"
   ]
  },
  {
   "cell_type": "code",
   "execution_count": 40,
   "id": "81fbc8af",
   "metadata": {},
   "outputs": [],
   "source": [
    "def search_diferences(list1, list2, list3, list4, list5, list6):\n",
    "    cont1=0\n",
    "    cont2=0\n",
    "    for i in list1, list2, list3, list4, list5, list6:\n",
    "        cont1 = cont1 + 1\n",
    "        for j in list1, list2, list3, list4, list5, list6:\n",
    "            cont2 =  cont2 + 1          \n",
    "            temp = [x for x in i if x not in j]\n",
    "            if temp != []:\n",
    "                print(\"The diferences between List %s and List %s is \\n %s\" %(cont1,cont2,temp))\n",
    "        cont2 = 0"
   ]
  },
  {
   "cell_type": "code",
   "execution_count": 43,
   "id": "1af9feed",
   "metadata": {},
   "outputs": [],
   "source": [
    "col1 = df1.columns.values.tolist()\n",
    "col2 = df2.columns.values.tolist()\n",
    "col3 = df3.columns.values.tolist()\n",
    "col4 = df4.columns.values.tolist()\n",
    "col5 = df5.columns.values.tolist()\n",
    "col6 = df6.columns.values.tolist()"
   ]
  },
  {
   "cell_type": "code",
   "execution_count": 44,
   "id": "bde0e6a5",
   "metadata": {
    "scrolled": true
   },
   "outputs": [
    {
     "name": "stdout",
     "output_type": "stream",
     "text": [
      "The diferences between List 1 and List 6 is \n",
      " ['countryName', 'EPRTRAnnexIMainActivityLabel', 'facilityName', 'City', 'targetRelease', 'reportingYear', 'DAY WITH FOGS', 'REPORTER NAME', 'CITY ID']\n",
      "The diferences between List 2 and List 1 is \n",
      " ['Unnamed: 0', 'Unnamed: 1', 'EPRTRAnnexIMainActivityCode', 'EPRTRSectorCode']\n",
      "The diferences between List 2 and List 3 is \n",
      " ['Unnamed: 0', 'Unnamed: 1']\n",
      "The diferences between List 2 and List 4 is \n",
      " ['Unnamed: 0', 'Unnamed: 1']\n",
      "The diferences between List 2 and List 5 is \n",
      " ['Unnamed: 0', 'Unnamed: 1']\n",
      "The diferences between List 2 and List 6 is \n",
      " ['Unnamed: 0', 'Unnamed: 1', 'CITY ID', 'City', 'DAY WITH FOGS', 'EPRTRAnnexIMainActivityCode', 'EPRTRAnnexIMainActivityLabel', 'REPORTER NAME', 'countryName', 'facilityName', 'reportingYear', 'targetRelease']\n",
      "The diferences between List 3 and List 1 is \n",
      " ['', 'EPRTRAnnexIMainActivityCode', 'EPRTRSectorCode']\n",
      "The diferences between List 3 and List 2 is \n",
      " ['']\n",
      "The diferences between List 3 and List 6 is \n",
      " ['', 'CITY ID', 'City', 'DAY WITH FOGS', 'EPRTRAnnexIMainActivityCode', 'EPRTRAnnexIMainActivityLabel', 'REPORTER NAME', 'countryName', 'facilityName', 'reportingYear', 'targetRelease']\n",
      "The diferences between List 4 and List 1 is \n",
      " ['', 'EPRTRAnnexIMainActivityCode', 'EPRTRSectorCode']\n",
      "The diferences between List 4 and List 2 is \n",
      " ['']\n",
      "The diferences between List 4 and List 6 is \n",
      " ['', 'CITY ID', 'City', 'DAY WITH FOGS', 'EPRTRAnnexIMainActivityCode', 'EPRTRAnnexIMainActivityLabel', 'REPORTER NAME', 'countryName', 'facilityName', 'reportingYear', 'targetRelease']\n",
      "The diferences between List 5 and List 1 is \n",
      " ['', 'EPRTRAnnexIMainActivityCode', 'EPRTRSectorCode']\n",
      "The diferences between List 5 and List 2 is \n",
      " ['']\n",
      "The diferences between List 5 and List 6 is \n",
      " ['', 'CITY ID', 'City', 'DAY WITH FOGS', 'EPRTRAnnexIMainActivityCode', 'EPRTRAnnexIMainActivityLabel', 'REPORTER NAME', 'countryName', 'facilityName', 'reportingYear', 'targetRelease']\n",
      "The diferences between List 6 and List 1 is \n",
      " ['FACILITY NAME', 'COUNTRY', 'CITY', 'EPRTRSectorCode', 'emissions', 'YEAR', 'DAYS FOG', 'CITY_ID']\n",
      "The diferences between List 6 and List 2 is \n",
      " ['FACILITY NAME', 'COUNTRY', 'CITY', 'emissions', 'YEAR', 'DAYS FOG', 'CITY_ID']\n",
      "The diferences between List 6 and List 3 is \n",
      " ['FACILITY NAME', 'COUNTRY', 'CITY', 'emissions', 'YEAR', 'DAYS FOG', 'CITY_ID']\n",
      "The diferences between List 6 and List 4 is \n",
      " ['FACILITY NAME', 'COUNTRY', 'CITY', 'emissions', 'YEAR', 'DAYS FOG', 'CITY_ID']\n",
      "The diferences between List 6 and List 5 is \n",
      " ['FACILITY NAME', 'COUNTRY', 'CITY', 'emissions', 'YEAR', 'DAYS FOG', 'CITY_ID']\n"
     ]
    }
   ],
   "source": [
    "search_diferences(col1, col2, col3, col4, col5, col6)"
   ]
  },
  {
   "cell_type": "markdown",
   "id": "a585f26d",
   "metadata": {},
   "source": [
    "### **<span style=\"color:#43A047;\">3.2 Deleting useless columns </span>**\n",
    "\n",
    "We will eliminate those columns that are not in the information provided and do not make sense and do not provide useful information other than noise.\n",
    "\n",
    "* data1_csv_df = -\n",
    "* data2_csv_df = __'Unnamed: 0'__ , __'Unnamed: 1'__\n",
    "* data1_js_df = __\" \"__\n",
    "* data2_js_df = __\" \"__\n",
    "* data3_js_df = __\" \"__\n",
    "* data_pdf_df = -\n",
    "\n",
    "__NOTE__: This is not (EDA) Exploratory Data Analysis, just common sense. Another thing to take into account is that the pdf's have a different column from the others, that is to say, we have more information in the pdf's. __(emissions)__"
   ]
  },
  {
   "cell_type": "code",
   "execution_count": 45,
   "id": "93de8506",
   "metadata": {},
   "outputs": [],
   "source": [
    "df2.drop(['Unnamed: 0','Unnamed: 1'], inplace=True, axis=1)\n",
    "df3.drop([''], inplace=True, axis=1)\n",
    "df4.drop([''], inplace=True, axis=1)\n",
    "df5.drop([''], inplace=True, axis=1)"
   ]
  },
  {
   "cell_type": "markdown",
   "id": "9bd9bf47",
   "metadata": {},
   "source": [
    "### **<span style=\"color:#43A047;\">3.3 Renaming Columns to Standarize the Data </span>**"
   ]
  },
  {
   "cell_type": "code",
   "execution_count": 46,
   "id": "851d8123",
   "metadata": {},
   "outputs": [],
   "source": [
    "df1=df1.rename(columns={'reportingYear': 'year', 'MONTH': 'month', 'DAY':'day', 'CONTINENT':'continent', 'countryName': 'country',\\\n",
    "                   'City':'city', 'CITY ID' : 'city_id', 'eprtrSectorName':'sector','EPRTRAnnexIMainActivityLabel' : 'activity',\\\n",
    "                   'EPRTRAnnexIMainActivityCode': 'facility_code', 'FacilityInspireID': 'facility_id', 'EPRTRSectorCode':'sector_code', 'facilityName': 'facility_name', 'targetRelease':'target_release',\\\n",
    "                   'DAY WITH FOGS': 'day_fogs','emissions':'emissions','max_wind_speed': 'max_wind_speed', 'avg_wind_speed':'avg_wind_speed',\\\n",
    "                   'min_wind_speed': 'min_wind_speed', 'max_temp':'max_temp', 'avg_temp':'avg_temp', 'min_temp':'min_temp',\\\n",
    "                   'REPORTER NAME':'reporter_name','pollutant':'pollutant'}, inplace=False)\n",
    "\n",
    "df2=df2.rename(columns={'reportingYear': 'year', 'MONTH': 'month', 'DAY':'day', 'CONTINENT':'continent', 'countryName': 'country',\\\n",
    "                   'City':'city', 'CITY ID' : 'city_id', 'eprtrSectorName':'sector','EPRTRAnnexIMainActivityLabel' : 'activity',\\\n",
    "                   'EPRTRAnnexIMainActivityCode': 'facility_code', 'FacilityInspireID': 'facility_id', 'EPRTRSectorCode':'sector_code', 'facilityName': 'facility_name', 'targetRelease':'target_release',\\\n",
    "                   'DAY WITH FOGS': 'day_fogs','emissions':'emissions','max_wind_speed': 'max_wind_speed', 'avg_wind_speed':'avg_wind_speed',\\\n",
    "                   'min_wind_speed': 'min_wind_speed', 'max_temp':'max_temp', 'avg_temp':'avg_temp', 'min_temp':'min_temp',\\\n",
    "                   'REPORTER NAME':'reporter_name','pollutant':'pollutant'}, inplace=False)\n",
    "\n",
    "df3=df3.rename(columns={'reportingYear': 'year', 'MONTH': 'month', 'DAY':'day', 'CONTINENT':'continent', 'countryName': 'country',\\\n",
    "                   'City':'city', 'CITY ID' : 'city_id', 'eprtrSectorName':'sector','EPRTRAnnexIMainActivityLabel' : 'activity',\\\n",
    "                   'EPRTRAnnexIMainActivityCode': 'facility_code', 'FacilityInspireID': 'facility_id', 'EPRTRSectorCode':'sector_code', 'facilityName': 'facility_name', 'targetRelease':'target_release',\\\n",
    "                   'DAY WITH FOGS': 'day_fogs','emissions':'emissions','max_wind_speed': 'max_wind_speed', 'avg_wind_speed':'avg_wind_speed',\\\n",
    "                   'min_wind_speed': 'min_wind_speed', 'max_temp':'max_temp', 'avg_temp':'avg_temp', 'min_temp':'min_temp',\\\n",
    "                   'REPORTER NAME':'reporter_name','pollutant':'pollutant'}, inplace=False)\n",
    "\n",
    "df4=df4.rename(columns={'reportingYear': 'year', 'MONTH': 'month', 'DAY':'day', 'CONTINENT':'continent', 'countryName': 'country',\\\n",
    "                   'City':'city', 'CITY ID' : 'city_id', 'eprtrSectorName':'sector','EPRTRAnnexIMainActivityLabel' : 'activity',\\\n",
    "                   'EPRTRAnnexIMainActivityCode': 'facility_code', 'FacilityInspireID': 'facility_id', 'EPRTRSectorCode':'sector_code', 'facilityName': 'facility_name', 'targetRelease':'target_release',\\\n",
    "                   'DAY WITH FOGS': 'day_fogs','emissions':'emissions','max_wind_speed': 'max_wind_speed', 'avg_wind_speed':'avg_wind_speed',\\\n",
    "                   'min_wind_speed': 'min_wind_speed', 'max_temp':'max_temp', 'avg_temp':'avg_temp', 'min_temp':'min_temp',\\\n",
    "                   'REPORTER NAME':'reporter_name','pollutant':'pollutant'}, inplace=False)\n",
    "\n",
    "df5=df5.rename(columns={'reportingYear': 'year', 'MONTH': 'month', 'DAY':'day', 'CONTINENT':'continent', 'countryName': 'country',\\\n",
    "                   'City':'city', 'CITY ID' : 'city_id', 'eprtrSectorName':'sector','EPRTRAnnexIMainActivityLabel' : 'activity',\\\n",
    "                   'EPRTRAnnexIMainActivityCode': 'facility_code', 'FacilityInspireID': 'facility_id', 'EPRTRSectorCode':'sector_code', 'facilityName': 'facility_name', 'targetRelease':'target_release',\\\n",
    "                   'DAY WITH FOGS': 'day_fogs','emissions':'emissions','max_wind_speed': 'max_wind_speed', 'avg_wind_speed':'avg_wind_speed',\\\n",
    "                   'min_wind_speed': 'min_wind_speed', 'max_temp':'max_temp', 'avg_temp':'avg_temp', 'min_temp':'min_temp',\\\n",
    "                   'REPORTER NAME':'reporter_name','pollutant':'pollutant'}, inplace=False)\n",
    "\n",
    "df6=df6.rename(columns={'YEAR': 'year', 'MONTH': 'month', 'DAY':'day', 'CONTINENT':'continent', 'COUNTRY': 'country',\\\n",
    "                   'CITY':'city', 'CITY_ID' : 'city_id', 'eprtrSectorName':'sector','EPRTRAnnexIMainActivityLabel' : 'activity',\\\n",
    "                   'EPRTRAnnexIMainActivityCode': 'facility_code', 'FacilityInspireID': 'facility_id', 'EPRTRSectorCode':'sector_code', 'facilityName': 'facility_name', 'targetRelease':'target_release',\\\n",
    "                   'DAYS FOG': 'day_fogs','emissions':'emissions','max_wind_speed': 'max_wind_speed', 'avg_wind_speed':'avg_wind_speed',\\\n",
    "                   'min_wind_speed': 'min_wind_speed', 'max_temp':'max_temp', 'avg_temp':'avg_temp', 'min_temp':'min_temp',\\\n",
    "                   'REPORTER NAME':'reporter_name','pollutant':'pollutant'}, inplace=False)\n"
   ]
  },
  {
   "cell_type": "markdown",
   "id": "933011fe",
   "metadata": {},
   "source": [
    "### **<span style=\"color:#43A047;\">3.4 Reordering the columns </span>**\n",
    "First we select the dataset that contains the most **features**. If these columns do not exist in certain data sets they will be created, then we will evaluate the importance of such data and whether they will be eliminated or filled with information. At the end we reorder the columns to give a more logical sense to the datasets. We will place the __target__ variable at the end."
   ]
  },
  {
   "cell_type": "code",
   "execution_count": 47,
   "id": "85952f78",
   "metadata": {},
   "outputs": [],
   "source": [
    "ordened_features = ['year','month','day', 'continent', 'country',\\\n",
    "                   'city','city_id', 'sector', 'activity',\\\n",
    "                    'facility_code', 'facility_id', 'sector_code','facility_name','target_release',\\\n",
    "                    'emissions', 'day_fogs','max_wind_speed','avg_wind_speed',\\\n",
    "                    'min_wind_speed', 'max_temp', 'avg_temp', 'min_temp',\\\n",
    "                    'reporter_name', 'pollutant']"
   ]
  },
  {
   "cell_type": "markdown",
   "id": "69d3e5dd",
   "metadata": {},
   "source": [
    "#### **<span style=\"color:#43A047;\">3.4.1 First data frame </span>**"
   ]
  },
  {
   "cell_type": "code",
   "execution_count": 48,
   "id": "01bc687e",
   "metadata": {},
   "outputs": [],
   "source": [
    "temp = [x for x in ordened_features if x not in list(df1.columns.values)]"
   ]
  },
  {
   "cell_type": "code",
   "execution_count": 49,
   "id": "1177d34d",
   "metadata": {},
   "outputs": [
    {
     "data": {
      "text/plain": [
       "['facility_code', 'sector_code', 'emissions']"
      ]
     },
     "execution_count": 49,
     "metadata": {},
     "output_type": "execute_result"
    }
   ],
   "source": [
    "temp"
   ]
  },
  {
   "cell_type": "code",
   "execution_count": 50,
   "id": "3402c5e5",
   "metadata": {},
   "outputs": [],
   "source": [
    "df1[temp] = \"0\" #Adding empty columns and filling them with 0"
   ]
  },
  {
   "cell_type": "markdown",
   "id": "5c9afd6d",
   "metadata": {},
   "source": [
    "#### **<span style=\"color:#43A047;\">3.4.2 Second data frame </span>**"
   ]
  },
  {
   "cell_type": "code",
   "execution_count": 51,
   "id": "761909b1",
   "metadata": {},
   "outputs": [],
   "source": [
    "temp = [x for x in ordened_features if x not in list(df2.columns.values)]"
   ]
  },
  {
   "cell_type": "code",
   "execution_count": 52,
   "id": "eb460ca9",
   "metadata": {},
   "outputs": [
    {
     "data": {
      "text/plain": [
       "['emissions']"
      ]
     },
     "execution_count": 52,
     "metadata": {},
     "output_type": "execute_result"
    }
   ],
   "source": [
    "temp"
   ]
  },
  {
   "cell_type": "code",
   "execution_count": 53,
   "id": "e9b25cff",
   "metadata": {},
   "outputs": [],
   "source": [
    "df2[temp] = \"0\" #Adding empty columns and filling them with 0"
   ]
  },
  {
   "cell_type": "markdown",
   "id": "59af34f8",
   "metadata": {},
   "source": [
    "#### **<span style=\"color:#43A047;\">3.4.3 Third data frame </span>**"
   ]
  },
  {
   "cell_type": "code",
   "execution_count": 54,
   "id": "f98aa116",
   "metadata": {},
   "outputs": [],
   "source": [
    "temp = [x for x in ordened_features if x not in list(df3.columns.values)]"
   ]
  },
  {
   "cell_type": "code",
   "execution_count": 495,
   "id": "aa04d933",
   "metadata": {},
   "outputs": [
    {
     "data": {
      "text/plain": [
       "['emissions']"
      ]
     },
     "execution_count": 495,
     "metadata": {},
     "output_type": "execute_result"
    }
   ],
   "source": [
    "temp"
   ]
  },
  {
   "cell_type": "code",
   "execution_count": 55,
   "id": "3e6e2026",
   "metadata": {},
   "outputs": [],
   "source": [
    "df3[temp] = \"0\"#Adding empty columns and filling them with 0"
   ]
  },
  {
   "cell_type": "markdown",
   "id": "69850f67",
   "metadata": {},
   "source": [
    "#### **<span style=\"color:#43A047;\">3.4.4 Fourth data frame </span>**"
   ]
  },
  {
   "cell_type": "code",
   "execution_count": 56,
   "id": "e4a6098f",
   "metadata": {},
   "outputs": [],
   "source": [
    "temp = [x for x in ordened_features if x not in list(df4.columns.values)]"
   ]
  },
  {
   "cell_type": "code",
   "execution_count": 57,
   "id": "ac31622d",
   "metadata": {},
   "outputs": [
    {
     "data": {
      "text/plain": [
       "['emissions']"
      ]
     },
     "execution_count": 57,
     "metadata": {},
     "output_type": "execute_result"
    }
   ],
   "source": [
    "temp"
   ]
  },
  {
   "cell_type": "code",
   "execution_count": 58,
   "id": "e4688870",
   "metadata": {},
   "outputs": [],
   "source": [
    "df4[temp] = \"0\" #Adding empty columns and filling them with 0"
   ]
  },
  {
   "cell_type": "markdown",
   "id": "15ede2e3",
   "metadata": {},
   "source": [
    "#### **<span style=\"color:#43A047;\">3.4.5 Fifth data frame </span>**"
   ]
  },
  {
   "cell_type": "code",
   "execution_count": 59,
   "id": "88244453",
   "metadata": {},
   "outputs": [],
   "source": [
    "temp = [x for x in ordened_features if x not in list(df5.columns.values)]"
   ]
  },
  {
   "cell_type": "code",
   "execution_count": 60,
   "id": "c1ff0eea",
   "metadata": {
    "scrolled": true
   },
   "outputs": [
    {
     "data": {
      "text/plain": [
       "['emissions']"
      ]
     },
     "execution_count": 60,
     "metadata": {},
     "output_type": "execute_result"
    }
   ],
   "source": [
    "temp"
   ]
  },
  {
   "cell_type": "code",
   "execution_count": 61,
   "id": "5e3df1b0",
   "metadata": {},
   "outputs": [],
   "source": [
    "df5[temp] = \"0\" #Adding empty columns and filling them with 0"
   ]
  },
  {
   "cell_type": "markdown",
   "id": "a759daf7",
   "metadata": {},
   "source": [
    "#### **<span style=\"color:#43A047;\">3.4.6 Sixth data frame </span>**"
   ]
  },
  {
   "cell_type": "code",
   "execution_count": 62,
   "id": "ec6d2314",
   "metadata": {},
   "outputs": [],
   "source": [
    "temp = [x for x in ordened_features if x not in list(df6.columns.values)]"
   ]
  },
  {
   "cell_type": "code",
   "execution_count": 63,
   "id": "7b7aed6f",
   "metadata": {},
   "outputs": [
    {
     "data": {
      "text/plain": [
       "['activity',\n",
       " 'facility_code',\n",
       " 'facility_name',\n",
       " 'target_release',\n",
       " 'reporter_name']"
      ]
     },
     "execution_count": 63,
     "metadata": {},
     "output_type": "execute_result"
    }
   ],
   "source": [
    "temp"
   ]
  },
  {
   "cell_type": "code",
   "execution_count": 64,
   "id": "20eaaa73",
   "metadata": {},
   "outputs": [],
   "source": [
    "df6[temp] = \"\" #Adding empty columns and filling them with 0"
   ]
  },
  {
   "cell_type": "markdown",
   "id": "fbe5135e",
   "metadata": {},
   "source": [
    "#### **<span style=\"color:#43A047;\">3.4.7 Sorting columns </span>**"
   ]
  },
  {
   "cell_type": "code",
   "execution_count": 65,
   "id": "ea091d44",
   "metadata": {},
   "outputs": [],
   "source": [
    "df1 = df1[ordened_features]\n",
    "df2 = df2[ordened_features]\n",
    "df3 = df3[ordened_features]\n",
    "df4 = df4[ordened_features]\n",
    "df5 = df5[ordened_features]\n",
    "df6 = df6[ordened_features]"
   ]
  },
  {
   "cell_type": "markdown",
   "id": "b7442e3a",
   "metadata": {},
   "source": [
    "#### **<span style=\"color:#43A047;\">3.4.8 Final check </span>**"
   ]
  },
  {
   "cell_type": "code",
   "execution_count": 66,
   "id": "6c8571b2",
   "metadata": {},
   "outputs": [],
   "source": [
    "col1 = df1.columns.values\n",
    "col2 = df2.columns.values\n",
    "col3 = df3.columns.values\n",
    "col4 = df3.columns.values\n",
    "col5 = df4.columns.values\n",
    "col6 = df5.columns.values"
   ]
  },
  {
   "cell_type": "code",
   "execution_count": 67,
   "id": "4ab564aa",
   "metadata": {
    "scrolled": false
   },
   "outputs": [],
   "source": [
    "search_diferences(col1, col2, col3, col4, col5, col6) "
   ]
  },
  {
   "cell_type": "markdown",
   "id": "98c9ba4c",
   "metadata": {},
   "source": [
    "Great, all the columns of the 6 datasets are identical and we have no differences."
   ]
  },
  {
   "cell_type": "code",
   "execution_count": 68,
   "id": "58c582a3",
   "metadata": {},
   "outputs": [
    {
     "data": {
      "text/html": [
       "<div>\n",
       "<style scoped>\n",
       "    .dataframe tbody tr th:only-of-type {\n",
       "        vertical-align: middle;\n",
       "    }\n",
       "\n",
       "    .dataframe tbody tr th {\n",
       "        vertical-align: top;\n",
       "    }\n",
       "\n",
       "    .dataframe thead th {\n",
       "        text-align: right;\n",
       "    }\n",
       "</style>\n",
       "<table border=\"1\" class=\"dataframe\">\n",
       "  <thead>\n",
       "    <tr style=\"text-align: right;\">\n",
       "      <th></th>\n",
       "      <th>year</th>\n",
       "      <th>month</th>\n",
       "      <th>day</th>\n",
       "      <th>continent</th>\n",
       "      <th>country</th>\n",
       "      <th>city</th>\n",
       "      <th>city_id</th>\n",
       "      <th>sector</th>\n",
       "      <th>activity</th>\n",
       "      <th>facility_code</th>\n",
       "      <th>...</th>\n",
       "      <th>emissions</th>\n",
       "      <th>day_fogs</th>\n",
       "      <th>max_wind_speed</th>\n",
       "      <th>avg_wind_speed</th>\n",
       "      <th>min_wind_speed</th>\n",
       "      <th>max_temp</th>\n",
       "      <th>avg_temp</th>\n",
       "      <th>min_temp</th>\n",
       "      <th>reporter_name</th>\n",
       "      <th>pollutant</th>\n",
       "    </tr>\n",
       "  </thead>\n",
       "  <tbody>\n",
       "    <tr>\n",
       "      <th>0</th>\n",
       "      <td>2015</td>\n",
       "      <td>10</td>\n",
       "      <td>20</td>\n",
       "      <td>EUROPE</td>\n",
       "      <td>Germany</td>\n",
       "      <td>Sehnde</td>\n",
       "      <td>7cdb5e74adcb2ffaa21c1b61395a984f</td>\n",
       "      <td>Mineral industry</td>\n",
       "      <td>Installations for the production of cement cli...</td>\n",
       "      <td>0</td>\n",
       "      <td>...</td>\n",
       "      <td>0</td>\n",
       "      <td>2</td>\n",
       "      <td>15.118767</td>\n",
       "      <td>14.312541</td>\n",
       "      <td>21.419106</td>\n",
       "      <td>2.864895</td>\n",
       "      <td>4.924169</td>\n",
       "      <td>9.688206</td>\n",
       "      <td>Mr. Jacob Ortega</td>\n",
       "      <td>Carbon dioxide (CO2)</td>\n",
       "    </tr>\n",
       "    <tr>\n",
       "      <th>1</th>\n",
       "      <td>2018</td>\n",
       "      <td>9</td>\n",
       "      <td>21</td>\n",
       "      <td>EUROPE</td>\n",
       "      <td>Italy</td>\n",
       "      <td>TAVERNOLA BERGAMASCA</td>\n",
       "      <td>cd1dbabbdba230b828c657a9b19a8963</td>\n",
       "      <td>Mineral industry</td>\n",
       "      <td>Installations for the production of cement cli...</td>\n",
       "      <td>0</td>\n",
       "      <td>...</td>\n",
       "      <td>0</td>\n",
       "      <td>1</td>\n",
       "      <td>19.661550</td>\n",
       "      <td>19.368166</td>\n",
       "      <td>21.756389</td>\n",
       "      <td>5.462839</td>\n",
       "      <td>7.864403</td>\n",
       "      <td>12.023521</td>\n",
       "      <td>Ashlee Serrano</td>\n",
       "      <td>Nitrogen oxides (NOX)</td>\n",
       "    </tr>\n",
       "    <tr>\n",
       "      <th>2</th>\n",
       "      <td>2019</td>\n",
       "      <td>2</td>\n",
       "      <td>4</td>\n",
       "      <td>EUROPE</td>\n",
       "      <td>Spain</td>\n",
       "      <td>PUERTO DEL ROSARIO</td>\n",
       "      <td>5011e3fa1436d15b34f1287f312fbada</td>\n",
       "      <td>Waste and wastewater management</td>\n",
       "      <td>Landfills (excluding landfills of inert waste ...</td>\n",
       "      <td>0</td>\n",
       "      <td>...</td>\n",
       "      <td>0</td>\n",
       "      <td>2</td>\n",
       "      <td>12.729453</td>\n",
       "      <td>14.701985</td>\n",
       "      <td>17.103930</td>\n",
       "      <td>1.511201</td>\n",
       "      <td>4.233438</td>\n",
       "      <td>8.632193</td>\n",
       "      <td>Vincent Kemp</td>\n",
       "      <td>Methane (CH4)</td>\n",
       "    </tr>\n",
       "  </tbody>\n",
       "</table>\n",
       "<p>3 rows × 24 columns</p>\n",
       "</div>"
      ],
      "text/plain": [
       "   year  month  day continent  country                  city  \\\n",
       "0  2015     10   20    EUROPE  Germany                Sehnde   \n",
       "1  2018      9   21    EUROPE    Italy  TAVERNOLA BERGAMASCA   \n",
       "2  2019      2    4    EUROPE    Spain    PUERTO DEL ROSARIO   \n",
       "\n",
       "                            city_id                           sector  \\\n",
       "0  7cdb5e74adcb2ffaa21c1b61395a984f                 Mineral industry   \n",
       "1  cd1dbabbdba230b828c657a9b19a8963                 Mineral industry   \n",
       "2  5011e3fa1436d15b34f1287f312fbada  Waste and wastewater management   \n",
       "\n",
       "                                            activity facility_code  ...  \\\n",
       "0  Installations for the production of cement cli...             0  ...   \n",
       "1  Installations for the production of cement cli...             0  ...   \n",
       "2  Landfills (excluding landfills of inert waste ...             0  ...   \n",
       "\n",
       "  emissions day_fogs max_wind_speed avg_wind_speed min_wind_speed  max_temp  \\\n",
       "0         0        2      15.118767      14.312541      21.419106  2.864895   \n",
       "1         0        1      19.661550      19.368166      21.756389  5.462839   \n",
       "2         0        2      12.729453      14.701985      17.103930  1.511201   \n",
       "\n",
       "   avg_temp   min_temp     reporter_name              pollutant  \n",
       "0  4.924169   9.688206  Mr. Jacob Ortega   Carbon dioxide (CO2)  \n",
       "1  7.864403  12.023521    Ashlee Serrano  Nitrogen oxides (NOX)  \n",
       "2  4.233438   8.632193      Vincent Kemp          Methane (CH4)  \n",
       "\n",
       "[3 rows x 24 columns]"
      ]
     },
     "execution_count": 68,
     "metadata": {},
     "output_type": "execute_result"
    }
   ],
   "source": [
    "df1.head(3)"
   ]
  },
  {
   "cell_type": "code",
   "execution_count": 69,
   "id": "3969716c",
   "metadata": {},
   "outputs": [
    {
     "data": {
      "text/html": [
       "<div>\n",
       "<style scoped>\n",
       "    .dataframe tbody tr th:only-of-type {\n",
       "        vertical-align: middle;\n",
       "    }\n",
       "\n",
       "    .dataframe tbody tr th {\n",
       "        vertical-align: top;\n",
       "    }\n",
       "\n",
       "    .dataframe thead th {\n",
       "        text-align: right;\n",
       "    }\n",
       "</style>\n",
       "<table border=\"1\" class=\"dataframe\">\n",
       "  <thead>\n",
       "    <tr style=\"text-align: right;\">\n",
       "      <th></th>\n",
       "      <th>year</th>\n",
       "      <th>month</th>\n",
       "      <th>day</th>\n",
       "      <th>continent</th>\n",
       "      <th>country</th>\n",
       "      <th>city</th>\n",
       "      <th>city_id</th>\n",
       "      <th>sector</th>\n",
       "      <th>activity</th>\n",
       "      <th>facility_code</th>\n",
       "      <th>...</th>\n",
       "      <th>emissions</th>\n",
       "      <th>day_fogs</th>\n",
       "      <th>max_wind_speed</th>\n",
       "      <th>avg_wind_speed</th>\n",
       "      <th>min_wind_speed</th>\n",
       "      <th>max_temp</th>\n",
       "      <th>avg_temp</th>\n",
       "      <th>min_temp</th>\n",
       "      <th>reporter_name</th>\n",
       "      <th>pollutant</th>\n",
       "    </tr>\n",
       "  </thead>\n",
       "  <tbody>\n",
       "    <tr>\n",
       "      <th>80</th>\n",
       "      <td>2019</td>\n",
       "      <td>4</td>\n",
       "      <td>16</td>\n",
       "      <td>EUROPE</td>\n",
       "      <td>United Kingdom</td>\n",
       "      <td>Shetland</td>\n",
       "      <td>223137a83f11fbc93f2af549579ee6ac</td>\n",
       "      <td>Energy sector</td>\n",
       "      <td></td>\n",
       "      <td></td>\n",
       "      <td>...</td>\n",
       "      <td>101000</td>\n",
       "      <td>6</td>\n",
       "      <td>1.2816</td>\n",
       "      <td>1.416</td>\n",
       "      <td>1.816</td>\n",
       "      <td>1.5616</td>\n",
       "      <td>1.8115</td>\n",
       "      <td>2.1215</td>\n",
       "      <td></td>\n",
       "      <td>Methane (CH4)</td>\n",
       "    </tr>\n",
       "    <tr>\n",
       "      <th>81</th>\n",
       "      <td>2019</td>\n",
       "      <td>2</td>\n",
       "      <td>3</td>\n",
       "      <td>EUROPE</td>\n",
       "      <td>United Kingdom</td>\n",
       "      <td>Shetland</td>\n",
       "      <td>223137a83f11fbc93f2af549579ee6ac</td>\n",
       "      <td>Energy sector</td>\n",
       "      <td></td>\n",
       "      <td></td>\n",
       "      <td>...</td>\n",
       "      <td>148000</td>\n",
       "      <td>19</td>\n",
       "      <td>1.3516</td>\n",
       "      <td>1.4615</td>\n",
       "      <td>1.7816</td>\n",
       "      <td>9.6615</td>\n",
       "      <td>1.116</td>\n",
       "      <td>1.2616</td>\n",
       "      <td></td>\n",
       "      <td>Nitrogen oxides (NOX)</td>\n",
       "    </tr>\n",
       "    <tr>\n",
       "      <th>82</th>\n",
       "      <td>2019</td>\n",
       "      <td>12</td>\n",
       "      <td>4</td>\n",
       "      <td>EUROPE</td>\n",
       "      <td>United Kingdom</td>\n",
       "      <td>Millerhill. Dalkeith</td>\n",
       "      <td>c662b4b4d859a9c224b5ac0acf221748</td>\n",
       "      <td>Waste and wastewater management</td>\n",
       "      <td></td>\n",
       "      <td></td>\n",
       "      <td>...</td>\n",
       "      <td>1.3208</td>\n",
       "      <td>6</td>\n",
       "      <td>2.0915</td>\n",
       "      <td>2.0715</td>\n",
       "      <td>2.4616</td>\n",
       "      <td>5.7415</td>\n",
       "      <td>7.3115</td>\n",
       "      <td>9.4215</td>\n",
       "      <td></td>\n",
       "      <td>Carbon dioxide (CO2)</td>\n",
       "    </tr>\n",
       "  </tbody>\n",
       "</table>\n",
       "<p>3 rows × 24 columns</p>\n",
       "</div>"
      ],
      "text/plain": [
       "    year month day continent         country                  city  \\\n",
       "80  2019     4  16    EUROPE  United Kingdom              Shetland   \n",
       "81  2019     2   3    EUROPE  United Kingdom              Shetland   \n",
       "82  2019    12   4    EUROPE  United Kingdom  Millerhill. Dalkeith   \n",
       "\n",
       "                             city_id                           sector  \\\n",
       "80  223137a83f11fbc93f2af549579ee6ac                    Energy sector   \n",
       "81  223137a83f11fbc93f2af549579ee6ac                    Energy sector   \n",
       "82  c662b4b4d859a9c224b5ac0acf221748  Waste and wastewater management   \n",
       "\n",
       "   activity facility_code  ... emissions day_fogs max_wind_speed  \\\n",
       "80                         ...    101000        6         1.2816   \n",
       "81                         ...    148000       19         1.3516   \n",
       "82                         ...    1.3208        6         2.0915   \n",
       "\n",
       "   avg_wind_speed min_wind_speed max_temp avg_temp min_temp reporter_name  \\\n",
       "80          1.416          1.816   1.5616   1.8115   2.1215                 \n",
       "81         1.4615         1.7816   9.6615    1.116   1.2616                 \n",
       "82         2.0715         2.4616   5.7415   7.3115   9.4215                 \n",
       "\n",
       "                pollutant  \n",
       "80          Methane (CH4)  \n",
       "81  Nitrogen oxides (NOX)  \n",
       "82   Carbon dioxide (CO2)  \n",
       "\n",
       "[3 rows x 24 columns]"
      ]
     },
     "execution_count": 69,
     "metadata": {},
     "output_type": "execute_result"
    }
   ],
   "source": [
    "df6.tail(3)"
   ]
  },
  {
   "cell_type": "markdown",
   "id": "ccf343bf",
   "metadata": {},
   "source": [
    "### **<span style=\"color:#43A047;\">3.5 Merging all the information in a single data set.  </span>**\n",
    "\n",
    "#### **<span style=\"color:#4CAF50;\">3.5.1 Vertically merging </span>**"
   ]
  },
  {
   "cell_type": "code",
   "execution_count": 70,
   "id": "c789398f",
   "metadata": {},
   "outputs": [],
   "source": [
    "data = pd.concat([df1, df2,df3,df4,df5,df6], ignore_index=True)"
   ]
  },
  {
   "cell_type": "markdown",
   "id": "dd0db23b",
   "metadata": {},
   "source": [
    "#### **<span style=\"color:#4CAF50;\">3.5.2 Verifyng merging </span>**"
   ]
  },
  {
   "cell_type": "code",
   "execution_count": null,
   "id": "9ff0a3bf",
   "metadata": {},
   "outputs": [],
   "source": []
  },
  {
   "cell_type": "code",
   "execution_count": 85,
   "id": "7dfd3cfa",
   "metadata": {},
   "outputs": [
    {
     "name": "stdout",
     "output_type": "stream",
     "text": [
      "The sum of the shapes of all the data sets is: 56646\n"
     ]
    }
   ],
   "source": [
    "print('The sum of the shapes of all the data sets is:', (df1.shape[0]+df2.shape[0]+df3.shape[0]+df4.shape[0]+df5.shape[0]+df6.shape[0])) "
   ]
  },
  {
   "cell_type": "code",
   "execution_count": 83,
   "id": "2e75e9e5",
   "metadata": {},
   "outputs": [
    {
     "name": "stdout",
     "output_type": "stream",
     "text": [
      "The shape of the entire data is: (56646, 24)\n"
     ]
    }
   ],
   "source": [
    "print('The shape of the entire data is:', data.shape) "
   ]
  },
  {
   "cell_type": "code",
   "execution_count": 86,
   "id": "f5552c2d",
   "metadata": {},
   "outputs": [
    {
     "data": {
      "text/html": [
       "<div>\n",
       "<style scoped>\n",
       "    .dataframe tbody tr th:only-of-type {\n",
       "        vertical-align: middle;\n",
       "    }\n",
       "\n",
       "    .dataframe tbody tr th {\n",
       "        vertical-align: top;\n",
       "    }\n",
       "\n",
       "    .dataframe thead th {\n",
       "        text-align: right;\n",
       "    }\n",
       "</style>\n",
       "<table border=\"1\" class=\"dataframe\">\n",
       "  <thead>\n",
       "    <tr style=\"text-align: right;\">\n",
       "      <th></th>\n",
       "      <th>year</th>\n",
       "      <th>month</th>\n",
       "      <th>day</th>\n",
       "      <th>continent</th>\n",
       "      <th>country</th>\n",
       "      <th>city</th>\n",
       "      <th>city_id</th>\n",
       "      <th>sector</th>\n",
       "      <th>activity</th>\n",
       "      <th>facility_code</th>\n",
       "      <th>...</th>\n",
       "      <th>emissions</th>\n",
       "      <th>day_fogs</th>\n",
       "      <th>max_wind_speed</th>\n",
       "      <th>avg_wind_speed</th>\n",
       "      <th>min_wind_speed</th>\n",
       "      <th>max_temp</th>\n",
       "      <th>avg_temp</th>\n",
       "      <th>min_temp</th>\n",
       "      <th>reporter_name</th>\n",
       "      <th>pollutant</th>\n",
       "    </tr>\n",
       "  </thead>\n",
       "  <tbody>\n",
       "    <tr>\n",
       "      <th>0</th>\n",
       "      <td>2015</td>\n",
       "      <td>10</td>\n",
       "      <td>20</td>\n",
       "      <td>EUROPE</td>\n",
       "      <td>Germany</td>\n",
       "      <td>Sehnde</td>\n",
       "      <td>7cdb5e74adcb2ffaa21c1b61395a984f</td>\n",
       "      <td>Mineral industry</td>\n",
       "      <td>Installations for the production of cement cli...</td>\n",
       "      <td>0</td>\n",
       "      <td>...</td>\n",
       "      <td>0.0</td>\n",
       "      <td>2.0</td>\n",
       "      <td>15.118767</td>\n",
       "      <td>14.312541</td>\n",
       "      <td>21.419106</td>\n",
       "      <td>2.864895</td>\n",
       "      <td>4.924169</td>\n",
       "      <td>9.688206</td>\n",
       "      <td>Mr. Jacob Ortega</td>\n",
       "      <td>Carbon dioxide (CO2)</td>\n",
       "    </tr>\n",
       "    <tr>\n",
       "      <th>1</th>\n",
       "      <td>2018</td>\n",
       "      <td>9</td>\n",
       "      <td>21</td>\n",
       "      <td>EUROPE</td>\n",
       "      <td>Italy</td>\n",
       "      <td>TAVERNOLA BERGAMASCA</td>\n",
       "      <td>cd1dbabbdba230b828c657a9b19a8963</td>\n",
       "      <td>Mineral industry</td>\n",
       "      <td>Installations for the production of cement cli...</td>\n",
       "      <td>0</td>\n",
       "      <td>...</td>\n",
       "      <td>0.0</td>\n",
       "      <td>1.0</td>\n",
       "      <td>19.661550</td>\n",
       "      <td>19.368166</td>\n",
       "      <td>21.756389</td>\n",
       "      <td>5.462839</td>\n",
       "      <td>7.864403</td>\n",
       "      <td>12.023521</td>\n",
       "      <td>Ashlee Serrano</td>\n",
       "      <td>Nitrogen oxides (NOX)</td>\n",
       "    </tr>\n",
       "    <tr>\n",
       "      <th>2</th>\n",
       "      <td>2019</td>\n",
       "      <td>2</td>\n",
       "      <td>4</td>\n",
       "      <td>EUROPE</td>\n",
       "      <td>Spain</td>\n",
       "      <td>PUERTO DEL ROSARIO</td>\n",
       "      <td>5011e3fa1436d15b34f1287f312fbada</td>\n",
       "      <td>Waste and wastewater management</td>\n",
       "      <td>Landfills (excluding landfills of inert waste ...</td>\n",
       "      <td>0</td>\n",
       "      <td>...</td>\n",
       "      <td>0.0</td>\n",
       "      <td>2.0</td>\n",
       "      <td>12.729453</td>\n",
       "      <td>14.701985</td>\n",
       "      <td>17.103930</td>\n",
       "      <td>1.511201</td>\n",
       "      <td>4.233438</td>\n",
       "      <td>8.632193</td>\n",
       "      <td>Vincent Kemp</td>\n",
       "      <td>Methane (CH4)</td>\n",
       "    </tr>\n",
       "  </tbody>\n",
       "</table>\n",
       "<p>3 rows × 24 columns</p>\n",
       "</div>"
      ],
      "text/plain": [
       "   year  month  day continent  country                  city  \\\n",
       "0  2015     10   20    EUROPE  Germany                Sehnde   \n",
       "1  2018      9   21    EUROPE    Italy  TAVERNOLA BERGAMASCA   \n",
       "2  2019      2    4    EUROPE    Spain    PUERTO DEL ROSARIO   \n",
       "\n",
       "                            city_id                           sector  \\\n",
       "0  7cdb5e74adcb2ffaa21c1b61395a984f                 Mineral industry   \n",
       "1  cd1dbabbdba230b828c657a9b19a8963                 Mineral industry   \n",
       "2  5011e3fa1436d15b34f1287f312fbada  Waste and wastewater management   \n",
       "\n",
       "                                            activity facility_code  ...  \\\n",
       "0  Installations for the production of cement cli...             0  ...   \n",
       "1  Installations for the production of cement cli...             0  ...   \n",
       "2  Landfills (excluding landfills of inert waste ...             0  ...   \n",
       "\n",
       "  emissions day_fogs max_wind_speed avg_wind_speed  min_wind_speed  max_temp  \\\n",
       "0       0.0      2.0      15.118767      14.312541       21.419106  2.864895   \n",
       "1       0.0      1.0      19.661550      19.368166       21.756389  5.462839   \n",
       "2       0.0      2.0      12.729453      14.701985       17.103930  1.511201   \n",
       "\n",
       "   avg_temp   min_temp     reporter_name              pollutant  \n",
       "0  4.924169   9.688206  Mr. Jacob Ortega   Carbon dioxide (CO2)  \n",
       "1  7.864403  12.023521    Ashlee Serrano  Nitrogen oxides (NOX)  \n",
       "2  4.233438   8.632193      Vincent Kemp          Methane (CH4)  \n",
       "\n",
       "[3 rows x 24 columns]"
      ]
     },
     "execution_count": 86,
     "metadata": {},
     "output_type": "execute_result"
    }
   ],
   "source": [
    "data.head(3)"
   ]
  },
  {
   "cell_type": "markdown",
   "id": "58b41284",
   "metadata": {},
   "source": [
    "#### **<span style=\"color:#4CAF50;\">3.5.2 Data Transforming </span>**\n",
    "\n",
    "Transforming the variables according to the their type in order to perform a correct analysis."
   ]
  },
  {
   "cell_type": "code",
   "execution_count": 87,
   "id": "47748967",
   "metadata": {},
   "outputs": [
    {
     "data": {
      "text/plain": [
       "year                int32\n",
       "month               int32\n",
       "day                 int32\n",
       "continent          object\n",
       "country            object\n",
       "city               object\n",
       "city_id            object\n",
       "sector             object\n",
       "activity           object\n",
       "facility_code      object\n",
       "facility_id        object\n",
       "sector_code        object\n",
       "facility_name      object\n",
       "target_release     object\n",
       "emissions         float64\n",
       "day_fogs          float64\n",
       "max_wind_speed    float64\n",
       "avg_wind_speed    float64\n",
       "min_wind_speed    float64\n",
       "max_temp          float64\n",
       "avg_temp          float64\n",
       "min_temp          float64\n",
       "reporter_name      object\n",
       "pollutant          object\n",
       "dtype: object"
      ]
     },
     "execution_count": 87,
     "metadata": {},
     "output_type": "execute_result"
    }
   ],
   "source": [
    "data.dtypes #Check data types before cleanining and capping"
   ]
  },
  {
   "cell_type": "code",
   "execution_count": 88,
   "id": "c9122ba7",
   "metadata": {},
   "outputs": [],
   "source": [
    "dict_columns_type = {\n",
    "    'year': int,\n",
    "    'month': int,\n",
    "    'day' : int,\n",
    "    'continent': object,\n",
    "    'country': object,\n",
    "    'city': object,\n",
    "    'city_id': object,\n",
    "    'sector':object,\n",
    "    'activity':object,\n",
    "    'facility_code':object,\n",
    "    'facility_id': object,\n",
    "    'sector_code':object,\n",
    "    'facility_name':object,\n",
    "    'target_release':object,\n",
    "    'emissions': float,\n",
    "    'day_fogs': float,\n",
    "    'max_wind_speed':float,\n",
    "    'avg_wind_speed':float,\n",
    "    'min_wind_speed':float,\n",
    "    'max_temp':float,         \n",
    "    'avg_temp':float,         \n",
    "    'min_temp':float,\n",
    "    'reporter_name':object,\n",
    "    'pollutant':object,\n",
    "                    }"
   ]
  },
  {
   "cell_type": "code",
   "execution_count": 89,
   "id": "2137dec5",
   "metadata": {},
   "outputs": [],
   "source": [
    "data = data.astype(dict_columns_type)"
   ]
  },
  {
   "cell_type": "code",
   "execution_count": 90,
   "id": "566d92cb",
   "metadata": {},
   "outputs": [
    {
     "data": {
      "text/plain": [
       "year                int32\n",
       "month               int32\n",
       "day                 int32\n",
       "continent          object\n",
       "country            object\n",
       "city               object\n",
       "city_id            object\n",
       "sector             object\n",
       "activity           object\n",
       "facility_code      object\n",
       "facility_id        object\n",
       "sector_code        object\n",
       "facility_name      object\n",
       "target_release     object\n",
       "emissions         float64\n",
       "day_fogs          float64\n",
       "max_wind_speed    float64\n",
       "avg_wind_speed    float64\n",
       "min_wind_speed    float64\n",
       "max_temp          float64\n",
       "avg_temp          float64\n",
       "min_temp          float64\n",
       "reporter_name      object\n",
       "pollutant          object\n",
       "dtype: object"
      ]
     },
     "execution_count": 90,
     "metadata": {},
     "output_type": "execute_result"
    }
   ],
   "source": [
    "data.dtypes "
   ]
  },
  {
   "cell_type": "markdown",
   "id": "a4d0a1a3",
   "metadata": {},
   "source": [
    "### **<span style=\"color:#43A047;\">3.6 DATA CLEANING: Checking anomalies or outliers in the entire dataset.  </span>**"
   ]
  },
  {
   "cell_type": "code",
   "execution_count": 91,
   "id": "d683581e",
   "metadata": {},
   "outputs": [
    {
     "data": {
      "text/html": [
       "<div>\n",
       "<style scoped>\n",
       "    .dataframe tbody tr th:only-of-type {\n",
       "        vertical-align: middle;\n",
       "    }\n",
       "\n",
       "    .dataframe tbody tr th {\n",
       "        vertical-align: top;\n",
       "    }\n",
       "\n",
       "    .dataframe thead th {\n",
       "        text-align: right;\n",
       "    }\n",
       "</style>\n",
       "<table border=\"1\" class=\"dataframe\">\n",
       "  <thead>\n",
       "    <tr style=\"text-align: right;\">\n",
       "      <th></th>\n",
       "      <th>year</th>\n",
       "      <th>month</th>\n",
       "      <th>day</th>\n",
       "      <th>emissions</th>\n",
       "      <th>day_fogs</th>\n",
       "      <th>max_wind_speed</th>\n",
       "      <th>avg_wind_speed</th>\n",
       "      <th>min_wind_speed</th>\n",
       "      <th>max_temp</th>\n",
       "      <th>avg_temp</th>\n",
       "      <th>min_temp</th>\n",
       "    </tr>\n",
       "  </thead>\n",
       "  <tbody>\n",
       "    <tr>\n",
       "      <th>count</th>\n",
       "      <td>56646.000000</td>\n",
       "      <td>56646.000000</td>\n",
       "      <td>56646.000000</td>\n",
       "      <td>5.664600e+04</td>\n",
       "      <td>56646.000000</td>\n",
       "      <td>56641.000000</td>\n",
       "      <td>56646.000000</td>\n",
       "      <td>56646.000000</td>\n",
       "      <td>56646.000000</td>\n",
       "      <td>56646.000000</td>\n",
       "      <td>56646.000000</td>\n",
       "    </tr>\n",
       "    <tr>\n",
       "      <th>mean</th>\n",
       "      <td>2012.934717</td>\n",
       "      <td>6.500212</td>\n",
       "      <td>14.482541</td>\n",
       "      <td>5.839256e+02</td>\n",
       "      <td>2.237422</td>\n",
       "      <td>15.497546</td>\n",
       "      <td>17.993375</td>\n",
       "      <td>22.478031</td>\n",
       "      <td>9.461657</td>\n",
       "      <td>10.448693</td>\n",
       "      <td>13.456765</td>\n",
       "    </tr>\n",
       "    <tr>\n",
       "      <th>std</th>\n",
       "      <td>3.855421</td>\n",
       "      <td>3.439418</td>\n",
       "      <td>8.062658</td>\n",
       "      <td>2.431450e+04</td>\n",
       "      <td>3.785133</td>\n",
       "      <td>3.105460</td>\n",
       "      <td>2.529386</td>\n",
       "      <td>3.150115</td>\n",
       "      <td>5.214642</td>\n",
       "      <td>5.176924</td>\n",
       "      <td>5.433507</td>\n",
       "    </tr>\n",
       "    <tr>\n",
       "      <th>min</th>\n",
       "      <td>2007.000000</td>\n",
       "      <td>1.000000</td>\n",
       "      <td>1.000000</td>\n",
       "      <td>0.000000e+00</td>\n",
       "      <td>0.000000</td>\n",
       "      <td>1.021600</td>\n",
       "      <td>1.411600</td>\n",
       "      <td>1.631600</td>\n",
       "      <td>-3.141464</td>\n",
       "      <td>-216.000000</td>\n",
       "      <td>0.895952</td>\n",
       "    </tr>\n",
       "    <tr>\n",
       "      <th>25%</th>\n",
       "      <td>2010.000000</td>\n",
       "      <td>4.000000</td>\n",
       "      <td>8.000000</td>\n",
       "      <td>0.000000e+00</td>\n",
       "      <td>0.000000</td>\n",
       "      <td>13.315221</td>\n",
       "      <td>15.999739</td>\n",
       "      <td>20.312214</td>\n",
       "      <td>5.896431</td>\n",
       "      <td>7.191153</td>\n",
       "      <td>9.904094</td>\n",
       "    </tr>\n",
       "    <tr>\n",
       "      <th>50%</th>\n",
       "      <td>2013.000000</td>\n",
       "      <td>7.000000</td>\n",
       "      <td>14.000000</td>\n",
       "      <td>0.000000e+00</td>\n",
       "      <td>1.000000</td>\n",
       "      <td>15.494260</td>\n",
       "      <td>18.012590</td>\n",
       "      <td>22.513323</td>\n",
       "      <td>9.696771</td>\n",
       "      <td>10.688371</td>\n",
       "      <td>13.679253</td>\n",
       "    </tr>\n",
       "    <tr>\n",
       "      <th>75%</th>\n",
       "      <td>2016.000000</td>\n",
       "      <td>9.000000</td>\n",
       "      <td>22.000000</td>\n",
       "      <td>0.000000e+00</td>\n",
       "      <td>2.000000</td>\n",
       "      <td>17.718195</td>\n",
       "      <td>20.009832</td>\n",
       "      <td>24.689080</td>\n",
       "      <td>13.289559</td>\n",
       "      <td>14.210298</td>\n",
       "      <td>17.310861</td>\n",
       "    </tr>\n",
       "    <tr>\n",
       "      <th>max</th>\n",
       "      <td>2020.000000</td>\n",
       "      <td>12.000000</td>\n",
       "      <td>28.000000</td>\n",
       "      <td>2.620000e+06</td>\n",
       "      <td>19.000000</td>\n",
       "      <td>22.991382</td>\n",
       "      <td>216.000000</td>\n",
       "      <td>29.933603</td>\n",
       "      <td>20.938266</td>\n",
       "      <td>19.998710</td>\n",
       "      <td>216.000000</td>\n",
       "    </tr>\n",
       "  </tbody>\n",
       "</table>\n",
       "</div>"
      ],
      "text/plain": [
       "               year         month           day     emissions      day_fogs  \\\n",
       "count  56646.000000  56646.000000  56646.000000  5.664600e+04  56646.000000   \n",
       "mean    2012.934717      6.500212     14.482541  5.839256e+02      2.237422   \n",
       "std        3.855421      3.439418      8.062658  2.431450e+04      3.785133   \n",
       "min     2007.000000      1.000000      1.000000  0.000000e+00      0.000000   \n",
       "25%     2010.000000      4.000000      8.000000  0.000000e+00      0.000000   \n",
       "50%     2013.000000      7.000000     14.000000  0.000000e+00      1.000000   \n",
       "75%     2016.000000      9.000000     22.000000  0.000000e+00      2.000000   \n",
       "max     2020.000000     12.000000     28.000000  2.620000e+06     19.000000   \n",
       "\n",
       "       max_wind_speed  avg_wind_speed  min_wind_speed      max_temp  \\\n",
       "count    56641.000000    56646.000000    56646.000000  56646.000000   \n",
       "mean        15.497546       17.993375       22.478031      9.461657   \n",
       "std          3.105460        2.529386        3.150115      5.214642   \n",
       "min          1.021600        1.411600        1.631600     -3.141464   \n",
       "25%         13.315221       15.999739       20.312214      5.896431   \n",
       "50%         15.494260       18.012590       22.513323      9.696771   \n",
       "75%         17.718195       20.009832       24.689080     13.289559   \n",
       "max         22.991382      216.000000       29.933603     20.938266   \n",
       "\n",
       "           avg_temp      min_temp  \n",
       "count  56646.000000  56646.000000  \n",
       "mean      10.448693     13.456765  \n",
       "std        5.176924      5.433507  \n",
       "min     -216.000000      0.895952  \n",
       "25%        7.191153      9.904094  \n",
       "50%       10.688371     13.679253  \n",
       "75%       14.210298     17.310861  \n",
       "max       19.998710    216.000000  "
      ]
     },
     "execution_count": 91,
     "metadata": {},
     "output_type": "execute_result"
    }
   ],
   "source": [
    "data.describe()"
   ]
  },
  {
   "cell_type": "markdown",
   "id": "5032245f",
   "metadata": {},
   "source": [
    "#### **<span style=\"color:#4CAF50;\">3.6.1 Detecting Columns with problems </span>**\n",
    "\n",
    "First we obtain the numerical and categorical from our data set in order to perform bivariate and univariate analysis."
   ]
  },
  {
   "cell_type": "code",
   "execution_count": 98,
   "id": "b2cc65be",
   "metadata": {},
   "outputs": [],
   "source": [
    "def data_checking (df, sd=2):\n",
    "    \"Autocheking for any Anomalies or Outliers\"\n",
    "    rows_problems = []\n",
    "    max_problems = []\n",
    "    min_problems = []\n",
    "    null_data = []\n",
    "    for i in range(0,len(df.describe().columns)): #This will check in numeric's columns\n",
    "        \n",
    "        if df.describe().iloc[0,i:i+1][0] != df.shape[0]: #Checking rows discordance \n",
    "            rows_problems.append(df.describe().columns[i])\n",
    "       \n",
    "        #Checking minimum data range\n",
    "        if int(df.describe().iloc[3,i:i+1][0]) < (int(df.describe().iloc[4,i:i+1][0]) - sd*(int(df.describe().iloc[2,i:i+1][0]))):  \n",
    "            min_problems.append(df.describe().columns[i])\n",
    "        \n",
    "        #Checking maximum data range\n",
    "        if int(df.describe().iloc[7,i:i+1]) > (int(df.describe().iloc[6,i:i+1]) + sd*int(df.describe().iloc[2,i:i+1][0])): \n",
    "            max_problems.append(df.describe().columns[i])\n",
    "    \n",
    "    for i in range (0, data.shape[1]): # This will check in the entire DataFrame   \n",
    "        \n",
    "        if (df.isnull().sum()[i] != 0) or (df.isna().sum()[i] != 0): #Checking null or nan datas\n",
    "            null_data.append(df.columns[i])        \n",
    "    print(\"Columns with rows discordance: %s\" %rows_problems)\n",
    "    print(\"Columns with Min. values problems: %s\" %min_problems)\n",
    "    print(\"Columns with Max. values problems: %s\" %max_problems)\n",
    "    print(\"Columns with NaN or Nulls: %s\" %null_data)\n",
    "    return rows_problems, min_problems, max_problems, null_data"
   ]
  },
  {
   "cell_type": "code",
   "execution_count": 99,
   "id": "57faffae",
   "metadata": {},
   "outputs": [
    {
     "name": "stdout",
     "output_type": "stream",
     "text": [
      "Columns with rows discordance: ['max_wind_speed']\n",
      "Columns with Min. values problems: ['max_wind_speed', 'avg_wind_speed', 'min_wind_speed', 'avg_temp']\n",
      "Columns with Max. values problems: ['emissions', 'day_fogs', 'avg_wind_speed', 'min_temp']\n",
      "Columns with NaN or Nulls: ['max_wind_speed']\n"
     ]
    }
   ],
   "source": [
    "sd_multiplier = 2 #Standar Deviation Multiplier to chek how far away the 25% and 75% outliers should be.\n",
    "row_prblm, min_col, max_col, null_col = data_checking (data, sd_multiplier)"
   ]
  },
  {
   "cell_type": "markdown",
   "id": "033ef2aa",
   "metadata": {},
   "source": [
    "#### **<span style=\"color:#4CAF50;\">3.6.2 Maximum and Minimum representation for a Data Set </span>**"
   ]
  },
  {
   "cell_type": "code",
   "execution_count": 102,
   "id": "64324661",
   "metadata": {},
   "outputs": [],
   "source": [
    "cat_cols = data.select_dtypes(include=['category','object', 'bool_'])\n",
    "num_cols = data.select_dtypes(include=['number','int','float'])"
   ]
  },
  {
   "cell_type": "code",
   "execution_count": 104,
   "id": "23593374",
   "metadata": {},
   "outputs": [
    {
     "data": {
      "text/plain": [
       "<matplotlib.legend.Legend at 0x26d97c63be0>"
      ]
     },
     "execution_count": 104,
     "metadata": {},
     "output_type": "execute_result"
    },
    {
     "data": {
      "image/png": "[encoded data removed]",
      "text/plain": [
       "<Figure size 1152x648 with 1 Axes>"
      ]
     },
     "metadata": {
      "needs_background": "light"
     },
     "output_type": "display_data"
    }
   ],
   "source": [
    "import matplotlib.pyplot as plt\n",
    "%matplotlib inline \n",
    "plt.figure(figsize= (16,9))\n",
    "plt.plot(num_cols.min(axis=0), 'o', label='Min')\n",
    "plt.plot(num_cols.max(axis=0), 'v', label='Max')\n",
    "plt.xlabel('Feature Index')\n",
    "plt.ylabel('Feature Magnitude in Log Scale')\n",
    "plt.yscale('log') #Logarithmic scale to fit all the values.\n",
    "plt.legend(loc='upper right')"
   ]
  },
  {
   "cell_type": "markdown",
   "id": "47fd850d",
   "metadata": {},
   "source": [
    "### **<span style=\"color:#43A047;\">3.7 Capping and Flooring (Outliers Treatment)  </span>**"
   ]
  },
  {
   "cell_type": "code",
   "execution_count": 105,
   "id": "1584bafa",
   "metadata": {},
   "outputs": [],
   "source": [
    "data1 = data.copy() #Making a chekpoint."
   ]
  },
  {
   "cell_type": "code",
   "execution_count": 106,
   "id": "37bfd00f",
   "metadata": {},
   "outputs": [
    {
     "data": {
      "text/plain": [
       "['emissions', 'day_fogs', 'avg_wind_speed', 'min_temp']"
      ]
     },
     "execution_count": 106,
     "metadata": {},
     "output_type": "execute_result"
    }
   ],
   "source": [
    "max_col"
   ]
  },
  {
   "cell_type": "code",
   "execution_count": 107,
   "id": "cf2e2956",
   "metadata": {},
   "outputs": [],
   "source": [
    "max_col.remove('emissions')"
   ]
  },
  {
   "cell_type": "code",
   "execution_count": 108,
   "id": "55dc045d",
   "metadata": {},
   "outputs": [],
   "source": [
    "#Otiliers capping according to percentile for each column\n",
    "percentile = 2\n",
    "for i in max_col:\n",
    "    data1[i][(data1[i]>(np.nanpercentile(data1.loc[:,i],[100-percentile])[0]))]= (np.nanpercentile(data1.loc[:,i],[100-percentile])[0])\n",
    "for i in min_col:\n",
    "    data1[i][(data1[i]<(np.nanpercentile(data1.loc[:,i],[percentile])[0]))]= (np.nanpercentile(data1.loc[:,i],[percentile])[0])"
   ]
  },
  {
   "cell_type": "code",
   "execution_count": 109,
   "id": "3cb24d2a",
   "metadata": {},
   "outputs": [
    {
     "data": {
      "text/html": [
       "<div>\n",
       "<style scoped>\n",
       "    .dataframe tbody tr th:only-of-type {\n",
       "        vertical-align: middle;\n",
       "    }\n",
       "\n",
       "    .dataframe tbody tr th {\n",
       "        vertical-align: top;\n",
       "    }\n",
       "\n",
       "    .dataframe thead th {\n",
       "        text-align: right;\n",
       "    }\n",
       "</style>\n",
       "<table border=\"1\" class=\"dataframe\">\n",
       "  <thead>\n",
       "    <tr style=\"text-align: right;\">\n",
       "      <th></th>\n",
       "      <th>year</th>\n",
       "      <th>month</th>\n",
       "      <th>day</th>\n",
       "      <th>emissions</th>\n",
       "      <th>day_fogs</th>\n",
       "      <th>max_wind_speed</th>\n",
       "      <th>avg_wind_speed</th>\n",
       "      <th>min_wind_speed</th>\n",
       "      <th>max_temp</th>\n",
       "      <th>avg_temp</th>\n",
       "      <th>min_temp</th>\n",
       "    </tr>\n",
       "  </thead>\n",
       "  <tbody>\n",
       "    <tr>\n",
       "      <th>count</th>\n",
       "      <td>56646.000000</td>\n",
       "      <td>56646.000000</td>\n",
       "      <td>56646.000000</td>\n",
       "      <td>5.664600e+04</td>\n",
       "      <td>56646.000000</td>\n",
       "      <td>56641.000000</td>\n",
       "      <td>56646.000000</td>\n",
       "      <td>56646.000000</td>\n",
       "      <td>56646.000000</td>\n",
       "      <td>56646.000000</td>\n",
       "      <td>56646.000000</td>\n",
       "    </tr>\n",
       "    <tr>\n",
       "      <th>mean</th>\n",
       "      <td>2012.934717</td>\n",
       "      <td>6.500212</td>\n",
       "      <td>14.482541</td>\n",
       "      <td>5.839256e+02</td>\n",
       "      <td>2.214896</td>\n",
       "      <td>15.516128</td>\n",
       "      <td>18.007332</td>\n",
       "      <td>22.507376</td>\n",
       "      <td>9.461657</td>\n",
       "      <td>10.458664</td>\n",
       "      <td>13.433311</td>\n",
       "    </tr>\n",
       "    <tr>\n",
       "      <th>std</th>\n",
       "      <td>3.855421</td>\n",
       "      <td>3.439418</td>\n",
       "      <td>8.062658</td>\n",
       "      <td>2.431450e+04</td>\n",
       "      <td>3.691141</td>\n",
       "      <td>3.054983</td>\n",
       "      <td>2.308368</td>\n",
       "      <td>3.044621</td>\n",
       "      <td>5.214642</td>\n",
       "      <td>5.076520</td>\n",
       "      <td>5.205377</td>\n",
       "    </tr>\n",
       "    <tr>\n",
       "      <th>min</th>\n",
       "      <td>2007.000000</td>\n",
       "      <td>1.000000</td>\n",
       "      <td>1.000000</td>\n",
       "      <td>0.000000e+00</td>\n",
       "      <td>0.000000</td>\n",
       "      <td>9.384235</td>\n",
       "      <td>14.140999</td>\n",
       "      <td>16.424467</td>\n",
       "      <td>-3.141464</td>\n",
       "      <td>0.422014</td>\n",
       "      <td>0.895952</td>\n",
       "    </tr>\n",
       "    <tr>\n",
       "      <th>25%</th>\n",
       "      <td>2010.000000</td>\n",
       "      <td>4.000000</td>\n",
       "      <td>8.000000</td>\n",
       "      <td>0.000000e+00</td>\n",
       "      <td>0.000000</td>\n",
       "      <td>13.315221</td>\n",
       "      <td>15.999739</td>\n",
       "      <td>20.312214</td>\n",
       "      <td>5.896431</td>\n",
       "      <td>7.191153</td>\n",
       "      <td>9.904094</td>\n",
       "    </tr>\n",
       "    <tr>\n",
       "      <th>50%</th>\n",
       "      <td>2013.000000</td>\n",
       "      <td>7.000000</td>\n",
       "      <td>14.000000</td>\n",
       "      <td>0.000000e+00</td>\n",
       "      <td>1.000000</td>\n",
       "      <td>15.494260</td>\n",
       "      <td>18.012590</td>\n",
       "      <td>22.513323</td>\n",
       "      <td>9.696771</td>\n",
       "      <td>10.688371</td>\n",
       "      <td>13.679253</td>\n",
       "    </tr>\n",
       "    <tr>\n",
       "      <th>75%</th>\n",
       "      <td>2016.000000</td>\n",
       "      <td>9.000000</td>\n",
       "      <td>22.000000</td>\n",
       "      <td>0.000000e+00</td>\n",
       "      <td>2.000000</td>\n",
       "      <td>17.718195</td>\n",
       "      <td>20.009832</td>\n",
       "      <td>24.689080</td>\n",
       "      <td>13.289559</td>\n",
       "      <td>14.210298</td>\n",
       "      <td>17.310861</td>\n",
       "    </tr>\n",
       "    <tr>\n",
       "      <th>max</th>\n",
       "      <td>2020.000000</td>\n",
       "      <td>12.000000</td>\n",
       "      <td>28.000000</td>\n",
       "      <td>2.620000e+06</td>\n",
       "      <td>17.000000</td>\n",
       "      <td>22.991382</td>\n",
       "      <td>21.843796</td>\n",
       "      <td>29.933603</td>\n",
       "      <td>20.938266</td>\n",
       "      <td>19.998710</td>\n",
       "      <td>22.995017</td>\n",
       "    </tr>\n",
       "  </tbody>\n",
       "</table>\n",
       "</div>"
      ],
      "text/plain": [
       "               year         month           day     emissions      day_fogs  \\\n",
       "count  56646.000000  56646.000000  56646.000000  5.664600e+04  56646.000000   \n",
       "mean    2012.934717      6.500212     14.482541  5.839256e+02      2.214896   \n",
       "std        3.855421      3.439418      8.062658  2.431450e+04      3.691141   \n",
       "min     2007.000000      1.000000      1.000000  0.000000e+00      0.000000   \n",
       "25%     2010.000000      4.000000      8.000000  0.000000e+00      0.000000   \n",
       "50%     2013.000000      7.000000     14.000000  0.000000e+00      1.000000   \n",
       "75%     2016.000000      9.000000     22.000000  0.000000e+00      2.000000   \n",
       "max     2020.000000     12.000000     28.000000  2.620000e+06     17.000000   \n",
       "\n",
       "       max_wind_speed  avg_wind_speed  min_wind_speed      max_temp  \\\n",
       "count    56641.000000    56646.000000    56646.000000  56646.000000   \n",
       "mean        15.516128       18.007332       22.507376      9.461657   \n",
       "std          3.054983        2.308368        3.044621      5.214642   \n",
       "min          9.384235       14.140999       16.424467     -3.141464   \n",
       "25%         13.315221       15.999739       20.312214      5.896431   \n",
       "50%         15.494260       18.012590       22.513323      9.696771   \n",
       "75%         17.718195       20.009832       24.689080     13.289559   \n",
       "max         22.991382       21.843796       29.933603     20.938266   \n",
       "\n",
       "           avg_temp      min_temp  \n",
       "count  56646.000000  56646.000000  \n",
       "mean      10.458664     13.433311  \n",
       "std        5.076520      5.205377  \n",
       "min        0.422014      0.895952  \n",
       "25%        7.191153      9.904094  \n",
       "50%       10.688371     13.679253  \n",
       "75%       14.210298     17.310861  \n",
       "max       19.998710     22.995017  "
      ]
     },
     "execution_count": 109,
     "metadata": {},
     "output_type": "execute_result"
    }
   ],
   "source": [
    "data1.describe() #Cheking results"
   ]
  },
  {
   "cell_type": "markdown",
   "id": "4306935c",
   "metadata": {},
   "source": [
    "### **<span style=\"color:#43A047;\">3.8 Features visualization and comparation </span>**\n",
    "\n",
    "#### **<span style=\"color:#4CAF50;\">3.8.1 Unvariate Analysis (EDA: Exploratory Data Analysis) </span>**"
   ]
  },
  {
   "cell_type": "code",
   "execution_count": 110,
   "id": "e7b285da",
   "metadata": {},
   "outputs": [],
   "source": [
    "def pie_count_chart (x, data, qty=10):\n",
    "    \"\"\"Creates a pie chart of the specific categorical feature chosen.\"\"\"\n",
    "    import plotly.subplots as sp\n",
    "    import plotly.express as px\n",
    "    df1 = pd.DataFrame()\n",
    "    df1 = data[[x]].groupby([x])[x] \\\n",
    "                         .count() \\\n",
    "                         .reset_index(name='count') \\\n",
    "                         .sort_values(['count'], ascending=False) \\\n",
    "                         .iloc[:qty]\n",
    "    \n",
    "    figure1 = px.pie(df1, values = \"count\", color_discrete_sequence=px.colors.sequential.RdBu,\n",
    "                 names = \"count\", width = 400, height = 400, hover_data=[x], \n",
    "                  labels={x:'Date'}, title='Pie Chart of the highest %d (%s)' %(qty, x))\n",
    "    figure1.show()"
   ]
  },
  {
   "cell_type": "code",
   "execution_count": 111,
   "id": "25ac4948",
   "metadata": {
    "scrolled": false
   },
   "outputs": [
    {
     "data": {
      "application/vnd.jupyter.widget-view+json": {
       "model_id": "4627d9a1de7a47d6bc98928ef99f600f",
       "version_major": 2,
       "version_minor": 0
      },
      "text/plain": [
       "interactive(children=(Dropdown(description='x', options=('continent', 'country', 'city', 'city_id', 'sector', …"
      ]
     },
     "metadata": {},
     "output_type": "display_data"
    },
    {
     "data": {
      "text/plain": [
       "<function __main__.pie_count_chart(x, data, qty=10)>"
      ]
     },
     "execution_count": 111,
     "metadata": {},
     "output_type": "execute_result"
    }
   ],
   "source": [
    "interact(pie_count_chart,\n",
    "         x = cat_cols.columns,\n",
    "         data = fixed(cat_cols),\n",
    "         qty= IntSlider(min=0, max=100, step=1))"
   ]
  },
  {
   "cell_type": "code",
   "execution_count": 154,
   "id": "39b46733",
   "metadata": {},
   "outputs": [],
   "source": [
    "from sklearn.feature_selection import SelectKBest\n",
    "from sklearn.feature_selection import chi2"
   ]
  },
  {
   "cell_type": "code",
   "execution_count": 162,
   "id": "d100a3f2",
   "metadata": {},
   "outputs": [
    {
     "data": {
      "text/plain": [
       "11"
      ]
     },
     "execution_count": 162,
     "metadata": {},
     "output_type": "execute_result"
    }
   ],
   "source": [
    "len(num_cols.columns.values.tolist())"
   ]
  },
  {
   "cell_type": "code",
   "execution_count": 167,
   "id": "5cb58f6d",
   "metadata": {
    "scrolled": false
   },
   "outputs": [
    {
     "data": {
      "image/png": "[encoded data removed]",
      "text/plain": [
       "<Figure size 1440x1440 with 2 Axes>"
      ]
     },
     "metadata": {
      "needs_background": "light"
     },
     "output_type": "display_data"
    }
   ],
   "source": [
    "X = data.iloc[:,0:23]  #independent columns\n",
    "y = data.iloc[:,-1]    #target column i.e price range\n",
    "#get correlations of each features in dataset\n",
    "corrmat = data.corr()\n",
    "top_corr_features = corrmat.index\n",
    "plt.figure(figsize=(20,20))\n",
    "#plot heat map\n",
    "g=sns.heatmap(data[top_corr_features].corr(),annot=True,cmap=\"RdYlGn\")"
   ]
  },
  {
   "cell_type": "code",
   "execution_count": 195,
   "id": "2118b96e",
   "metadata": {},
   "outputs": [
    {
     "data": {
      "text/plain": [
       "16"
      ]
     },
     "execution_count": 195,
     "metadata": {},
     "output_type": "execute_result"
    }
   ],
   "source": [
    "len(data1.columns.values.tolist())"
   ]
  },
  {
   "cell_type": "code",
   "execution_count": 197,
   "id": "cc746ca4",
   "metadata": {},
   "outputs": [],
   "source": [
    "X = data1.iloc[:,0:15]  #independent columns\n",
    "y = data1.iloc[:,-1] "
   ]
  },
  {
   "cell_type": "code",
   "execution_count": 188,
   "id": "864c519f",
   "metadata": {},
   "outputs": [],
   "source": [
    "data.drop(['continent'], inplace=True, axis=1)"
   ]
  },
  {
   "cell_type": "code",
   "execution_count": 200,
   "id": "76584885",
   "metadata": {
    "collapsed": true
   },
   "outputs": [
    {
     "ename": "ValueError",
     "evalue": "could not convert string to float: 'Germany'",
     "output_type": "error",
     "traceback": [
      "\u001b[1;31m---------------------------------------------------------------------------\u001b[0m",
      "\u001b[1;31mValueError\u001b[0m                                Traceback (most recent call last)",
      "\u001b[1;32m~\\AppData\\Local\\Temp/ipykernel_9684/2821649042.py\u001b[0m in \u001b[0;36m<module>\u001b[1;34m\u001b[0m\n\u001b[0;32m      2\u001b[0m \u001b[0mget_ipython\u001b[0m\u001b[1;33m(\u001b[0m\u001b[1;33m)\u001b[0m\u001b[1;33m.\u001b[0m\u001b[0mrun_line_magic\u001b[0m\u001b[1;33m(\u001b[0m\u001b[1;34m'matplotlib'\u001b[0m\u001b[1;33m,\u001b[0m \u001b[1;34m'inline'\u001b[0m\u001b[1;33m)\u001b[0m\u001b[1;33m\u001b[0m\u001b[1;33m\u001b[0m\u001b[0m\n\u001b[0;32m      3\u001b[0m \u001b[1;33m\u001b[0m\u001b[0m\n\u001b[1;32m----> 4\u001b[1;33m \u001b[0mimportanes\u001b[0m \u001b[1;33m=\u001b[0m \u001b[0mmutual_info_classif\u001b[0m\u001b[1;33m(\u001b[0m\u001b[0mX\u001b[0m\u001b[1;33m,\u001b[0m\u001b[0my\u001b[0m\u001b[1;33m)\u001b[0m\u001b[1;33m\u001b[0m\u001b[1;33m\u001b[0m\u001b[0m\n\u001b[0m\u001b[0;32m      5\u001b[0m \u001b[0mfeat_importances\u001b[0m \u001b[1;33m=\u001b[0m \u001b[0mpd\u001b[0m\u001b[1;33m.\u001b[0m\u001b[0mSeries\u001b[0m\u001b[1;33m(\u001b[0m\u001b[0mimportances\u001b[0m\u001b[1;33m,\u001b[0m \u001b[0mdata1\u001b[0m\u001b[1;33m.\u001b[0m\u001b[0mcolumns\u001b[0m\u001b[1;33m[\u001b[0m\u001b[1;36m0\u001b[0m\u001b[1;33m:\u001b[0m\u001b[0mlen\u001b[0m\u001b[1;33m(\u001b[0m\u001b[0mdata1\u001b[0m\u001b[1;33m.\u001b[0m\u001b[0mcolumns\u001b[0m\u001b[1;33m)\u001b[0m\u001b[1;33m-\u001b[0m\u001b[1;36m1\u001b[0m\u001b[1;33m]\u001b[0m\u001b[1;33m)\u001b[0m\u001b[1;33m\u001b[0m\u001b[1;33m\u001b[0m\u001b[0m\n\u001b[0;32m      6\u001b[0m \u001b[0mfeat_importances\u001b[0m\u001b[1;33m.\u001b[0m\u001b[0mplot\u001b[0m\u001b[1;33m(\u001b[0m\u001b[0mkind\u001b[0m \u001b[1;33m=\u001b[0m \u001b[1;34m'barh'\u001b[0m\u001b[1;33m,\u001b[0m \u001b[0mcolor\u001b[0m\u001b[1;33m=\u001b[0m \u001b[1;34m'teal'\u001b[0m\u001b[1;33m)\u001b[0m\u001b[1;33m\u001b[0m\u001b[1;33m\u001b[0m\u001b[0m\n",
      "\u001b[1;32mC:\\ProgramData\\Anaconda3\\lib\\site-packages\\sklearn\\utils\\validation.py\u001b[0m in \u001b[0;36minner_f\u001b[1;34m(*args, **kwargs)\u001b[0m\n\u001b[0;32m     61\u001b[0m             \u001b[0mextra_args\u001b[0m \u001b[1;33m=\u001b[0m \u001b[0mlen\u001b[0m\u001b[1;33m(\u001b[0m\u001b[0margs\u001b[0m\u001b[1;33m)\u001b[0m \u001b[1;33m-\u001b[0m \u001b[0mlen\u001b[0m\u001b[1;33m(\u001b[0m\u001b[0mall_args\u001b[0m\u001b[1;33m)\u001b[0m\u001b[1;33m\u001b[0m\u001b[1;33m\u001b[0m\u001b[0m\n\u001b[0;32m     62\u001b[0m             \u001b[1;32mif\u001b[0m \u001b[0mextra_args\u001b[0m \u001b[1;33m<=\u001b[0m \u001b[1;36m0\u001b[0m\u001b[1;33m:\u001b[0m\u001b[1;33m\u001b[0m\u001b[1;33m\u001b[0m\u001b[0m\n\u001b[1;32m---> 63\u001b[1;33m                 \u001b[1;32mreturn\u001b[0m \u001b[0mf\u001b[0m\u001b[1;33m(\u001b[0m\u001b[1;33m*\u001b[0m\u001b[0margs\u001b[0m\u001b[1;33m,\u001b[0m \u001b[1;33m**\u001b[0m\u001b[0mkwargs\u001b[0m\u001b[1;33m)\u001b[0m\u001b[1;33m\u001b[0m\u001b[1;33m\u001b[0m\u001b[0m\n\u001b[0m\u001b[0;32m     64\u001b[0m \u001b[1;33m\u001b[0m\u001b[0m\n\u001b[0;32m     65\u001b[0m             \u001b[1;31m# extra_args > 0\u001b[0m\u001b[1;33m\u001b[0m\u001b[1;33m\u001b[0m\u001b[0m\n",
      "\u001b[1;32mC:\\ProgramData\\Anaconda3\\lib\\site-packages\\sklearn\\feature_selection\\_mutual_info.py\u001b[0m in \u001b[0;36mmutual_info_classif\u001b[1;34m(X, y, discrete_features, n_neighbors, copy, random_state)\u001b[0m\n\u001b[0;32m    446\u001b[0m     \"\"\"\n\u001b[0;32m    447\u001b[0m     \u001b[0mcheck_classification_targets\u001b[0m\u001b[1;33m(\u001b[0m\u001b[0my\u001b[0m\u001b[1;33m)\u001b[0m\u001b[1;33m\u001b[0m\u001b[1;33m\u001b[0m\u001b[0m\n\u001b[1;32m--> 448\u001b[1;33m     return _estimate_mi(X, y, discrete_features, True, n_neighbors,\n\u001b[0m\u001b[0;32m    449\u001b[0m                         copy, random_state)\n",
      "\u001b[1;32mC:\\ProgramData\\Anaconda3\\lib\\site-packages\\sklearn\\feature_selection\\_mutual_info.py\u001b[0m in \u001b[0;36m_estimate_mi\u001b[1;34m(X, y, discrete_features, discrete_target, n_neighbors, copy, random_state)\u001b[0m\n\u001b[0;32m    241\u001b[0m            \u001b[0mData\u001b[0m \u001b[0mSets\u001b[0m\u001b[0;31m\"\u001b[0m\u001b[1;33m.\u001b[0m \u001b[0mPLoS\u001b[0m \u001b[0mONE\u001b[0m \u001b[1;36m9\u001b[0m\u001b[1;33m(\u001b[0m\u001b[1;36m2\u001b[0m\u001b[1;33m)\u001b[0m\u001b[1;33m,\u001b[0m \u001b[1;36m2014.\u001b[0m\u001b[1;33m\u001b[0m\u001b[1;33m\u001b[0m\u001b[0m\n\u001b[0;32m    242\u001b[0m     \"\"\"\n\u001b[1;32m--> 243\u001b[1;33m     \u001b[0mX\u001b[0m\u001b[1;33m,\u001b[0m \u001b[0my\u001b[0m \u001b[1;33m=\u001b[0m \u001b[0mcheck_X_y\u001b[0m\u001b[1;33m(\u001b[0m\u001b[0mX\u001b[0m\u001b[1;33m,\u001b[0m \u001b[0my\u001b[0m\u001b[1;33m,\u001b[0m \u001b[0maccept_sparse\u001b[0m\u001b[1;33m=\u001b[0m\u001b[1;34m'csc'\u001b[0m\u001b[1;33m,\u001b[0m \u001b[0my_numeric\u001b[0m\u001b[1;33m=\u001b[0m\u001b[1;32mnot\u001b[0m \u001b[0mdiscrete_target\u001b[0m\u001b[1;33m)\u001b[0m\u001b[1;33m\u001b[0m\u001b[1;33m\u001b[0m\u001b[0m\n\u001b[0m\u001b[0;32m    244\u001b[0m     \u001b[0mn_samples\u001b[0m\u001b[1;33m,\u001b[0m \u001b[0mn_features\u001b[0m \u001b[1;33m=\u001b[0m \u001b[0mX\u001b[0m\u001b[1;33m.\u001b[0m\u001b[0mshape\u001b[0m\u001b[1;33m\u001b[0m\u001b[1;33m\u001b[0m\u001b[0m\n\u001b[0;32m    245\u001b[0m \u001b[1;33m\u001b[0m\u001b[0m\n",
      "\u001b[1;32mC:\\ProgramData\\Anaconda3\\lib\\site-packages\\sklearn\\utils\\validation.py\u001b[0m in \u001b[0;36minner_f\u001b[1;34m(*args, **kwargs)\u001b[0m\n\u001b[0;32m     61\u001b[0m             \u001b[0mextra_args\u001b[0m \u001b[1;33m=\u001b[0m \u001b[0mlen\u001b[0m\u001b[1;33m(\u001b[0m\u001b[0margs\u001b[0m\u001b[1;33m)\u001b[0m \u001b[1;33m-\u001b[0m \u001b[0mlen\u001b[0m\u001b[1;33m(\u001b[0m\u001b[0mall_args\u001b[0m\u001b[1;33m)\u001b[0m\u001b[1;33m\u001b[0m\u001b[1;33m\u001b[0m\u001b[0m\n\u001b[0;32m     62\u001b[0m             \u001b[1;32mif\u001b[0m \u001b[0mextra_args\u001b[0m \u001b[1;33m<=\u001b[0m \u001b[1;36m0\u001b[0m\u001b[1;33m:\u001b[0m\u001b[1;33m\u001b[0m\u001b[1;33m\u001b[0m\u001b[0m\n\u001b[1;32m---> 63\u001b[1;33m                 \u001b[1;32mreturn\u001b[0m \u001b[0mf\u001b[0m\u001b[1;33m(\u001b[0m\u001b[1;33m*\u001b[0m\u001b[0margs\u001b[0m\u001b[1;33m,\u001b[0m \u001b[1;33m**\u001b[0m\u001b[0mkwargs\u001b[0m\u001b[1;33m)\u001b[0m\u001b[1;33m\u001b[0m\u001b[1;33m\u001b[0m\u001b[0m\n\u001b[0m\u001b[0;32m     64\u001b[0m \u001b[1;33m\u001b[0m\u001b[0m\n\u001b[0;32m     65\u001b[0m             \u001b[1;31m# extra_args > 0\u001b[0m\u001b[1;33m\u001b[0m\u001b[1;33m\u001b[0m\u001b[0m\n",
      "\u001b[1;32mC:\\ProgramData\\Anaconda3\\lib\\site-packages\\sklearn\\utils\\validation.py\u001b[0m in \u001b[0;36mcheck_X_y\u001b[1;34m(X, y, accept_sparse, accept_large_sparse, dtype, order, copy, force_all_finite, ensure_2d, allow_nd, multi_output, ensure_min_samples, ensure_min_features, y_numeric, estimator)\u001b[0m\n\u001b[0;32m    869\u001b[0m         \u001b[1;32mraise\u001b[0m \u001b[0mValueError\u001b[0m\u001b[1;33m(\u001b[0m\u001b[1;34m\"y cannot be None\"\u001b[0m\u001b[1;33m)\u001b[0m\u001b[1;33m\u001b[0m\u001b[1;33m\u001b[0m\u001b[0m\n\u001b[0;32m    870\u001b[0m \u001b[1;33m\u001b[0m\u001b[0m\n\u001b[1;32m--> 871\u001b[1;33m     X = check_array(X, accept_sparse=accept_sparse,\n\u001b[0m\u001b[0;32m    872\u001b[0m                     \u001b[0maccept_large_sparse\u001b[0m\u001b[1;33m=\u001b[0m\u001b[0maccept_large_sparse\u001b[0m\u001b[1;33m,\u001b[0m\u001b[1;33m\u001b[0m\u001b[1;33m\u001b[0m\u001b[0m\n\u001b[0;32m    873\u001b[0m                     \u001b[0mdtype\u001b[0m\u001b[1;33m=\u001b[0m\u001b[0mdtype\u001b[0m\u001b[1;33m,\u001b[0m \u001b[0morder\u001b[0m\u001b[1;33m=\u001b[0m\u001b[0morder\u001b[0m\u001b[1;33m,\u001b[0m \u001b[0mcopy\u001b[0m\u001b[1;33m=\u001b[0m\u001b[0mcopy\u001b[0m\u001b[1;33m,\u001b[0m\u001b[1;33m\u001b[0m\u001b[1;33m\u001b[0m\u001b[0m\n",
      "\u001b[1;32mC:\\ProgramData\\Anaconda3\\lib\\site-packages\\sklearn\\utils\\validation.py\u001b[0m in \u001b[0;36minner_f\u001b[1;34m(*args, **kwargs)\u001b[0m\n\u001b[0;32m     61\u001b[0m             \u001b[0mextra_args\u001b[0m \u001b[1;33m=\u001b[0m \u001b[0mlen\u001b[0m\u001b[1;33m(\u001b[0m\u001b[0margs\u001b[0m\u001b[1;33m)\u001b[0m \u001b[1;33m-\u001b[0m \u001b[0mlen\u001b[0m\u001b[1;33m(\u001b[0m\u001b[0mall_args\u001b[0m\u001b[1;33m)\u001b[0m\u001b[1;33m\u001b[0m\u001b[1;33m\u001b[0m\u001b[0m\n\u001b[0;32m     62\u001b[0m             \u001b[1;32mif\u001b[0m \u001b[0mextra_args\u001b[0m \u001b[1;33m<=\u001b[0m \u001b[1;36m0\u001b[0m\u001b[1;33m:\u001b[0m\u001b[1;33m\u001b[0m\u001b[1;33m\u001b[0m\u001b[0m\n\u001b[1;32m---> 63\u001b[1;33m                 \u001b[1;32mreturn\u001b[0m \u001b[0mf\u001b[0m\u001b[1;33m(\u001b[0m\u001b[1;33m*\u001b[0m\u001b[0margs\u001b[0m\u001b[1;33m,\u001b[0m \u001b[1;33m**\u001b[0m\u001b[0mkwargs\u001b[0m\u001b[1;33m)\u001b[0m\u001b[1;33m\u001b[0m\u001b[1;33m\u001b[0m\u001b[0m\n\u001b[0m\u001b[0;32m     64\u001b[0m \u001b[1;33m\u001b[0m\u001b[0m\n\u001b[0;32m     65\u001b[0m             \u001b[1;31m# extra_args > 0\u001b[0m\u001b[1;33m\u001b[0m\u001b[1;33m\u001b[0m\u001b[0m\n",
      "\u001b[1;32mC:\\ProgramData\\Anaconda3\\lib\\site-packages\\sklearn\\utils\\validation.py\u001b[0m in \u001b[0;36mcheck_array\u001b[1;34m(array, accept_sparse, accept_large_sparse, dtype, order, copy, force_all_finite, ensure_2d, allow_nd, ensure_min_samples, ensure_min_features, estimator)\u001b[0m\n\u001b[0;32m    671\u001b[0m                     \u001b[0marray\u001b[0m \u001b[1;33m=\u001b[0m \u001b[0marray\u001b[0m\u001b[1;33m.\u001b[0m\u001b[0mastype\u001b[0m\u001b[1;33m(\u001b[0m\u001b[0mdtype\u001b[0m\u001b[1;33m,\u001b[0m \u001b[0mcasting\u001b[0m\u001b[1;33m=\u001b[0m\u001b[1;34m\"unsafe\"\u001b[0m\u001b[1;33m,\u001b[0m \u001b[0mcopy\u001b[0m\u001b[1;33m=\u001b[0m\u001b[1;32mFalse\u001b[0m\u001b[1;33m)\u001b[0m\u001b[1;33m\u001b[0m\u001b[1;33m\u001b[0m\u001b[0m\n\u001b[0;32m    672\u001b[0m                 \u001b[1;32melse\u001b[0m\u001b[1;33m:\u001b[0m\u001b[1;33m\u001b[0m\u001b[1;33m\u001b[0m\u001b[0m\n\u001b[1;32m--> 673\u001b[1;33m                     \u001b[0marray\u001b[0m \u001b[1;33m=\u001b[0m \u001b[0mnp\u001b[0m\u001b[1;33m.\u001b[0m\u001b[0masarray\u001b[0m\u001b[1;33m(\u001b[0m\u001b[0marray\u001b[0m\u001b[1;33m,\u001b[0m \u001b[0morder\u001b[0m\u001b[1;33m=\u001b[0m\u001b[0morder\u001b[0m\u001b[1;33m,\u001b[0m \u001b[0mdtype\u001b[0m\u001b[1;33m=\u001b[0m\u001b[0mdtype\u001b[0m\u001b[1;33m)\u001b[0m\u001b[1;33m\u001b[0m\u001b[1;33m\u001b[0m\u001b[0m\n\u001b[0m\u001b[0;32m    674\u001b[0m             \u001b[1;32mexcept\u001b[0m \u001b[0mComplexWarning\u001b[0m \u001b[1;32mas\u001b[0m \u001b[0mcomplex_warning\u001b[0m\u001b[1;33m:\u001b[0m\u001b[1;33m\u001b[0m\u001b[1;33m\u001b[0m\u001b[0m\n\u001b[0;32m    675\u001b[0m                 raise ValueError(\"Complex data not supported\\n\"\n",
      "\u001b[1;32mC:\\ProgramData\\Anaconda3\\lib\\site-packages\\numpy\\core\\_asarray.py\u001b[0m in \u001b[0;36masarray\u001b[1;34m(a, dtype, order, like)\u001b[0m\n\u001b[0;32m    100\u001b[0m         \u001b[1;32mreturn\u001b[0m \u001b[0m_asarray_with_like\u001b[0m\u001b[1;33m(\u001b[0m\u001b[0ma\u001b[0m\u001b[1;33m,\u001b[0m \u001b[0mdtype\u001b[0m\u001b[1;33m=\u001b[0m\u001b[0mdtype\u001b[0m\u001b[1;33m,\u001b[0m \u001b[0morder\u001b[0m\u001b[1;33m=\u001b[0m\u001b[0morder\u001b[0m\u001b[1;33m,\u001b[0m \u001b[0mlike\u001b[0m\u001b[1;33m=\u001b[0m\u001b[0mlike\u001b[0m\u001b[1;33m)\u001b[0m\u001b[1;33m\u001b[0m\u001b[1;33m\u001b[0m\u001b[0m\n\u001b[0;32m    101\u001b[0m \u001b[1;33m\u001b[0m\u001b[0m\n\u001b[1;32m--> 102\u001b[1;33m     \u001b[1;32mreturn\u001b[0m \u001b[0marray\u001b[0m\u001b[1;33m(\u001b[0m\u001b[0ma\u001b[0m\u001b[1;33m,\u001b[0m \u001b[0mdtype\u001b[0m\u001b[1;33m,\u001b[0m \u001b[0mcopy\u001b[0m\u001b[1;33m=\u001b[0m\u001b[1;32mFalse\u001b[0m\u001b[1;33m,\u001b[0m \u001b[0morder\u001b[0m\u001b[1;33m=\u001b[0m\u001b[0morder\u001b[0m\u001b[1;33m)\u001b[0m\u001b[1;33m\u001b[0m\u001b[1;33m\u001b[0m\u001b[0m\n\u001b[0m\u001b[0;32m    103\u001b[0m \u001b[1;33m\u001b[0m\u001b[0m\n\u001b[0;32m    104\u001b[0m \u001b[1;33m\u001b[0m\u001b[0m\n",
      "\u001b[1;32mC:\\ProgramData\\Anaconda3\\lib\\site-packages\\pandas\\core\\generic.py\u001b[0m in \u001b[0;36m__array__\u001b[1;34m(self, dtype)\u001b[0m\n\u001b[0;32m   1991\u001b[0m \u001b[1;33m\u001b[0m\u001b[0m\n\u001b[0;32m   1992\u001b[0m     \u001b[1;32mdef\u001b[0m \u001b[0m__array__\u001b[0m\u001b[1;33m(\u001b[0m\u001b[0mself\u001b[0m\u001b[1;33m,\u001b[0m \u001b[0mdtype\u001b[0m\u001b[1;33m:\u001b[0m \u001b[0mNpDtype\u001b[0m \u001b[1;33m|\u001b[0m \u001b[1;32mNone\u001b[0m \u001b[1;33m=\u001b[0m \u001b[1;32mNone\u001b[0m\u001b[1;33m)\u001b[0m \u001b[1;33m->\u001b[0m \u001b[0mnp\u001b[0m\u001b[1;33m.\u001b[0m\u001b[0mndarray\u001b[0m\u001b[1;33m:\u001b[0m\u001b[1;33m\u001b[0m\u001b[1;33m\u001b[0m\u001b[0m\n\u001b[1;32m-> 1993\u001b[1;33m         \u001b[1;32mreturn\u001b[0m \u001b[0mnp\u001b[0m\u001b[1;33m.\u001b[0m\u001b[0masarray\u001b[0m\u001b[1;33m(\u001b[0m\u001b[0mself\u001b[0m\u001b[1;33m.\u001b[0m\u001b[0m_values\u001b[0m\u001b[1;33m,\u001b[0m \u001b[0mdtype\u001b[0m\u001b[1;33m=\u001b[0m\u001b[0mdtype\u001b[0m\u001b[1;33m)\u001b[0m\u001b[1;33m\u001b[0m\u001b[1;33m\u001b[0m\u001b[0m\n\u001b[0m\u001b[0;32m   1994\u001b[0m \u001b[1;33m\u001b[0m\u001b[0m\n\u001b[0;32m   1995\u001b[0m     def __array_wrap__(\n",
      "\u001b[1;32mC:\\ProgramData\\Anaconda3\\lib\\site-packages\\numpy\\core\\_asarray.py\u001b[0m in \u001b[0;36masarray\u001b[1;34m(a, dtype, order, like)\u001b[0m\n\u001b[0;32m    100\u001b[0m         \u001b[1;32mreturn\u001b[0m \u001b[0m_asarray_with_like\u001b[0m\u001b[1;33m(\u001b[0m\u001b[0ma\u001b[0m\u001b[1;33m,\u001b[0m \u001b[0mdtype\u001b[0m\u001b[1;33m=\u001b[0m\u001b[0mdtype\u001b[0m\u001b[1;33m,\u001b[0m \u001b[0morder\u001b[0m\u001b[1;33m=\u001b[0m\u001b[0morder\u001b[0m\u001b[1;33m,\u001b[0m \u001b[0mlike\u001b[0m\u001b[1;33m=\u001b[0m\u001b[0mlike\u001b[0m\u001b[1;33m)\u001b[0m\u001b[1;33m\u001b[0m\u001b[1;33m\u001b[0m\u001b[0m\n\u001b[0;32m    101\u001b[0m \u001b[1;33m\u001b[0m\u001b[0m\n\u001b[1;32m--> 102\u001b[1;33m     \u001b[1;32mreturn\u001b[0m \u001b[0marray\u001b[0m\u001b[1;33m(\u001b[0m\u001b[0ma\u001b[0m\u001b[1;33m,\u001b[0m \u001b[0mdtype\u001b[0m\u001b[1;33m,\u001b[0m \u001b[0mcopy\u001b[0m\u001b[1;33m=\u001b[0m\u001b[1;32mFalse\u001b[0m\u001b[1;33m,\u001b[0m \u001b[0morder\u001b[0m\u001b[1;33m=\u001b[0m\u001b[0morder\u001b[0m\u001b[1;33m)\u001b[0m\u001b[1;33m\u001b[0m\u001b[1;33m\u001b[0m\u001b[0m\n\u001b[0m\u001b[0;32m    103\u001b[0m \u001b[1;33m\u001b[0m\u001b[0m\n\u001b[0;32m    104\u001b[0m \u001b[1;33m\u001b[0m\u001b[0m\n",
      "\u001b[1;31mValueError\u001b[0m: could not convert string to float: 'Germany'"
     ]
    }
   ],
   "source": [
    "from sklearn.feature_selection import mutual_info_classif\n",
    "%matplotlib inline\n",
    "\n",
    "importanes = mutual_info_classif(X,y)\n",
    "feat_importances = pd.Series(importances, data1.columns[0:len(data1.columns)-1])\n",
    "feat_importances.plot(kind = 'barh', color= 'teal')\n",
    "plt.show()"
   ]
  },
  {
   "cell_type": "code",
   "execution_count": null,
   "id": "c37e8594",
   "metadata": {},
   "outputs": [],
   "source": []
  },
  {
   "cell_type": "code",
   "execution_count": null,
   "id": "ce006682",
   "metadata": {},
   "outputs": [],
   "source": []
  },
  {
   "cell_type": "code",
   "execution_count": 199,
   "id": "b8c0af77",
   "metadata": {
    "collapsed": true
   },
   "outputs": [
    {
     "ename": "ValueError",
     "evalue": "invalid literal for int() with base 10: 'EUROPE'",
     "output_type": "error",
     "traceback": [
      "\u001b[1;31m---------------------------------------------------------------------------\u001b[0m",
      "\u001b[1;31mValueError\u001b[0m                                Traceback (most recent call last)",
      "\u001b[1;32m~\\AppData\\Local\\Temp/ipykernel_9684/381772301.py\u001b[0m in \u001b[0;36m<module>\u001b[1;34m\u001b[0m\n\u001b[0;32m      1\u001b[0m \u001b[1;32mfrom\u001b[0m \u001b[0msklearn\u001b[0m\u001b[1;33m.\u001b[0m\u001b[0mfeature_selection\u001b[0m \u001b[1;32mimport\u001b[0m \u001b[0mchi2\u001b[0m\u001b[1;33m\u001b[0m\u001b[1;33m\u001b[0m\u001b[0m\n\u001b[0;32m      2\u001b[0m \u001b[1;33m\u001b[0m\u001b[0m\n\u001b[1;32m----> 3\u001b[1;33m \u001b[0mX_cat\u001b[0m \u001b[1;33m=\u001b[0m \u001b[0mcat_cols\u001b[0m\u001b[1;33m.\u001b[0m\u001b[0mastype\u001b[0m\u001b[1;33m(\u001b[0m\u001b[0mint\u001b[0m\u001b[1;33m)\u001b[0m\u001b[1;33m\u001b[0m\u001b[1;33m\u001b[0m\u001b[0m\n\u001b[0m\u001b[0;32m      4\u001b[0m \u001b[1;33m\u001b[0m\u001b[0m\n\u001b[0;32m      5\u001b[0m \u001b[0mchi2_features\u001b[0m \u001b[1;33m=\u001b[0m \u001b[0mSelectKBest\u001b[0m\u001b[1;33m(\u001b[0m\u001b[0mchi2\u001b[0m\u001b[1;33m,\u001b[0m \u001b[0mk\u001b[0m\u001b[1;33m=\u001b[0m\u001b[1;36m3\u001b[0m\u001b[1;33m)\u001b[0m\u001b[1;33m\u001b[0m\u001b[1;33m\u001b[0m\u001b[0m\n",
      "\u001b[1;32mC:\\ProgramData\\Anaconda3\\lib\\site-packages\\pandas\\core\\generic.py\u001b[0m in \u001b[0;36mastype\u001b[1;34m(self, dtype, copy, errors)\u001b[0m\n\u001b[0;32m   5813\u001b[0m         \u001b[1;32melse\u001b[0m\u001b[1;33m:\u001b[0m\u001b[1;33m\u001b[0m\u001b[1;33m\u001b[0m\u001b[0m\n\u001b[0;32m   5814\u001b[0m             \u001b[1;31m# else, only a single dtype is given\u001b[0m\u001b[1;33m\u001b[0m\u001b[1;33m\u001b[0m\u001b[0m\n\u001b[1;32m-> 5815\u001b[1;33m             \u001b[0mnew_data\u001b[0m \u001b[1;33m=\u001b[0m \u001b[0mself\u001b[0m\u001b[1;33m.\u001b[0m\u001b[0m_mgr\u001b[0m\u001b[1;33m.\u001b[0m\u001b[0mastype\u001b[0m\u001b[1;33m(\u001b[0m\u001b[0mdtype\u001b[0m\u001b[1;33m=\u001b[0m\u001b[0mdtype\u001b[0m\u001b[1;33m,\u001b[0m \u001b[0mcopy\u001b[0m\u001b[1;33m=\u001b[0m\u001b[0mcopy\u001b[0m\u001b[1;33m,\u001b[0m \u001b[0merrors\u001b[0m\u001b[1;33m=\u001b[0m\u001b[0merrors\u001b[0m\u001b[1;33m)\u001b[0m\u001b[1;33m\u001b[0m\u001b[1;33m\u001b[0m\u001b[0m\n\u001b[0m\u001b[0;32m   5816\u001b[0m             \u001b[1;32mreturn\u001b[0m \u001b[0mself\u001b[0m\u001b[1;33m.\u001b[0m\u001b[0m_constructor\u001b[0m\u001b[1;33m(\u001b[0m\u001b[0mnew_data\u001b[0m\u001b[1;33m)\u001b[0m\u001b[1;33m.\u001b[0m\u001b[0m__finalize__\u001b[0m\u001b[1;33m(\u001b[0m\u001b[0mself\u001b[0m\u001b[1;33m,\u001b[0m \u001b[0mmethod\u001b[0m\u001b[1;33m=\u001b[0m\u001b[1;34m\"astype\"\u001b[0m\u001b[1;33m)\u001b[0m\u001b[1;33m\u001b[0m\u001b[1;33m\u001b[0m\u001b[0m\n\u001b[0;32m   5817\u001b[0m \u001b[1;33m\u001b[0m\u001b[0m\n",
      "\u001b[1;32mC:\\ProgramData\\Anaconda3\\lib\\site-packages\\pandas\\core\\internals\\managers.py\u001b[0m in \u001b[0;36mastype\u001b[1;34m(self, dtype, copy, errors)\u001b[0m\n\u001b[0;32m    416\u001b[0m \u001b[1;33m\u001b[0m\u001b[0m\n\u001b[0;32m    417\u001b[0m     \u001b[1;32mdef\u001b[0m \u001b[0mastype\u001b[0m\u001b[1;33m(\u001b[0m\u001b[0mself\u001b[0m\u001b[1;33m:\u001b[0m \u001b[0mT\u001b[0m\u001b[1;33m,\u001b[0m \u001b[0mdtype\u001b[0m\u001b[1;33m,\u001b[0m \u001b[0mcopy\u001b[0m\u001b[1;33m:\u001b[0m \u001b[0mbool\u001b[0m \u001b[1;33m=\u001b[0m \u001b[1;32mFalse\u001b[0m\u001b[1;33m,\u001b[0m \u001b[0merrors\u001b[0m\u001b[1;33m:\u001b[0m \u001b[0mstr\u001b[0m \u001b[1;33m=\u001b[0m \u001b[1;34m\"raise\"\u001b[0m\u001b[1;33m)\u001b[0m \u001b[1;33m->\u001b[0m \u001b[0mT\u001b[0m\u001b[1;33m:\u001b[0m\u001b[1;33m\u001b[0m\u001b[1;33m\u001b[0m\u001b[0m\n\u001b[1;32m--> 418\u001b[1;33m         \u001b[1;32mreturn\u001b[0m \u001b[0mself\u001b[0m\u001b[1;33m.\u001b[0m\u001b[0mapply\u001b[0m\u001b[1;33m(\u001b[0m\u001b[1;34m\"astype\"\u001b[0m\u001b[1;33m,\u001b[0m \u001b[0mdtype\u001b[0m\u001b[1;33m=\u001b[0m\u001b[0mdtype\u001b[0m\u001b[1;33m,\u001b[0m \u001b[0mcopy\u001b[0m\u001b[1;33m=\u001b[0m\u001b[0mcopy\u001b[0m\u001b[1;33m,\u001b[0m \u001b[0merrors\u001b[0m\u001b[1;33m=\u001b[0m\u001b[0merrors\u001b[0m\u001b[1;33m)\u001b[0m\u001b[1;33m\u001b[0m\u001b[1;33m\u001b[0m\u001b[0m\n\u001b[0m\u001b[0;32m    419\u001b[0m \u001b[1;33m\u001b[0m\u001b[0m\n\u001b[0;32m    420\u001b[0m     def convert(\n",
      "\u001b[1;32mC:\\ProgramData\\Anaconda3\\lib\\site-packages\\pandas\\core\\internals\\managers.py\u001b[0m in \u001b[0;36mapply\u001b[1;34m(self, f, align_keys, ignore_failures, **kwargs)\u001b[0m\n\u001b[0;32m    325\u001b[0m                     \u001b[0mapplied\u001b[0m \u001b[1;33m=\u001b[0m \u001b[0mb\u001b[0m\u001b[1;33m.\u001b[0m\u001b[0mapply\u001b[0m\u001b[1;33m(\u001b[0m\u001b[0mf\u001b[0m\u001b[1;33m,\u001b[0m \u001b[1;33m**\u001b[0m\u001b[0mkwargs\u001b[0m\u001b[1;33m)\u001b[0m\u001b[1;33m\u001b[0m\u001b[1;33m\u001b[0m\u001b[0m\n\u001b[0;32m    326\u001b[0m                 \u001b[1;32melse\u001b[0m\u001b[1;33m:\u001b[0m\u001b[1;33m\u001b[0m\u001b[1;33m\u001b[0m\u001b[0m\n\u001b[1;32m--> 327\u001b[1;33m                     \u001b[0mapplied\u001b[0m \u001b[1;33m=\u001b[0m \u001b[0mgetattr\u001b[0m\u001b[1;33m(\u001b[0m\u001b[0mb\u001b[0m\u001b[1;33m,\u001b[0m \u001b[0mf\u001b[0m\u001b[1;33m)\u001b[0m\u001b[1;33m(\u001b[0m\u001b[1;33m**\u001b[0m\u001b[0mkwargs\u001b[0m\u001b[1;33m)\u001b[0m\u001b[1;33m\u001b[0m\u001b[1;33m\u001b[0m\u001b[0m\n\u001b[0m\u001b[0;32m    328\u001b[0m             \u001b[1;32mexcept\u001b[0m \u001b[1;33m(\u001b[0m\u001b[0mTypeError\u001b[0m\u001b[1;33m,\u001b[0m \u001b[0mNotImplementedError\u001b[0m\u001b[1;33m)\u001b[0m\u001b[1;33m:\u001b[0m\u001b[1;33m\u001b[0m\u001b[1;33m\u001b[0m\u001b[0m\n\u001b[0;32m    329\u001b[0m                 \u001b[1;32mif\u001b[0m \u001b[1;32mnot\u001b[0m \u001b[0mignore_failures\u001b[0m\u001b[1;33m:\u001b[0m\u001b[1;33m\u001b[0m\u001b[1;33m\u001b[0m\u001b[0m\n",
      "\u001b[1;32mC:\\ProgramData\\Anaconda3\\lib\\site-packages\\pandas\\core\\internals\\blocks.py\u001b[0m in \u001b[0;36mastype\u001b[1;34m(self, dtype, copy, errors)\u001b[0m\n\u001b[0;32m    589\u001b[0m         \u001b[0mvalues\u001b[0m \u001b[1;33m=\u001b[0m \u001b[0mself\u001b[0m\u001b[1;33m.\u001b[0m\u001b[0mvalues\u001b[0m\u001b[1;33m\u001b[0m\u001b[1;33m\u001b[0m\u001b[0m\n\u001b[0;32m    590\u001b[0m \u001b[1;33m\u001b[0m\u001b[0m\n\u001b[1;32m--> 591\u001b[1;33m         \u001b[0mnew_values\u001b[0m \u001b[1;33m=\u001b[0m \u001b[0mastype_array_safe\u001b[0m\u001b[1;33m(\u001b[0m\u001b[0mvalues\u001b[0m\u001b[1;33m,\u001b[0m \u001b[0mdtype\u001b[0m\u001b[1;33m,\u001b[0m \u001b[0mcopy\u001b[0m\u001b[1;33m=\u001b[0m\u001b[0mcopy\u001b[0m\u001b[1;33m,\u001b[0m \u001b[0merrors\u001b[0m\u001b[1;33m=\u001b[0m\u001b[0merrors\u001b[0m\u001b[1;33m)\u001b[0m\u001b[1;33m\u001b[0m\u001b[1;33m\u001b[0m\u001b[0m\n\u001b[0m\u001b[0;32m    592\u001b[0m \u001b[1;33m\u001b[0m\u001b[0m\n\u001b[0;32m    593\u001b[0m         \u001b[0mnew_values\u001b[0m \u001b[1;33m=\u001b[0m \u001b[0mmaybe_coerce_values\u001b[0m\u001b[1;33m(\u001b[0m\u001b[0mnew_values\u001b[0m\u001b[1;33m)\u001b[0m\u001b[1;33m\u001b[0m\u001b[1;33m\u001b[0m\u001b[0m\n",
      "\u001b[1;32mC:\\ProgramData\\Anaconda3\\lib\\site-packages\\pandas\\core\\dtypes\\cast.py\u001b[0m in \u001b[0;36mastype_array_safe\u001b[1;34m(values, dtype, copy, errors)\u001b[0m\n\u001b[0;32m   1307\u001b[0m \u001b[1;33m\u001b[0m\u001b[0m\n\u001b[0;32m   1308\u001b[0m     \u001b[1;32mtry\u001b[0m\u001b[1;33m:\u001b[0m\u001b[1;33m\u001b[0m\u001b[1;33m\u001b[0m\u001b[0m\n\u001b[1;32m-> 1309\u001b[1;33m         \u001b[0mnew_values\u001b[0m \u001b[1;33m=\u001b[0m \u001b[0mastype_array\u001b[0m\u001b[1;33m(\u001b[0m\u001b[0mvalues\u001b[0m\u001b[1;33m,\u001b[0m \u001b[0mdtype\u001b[0m\u001b[1;33m,\u001b[0m \u001b[0mcopy\u001b[0m\u001b[1;33m=\u001b[0m\u001b[0mcopy\u001b[0m\u001b[1;33m)\u001b[0m\u001b[1;33m\u001b[0m\u001b[1;33m\u001b[0m\u001b[0m\n\u001b[0m\u001b[0;32m   1310\u001b[0m     \u001b[1;32mexcept\u001b[0m \u001b[1;33m(\u001b[0m\u001b[0mValueError\u001b[0m\u001b[1;33m,\u001b[0m \u001b[0mTypeError\u001b[0m\u001b[1;33m)\u001b[0m\u001b[1;33m:\u001b[0m\u001b[1;33m\u001b[0m\u001b[1;33m\u001b[0m\u001b[0m\n\u001b[0;32m   1311\u001b[0m         \u001b[1;31m# e.g. astype_nansafe can fail on object-dtype of strings\u001b[0m\u001b[1;33m\u001b[0m\u001b[1;33m\u001b[0m\u001b[0m\n",
      "\u001b[1;32mC:\\ProgramData\\Anaconda3\\lib\\site-packages\\pandas\\core\\dtypes\\cast.py\u001b[0m in \u001b[0;36mastype_array\u001b[1;34m(values, dtype, copy)\u001b[0m\n\u001b[0;32m   1255\u001b[0m \u001b[1;33m\u001b[0m\u001b[0m\n\u001b[0;32m   1256\u001b[0m     \u001b[1;32melse\u001b[0m\u001b[1;33m:\u001b[0m\u001b[1;33m\u001b[0m\u001b[1;33m\u001b[0m\u001b[0m\n\u001b[1;32m-> 1257\u001b[1;33m         \u001b[0mvalues\u001b[0m \u001b[1;33m=\u001b[0m \u001b[0mastype_nansafe\u001b[0m\u001b[1;33m(\u001b[0m\u001b[0mvalues\u001b[0m\u001b[1;33m,\u001b[0m \u001b[0mdtype\u001b[0m\u001b[1;33m,\u001b[0m \u001b[0mcopy\u001b[0m\u001b[1;33m=\u001b[0m\u001b[0mcopy\u001b[0m\u001b[1;33m)\u001b[0m\u001b[1;33m\u001b[0m\u001b[1;33m\u001b[0m\u001b[0m\n\u001b[0m\u001b[0;32m   1258\u001b[0m \u001b[1;33m\u001b[0m\u001b[0m\n\u001b[0;32m   1259\u001b[0m     \u001b[1;31m# in pandas we don't store numpy str dtypes, so convert to object\u001b[0m\u001b[1;33m\u001b[0m\u001b[1;33m\u001b[0m\u001b[0m\n",
      "\u001b[1;32mC:\\ProgramData\\Anaconda3\\lib\\site-packages\\pandas\\core\\dtypes\\cast.py\u001b[0m in \u001b[0;36mastype_nansafe\u001b[1;34m(arr, dtype, copy, skipna)\u001b[0m\n\u001b[0;32m   1093\u001b[0m     \u001b[1;32mif\u001b[0m \u001b[0marr\u001b[0m\u001b[1;33m.\u001b[0m\u001b[0mndim\u001b[0m \u001b[1;33m>\u001b[0m \u001b[1;36m1\u001b[0m\u001b[1;33m:\u001b[0m\u001b[1;33m\u001b[0m\u001b[1;33m\u001b[0m\u001b[0m\n\u001b[0;32m   1094\u001b[0m         \u001b[0mflat\u001b[0m \u001b[1;33m=\u001b[0m \u001b[0marr\u001b[0m\u001b[1;33m.\u001b[0m\u001b[0mravel\u001b[0m\u001b[1;33m(\u001b[0m\u001b[1;33m)\u001b[0m\u001b[1;33m\u001b[0m\u001b[1;33m\u001b[0m\u001b[0m\n\u001b[1;32m-> 1095\u001b[1;33m         \u001b[0mresult\u001b[0m \u001b[1;33m=\u001b[0m \u001b[0mastype_nansafe\u001b[0m\u001b[1;33m(\u001b[0m\u001b[0mflat\u001b[0m\u001b[1;33m,\u001b[0m \u001b[0mdtype\u001b[0m\u001b[1;33m,\u001b[0m \u001b[0mcopy\u001b[0m\u001b[1;33m=\u001b[0m\u001b[0mcopy\u001b[0m\u001b[1;33m,\u001b[0m \u001b[0mskipna\u001b[0m\u001b[1;33m=\u001b[0m\u001b[0mskipna\u001b[0m\u001b[1;33m)\u001b[0m\u001b[1;33m\u001b[0m\u001b[1;33m\u001b[0m\u001b[0m\n\u001b[0m\u001b[0;32m   1096\u001b[0m         \u001b[1;31m# error: Item \"ExtensionArray\" of \"Union[ExtensionArray, ndarray]\" has no\u001b[0m\u001b[1;33m\u001b[0m\u001b[1;33m\u001b[0m\u001b[0m\n\u001b[0;32m   1097\u001b[0m         \u001b[1;31m# attribute \"reshape\"\u001b[0m\u001b[1;33m\u001b[0m\u001b[1;33m\u001b[0m\u001b[0m\n",
      "\u001b[1;32mC:\\ProgramData\\Anaconda3\\lib\\site-packages\\pandas\\core\\dtypes\\cast.py\u001b[0m in \u001b[0;36mastype_nansafe\u001b[1;34m(arr, dtype, copy, skipna)\u001b[0m\n\u001b[0;32m   1172\u001b[0m         \u001b[1;31m# work around NumPy brokenness, #1987\u001b[0m\u001b[1;33m\u001b[0m\u001b[1;33m\u001b[0m\u001b[0m\n\u001b[0;32m   1173\u001b[0m         \u001b[1;32mif\u001b[0m \u001b[0mnp\u001b[0m\u001b[1;33m.\u001b[0m\u001b[0missubdtype\u001b[0m\u001b[1;33m(\u001b[0m\u001b[0mdtype\u001b[0m\u001b[1;33m.\u001b[0m\u001b[0mtype\u001b[0m\u001b[1;33m,\u001b[0m \u001b[0mnp\u001b[0m\u001b[1;33m.\u001b[0m\u001b[0minteger\u001b[0m\u001b[1;33m)\u001b[0m\u001b[1;33m:\u001b[0m\u001b[1;33m\u001b[0m\u001b[1;33m\u001b[0m\u001b[0m\n\u001b[1;32m-> 1174\u001b[1;33m             \u001b[1;32mreturn\u001b[0m \u001b[0mlib\u001b[0m\u001b[1;33m.\u001b[0m\u001b[0mastype_intsafe\u001b[0m\u001b[1;33m(\u001b[0m\u001b[0marr\u001b[0m\u001b[1;33m,\u001b[0m \u001b[0mdtype\u001b[0m\u001b[1;33m)\u001b[0m\u001b[1;33m\u001b[0m\u001b[1;33m\u001b[0m\u001b[0m\n\u001b[0m\u001b[0;32m   1175\u001b[0m \u001b[1;33m\u001b[0m\u001b[0m\n\u001b[0;32m   1176\u001b[0m         \u001b[1;31m# if we have a datetime/timedelta array of objects\u001b[0m\u001b[1;33m\u001b[0m\u001b[1;33m\u001b[0m\u001b[0m\n",
      "\u001b[1;32mC:\\ProgramData\\Anaconda3\\lib\\site-packages\\pandas\\_libs\\lib.pyx\u001b[0m in \u001b[0;36mpandas._libs.lib.astype_intsafe\u001b[1;34m()\u001b[0m\n",
      "\u001b[1;31mValueError\u001b[0m: invalid literal for int() with base 10: 'EUROPE'"
     ]
    }
   ],
   "source": [
    "from sklearn.feature_selection import chi2\n",
    "\n",
    "X_cat = cat_cols.astype(int)\n",
    "\n",
    "chi2_features = SelectKBest(chi2, k=3)\n",
    "X_kbest_features = chi2_features.fit_transform(X_cat, Y)\n",
    "\n",
    "print(\"Original feature number: \", X_cat.shape[1])\n",
    "print(\"Reduced feature number: \", X_kbest_features.shape[1])"
   ]
  },
  {
   "cell_type": "code",
   "execution_count": null,
   "id": "c241916e",
   "metadata": {},
   "outputs": [],
   "source": [
    "import numpy as np\n",
    "from scipy.sparse import *\n",
    "from skfeature.utility.construct_W import construct_W\n",
    "\n",
    "\n",
    "def fisher_score(X, y):\n",
    "    \"\"\"\n",
    "    This function implements the fisher score feature selection, steps are as follows:\n",
    "    1. Construct the affinity matrix W in fisher score way\n",
    "    2. For the r-th feature, we define fr = X(:,r), D = diag(W*ones), ones = [1,...,1]', L = D - W\n",
    "    3. Let fr_hat = fr - (fr'*D*ones)*ones/(ones'*D*ones)\n",
    "    4. Fisher score for the r-th feature is score = (fr_hat'*D*fr_hat)/(fr_hat'*L*fr_hat)-1\n",
    "    Input\n",
    "    -----\n",
    "    X: {numpy array}, shape (n_samples, n_features)\n",
    "        input data\n",
    "    y: {numpy array}, shape (n_samples,)\n",
    "        input class labels\n",
    "    Output\n",
    "    ------\n",
    "    score: {numpy array}, shape (n_features,)\n",
    "        fisher score for each feature\n",
    "    Reference\n",
    "    ---------\n",
    "    He, Xiaofei et al. \"Laplacian Score for Feature Selection.\" NIPS 2005.\n",
    "    Duda, Richard et al. \"Pattern classification.\" John Wiley & Sons, 2012.\n",
    "    \"\"\"\n",
    "\n",
    "    # Construct weight matrix W in a fisherScore way\n",
    "    kwargs = {\"neighbor_mode\": \"supervised\", \"fisher_score\": True, 'y': y}\n",
    "    W = construct_W(X, **kwargs)\n",
    "\n",
    "    # build the diagonal D matrix from affinity matrix W\n",
    "    D = np.array(W.sum(axis=1))\n",
    "    L = W\n",
    "    tmp = np.dot(np.transpose(D), X)\n",
    "    D = diags(np.transpose(D), [0])\n",
    "    Xt = np.transpose(X)\n",
    "    t1 = np.transpose(np.dot(Xt, D.todense()))\n",
    "    t2 = np.transpose(np.dot(Xt, L.todense()))\n",
    "    # compute the numerator of Lr\n",
    "    D_prime = np.sum(np.multiply(t1, X), 0) - np.multiply(tmp, tmp)/D.sum()\n",
    "    # compute the denominator of Lr\n",
    "    L_prime = np.sum(np.multiply(t2, X), 0) - np.multiply(tmp, tmp)/D.sum()\n",
    "    # avoid the denominator of Lr to be 0\n",
    "    D_prime[D_prime < 1e-12] = 10000\n",
    "    lap_score = 1 - np.array(np.multiply(L_prime, 1/D_prime))[0, :]\n",
    "\n",
    "    # compute fisher score from laplacian score, where fisher_score = 1/lap_score - 1\n",
    "    score = 1.0/lap_score - 1\n",
    "    return np.transpose(score)\n",
    "\n",
    "\n",
    "def feature_ranking(score):\n",
    "    \"\"\"\n",
    "    Rank features in descending order according to fisher score, the larger the fisher score, the more important the\n",
    "    feature is\n",
    "    \"\"\"\n",
    "    idx = np.argsort(score, 0)\n",
    "    return idx[::-1]"
   ]
  },
  {
   "cell_type": "code",
   "execution_count": null,
   "id": "d97f4876",
   "metadata": {},
   "outputs": [],
   "source": []
  },
  {
   "cell_type": "code",
   "execution_count": null,
   "id": "1685c3e2",
   "metadata": {},
   "outputs": [],
   "source": []
  },
  {
   "cell_type": "code",
   "execution_count": null,
   "id": "0416add3",
   "metadata": {},
   "outputs": [],
   "source": []
  },
  {
   "cell_type": "code",
   "execution_count": null,
   "id": "72926e66",
   "metadata": {},
   "outputs": [],
   "source": []
  },
  {
   "cell_type": "code",
   "execution_count": null,
   "id": "b0420e57",
   "metadata": {},
   "outputs": [],
   "source": []
  },
  {
   "cell_type": "markdown",
   "id": "db978606",
   "metadata": {},
   "source": [
    "#### **<span style=\"color:#4CAF50;\">3.8.2 Bivariate Analysis (EDA: Exploratory Data Analysis) </span>**"
   ]
  },
  {
   "cell_type": "code",
   "execution_count": 112,
   "id": "cbc33486",
   "metadata": {},
   "outputs": [],
   "source": [
    "def plotting_bar (x,y,bar,data,qty):\n",
    "    import plotly.subplots as sp\n",
    "    import plotly.express as px\n",
    "    if x != y:\n",
    "        df1 = data[[x, y, bar]].groupby([x, bar])[y] \\\n",
    "                                 .count() \\\n",
    "                                 .reset_index(name=y) \\\n",
    "                                 .sort_values([y], ascending=False) \\\n",
    "                                 .head(qty)\n",
    "        figure1  = px.bar(df1, x=x, y=y, color=str(bar), barmode='group', height=400, width=700 ,\n",
    "                          title='Bar graph (%s) vs (%s) of the greaters %d ' %(x, y, qty))\n",
    "        figure1.show()\n",
    "    else:\n",
    "        print(\"Feature selection problem.\")"
   ]
  },
  {
   "cell_type": "code",
   "execution_count": 113,
   "id": "2629ca87",
   "metadata": {
    "scrolled": true
   },
   "outputs": [
    {
     "data": {
      "application/vnd.jupyter.widget-view+json": {
       "model_id": "36b12281b42d427fa3262370b814c14a",
       "version_major": 2,
       "version_minor": 0
      },
      "text/plain": [
       "interactive(children=(Dropdown(description='x', options=('year', 'month', 'day', 'continent', 'country', 'city…"
      ]
     },
     "metadata": {},
     "output_type": "display_data"
    },
    {
     "data": {
      "text/plain": [
       "<function __main__.plotting_bar(x, y, bar, data, qty)>"
      ]
     },
     "execution_count": 113,
     "metadata": {},
     "output_type": "execute_result"
    }
   ],
   "source": [
    "interact(plotting_bar,\n",
    "         x= list(data1.columns[:-1]), #Eje x a contrastar\n",
    "         y= list(data1.columns[:-1]), #Eje y a contrastar (cuantificar)\n",
    "         bar = fixed(data1.columns[-1]), #Barras a graficar\n",
    "         data = fixed(data1),\n",
    "         qty= IntSlider(min=0, max=100, step=1))"
   ]
  },
  {
   "cell_type": "code",
   "execution_count": 121,
   "id": "1dcb2a44",
   "metadata": {},
   "outputs": [
    {
     "data": {
      "text/plain": [
       "list"
      ]
     },
     "execution_count": 121,
     "metadata": {},
     "output_type": "execute_result"
    }
   ],
   "source": [
    "type(features)"
   ]
  },
  {
   "cell_type": "code",
   "execution_count": 115,
   "id": "19d9d06b",
   "metadata": {},
   "outputs": [],
   "source": [
    " # importing the required function\n",
    "from scipy.stats import chi2_contingency"
   ]
  },
  {
   "cell_type": "code",
   "execution_count": 132,
   "id": "5035851a",
   "metadata": {},
   "outputs": [],
   "source": [
    "features_reverse = features[::-1]"
   ]
  },
  {
   "cell_type": "code",
   "execution_count": 134,
   "id": "cfa0a77a",
   "metadata": {},
   "outputs": [
    {
     "data": {
      "text/plain": [
       "['pollutant',\n",
       " 'CITY_ID',\n",
       " 'DAYS FOG',\n",
       " 'avg_temp',\n",
       " 'min_temp',\n",
       " 'max_temp',\n",
       " 'avg_wind_speed',\n",
       " 'min_wind_speed',\n",
       " 'max_wind_speed',\n",
       " 'YEAR',\n",
       " 'MONTH',\n",
       " 'DAY',\n",
       " 'emissions',\n",
       " 'eprtrSectorName',\n",
       " 'EPRTRSectorCode',\n",
       " 'CITY',\n",
       " 'CONTINENT',\n",
       " 'COUNTRY',\n",
       " 'FacilityInspireID',\n",
       " 'FACILITY NAME']"
      ]
     },
     "execution_count": 134,
     "metadata": {},
     "output_type": "execute_result"
    }
   ],
   "source": [
    "features"
   ]
  },
  {
   "cell_type": "code",
   "execution_count": 133,
   "id": "80f16f92",
   "metadata": {},
   "outputs": [
    {
     "data": {
      "text/plain": [
       "['FACILITY NAME',\n",
       " 'FacilityInspireID',\n",
       " 'COUNTRY',\n",
       " 'CONTINENT',\n",
       " 'CITY',\n",
       " 'EPRTRSectorCode',\n",
       " 'eprtrSectorName',\n",
       " 'emissions',\n",
       " 'DAY',\n",
       " 'MONTH',\n",
       " 'YEAR',\n",
       " 'max_wind_speed',\n",
       " 'min_wind_speed',\n",
       " 'avg_wind_speed',\n",
       " 'max_temp',\n",
       " 'min_temp',\n",
       " 'avg_temp',\n",
       " 'DAYS FOG',\n",
       " 'CITY_ID',\n",
       " 'pollutant']"
      ]
     },
     "execution_count": 133,
     "metadata": {},
     "output_type": "execute_result"
    }
   ],
   "source": [
    "features_reverse"
   ]
  },
  {
   "cell_type": "code",
   "execution_count": 142,
   "id": "b6f115c9",
   "metadata": {},
   "outputs": [
    {
     "data": {
      "text/plain": [
       "array(['pollutant', 'reporter_name', 'target_release', 'facility_name',\n",
       "       'sector_code', 'facility_id', 'facility_code', 'activity',\n",
       "       'sector', 'city_id', 'city', 'country', 'continent'], dtype=object)"
      ]
     },
     "execution_count": 142,
     "metadata": {},
     "output_type": "execute_result"
    }
   ],
   "source": [
    "cat_cols.columns.values[::-1]"
   ]
  },
  {
   "cell_type": "code",
   "execution_count": 153,
   "id": "745c6a86",
   "metadata": {
    "scrolled": false
   },
   "outputs": [
    {
     "name": "stdout",
     "output_type": "stream",
     "text": [
      "The P-Value of the ChiSq Test between continent & country is 1.000\n",
      "The P-Value of the ChiSq Test between continent & city is 1.000\n",
      "The P-Value of the ChiSq Test between continent & city_id is 1.000\n",
      "The P-Value of the ChiSq Test between continent & sector is 1.000\n",
      "The P-Value of the ChiSq Test between continent & activity is 1.000\n",
      "The P-Value of the ChiSq Test between continent & facility_code is 1.000\n",
      "The P-Value of the ChiSq Test between continent & facility_id is 1.000\n",
      "The P-Value of the ChiSq Test between continent & sector_code is 1.000\n",
      "The P-Value of the ChiSq Test between continent & facility_name is 1.000\n",
      "The P-Value of the ChiSq Test between continent & target_release is 1.000\n",
      "The P-Value of the ChiSq Test between continent & reporter_name is 1.000\n",
      "The P-Value of the ChiSq Test between continent & pollutant is 1.000\n",
      "The P-Value of the ChiSq Test between country & city is 0.000\n",
      "The P-Value of the ChiSq Test between country & city_id is 0.000\n",
      "The P-Value of the ChiSq Test between country & sector is 0.000\n",
      "The P-Value of the ChiSq Test between country & activity is 0.000\n",
      "The P-Value of the ChiSq Test between country & facility_code is 0.000\n",
      "The P-Value of the ChiSq Test between country & facility_id is 0.000\n",
      "The P-Value of the ChiSq Test between country & sector_code is 0.000\n",
      "The P-Value of the ChiSq Test between country & facility_name is 0.000\n",
      "The P-Value of the ChiSq Test between country & target_release is 0.000\n",
      "The P-Value of the ChiSq Test between country & reporter_name is 0.000\n",
      "The P-Value of the ChiSq Test between country & pollutant is 0.000\n",
      "The P-Value of the ChiSq Test between city & city_id is 0.000\n",
      "The P-Value of the ChiSq Test between city & sector is 0.000\n",
      "The P-Value of the ChiSq Test between city & activity is 0.000\n",
      "The P-Value of the ChiSq Test between city & facility_code is 0.000\n",
      "The P-Value of the ChiSq Test between city & facility_id is 0.000\n",
      "The P-Value of the ChiSq Test between city & sector_code is 0.000\n",
      "The P-Value of the ChiSq Test between city & facility_name is 0.000\n",
      "The P-Value of the ChiSq Test between city & target_release is 0.000\n",
      "The P-Value of the ChiSq Test between city & reporter_name is 0.000\n",
      "The P-Value of the ChiSq Test between city & pollutant is 0.000\n",
      "The P-Value of the ChiSq Test between city_id & sector is 0.000\n",
      "The P-Value of the ChiSq Test between city_id & activity is 0.000\n",
      "The P-Value of the ChiSq Test between city_id & facility_code is 0.000\n",
      "The P-Value of the ChiSq Test between city_id & facility_id is 0.000\n",
      "The P-Value of the ChiSq Test between city_id & sector_code is 0.000\n",
      "The P-Value of the ChiSq Test between city_id & facility_name is 0.000\n",
      "The P-Value of the ChiSq Test between city_id & target_release is 0.000\n",
      "The P-Value of the ChiSq Test between city_id & reporter_name is 0.000\n",
      "The P-Value of the ChiSq Test between city_id & pollutant is 0.000\n",
      "The P-Value of the ChiSq Test between sector & activity is 0.000\n",
      "The P-Value of the ChiSq Test between sector & facility_code is 0.000\n",
      "The P-Value of the ChiSq Test between sector & facility_id is 0.000\n",
      "The P-Value of the ChiSq Test between sector & sector_code is 0.000\n",
      "The P-Value of the ChiSq Test between sector & facility_name is 0.000\n",
      "The P-Value of the ChiSq Test between sector & target_release is 0.000\n",
      "The P-Value of the ChiSq Test between sector & reporter_name is 0.000\n",
      "The P-Value of the ChiSq Test between sector & pollutant is 0.000\n",
      "The P-Value of the ChiSq Test between activity & facility_code is 0.000\n",
      "The P-Value of the ChiSq Test between activity & facility_id is 0.000\n",
      "The P-Value of the ChiSq Test between activity & sector_code is 0.000\n",
      "The P-Value of the ChiSq Test between activity & facility_name is 0.000\n",
      "The P-Value of the ChiSq Test between activity & target_release is 0.000\n",
      "The P-Value of the ChiSq Test between activity & reporter_name is 0.000\n",
      "The P-Value of the ChiSq Test between activity & pollutant is 0.000\n",
      "The P-Value of the ChiSq Test between facility_code & facility_id is 0.000\n",
      "The P-Value of the ChiSq Test between facility_code & sector_code is 0.000\n",
      "The P-Value of the ChiSq Test between facility_code & facility_name is 0.000\n",
      "The P-Value of the ChiSq Test between facility_code & target_release is 0.000\n",
      "The P-Value of the ChiSq Test between facility_code & reporter_name is 0.000\n",
      "The P-Value of the ChiSq Test between facility_code & pollutant is 0.000\n",
      "The P-Value of the ChiSq Test between facility_id & sector_code is 0.000\n",
      "The P-Value of the ChiSq Test between facility_id & facility_name is 0.000\n",
      "The P-Value of the ChiSq Test between facility_id & target_release is 0.000\n",
      "The P-Value of the ChiSq Test between facility_id & reporter_name is 0.000\n",
      "The P-Value of the ChiSq Test between facility_id & pollutant is 0.000\n",
      "The P-Value of the ChiSq Test between sector_code & facility_name is 0.000\n",
      "The P-Value of the ChiSq Test between sector_code & target_release is 0.000\n",
      "The P-Value of the ChiSq Test between sector_code & reporter_name is 1.000\n",
      "The P-Value of the ChiSq Test between sector_code & pollutant is 0.000\n",
      "The P-Value of the ChiSq Test between facility_name & target_release is 0.000\n",
      "The P-Value of the ChiSq Test between facility_name & reporter_name is 0.000\n",
      "The P-Value of the ChiSq Test between facility_name & pollutant is 0.000\n",
      "The P-Value of the ChiSq Test between target_release & reporter_name is 0.000\n",
      "The P-Value of the ChiSq Test between target_release & pollutant is 0.000\n",
      "The P-Value of the ChiSq Test between reporter_name & pollutant is 0.000\n"
     ]
    }
   ],
   "source": [
    "for i in range (len(cat_cols.columns.values.tolist())):\n",
    "    x=cat_cols.columns.values.tolist()[i]\n",
    "    for j in range (i+1,len(cat_cols.columns.values.tolist()),1):\n",
    "        y = cat_cols.columns.values.tolist()[j]\n",
    "        CrosstabResult=pd.crosstab(index=data[x],columns=data[y])\n",
    "        ChiSqResult = chi2_contingency(CrosstabResult)\n",
    "        # P-Value is the Probability of H0 being True\n",
    "        # If P-Value > 0.05 then only we Accept the assumption(H0)\n",
    "        print('The P-Value of the ChiSq Test between %s & %s is %.3f' %(x,y,ChiSqResult[1]))"
   ]
  },
  {
   "cell_type": "code",
   "execution_count": null,
   "id": "03493488",
   "metadata": {},
   "outputs": [],
   "source": []
  },
  {
   "cell_type": "code",
   "execution_count": null,
   "id": "01a6e0c7",
   "metadata": {},
   "outputs": [],
   "source": []
  },
  {
   "cell_type": "code",
   "execution_count": 116,
   "id": "47b3ef13",
   "metadata": {},
   "outputs": [
    {
     "name": "stdout",
     "output_type": "stream",
     "text": [
      "The P-Value of the ChiSq Test is: 0.0\n"
     ]
    }
   ],
   "source": [
    "# Performing Chi-sq test\n",
    "ChiSqResult = chi2_contingency(CrosstabResult)\n",
    " \n",
    "# P-Value is the Probability of H0 being True\n",
    "# If P-Value&gt;0.05 then only we Accept the assumption(H0)\n",
    " \n",
    "print('The P-Value of the ChiSq Test is:', ChiSqResult[1])"
   ]
  },
  {
   "cell_type": "code",
   "execution_count": null,
   "id": "8e5bf229",
   "metadata": {},
   "outputs": [],
   "source": []
  },
  {
   "cell_type": "code",
   "execution_count": null,
   "id": "8baeef3d",
   "metadata": {},
   "outputs": [],
   "source": []
  },
  {
   "cell_type": "code",
   "execution_count": 609,
   "id": "9ffe2cae",
   "metadata": {},
   "outputs": [
    {
     "data": {
      "text/html": [
       "<div>\n",
       "<style scoped>\n",
       "    .dataframe tbody tr th:only-of-type {\n",
       "        vertical-align: middle;\n",
       "    }\n",
       "\n",
       "    .dataframe tbody tr th {\n",
       "        vertical-align: top;\n",
       "    }\n",
       "\n",
       "    .dataframe thead th {\n",
       "        text-align: right;\n",
       "    }\n",
       "</style>\n",
       "<table border=\"1\" class=\"dataframe\">\n",
       "  <thead>\n",
       "    <tr style=\"text-align: right;\">\n",
       "      <th></th>\n",
       "    </tr>\n",
       "  </thead>\n",
       "  <tbody>\n",
       "  </tbody>\n",
       "</table>\n",
       "</div>"
      ],
      "text/plain": [
       "Empty DataFrame\n",
       "Columns: []\n",
       "Index: []"
      ]
     },
     "execution_count": 609,
     "metadata": {},
     "output_type": "execute_result"
    }
   ],
   "source": [
    "data1[['facility_code','activity']].corr()"
   ]
  },
  {
   "cell_type": "code",
   "execution_count": 610,
   "id": "739d8e90",
   "metadata": {},
   "outputs": [
    {
     "data": {
      "text/plain": [
       "<AxesSubplot:xlabel='facility_code', ylabel='activity'>"
      ]
     },
     "execution_count": 610,
     "metadata": {},
     "output_type": "execute_result"
    },
    {
     "data": {
      "image/png": "[encoded data removed]",
      "text/plain": [
       "<Figure size 432x288 with 1 Axes>"
      ]
     },
     "metadata": {},
     "output_type": "display_data"
    }
   ],
   "source": [
    "sns.stripplot(x=data1['facility_code'], y=data1['activity'])\n"
   ]
  },
  {
   "cell_type": "markdown",
   "id": "75480f32",
   "metadata": {},
   "source": [
    "### **<span style=\"color:#43A047;\">3.9 Deleting unnecessary features:</span>** \n",
    "\n",
    "In this section, based on the univariate and bivariate analysis and the graphs obtained with them, we can say that the variables:\n",
    "\n",
    "* **contintent**: Since it is a single continent.\n",
    "* **city & city_ID**: Since both reflects exact the same information, and the distribucion is quite iqual in both cases.\n",
    "* **facility_ID**: Since this variable is directly correlated with the facility code and we have few numbers of it.\n",
    "* **sector_code**: Since this variable is directly correlated with the sector.\n",
    "* **facility_name**: Since it is uniformly distributed and there are no signs that any variable stands out over another.\n",
    "* **target_release**: Since 99.9% is AIR, and this does not provide useful information.\n",
    "* **reporter_name**: Since it is uniformly distributed and there are no signs that any variable stands out over another.\n",
    "\n",
    "do not contribute relevant information to the result."
   ]
  },
  {
   "cell_type": "code",
   "execution_count": 193,
   "id": "af889a68",
   "metadata": {},
   "outputs": [],
   "source": [
    "data1.drop(['continent','city', 'city_id', 'facility_id', 'sector_code', 'facility_name', 'target_release','reporter_name'], inplace=True, axis=1)"
   ]
  },
  {
   "cell_type": "markdown",
   "id": "61675ef5",
   "metadata": {},
   "source": [
    "### **<span style=\"color:#43A047;\">3.10 Creating dummy and encoding if necesary</span>** "
   ]
  },
  {
   "cell_type": "markdown",
   "id": "ff849d83",
   "metadata": {},
   "source": [
    "####  **<span style=\"color:#4CAF50;\">3.10.1 Encoding </span>**  \n",
    "First we will encode according to the pre-written requirements."
   ]
  },
  {
   "cell_type": "code",
   "execution_count": 555,
   "id": "24bb8fe4",
   "metadata": {},
   "outputs": [
    {
     "data": {
      "text/plain": [
       "3"
      ]
     },
     "execution_count": 555,
     "metadata": {},
     "output_type": "execute_result"
    }
   ],
   "source": [
    "len(data1['pollutant'].unique())"
   ]
  },
  {
   "cell_type": "code",
   "execution_count": 556,
   "id": "4ab79b92",
   "metadata": {},
   "outputs": [
    {
     "data": {
      "text/plain": [
       "array(['Carbon dioxide (CO2)', 'Nitrogen oxides (NOX)', 'Methane (CH4)'],\n",
       "      dtype=object)"
      ]
     },
     "execution_count": 556,
     "metadata": {},
     "output_type": "execute_result"
    }
   ],
   "source": [
    "data1['pollutant'].unique()"
   ]
  },
  {
   "cell_type": "code",
   "execution_count": 557,
   "id": "a882c51d",
   "metadata": {},
   "outputs": [],
   "source": [
    "data1['pollutant'].replace({'Carbon dioxide (CO2)':0, 'Nitrogen oxides (NOX)':1, 'Methane (CH4)':2}, inplace=True)"
   ]
  },
  {
   "cell_type": "code",
   "execution_count": 560,
   "id": "a17839f9",
   "metadata": {},
   "outputs": [],
   "source": [
    "cat_cols = data1.select_dtypes(include=['category','object', 'bool_'])\n",
    "num_cols = data1.select_dtypes(include=['number','int','float'])"
   ]
  },
  {
   "cell_type": "markdown",
   "id": "c166350e",
   "metadata": {},
   "source": [
    "####  **<span style=\"color:#4CAF50;\">3.10.2 Dummyzing </span>**  "
   ]
  },
  {
   "cell_type": "code",
   "execution_count": 611,
   "id": "dd169d73",
   "metadata": {},
   "outputs": [
    {
     "data": {
      "text/html": [
       "<div>\n",
       "<style scoped>\n",
       "    .dataframe tbody tr th:only-of-type {\n",
       "        vertical-align: middle;\n",
       "    }\n",
       "\n",
       "    .dataframe tbody tr th {\n",
       "        vertical-align: top;\n",
       "    }\n",
       "\n",
       "    .dataframe thead th {\n",
       "        text-align: right;\n",
       "    }\n",
       "</style>\n",
       "<table border=\"1\" class=\"dataframe\">\n",
       "  <thead>\n",
       "    <tr style=\"text-align: right;\">\n",
       "      <th></th>\n",
       "      <th>year</th>\n",
       "      <th>month</th>\n",
       "      <th>day</th>\n",
       "      <th>continent</th>\n",
       "      <th>country</th>\n",
       "      <th>city</th>\n",
       "      <th>city_id</th>\n",
       "      <th>sector</th>\n",
       "      <th>activity</th>\n",
       "      <th>facility_code</th>\n",
       "      <th>...</th>\n",
       "      <th>emissions</th>\n",
       "      <th>day_fogs</th>\n",
       "      <th>max_wind_speed</th>\n",
       "      <th>avg_wind_speed</th>\n",
       "      <th>min_wind_speed</th>\n",
       "      <th>max_temp</th>\n",
       "      <th>avg_temp</th>\n",
       "      <th>min_temp</th>\n",
       "      <th>reporter_name</th>\n",
       "      <th>pollutant</th>\n",
       "    </tr>\n",
       "  </thead>\n",
       "  <tbody>\n",
       "    <tr>\n",
       "      <th>0</th>\n",
       "      <td>2015</td>\n",
       "      <td>10</td>\n",
       "      <td>20</td>\n",
       "      <td>EUROPE</td>\n",
       "      <td>Germany</td>\n",
       "      <td>Sehnde</td>\n",
       "      <td>7cdb5e74adcb2ffaa21c1b61395a984f</td>\n",
       "      <td>Mineral industry</td>\n",
       "      <td>Installations for the production of cement cli...</td>\n",
       "      <td>0</td>\n",
       "      <td>...</td>\n",
       "      <td>0.000</td>\n",
       "      <td>2.000</td>\n",
       "      <td>15.119</td>\n",
       "      <td>14.313</td>\n",
       "      <td>21.419</td>\n",
       "      <td>2.865</td>\n",
       "      <td>4.924</td>\n",
       "      <td>9.688</td>\n",
       "      <td>Mr. Jacob Ortega</td>\n",
       "      <td>Carbon dioxide (CO2)</td>\n",
       "    </tr>\n",
       "    <tr>\n",
       "      <th>1</th>\n",
       "      <td>2018</td>\n",
       "      <td>9</td>\n",
       "      <td>21</td>\n",
       "      <td>EUROPE</td>\n",
       "      <td>Italy</td>\n",
       "      <td>TAVERNOLA BERGAMASCA</td>\n",
       "      <td>cd1dbabbdba230b828c657a9b19a8963</td>\n",
       "      <td>Mineral industry</td>\n",
       "      <td>Installations for the production of cement cli...</td>\n",
       "      <td>0</td>\n",
       "      <td>...</td>\n",
       "      <td>0.000</td>\n",
       "      <td>1.000</td>\n",
       "      <td>19.662</td>\n",
       "      <td>19.368</td>\n",
       "      <td>21.756</td>\n",
       "      <td>5.463</td>\n",
       "      <td>7.864</td>\n",
       "      <td>12.024</td>\n",
       "      <td>Ashlee Serrano</td>\n",
       "      <td>Nitrogen oxides (NOX)</td>\n",
       "    </tr>\n",
       "    <tr>\n",
       "      <th>2</th>\n",
       "      <td>2019</td>\n",
       "      <td>2</td>\n",
       "      <td>4</td>\n",
       "      <td>EUROPE</td>\n",
       "      <td>Spain</td>\n",
       "      <td>PUERTO DEL ROSARIO</td>\n",
       "      <td>5011e3fa1436d15b34f1287f312fbada</td>\n",
       "      <td>Waste and wastewater management</td>\n",
       "      <td>Landfills (excluding landfills of inert waste ...</td>\n",
       "      <td>0</td>\n",
       "      <td>...</td>\n",
       "      <td>0.000</td>\n",
       "      <td>2.000</td>\n",
       "      <td>12.729</td>\n",
       "      <td>14.702</td>\n",
       "      <td>17.104</td>\n",
       "      <td>1.511</td>\n",
       "      <td>4.233</td>\n",
       "      <td>8.632</td>\n",
       "      <td>Vincent Kemp</td>\n",
       "      <td>Methane (CH4)</td>\n",
       "    </tr>\n",
       "    <tr>\n",
       "      <th>3</th>\n",
       "      <td>2012</td>\n",
       "      <td>8</td>\n",
       "      <td>6</td>\n",
       "      <td>EUROPE</td>\n",
       "      <td>Czechia</td>\n",
       "      <td>Kadaň</td>\n",
       "      <td>37a6d7a71c4f7c2469e4f01b70dd90c2</td>\n",
       "      <td>Energy sector</td>\n",
       "      <td>Thermal power stations and other combustion in...</td>\n",
       "      <td>0</td>\n",
       "      <td>...</td>\n",
       "      <td>0.000</td>\n",
       "      <td>0.000</td>\n",
       "      <td>11.856</td>\n",
       "      <td>16.123</td>\n",
       "      <td>17.537</td>\n",
       "      <td>10.970</td>\n",
       "      <td>10.298</td>\n",
       "      <td>15.179</td>\n",
       "      <td>Carol Gray</td>\n",
       "      <td>Nitrogen oxides (NOX)</td>\n",
       "    </tr>\n",
       "    <tr>\n",
       "      <th>4</th>\n",
       "      <td>2018</td>\n",
       "      <td>12</td>\n",
       "      <td>22</td>\n",
       "      <td>EUROPE</td>\n",
       "      <td>Finland</td>\n",
       "      <td>Tampere</td>\n",
       "      <td>471fe554e1c62d1b01cc8e4e5076c61a</td>\n",
       "      <td>Waste and wastewater management</td>\n",
       "      <td>Urban waste-water treatment plants</td>\n",
       "      <td>0</td>\n",
       "      <td>...</td>\n",
       "      <td>0.000</td>\n",
       "      <td>2.000</td>\n",
       "      <td>17.112</td>\n",
       "      <td>20.202</td>\n",
       "      <td>21.536</td>\n",
       "      <td>11.772</td>\n",
       "      <td>11.344</td>\n",
       "      <td>16.039</td>\n",
       "      <td>Blake Ford</td>\n",
       "      <td>Methane (CH4)</td>\n",
       "    </tr>\n",
       "    <tr>\n",
       "      <th>...</th>\n",
       "      <td>...</td>\n",
       "      <td>...</td>\n",
       "      <td>...</td>\n",
       "      <td>...</td>\n",
       "      <td>...</td>\n",
       "      <td>...</td>\n",
       "      <td>...</td>\n",
       "      <td>...</td>\n",
       "      <td>...</td>\n",
       "      <td>...</td>\n",
       "      <td>...</td>\n",
       "      <td>...</td>\n",
       "      <td>...</td>\n",
       "      <td>...</td>\n",
       "      <td>...</td>\n",
       "      <td>...</td>\n",
       "      <td>...</td>\n",
       "      <td>...</td>\n",
       "      <td>...</td>\n",
       "      <td>...</td>\n",
       "      <td>...</td>\n",
       "    </tr>\n",
       "    <tr>\n",
       "      <th>56641</th>\n",
       "      <td>2019</td>\n",
       "      <td>10</td>\n",
       "      <td>11</td>\n",
       "      <td>EUROPE</td>\n",
       "      <td>United Kingdom</td>\n",
       "      <td>East Barns. Dunbar. East Lothian</td>\n",
       "      <td>6935acf68ac33c9c85ff634275880d97</td>\n",
       "      <td>Waste and wastewater management</td>\n",
       "      <td></td>\n",
       "      <td></td>\n",
       "      <td>...</td>\n",
       "      <td>323000.000</td>\n",
       "      <td>1.000</td>\n",
       "      <td>9.384</td>\n",
       "      <td>14.141</td>\n",
       "      <td>16.424</td>\n",
       "      <td>6.822</td>\n",
       "      <td>8.771</td>\n",
       "      <td>1.372</td>\n",
       "      <td></td>\n",
       "      <td>Nitrogen oxides (NOX)</td>\n",
       "    </tr>\n",
       "    <tr>\n",
       "      <th>56642</th>\n",
       "      <td>2019</td>\n",
       "      <td>5</td>\n",
       "      <td>19</td>\n",
       "      <td>EUROPE</td>\n",
       "      <td>United Kingdom</td>\n",
       "      <td>Shetland</td>\n",
       "      <td>223137a83f11fbc93f2af549579ee6ac</td>\n",
       "      <td>Energy sector</td>\n",
       "      <td></td>\n",
       "      <td></td>\n",
       "      <td>...</td>\n",
       "      <td>2.081</td>\n",
       "      <td>17.000</td>\n",
       "      <td>9.384</td>\n",
       "      <td>14.141</td>\n",
       "      <td>16.424</td>\n",
       "      <td>1.182</td>\n",
       "      <td>1.452</td>\n",
       "      <td>1.922</td>\n",
       "      <td></td>\n",
       "      <td>Carbon dioxide (CO2)</td>\n",
       "    </tr>\n",
       "    <tr>\n",
       "      <th>56643</th>\n",
       "      <td>2019</td>\n",
       "      <td>4</td>\n",
       "      <td>16</td>\n",
       "      <td>EUROPE</td>\n",
       "      <td>United Kingdom</td>\n",
       "      <td>Shetland</td>\n",
       "      <td>223137a83f11fbc93f2af549579ee6ac</td>\n",
       "      <td>Energy sector</td>\n",
       "      <td></td>\n",
       "      <td></td>\n",
       "      <td>...</td>\n",
       "      <td>101000.000</td>\n",
       "      <td>6.000</td>\n",
       "      <td>9.384</td>\n",
       "      <td>14.141</td>\n",
       "      <td>16.424</td>\n",
       "      <td>1.562</td>\n",
       "      <td>1.812</td>\n",
       "      <td>2.122</td>\n",
       "      <td></td>\n",
       "      <td>Methane (CH4)</td>\n",
       "    </tr>\n",
       "    <tr>\n",
       "      <th>56644</th>\n",
       "      <td>2019</td>\n",
       "      <td>2</td>\n",
       "      <td>3</td>\n",
       "      <td>EUROPE</td>\n",
       "      <td>United Kingdom</td>\n",
       "      <td>Shetland</td>\n",
       "      <td>223137a83f11fbc93f2af549579ee6ac</td>\n",
       "      <td>Energy sector</td>\n",
       "      <td></td>\n",
       "      <td></td>\n",
       "      <td>...</td>\n",
       "      <td>148000.000</td>\n",
       "      <td>17.000</td>\n",
       "      <td>9.384</td>\n",
       "      <td>14.141</td>\n",
       "      <td>16.424</td>\n",
       "      <td>9.662</td>\n",
       "      <td>1.116</td>\n",
       "      <td>1.262</td>\n",
       "      <td></td>\n",
       "      <td>Nitrogen oxides (NOX)</td>\n",
       "    </tr>\n",
       "    <tr>\n",
       "      <th>56645</th>\n",
       "      <td>2019</td>\n",
       "      <td>12</td>\n",
       "      <td>4</td>\n",
       "      <td>EUROPE</td>\n",
       "      <td>United Kingdom</td>\n",
       "      <td>Millerhill. Dalkeith</td>\n",
       "      <td>c662b4b4d859a9c224b5ac0acf221748</td>\n",
       "      <td>Waste and wastewater management</td>\n",
       "      <td></td>\n",
       "      <td></td>\n",
       "      <td>...</td>\n",
       "      <td>1.321</td>\n",
       "      <td>6.000</td>\n",
       "      <td>9.384</td>\n",
       "      <td>14.141</td>\n",
       "      <td>16.424</td>\n",
       "      <td>5.742</td>\n",
       "      <td>7.311</td>\n",
       "      <td>9.421</td>\n",
       "      <td></td>\n",
       "      <td>Carbon dioxide (CO2)</td>\n",
       "    </tr>\n",
       "  </tbody>\n",
       "</table>\n",
       "<p>56646 rows × 24 columns</p>\n",
       "</div>"
      ],
      "text/plain": [
       "       year  month  day continent         country  \\\n",
       "0      2015     10   20    EUROPE         Germany   \n",
       "1      2018      9   21    EUROPE           Italy   \n",
       "2      2019      2    4    EUROPE           Spain   \n",
       "3      2012      8    6    EUROPE         Czechia   \n",
       "4      2018     12   22    EUROPE         Finland   \n",
       "...     ...    ...  ...       ...             ...   \n",
       "56641  2019     10   11    EUROPE  United Kingdom   \n",
       "56642  2019      5   19    EUROPE  United Kingdom   \n",
       "56643  2019      4   16    EUROPE  United Kingdom   \n",
       "56644  2019      2    3    EUROPE  United Kingdom   \n",
       "56645  2019     12    4    EUROPE  United Kingdom   \n",
       "\n",
       "                                   city                           city_id  \\\n",
       "0                                Sehnde  7cdb5e74adcb2ffaa21c1b61395a984f   \n",
       "1                  TAVERNOLA BERGAMASCA  cd1dbabbdba230b828c657a9b19a8963   \n",
       "2                    PUERTO DEL ROSARIO  5011e3fa1436d15b34f1287f312fbada   \n",
       "3                                 Kadaň  37a6d7a71c4f7c2469e4f01b70dd90c2   \n",
       "4                               Tampere  471fe554e1c62d1b01cc8e4e5076c61a   \n",
       "...                                 ...                               ...   \n",
       "56641  East Barns. Dunbar. East Lothian  6935acf68ac33c9c85ff634275880d97   \n",
       "56642                          Shetland  223137a83f11fbc93f2af549579ee6ac   \n",
       "56643                          Shetland  223137a83f11fbc93f2af549579ee6ac   \n",
       "56644                          Shetland  223137a83f11fbc93f2af549579ee6ac   \n",
       "56645              Millerhill. Dalkeith  c662b4b4d859a9c224b5ac0acf221748   \n",
       "\n",
       "                                sector  \\\n",
       "0                     Mineral industry   \n",
       "1                     Mineral industry   \n",
       "2      Waste and wastewater management   \n",
       "3                        Energy sector   \n",
       "4      Waste and wastewater management   \n",
       "...                                ...   \n",
       "56641  Waste and wastewater management   \n",
       "56642                    Energy sector   \n",
       "56643                    Energy sector   \n",
       "56644                    Energy sector   \n",
       "56645  Waste and wastewater management   \n",
       "\n",
       "                                                activity facility_code  ...  \\\n",
       "0      Installations for the production of cement cli...             0  ...   \n",
       "1      Installations for the production of cement cli...             0  ...   \n",
       "2      Landfills (excluding landfills of inert waste ...             0  ...   \n",
       "3      Thermal power stations and other combustion in...             0  ...   \n",
       "4                     Urban waste-water treatment plants             0  ...   \n",
       "...                                                  ...           ...  ...   \n",
       "56641                                                                   ...   \n",
       "56642                                                                   ...   \n",
       "56643                                                                   ...   \n",
       "56644                                                                   ...   \n",
       "56645                                                                   ...   \n",
       "\n",
       "       emissions day_fogs max_wind_speed avg_wind_speed  min_wind_speed  \\\n",
       "0          0.000    2.000         15.119         14.313          21.419   \n",
       "1          0.000    1.000         19.662         19.368          21.756   \n",
       "2          0.000    2.000         12.729         14.702          17.104   \n",
       "3          0.000    0.000         11.856         16.123          17.537   \n",
       "4          0.000    2.000         17.112         20.202          21.536   \n",
       "...          ...      ...            ...            ...             ...   \n",
       "56641 323000.000    1.000          9.384         14.141          16.424   \n",
       "56642      2.081   17.000          9.384         14.141          16.424   \n",
       "56643 101000.000    6.000          9.384         14.141          16.424   \n",
       "56644 148000.000   17.000          9.384         14.141          16.424   \n",
       "56645      1.321    6.000          9.384         14.141          16.424   \n",
       "\n",
       "       max_temp  avg_temp  min_temp     reporter_name              pollutant  \n",
       "0         2.865     4.924     9.688  Mr. Jacob Ortega   Carbon dioxide (CO2)  \n",
       "1         5.463     7.864    12.024    Ashlee Serrano  Nitrogen oxides (NOX)  \n",
       "2         1.511     4.233     8.632      Vincent Kemp          Methane (CH4)  \n",
       "3        10.970    10.298    15.179        Carol Gray  Nitrogen oxides (NOX)  \n",
       "4        11.772    11.344    16.039        Blake Ford          Methane (CH4)  \n",
       "...         ...       ...       ...               ...                    ...  \n",
       "56641     6.822     8.771     1.372                    Nitrogen oxides (NOX)  \n",
       "56642     1.182     1.452     1.922                     Carbon dioxide (CO2)  \n",
       "56643     1.562     1.812     2.122                            Methane (CH4)  \n",
       "56644     9.662     1.116     1.262                    Nitrogen oxides (NOX)  \n",
       "56645     5.742     7.311     9.421                     Carbon dioxide (CO2)  \n",
       "\n",
       "[56646 rows x 24 columns]"
      ]
     },
     "execution_count": 611,
     "metadata": {},
     "output_type": "execute_result"
    }
   ],
   "source": [
    "data1"
   ]
  },
  {
   "cell_type": "code",
   "execution_count": 607,
   "id": "cd28c1d2",
   "metadata": {
    "scrolled": false
   },
   "outputs": [
    {
     "name": "stdout",
     "output_type": "stream",
     "text": [
      "\n",
      "\n",
      "country\n",
      "\n",
      "\n",
      "['Germany' 'Italy' 'Spain' 'Czechia' 'Finland' 'Switzerland' 'France'\n",
      " 'Poland' 'United Kingdom' 'Sweden' 'Romania' 'Netherlands' 'Austria'\n",
      " 'Ireland' 'Hungary' 'Portugal' 'Luxembourg' 'Cyprus' 'Estonia' 'Belgium'\n",
      " 'Bulgaria' 'Lithuania' 'Greece' 'Denmark' 'Iceland' 'Slovenia' 'Norway'\n",
      " 'Croatia' 'Malta' 'Serbia' 'Slovakia' 'Latvia']\n",
      "32\n",
      "\n",
      "\n",
      "sector\n",
      "\n",
      "\n",
      "['Mineral industry' 'Waste and wastewater management' 'Energy sector'\n",
      " 'Paper and wood production and processing' 'Chemical industry'\n",
      " 'Production and processing of metals'\n",
      " 'Intensive livestock production and aquaculture'\n",
      " 'Animal and vegetable products from the food and beverage sector'\n",
      " 'Other activities']\n",
      "9\n",
      "\n",
      "\n",
      "activity\n",
      "\n",
      "\n",
      "['Installations for the production of cement clinker in rotary kilns'\n",
      " 'Installations for the production of cement clinker in rotary kilns, lime in rotary kilns, cement or lime in other furnaces. Note to reporters, use Level 3 activity e.g. 3(c)(i), in preference to 3(c). Level 2 activity class (i.e. 3(c)) only to be used where Level 3 is not available.'\n",
      " 'Landfills (excluding landfills of inert waste and landfills, which were definitely closed before 16.7.2001 or for which the after-care phase required by the competent authorities according to Article 13 of Council Directive 1999/31/EC of 26 April 1999 on the landfill of waste has expired)'\n",
      " 'Thermal power stations and other combustion installations'\n",
      " 'Urban waste-water treatment plants' 'Mineral oil and gas refineries'\n",
      " 'Installations for the manufacture of glass, including glass fibre'\n",
      " 'Industrial plants for the production of paper and board and other primary wood products (such as chipboard, fibreboard and plywood)'\n",
      " 'Chemical installations for the production on an industrial scale of basic organic chemicals: Simple hydrocarbons (linear or cyclic, saturated or unsaturated, aliphatic or aromatic)'\n",
      " 'Installations for the incineration of non-hazardous waste in the scope of Directive 2000/76/EC of the European Parliament and of the Council of 4 December 2000 on the incineration of waste'\n",
      " 'Installations for the production of pig iron or steel (primary or secondary melting) including continuous casting'\n",
      " 'Installations for the production of cement clinker or lime in other furnaces'\n",
      " 'Chemical installations for the production on an industrial scale of basic organic chemicals: Basic plastic materials (polymers, synthetic fibres and cellulose-based fibres)'\n",
      " 'Installations for the intensive rearing of pigs with 750 places for sows'\n",
      " 'Underground mining and related operations'\n",
      " 'Industrial plants for the production of pulp from timber or similar fibrous materials'\n",
      " 'Ferrous metal foundries with a production capacity of 20 tonnes per day'\n",
      " 'Installations for the recovery or disposal of hazardous waste'\n",
      " 'Treatment and processing intended for the production of food and beverage products from vegetable raw materials'\n",
      " 'Chemical installations for the production on an industrial scale of basic organic chemicals. Note to reporters, use Level 3 activity e.g. 4(a)(iii), in preference to 4(a). Level 2 activity class (i.e. 4(a)) only to be used where Level 3 is not available.'\n",
      " 'Installations for the disposal of non-hazardous waste'\n",
      " 'Installations for the intensive rearing of pigs with 2,000 places for production pigs (over 30 kg)'\n",
      " 'Chemical installations for the production on an industrial scale of basic inorganic chemicals. Note to reporters, use Level 3 activity e.g. 4(b)(i), in preference to 4(b). Level 2 activity class (i.e. 4(b)) only to be used where Level 3 is not available.'\n",
      " 'Installations for the intensive rearing of poultry or pigs. Note to reporters, use Level 3 activity e.g. 7(a)(ii), in preference to 7(a). Level 2 activity class (i.e. 7(a)) only to be used where Level 3 is not available.'\n",
      " 'Metal ore (including sulphide ore) roasting or sintering installations'\n",
      " 'Chemical installations for the production on an industrial scale of basic inorganic chemicals: Gases, such as ammonia, chlorine or hydrogen chloride, fluorine or hydrogen fluoride, carbon oxides, sulphur compounds, nitrogen oxides, hydrogen, sulphur dioxide, carbonyl chloride'\n",
      " 'Installations for the manufacture of ceramic products by firing, in particular roofing tiles, bricks, refractory bricks, tiles, stoneware or porcelain'\n",
      " 'Chemical installations for the production on an industrial scale of basic organic chemicals: Oxygen-containing hydrocarbons such as alcohols, aldehydes, ketones, carboxylic acids, esters, acetates, ethers, peroxides, epoxy resins'\n",
      " 'Installation for the production of non-ferrous crude metals from ore, concentrates or secondary raw materials by metallurgical, chemical or electrolytic processes'\n",
      " 'Chemical installations for the production on an industrial scale of phosphorous, nitrogen or potassium based fertilisers (simple or compound fertilisers)'\n",
      " 'Opencast mining and quarrying'\n",
      " 'Installations for surface treatment of metals and plastic materials using an electrolytic or chemical process'\n",
      " 'Installation for the smelting, including the alloying, of non-ferrous metals, including recovered products (refining, foundry casting, etc.)'\n",
      " 'Treatment and processing intended for the production of food and beverage products. Note to reporters, use Level 3 activity e.g. 8(b)(i), in preference to 8(b). Level 2 activity class (i.e. 8(b)) only to be used where Level 3 is not available.'\n",
      " 'Treatment and processing of milk'\n",
      " 'Installations using a chemical or biological process for the production on an industrial scale of basic pharmaceutical products'\n",
      " 'Installations for the production and/or smelting of non-ferrous metals. Note to reporters, use Level 3 activity e.g. 2(e)(i), in preference to 2(e). Level 2 activity class (i.e. 2(e)) only to be used where Level 3 is not available.'\n",
      " 'Coke ovens'\n",
      " 'Chemical installations for the production on an industrial scale of basic inorganic chemicals: Non-metals, metal oxides or other inorganic compounds such as calcium carbide, silicon, silicon carbide'\n",
      " 'Treatment and processing intended for the production of food and beverage products from animal raw materials (other than milk)'\n",
      " 'Installations for the intensive rearing of poultry with 40,000 places for poultry'\n",
      " 'Installations for the disposal or recycling of animal carcasses and animal waste'\n",
      " 'Installations for melting mineral substances, including the production of mineral fibres'\n",
      " 'Installations for the production of carbon (hard-burnt coal) or electro-graphite by means of incineration or graphitisation'\n",
      " 'Installations for the surface treatment of substances, objects or products using organic solvents, in particular for dressing, printing, coating, degreasing, waterproofing, sizing, painting, cleaning or impregnating'\n",
      " 'Chemical installations for the production on an industrial scale of basic inorganic chemicals: Salts, such as ammonium chloride, potassium chlorate, potassium carbonate, sodium carbonate, perborate, silver nitrate'\n",
      " 'Installations for gasification and liquefaction'\n",
      " 'Installations for the processing of ferrous metals, Hot-rolling mills'\n",
      " 'Coal rolling mills with a capacity of 1 tonne per hour'\n",
      " 'Installations for the processing of ferrous metals, Application of protective fused metal coats'\n",
      " 'Chemical installations for the production on an industrial scale of basic organic chemicals: Nitrogenous hydrocarbons such as amines, amides, nitrous compounds, nitro compounds or nitrate compounds, nitriles, cyanates, isocyanates'\n",
      " 'Installations for the production of lime in rotary kilns'\n",
      " 'Chemical installations for the production on an industrial scale of basic inorganic chemicals: Bases, such as ammonium hydroxide, potassium hydroxide, sodium hydroxide'\n",
      " 'Chemical installations for the production on an industrial scale of basic organic chemicals: Surface-active agents and surfactants'\n",
      " 'Chemical installations for the production on an industrial scale of basic organic chemicals: Dyes and pigments'\n",
      " 'Chemical installations for the production on an industrial scale of basic inorganic chemicals: Acids, such as chromic acid, hydrofluoric acid, phosphoric acid, nitric acid, hydrochloric acid, sulphuric acid, oleum, sulphurous acids'\n",
      " 'Installations for the processing of ferrous metals. Note to reporters, use Level 3 activity e.g. 2(c)(i), in preference to 2(c). Level 2 activity class (i.e. 2(c)) only to be used where Level 3 is not available.'\n",
      " 'Slaughterhouses'\n",
      " 'Industrial plants for the preservation of wood and wood products with chemicals'\n",
      " 'Plants for the pre-treatment (operations such as washing, bleaching, mercerisation) or dyeing of fibres or textiles'\n",
      " 'Chemical installations for the production on an industrial scale of basic organic chemicals: Halogenic hydrocarbons'\n",
      " 'Chemical installations for the production on an industrial scale of basic organic chemicals: Synthetic rubbers'\n",
      " 'Installations for the manufacture of coal products and solid smokeless fuel'\n",
      " 'Chemical installations for the production on an industrial scale of basic plant health products and of biocides'\n",
      " 'Independently operated industrial waste-water treatment plants which serve one or more activities covered in annex 1 of Regulation 166/2006'\n",
      " 'Chemical installations for the production on an industrial scale of basic organic chemicals: Sulphurous hydrocarbons'\n",
      " 'Installations for the processing of ferrous metals, Smitheries with hammers'\n",
      " 'Chemical installations for the production on an industrial scale of basic organic chemicals: Organometallic compounds'\n",
      " 'Installations for the building of, and painting or removal of paint from ships with a capacity for ships 100 m long'\n",
      " 'Chemical installations for the production on an industrial scale of basic organic chemicals: Phosphorus-containing hydrocarbons'\n",
      " 'Installations for the production on an industrial scale of explosives and pyrotechnic products'\n",
      " '']\n",
      "72\n",
      "\n",
      "\n",
      "facility_code\n",
      "\n",
      "\n",
      "['0' '4(a)' '3(c)' '1(c)' '7(a)' '5(a)' '3(c)(i)' '5(b)' '5(d)'\n",
      " '7(a)(iii)' '4(b)' '8(a)' '2(c)(i)' '4(a)(viii)' '2(e)(ii)' '7(a)(ii)'\n",
      " '1(a)' '3(e)' '5(e)' '6(b)' '2(a)' '1(b)' '8(b)' '3(a)' '2(b)' '5(c)'\n",
      " '4(e)' '5(f)' '4(a)(ii)' '4(a)(x)' '6(a)' '8(b)(ii)' '8(c)' '2(e)' '1(f)'\n",
      " '3(b)' '3(g)' '4(b)(ii)' '5(g)' '3(c)(iii)' '4(a)(i)' '4(b)(v)' '2(e)(i)'\n",
      " '2(f)' '1(d)' '3(c)(ii)' '6(c)' '2(c)(ii)' '7(a)(i)' '4(b)(iv)' '2(d)'\n",
      " '4(b)(iii)' '4(c)' '4(b)(i)' '2(c)' '4(a)(iv)' '9(c)' '4(a)(iii)'\n",
      " '2(c)(iii)' '4(a)(xi)' '3(f)' '9(a)' '4(a)(vi)' '4(f)' '9(d)' '4(d)'\n",
      " '1(e)' '9(e)' '4(a)(v)' '8(b)(i)' '4(a)(ix)' '']\n",
      "72\n"
     ]
    }
   ],
   "source": [
    "for i in cat_cols.columns.values.tolist():\n",
    "    print(\"\\n\")\n",
    "    print(i)\n",
    "    print(\"\\n\")\n",
    "    print(data1[i].unique())\n",
    "    print(len(data1[i].unique()))"
   ]
  },
  {
   "cell_type": "code",
   "execution_count": null,
   "id": "bb08003a",
   "metadata": {},
   "outputs": [],
   "source": [
    "data1['pollutant'].unique()"
   ]
  },
  {
   "cell_type": "code",
   "execution_count": null,
   "id": "fc24c808",
   "metadata": {},
   "outputs": [],
   "source": [
    "categories = [\"xxx1\", \"xxx2\", \"xxx3\", \"xxx4\", \"xxx5\", \"xxx5\", \"xxx6\"]\n",
    "for category in categories:\n",
    "    cat_list = \"cat\" + \"_\" + category\n",
    "    cat_dummies = pd.get_dummies(data[category], prefix=cat_list)\n",
    "    data1 = data1.join(cat_dummies[:-1]) ## WIP THERE IS NOT NECESARY TO ADD ALL THE DUMMY, CAUSE COULD IT BE REDUNDANT\n",
    "    del data1[category] #Deleting original dummie variable"
   ]
  },
  {
   "cell_type": "code",
   "execution_count": null,
   "id": "266b45be",
   "metadata": {},
   "outputs": [],
   "source": [
    "data1.head()#quick review if all goes well"
   ]
  },
  {
   "cell_type": "markdown",
   "id": "b3c26847",
   "metadata": {},
   "source": [
    "---------------------------------------------------------------------"
   ]
  },
  {
   "cell_type": "markdown",
   "id": "f3f7528e",
   "metadata": {},
   "source": [
    "### ✅  4) Preparing data for training and testing 🏃"
   ]
  },
  {
   "cell_type": "markdown",
   "id": "1c4ba4f7",
   "metadata": {},
   "source": [
    "### **<span style=\"color:#43A047;\">4.1 Variables Stadnarization  </span>**"
   ]
  },
  {
   "cell_type": "code",
   "execution_count": null,
   "id": "d32cb157",
   "metadata": {},
   "outputs": [],
   "source": [
    "X = data1.loc[:, data1.columns != 'TARGET'] # Assing X (feature columns)\n",
    "y = data1['TARGET']# Assing y (target column)"
   ]
  },
  {
   "cell_type": "code",
   "execution_count": null,
   "id": "cbed2611",
   "metadata": {},
   "outputs": [],
   "source": [
    "X_train, X_test, y_train, y_test = train_test_split(X, y, test_size=0.2, random_state=0)"
   ]
  },
  {
   "cell_type": "markdown",
   "id": "7595f921",
   "metadata": {},
   "source": [
    "### **<span style=\"color:#43A047;\">4.1 Variables Stadnarization  </span>**"
   ]
  },
  {
   "cell_type": "code",
   "execution_count": null,
   "id": "c150956e",
   "metadata": {},
   "outputs": [],
   "source": [
    "scaler = preprocessing.StandardScaler().fit(X_train) #Variables standarization\n",
    "X_train_s = scaler.transform(X_train) #Variables transform"
   ]
  },
  {
   "cell_type": "code",
   "execution_count": null,
   "id": "22bfebca",
   "metadata": {},
   "outputs": [],
   "source": [
    "train, test = train_test_split(df, test_size = 0.2)\n",
    "print(\"Longitud de datos de entrenamiento: %f\" %(len(train)), \"datos de testing: %f\" %(len(test)))  "
   ]
  },
  {
   "cell_type": "code",
   "execution_count": null,
   "id": "b203504d",
   "metadata": {},
   "outputs": [],
   "source": [
    "#Asignación de variables predictoras y target\n",
    "colnames = df.columns.values.tolist()\n",
    "predictors=colnames[1:xx]\n",
    "target=colnames[xx]"
   ]
  },
  {
   "cell_type": "markdown",
   "id": "84201f3b",
   "metadata": {},
   "source": [
    "---------------------------------------------------------------------"
   ]
  },
  {
   "cell_type": "markdown",
   "id": "23f7b0fc",
   "metadata": {},
   "source": [
    "### ✅ 5) Training the model with training data🏋️"
   ]
  },
  {
   "cell_type": "code",
   "execution_count": null,
   "id": "6970e90c",
   "metadata": {},
   "outputs": [],
   "source": [
    "from sklearn.model_selection import ShuffleSplit\n",
    "from sklearn.model_selection import cross_val_score"
   ]
  },
  {
   "cell_type": "code",
   "execution_count": null,
   "id": "a509f146",
   "metadata": {},
   "outputs": [],
   "source": [
    "%%time\n",
    "def find_best_model_using_gridsearchcv(X,y):\n",
    "    \"\"\"Function with three models for classification\"\"\"\n",
    "    \n",
    "    algos = {\n",
    "        'Logistic_Regression' : {\n",
    "        'model': LogisticRegression(),\n",
    "        'params': {\n",
    "            'max_iter':[1000, 2000, 5000],\n",
    "            #'C':[,10,100,1000],\n",
    "            'solver':['newton-cg', 'lbfgs', 'liblinear', 'sag', 'saga']  \n",
    "            }\n",
    "        },\n",
    "        'Linear_Discriminant_Analysis': {\n",
    "        'model': LinearDiscriminantAnalysis(),\n",
    "        'params': {\n",
    "            'solver':['svd', 'lsqr', 'eigen']  \n",
    "            }\n",
    "        },      \n",
    "        'K_Nearest_Neighbors':{\n",
    "            'model' : KNeighborsClassifier(),\n",
    "            'params':{\n",
    "            'n_neighbors': [5,10],\n",
    "            'metric': [\"minkowski\", 'euclidean', 'manhattan', 'chebyshev', 'wminkowski', 'seuclidean', 'mahalanobis'],\n",
    "            'p': [2],\n",
    "            'n_neighbors': range(100)\n",
    "            }                                                        \n",
    "        },\n",
    "        'Decision_Tree_Classifier': {\n",
    "        'model': DecisionTreeClassifier(),\n",
    "        'params': {\n",
    "            'criterion': ['gini','entropy', 'log_loss'],\n",
    "            'min_samples_split': [10,100,1000],\n",
    "            'max_depth' :[3,5,10,20],\n",
    "            'splitter': ['best','random']\n",
    "            }\n",
    "        },\n",
    "        'Random_Forest_Classifier': {\n",
    "        'model': RandomForestClassifier(),\n",
    "        'params': {\n",
    "            'n_jobs' : [multiprocessing.cpu_count() - 1],            \n",
    "            'n_estimators': [10,100,200,500],\n",
    "            'max_depth'   : [None, 3, 10, 20],\n",
    "            'criterion'   : ['gini', 'entropy']\n",
    "            }\n",
    "        },      \n",
    "        'MLP_Classifier': {\n",
    "        'model': MLPClassifier(),\n",
    "        'params': {            \n",
    "            'max_iter':[1000],\n",
    "            'alpha':[0.001,0.01,0.1,1],\n",
    "            }\n",
    "        },      \n",
    "        'Support_Vector_Classifier': {\n",
    "        'model': SVC(),\n",
    "        'params': {\n",
    "            'kernel':['linear', 'poly', 'rbf', 'sigmoid'],\n",
    "            'C':[1,100,1000,10000],\n",
    "            'gamma':[0.0001,0.001,0.01,0.1]\n",
    "            }\n",
    "         },       \n",
    "        #'Gradien_Boosting_Classifier': {\n",
    "        #'model': GradientBoostingClassifier(),\n",
    "        #'params':  {\n",
    "        #    'n_estimators'  : [50, 100, 500, 1000],\n",
    "        #    'max_features'  : ['auto', 'sqrt', 'log2'],\n",
    "        #    'max_depth'     : [None, 1, 3, 5, 10, 20],\n",
    "        #    'subsample'     : [0.5, 1],\n",
    "        #    'learning_rate' : [0.001, 0.01, 0.1]\n",
    "        #    }\n",
    "        #}         \n",
    "    }\n",
    "    scores = []\n",
    "    cv = ShuffleSplit(n_splits=5, test_size=0.2, random_state=0)\n",
    "    for algo_name, config in algos.items():\n",
    "        gs = GridSearchCV(config['model'], config['params'], cv=cv, return_train_score = True)\n",
    "        gs.fit(X,y)\n",
    "        scores.append({\n",
    "            'model': algo_name,\n",
    "            'best_score': gs.best_score_,\n",
    "            'best_params': gs.best_params_\n",
    "        }) \n",
    "    return pd.DataFrame(scores,columns=['model','best_score','best_params'])\n",
    "best = find_best_model_using_gridsearchcv(X_train_s,y_train)"
   ]
  },
  {
   "cell_type": "markdown",
   "id": "d85ecaf4",
   "metadata": {},
   "source": [
    "---------------------------------------------------------------------"
   ]
  },
  {
   "cell_type": "markdown",
   "id": "2c772e5b",
   "metadata": {},
   "source": [
    "### ✅ 6) Making predictions with test data 🤔¶"
   ]
  },
  {
   "cell_type": "code",
   "execution_count": null,
   "id": "131c143b",
   "metadata": {},
   "outputs": [],
   "source": [
    "def price_predict(location,sqft,bath,BHK):\n",
    "    loc_index=np.where(X.columns==location)[0][0]\n",
    "    x=np.zeros(len(X.columns))\n",
    "    x[0]=sqft\n",
    "    x[1]=bath\n",
    "    x[2]=BHK\n",
    "    if loc_index >=0:\n",
    "    x[loc_index]=1\n",
    "    return model.predict([x])[0]"
   ]
  },
  {
   "cell_type": "markdown",
   "id": "7381b03d",
   "metadata": {},
   "source": [
    "---------------------------------------------------------------------"
   ]
  },
  {
   "cell_type": "markdown",
   "id": "489850e8",
   "metadata": {},
   "source": [
    "### ✅ 7) Comparing predictions with test data📝"
   ]
  },
  {
   "cell_type": "code",
   "execution_count": null,
   "id": "7ff13d1f",
   "metadata": {},
   "outputs": [],
   "source": [
    "from sklearn.metrics import classification_report\n",
    "from sklearn import metrics"
   ]
  },
  {
   "cell_type": "code",
   "execution_count": null,
   "id": "1d9cbc74",
   "metadata": {},
   "outputs": [],
   "source": [
    "#print(classification_report(Y_test, y_pred, target_names=[\"xxxxx\", \"xxxxx\", \"xxxxx\"]))"
   ]
  },
  {
   "cell_type": "code",
   "execution_count": null,
   "id": "309a06ac",
   "metadata": {},
   "outputs": [],
   "source": [
    "#print(\"Homogeneidad: %0.3f\" %metrics.homogeneity_score(labels, clust_labels))\n",
    "#print(\"Completitud: %0.3f\" %metrics.completeness_score(labels, clust_labels))\n",
    "#print(\"V-measure: %0.3f\" %metrics.v_measure_score(labels, clust_labels))\n",
    "#print(\"R2 ajustado: %0.3f\" %metrics.adjusted_rand_score(labels, clust_labels))\n",
    "#print(\"Información mútua ajustada: %0.3f\" %metrics.adjusted_mutual_info_score(labels,clust_labels))"
   ]
  },
  {
   "cell_type": "markdown",
   "id": "ca76495b",
   "metadata": {},
   "source": [
    "---------------------------------------------------------------------"
   ]
  },
  {
   "cell_type": "markdown",
   "id": "98d0a03a",
   "metadata": {},
   "source": [
    "### ✅ 8) Adjusting the model🔨"
   ]
  },
  {
   "cell_type": "code",
   "execution_count": null,
   "id": "31d0f229",
   "metadata": {},
   "outputs": [],
   "source": []
  },
  {
   "cell_type": "markdown",
   "id": "14f43787",
   "metadata": {},
   "source": [
    "---------------------------------------------------------------------"
   ]
  },
  {
   "cell_type": "markdown",
   "id": "8388e931",
   "metadata": {},
   "source": [
    "### ✅ 9) Results presentation. 🌟"
   ]
  },
  {
   "cell_type": "markdown",
   "id": "21141b0b",
   "metadata": {},
   "source": [
    "### **<span style=\"color:#43A047;\">9.1 Graphical representation of results  </span>**"
   ]
  },
  {
   "cell_type": "markdown",
   "id": "90f462a7",
   "metadata": {},
   "source": [
    "### **<span style=\"color:#43A047;\">9.2 Conclusion  </span>**"
   ]
  },
  {
   "cell_type": "markdown",
   "id": "cd7def33",
   "metadata": {},
   "source": [
    "### **<span style=\"color:#43A047;\">9.3 Making & saving predictions </span>**"
   ]
  },
  {
   "cell_type": "code",
   "execution_count": null,
   "id": "0eaeafbf",
   "metadata": {},
   "outputs": [],
   "source": [
    "results = pd.DataFrame(pred, columns=['Results'])  "
   ]
  },
  {
   "cell_type": "code",
   "execution_count": null,
   "id": "e3d9b690",
   "metadata": {},
   "outputs": [],
   "source": [
    "results.to_csv(\"../../Practice/1-Random Forest/results.csv\", index=False)"
   ]
  },
  {
   "cell_type": "code",
   "execution_count": null,
   "id": "883aa15a",
   "metadata": {},
   "outputs": [],
   "source": [
    "results"
   ]
  }
 ],
 "metadata": {
  "kernelspec": {
   "display_name": "Python 3 (ipykernel)",
   "language": "python",
   "name": "python3"
  },
  "language_info": {
   "codemirror_mode": {
    "name": "ipython",
    "version": 3
   },
   "file_extension": ".py",
   "mimetype": "text/x-python",
   "name": "python",
   "nbconvert_exporter": "python",
   "pygments_lexer": "ipython3",
   "version": "3.9.7"
  }
 },
 "nbformat": 4,
 "nbformat_minor": 5
}
